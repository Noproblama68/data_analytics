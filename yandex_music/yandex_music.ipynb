{
 "cells": [
  {
   "cell_type": "markdown",
   "metadata": {
    "id": "E0vqbgi9ay0H"
   },
   "source": [
    "# Анализ поведения пользователей Яндекс.Музыка"
   ]
  },
  {
   "cell_type": "markdown",
   "metadata": {
    "id": "VUC88oWjTJw2"
   },
   "source": [
    "На данных Яндекс.Музыки было проведено сравнение поведения пользователей Москвы и Питера.\n",
    "\n",
    "**Цель исследования** — проверить три гипотезы:\n",
    "1. Активность пользователей зависит от дня недели. Причём в Москве и Петербурге это проявляется по-разному.\n",
    "2. В понедельник утром в Москве преобладают одни жанры, а в Петербурге — другие. Так же и вечером пятницы преобладают разные жанры — в зависимости от города. \n",
    "3. Москва и Петербург предпочитают разные жанры музыки. В Москве чаще слушают поп-музыку, в Петербурге — русский рэп.\n",
    "\n",
    "**Ход исследования**\n",
    "\n",
    " 1. Обзор данных.\n",
    " 2. Предобработка данных.\n",
    " 3. Проверка гипотез.\n",
    "\n"
   ]
  },
  {
   "cell_type": "markdown",
   "metadata": {
    "id": "Ml1hmfXC_Zcs"
   },
   "source": [
    "## Обзор данных\n",
    "\n",
    "Для начала нужно составить первое представление о данных Яндекс.Музыки.\n",
    "\n",
    "\n"
   ]
  },
  {
   "cell_type": "code",
   "execution_count": 1,
   "metadata": {
    "id": "AXN7PHPN_Zcs"
   },
   "outputs": [],
   "source": [
    "# импорт библиотеки pandas\n",
    "import pandas as pd"
   ]
  },
  {
   "cell_type": "markdown",
   "metadata": {
    "id": "SG23P8tt_Zcs"
   },
   "source": [
    "Прочитаем файл `yandex_music_project.csv` из папки `/datasets` и сохраним его в переменной `df`:"
   ]
  },
  {
   "cell_type": "code",
   "execution_count": 2,
   "metadata": {
    "id": "fFVu7vqh_Zct"
   },
   "outputs": [],
   "source": [
    "# чтение файла с данными и сохранение в df\n",
    "df = pd.read_csv('/datasets/yandex_music_project.csv')"
   ]
  },
  {
   "cell_type": "markdown",
   "metadata": {
    "id": "rDoOMd3uTqnZ"
   },
   "source": [
    "Выведем на экран первые десять строк таблицы:"
   ]
  },
  {
   "cell_type": "code",
   "execution_count": 3,
   "metadata": {
    "id": "oWTVX3gW_Zct"
   },
   "outputs": [
    {
     "data": {
      "text/html": [
       "<div>\n",
       "<style scoped>\n",
       "    .dataframe tbody tr th:only-of-type {\n",
       "        vertical-align: middle;\n",
       "    }\n",
       "\n",
       "    .dataframe tbody tr th {\n",
       "        vertical-align: top;\n",
       "    }\n",
       "\n",
       "    .dataframe thead th {\n",
       "        text-align: right;\n",
       "    }\n",
       "</style>\n",
       "<table border=\"1\" class=\"dataframe\">\n",
       "  <thead>\n",
       "    <tr style=\"text-align: right;\">\n",
       "      <th></th>\n",
       "      <th>userID</th>\n",
       "      <th>Track</th>\n",
       "      <th>artist</th>\n",
       "      <th>genre</th>\n",
       "      <th>City</th>\n",
       "      <th>time</th>\n",
       "      <th>Day</th>\n",
       "    </tr>\n",
       "  </thead>\n",
       "  <tbody>\n",
       "    <tr>\n",
       "      <td>0</td>\n",
       "      <td>FFB692EC</td>\n",
       "      <td>Kamigata To Boots</td>\n",
       "      <td>The Mass Missile</td>\n",
       "      <td>rock</td>\n",
       "      <td>Saint-Petersburg</td>\n",
       "      <td>20:28:33</td>\n",
       "      <td>Wednesday</td>\n",
       "    </tr>\n",
       "    <tr>\n",
       "      <td>1</td>\n",
       "      <td>55204538</td>\n",
       "      <td>Delayed Because of Accident</td>\n",
       "      <td>Andreas Rönnberg</td>\n",
       "      <td>rock</td>\n",
       "      <td>Moscow</td>\n",
       "      <td>14:07:09</td>\n",
       "      <td>Friday</td>\n",
       "    </tr>\n",
       "    <tr>\n",
       "      <td>2</td>\n",
       "      <td>20EC38</td>\n",
       "      <td>Funiculì funiculà</td>\n",
       "      <td>Mario Lanza</td>\n",
       "      <td>pop</td>\n",
       "      <td>Saint-Petersburg</td>\n",
       "      <td>20:58:07</td>\n",
       "      <td>Wednesday</td>\n",
       "    </tr>\n",
       "    <tr>\n",
       "      <td>3</td>\n",
       "      <td>A3DD03C9</td>\n",
       "      <td>Dragons in the Sunset</td>\n",
       "      <td>Fire + Ice</td>\n",
       "      <td>folk</td>\n",
       "      <td>Saint-Petersburg</td>\n",
       "      <td>08:37:09</td>\n",
       "      <td>Monday</td>\n",
       "    </tr>\n",
       "    <tr>\n",
       "      <td>4</td>\n",
       "      <td>E2DC1FAE</td>\n",
       "      <td>Soul People</td>\n",
       "      <td>Space Echo</td>\n",
       "      <td>dance</td>\n",
       "      <td>Moscow</td>\n",
       "      <td>08:34:34</td>\n",
       "      <td>Monday</td>\n",
       "    </tr>\n",
       "    <tr>\n",
       "      <td>5</td>\n",
       "      <td>842029A1</td>\n",
       "      <td>Преданная</td>\n",
       "      <td>IMPERVTOR</td>\n",
       "      <td>rusrap</td>\n",
       "      <td>Saint-Petersburg</td>\n",
       "      <td>13:09:41</td>\n",
       "      <td>Friday</td>\n",
       "    </tr>\n",
       "    <tr>\n",
       "      <td>6</td>\n",
       "      <td>4CB90AA5</td>\n",
       "      <td>True</td>\n",
       "      <td>Roman Messer</td>\n",
       "      <td>dance</td>\n",
       "      <td>Moscow</td>\n",
       "      <td>13:00:07</td>\n",
       "      <td>Wednesday</td>\n",
       "    </tr>\n",
       "    <tr>\n",
       "      <td>7</td>\n",
       "      <td>F03E1C1F</td>\n",
       "      <td>Feeling This Way</td>\n",
       "      <td>Polina Griffith</td>\n",
       "      <td>dance</td>\n",
       "      <td>Moscow</td>\n",
       "      <td>20:47:49</td>\n",
       "      <td>Wednesday</td>\n",
       "    </tr>\n",
       "    <tr>\n",
       "      <td>8</td>\n",
       "      <td>8FA1D3BE</td>\n",
       "      <td>И вновь продолжается бой</td>\n",
       "      <td>NaN</td>\n",
       "      <td>ruspop</td>\n",
       "      <td>Moscow</td>\n",
       "      <td>09:17:40</td>\n",
       "      <td>Friday</td>\n",
       "    </tr>\n",
       "    <tr>\n",
       "      <td>9</td>\n",
       "      <td>E772D5C0</td>\n",
       "      <td>Pessimist</td>\n",
       "      <td>NaN</td>\n",
       "      <td>dance</td>\n",
       "      <td>Saint-Petersburg</td>\n",
       "      <td>21:20:49</td>\n",
       "      <td>Wednesday</td>\n",
       "    </tr>\n",
       "  </tbody>\n",
       "</table>\n",
       "</div>"
      ],
      "text/plain": [
       "     userID                        Track            artist   genre  \\\n",
       "0  FFB692EC            Kamigata To Boots  The Mass Missile    rock   \n",
       "1  55204538  Delayed Because of Accident  Andreas Rönnberg    rock   \n",
       "2    20EC38            Funiculì funiculà       Mario Lanza     pop   \n",
       "3  A3DD03C9        Dragons in the Sunset        Fire + Ice    folk   \n",
       "4  E2DC1FAE                  Soul People        Space Echo   dance   \n",
       "5  842029A1                    Преданная         IMPERVTOR  rusrap   \n",
       "6  4CB90AA5                         True      Roman Messer   dance   \n",
       "7  F03E1C1F             Feeling This Way   Polina Griffith   dance   \n",
       "8  8FA1D3BE     И вновь продолжается бой               NaN  ruspop   \n",
       "9  E772D5C0                    Pessimist               NaN   dance   \n",
       "\n",
       "             City        time        Day  \n",
       "0  Saint-Petersburg  20:28:33  Wednesday  \n",
       "1            Moscow  14:07:09     Friday  \n",
       "2  Saint-Petersburg  20:58:07  Wednesday  \n",
       "3  Saint-Petersburg  08:37:09     Monday  \n",
       "4            Moscow  08:34:34     Monday  \n",
       "5  Saint-Petersburg  13:09:41     Friday  \n",
       "6            Moscow  13:00:07  Wednesday  \n",
       "7            Moscow  20:47:49  Wednesday  \n",
       "8            Moscow  09:17:40     Friday  \n",
       "9  Saint-Petersburg  21:20:49  Wednesday  "
      ]
     },
     "metadata": {},
     "output_type": "display_data"
    }
   ],
   "source": [
    "# получение первых 10 строк таблицы df\n",
    "display(df.head(10))"
   ]
  },
  {
   "cell_type": "markdown",
   "metadata": {
    "id": "EO73Kwic_Zct"
   },
   "source": [
    "Получим общую информацию о таблице:"
   ]
  },
  {
   "cell_type": "code",
   "execution_count": 4,
   "metadata": {
    "id": "DSf2kIb-_Zct"
   },
   "outputs": [
    {
     "name": "stdout",
     "output_type": "stream",
     "text": [
      "<class 'pandas.core.frame.DataFrame'>\n",
      "RangeIndex: 65079 entries, 0 to 65078\n",
      "Data columns (total 7 columns):\n",
      "  userID    65079 non-null object\n",
      "Track       63848 non-null object\n",
      "artist      57876 non-null object\n",
      "genre       63881 non-null object\n",
      "  City      65079 non-null object\n",
      "time        65079 non-null object\n",
      "Day         65079 non-null object\n",
      "dtypes: object(7)\n",
      "memory usage: 3.5+ MB\n"
     ]
    }
   ],
   "source": [
    "# получение общей информации о данных в таблице df\n",
    "df.info()"
   ]
  },
  {
   "cell_type": "markdown",
   "metadata": {
    "id": "TaQ2Iwbr_Zct"
   },
   "source": [
    "Итак, в таблице семь столбцов. Тип данных во всех столбцах — `object`.\n",
    "\n",
    "Согласно документации к данным:\n",
    "* `userID` — идентификатор пользователя;\n",
    "* `Track` — название трека;  \n",
    "* `artist` — имя исполнителя;\n",
    "* `genre` — название жанра;\n",
    "* `City` — город пользователя;\n",
    "* `time` — время начала прослушивания;\n",
    "* `Day` — день недели.\n",
    "\n",
    "В названиях колонок видны три нарушения стиля:\n",
    "1. Строчные буквы сочетаются с прописными.\n",
    "2. Встречаются пробелы.\n",
    "3. Используется \"Верблюжий регистр\" вместо \"Змеиного регистра\".\n",
    "\n",
    "\n",
    "\n",
    "Количество значений в столбцах различается. Значит, в данных есть пропущенные значения.\n"
   ]
  },
  {
   "cell_type": "markdown",
   "metadata": {
    "id": "MCB6-dXG_Zct"
   },
   "source": [
    "**Выводы**\n",
    "\n",
    "В каждой строке таблицы — данные о прослушанном треке. Часть колонок описывает саму композицию: название, исполнителя и жанр. Остальные данные рассказывают о пользователе: из какого он города, когда он слушал музыку. \n",
    "\n",
    "Предварительно можно утверждать, что, данных достаточно для проверки гипотез. Но встречаются пропуски в данных, а в названиях колонок — расхождения с хорошим стилем.\n",
    "\n",
    "Чтобы двигаться дальше, нужно устранить проблемы в данных."
   ]
  },
  {
   "cell_type": "markdown",
   "metadata": {
    "id": "SjYF6Ub9_Zct"
   },
   "source": [
    "## Предобработка данных\n",
    "Нужно исправить стиль в заголовках столбцов, исключить пропуски. Затем проверить данные на дубликаты."
   ]
  },
  {
   "cell_type": "markdown",
   "metadata": {
    "id": "dIaKXr29_Zct"
   },
   "source": [
    "### Стиль заголовков\n",
    "Выведем на экран названия столбцов:"
   ]
  },
  {
   "cell_type": "code",
   "execution_count": 5,
   "metadata": {
    "id": "oKOTdF_Q_Zct"
   },
   "outputs": [
    {
     "data": {
      "text/plain": [
       "Index(['  userID', 'Track', 'artist', 'genre', '  City  ', 'time', 'Day'], dtype='object')"
      ]
     },
     "execution_count": 5,
     "metadata": {},
     "output_type": "execute_result"
    }
   ],
   "source": [
    "# перечень названий столбцов таблицы df\n",
    "df.columns"
   ]
  },
  {
   "cell_type": "markdown",
   "metadata": {
    "id": "zj5534cv_Zct"
   },
   "source": [
    "Приведем названия в соответствие с хорошим стилем:\n",
    "* несколько слов в названии запишем в «змеином_регистре»,\n",
    "* все символы сделаем строчными,\n",
    "* устраним пробелы.\n",
    "\n",
    "Для этого переименуем колонки так:\n",
    "* `'  userID'` → `'user_id'`;\n",
    "* `'Track'` → `'track'`;\n",
    "* `'  City  '` → `'city'`;\n",
    "* `'Day'` → `'day'`."
   ]
  },
  {
   "cell_type": "code",
   "execution_count": 6,
   "metadata": {
    "id": "ISlFqs5y_Zct"
   },
   "outputs": [],
   "source": [
    "# переименование столбцов\n",
    "df=df.rename(columns={'  userID':'user_id', 'Track':'track', '  City  ':'city', 'Day':'day'})"
   ]
  },
  {
   "cell_type": "markdown",
   "metadata": {
    "id": "1dqbh00J_Zct"
   },
   "source": [
    "Проверим результат. Для этого ещё раз выведем на экран названия столбцов:"
   ]
  },
  {
   "cell_type": "code",
   "execution_count": 7,
   "metadata": {
    "id": "d4NOAmTW_Zct"
   },
   "outputs": [
    {
     "data": {
      "text/plain": [
       "Index(['user_id', 'track', 'artist', 'genre', 'city', 'time', 'day'], dtype='object')"
      ]
     },
     "execution_count": 7,
     "metadata": {},
     "output_type": "execute_result"
    }
   ],
   "source": [
    "# проверка результатов - перечень названий столбцов\n",
    "df.columns"
   ]
  },
  {
   "cell_type": "markdown",
   "metadata": {
    "id": "5ISfbcfY_Zct"
   },
   "source": [
    "### Пропуски значений\n",
    "Сначала посчитаем, сколько в таблице пропущенных значений. "
   ]
  },
  {
   "cell_type": "code",
   "execution_count": 8,
   "metadata": {
    "id": "RskX29qr_Zct"
   },
   "outputs": [
    {
     "data": {
      "text/plain": [
       "user_id       0\n",
       "track      1231\n",
       "artist     7203\n",
       "genre      1198\n",
       "city          0\n",
       "time          0\n",
       "day           0\n",
       "dtype: int64"
      ]
     },
     "execution_count": 8,
     "metadata": {},
     "output_type": "execute_result"
    }
   ],
   "source": [
    "# подсчёт пропусков\n",
    "df.isna().sum()"
   ]
  },
  {
   "cell_type": "markdown",
   "metadata": {
    "id": "qubhgnlO_Zct"
   },
   "source": [
    "Не все пропущенные значения влияют на исследование. Так в `track` и `artist` пропуски не важны для нашей работы. Достаточно заменить их явными обозначениями.\n",
    "\n",
    "Но пропуски в `genre` могут помешать сравнению музыкальных вкусов в Москве и Санкт-Петербурге. Было бы правильно установить причину пропусков и восстановить данные, но такой возможности нет, поэтому придётся:\n",
    "* заполнить и эти пропуски явными обозначениями,\n",
    "* оценить, насколько они повредят расчётам. "
   ]
  },
  {
   "cell_type": "markdown",
   "metadata": {
    "id": "fSv2laPA_Zct"
   },
   "source": [
    "Заменим пропущенные значения в столбцах `track`, `artist` и `genre` на строку `'unknown'`. Для этого создадим список `columns_to_replace`, переберем его элементы циклом `for` и для каждого столбца выполним замену пропущенных значений:"
   ]
  },
  {
   "cell_type": "code",
   "execution_count": 9,
   "metadata": {
    "id": "KplB5qWs_Zct"
   },
   "outputs": [],
   "source": [
    "# перебор названий столбцов в цикле и замена пропущенных значений на 'unknown'\n",
    "columns_to_replace = ['track', 'artist', 'genre']\n",
    "for col_name in columns_to_replace:\n",
    "    df[col_name]= df[col_name].fillna('unknown')"
   ]
  },
  {
   "cell_type": "markdown",
   "metadata": {
    "id": "Ilsm-MZo_Zct"
   },
   "source": [
    "Убедимся, что в таблице не осталось пропусков. Для этого ещё раз посчитаем пропущенные значения."
   ]
  },
  {
   "cell_type": "code",
   "execution_count": 10,
   "metadata": {
    "id": "Tq4nYRX4_Zct",
    "scrolled": true
   },
   "outputs": [
    {
     "data": {
      "text/plain": [
       "user_id    0\n",
       "track      0\n",
       "artist     0\n",
       "genre      0\n",
       "city       0\n",
       "time       0\n",
       "day        0\n",
       "dtype: int64"
      ]
     },
     "execution_count": 10,
     "metadata": {},
     "output_type": "execute_result"
    }
   ],
   "source": [
    "# подсчёт пропусков\n",
    "df.isna().sum()"
   ]
  },
  {
   "cell_type": "markdown",
   "metadata": {
    "id": "BWKRtBJ3_Zct"
   },
   "source": [
    "### Дубликаты\n",
    "Посчитаем явные дубликаты в таблице:"
   ]
  },
  {
   "cell_type": "code",
   "execution_count": 11,
   "metadata": {
    "id": "36eES_S0_Zct"
   },
   "outputs": [
    {
     "data": {
      "text/plain": [
       "3826"
      ]
     },
     "execution_count": 11,
     "metadata": {},
     "output_type": "execute_result"
    }
   ],
   "source": [
    "# подсчёт явных дубликатов\n",
    "df.duplicated().sum()"
   ]
  },
  {
   "cell_type": "markdown",
   "metadata": {
    "id": "Ot25h6XR_Zct"
   },
   "source": [
    "Вызовем специальный метод `pandas`, чтобы удалить явные дубликаты:"
   ]
  },
  {
   "cell_type": "code",
   "execution_count": 12,
   "metadata": {
    "id": "exFHq6tt_Zct"
   },
   "outputs": [],
   "source": [
    "# удаление явных дубликатов (с удалением старых индексов и формированием новых)\n",
    "df = df.drop_duplicates().reset_index(drop=True)"
   ]
  },
  {
   "cell_type": "markdown",
   "metadata": {
    "id": "Im2YwBEG_Zct"
   },
   "source": [
    "Ещё раз посчитаем явные дубликаты в таблице — убедимся, что полностью от них избавились:"
   ]
  },
  {
   "cell_type": "code",
   "execution_count": 13,
   "metadata": {
    "id": "-8PuNWQ0_Zct"
   },
   "outputs": [
    {
     "data": {
      "text/plain": [
       "0"
      ]
     },
     "execution_count": 13,
     "metadata": {},
     "output_type": "execute_result"
    }
   ],
   "source": [
    "# проверка на отсутствие дубликатов\n",
    "df.duplicated().sum()"
   ]
  },
  {
   "cell_type": "markdown",
   "metadata": {
    "id": "QlFBsxAr_Zct"
   },
   "source": [
    "Теперь избавимся от неявных дубликатов в колонке `genre`. Например, название одного и того же жанра может быть записано немного по-разному. Такие ошибки тоже повлияют на результат исследования."
   ]
  },
  {
   "cell_type": "markdown",
   "metadata": {
    "id": "eSjWwsOh_Zct"
   },
   "source": [
    "Выведем на экран список уникальных названий жанров, отсортированный в алфавитном порядке. Для этого:\n",
    "* извлечем нужный столбец датафрейма, \n",
    "* применим к нему метод сортировки,\n",
    "* для отсортированного столбца вызовем метод, который вернёт уникальные значения из столбца."
   ]
  },
  {
   "cell_type": "code",
   "execution_count": 14,
   "metadata": {
    "id": "JIUcqzZN_Zct"
   },
   "outputs": [
    {
     "data": {
      "text/plain": [
       "array(['acid', 'acoustic', 'action', 'adult', 'africa', 'afrikaans',\n",
       "       'alternative', 'alternativepunk', 'ambient', 'americana',\n",
       "       'animated', 'anime', 'arabesk', 'arabic', 'arena',\n",
       "       'argentinetango', 'art', 'audiobook', 'author', 'avantgarde',\n",
       "       'axé', 'baile', 'balkan', 'beats', 'bigroom', 'black', 'bluegrass',\n",
       "       'blues', 'bollywood', 'bossa', 'brazilian', 'breakbeat', 'breaks',\n",
       "       'broadway', 'cantautori', 'cantopop', 'canzone', 'caribbean',\n",
       "       'caucasian', 'celtic', 'chamber', 'chanson', 'children', 'chill',\n",
       "       'chinese', 'choral', 'christian', 'christmas', 'classical',\n",
       "       'classicmetal', 'club', 'colombian', 'comedy', 'conjazz',\n",
       "       'contemporary', 'country', 'cuban', 'dance', 'dancehall',\n",
       "       'dancepop', 'dark', 'death', 'deep', 'deutschrock', 'deutschspr',\n",
       "       'dirty', 'disco', 'dnb', 'documentary', 'downbeat', 'downtempo',\n",
       "       'drum', 'dub', 'dubstep', 'eastern', 'easy', 'electronic',\n",
       "       'electropop', 'emo', 'entehno', 'epicmetal', 'estrada', 'ethnic',\n",
       "       'eurofolk', 'european', 'experimental', 'extrememetal', 'fado',\n",
       "       'fairytail', 'film', 'fitness', 'flamenco', 'folk', 'folklore',\n",
       "       'folkmetal', 'folkrock', 'folktronica', 'forró', 'frankreich',\n",
       "       'französisch', 'french', 'funk', 'future', 'gangsta', 'garage',\n",
       "       'german', 'ghazal', 'gitarre', 'glitch', 'gospel', 'gothic',\n",
       "       'grime', 'grunge', 'gypsy', 'handsup', \"hard'n'heavy\", 'hardcore',\n",
       "       'hardstyle', 'hardtechno', 'hip', 'hip-hop', 'hiphop',\n",
       "       'historisch', 'holiday', 'hop', 'horror', 'house', 'hymn', 'idm',\n",
       "       'independent', 'indian', 'indie', 'indipop', 'industrial',\n",
       "       'inspirational', 'instrumental', 'international', 'irish', 'jam',\n",
       "       'japanese', 'jazz', 'jewish', 'jpop', 'jungle', 'k-pop',\n",
       "       'karadeniz', 'karaoke', 'kayokyoku', 'korean', 'laiko', 'latin',\n",
       "       'latino', 'leftfield', 'local', 'lounge', 'loungeelectronic',\n",
       "       'lovers', 'malaysian', 'mandopop', 'marschmusik', 'meditative',\n",
       "       'mediterranean', 'melodic', 'metal', 'metalcore', 'mexican',\n",
       "       'middle', 'minimal', 'miscellaneous', 'modern', 'mood', 'mpb',\n",
       "       'muslim', 'native', 'neoklassik', 'neue', 'new', 'newage',\n",
       "       'newwave', 'nu', 'nujazz', 'numetal', 'oceania', 'old', 'opera',\n",
       "       'orchestral', 'other', 'piano', 'podcasts', 'pop', 'popdance',\n",
       "       'popelectronic', 'popeurodance', 'poprussian', 'post',\n",
       "       'posthardcore', 'postrock', 'power', 'progmetal', 'progressive',\n",
       "       'psychedelic', 'punjabi', 'punk', 'quebecois', 'ragga', 'ram',\n",
       "       'rancheras', 'rap', 'rave', 'reggae', 'reggaeton', 'regional',\n",
       "       'relax', 'religious', 'retro', 'rhythm', 'rnb', 'rnr', 'rock',\n",
       "       'rockabilly', 'rockalternative', 'rockindie', 'rockother',\n",
       "       'romance', 'roots', 'ruspop', 'rusrap', 'rusrock', 'russian',\n",
       "       'salsa', 'samba', 'scenic', 'schlager', 'self', 'sertanejo',\n",
       "       'shanson', 'shoegazing', 'showtunes', 'singer', 'ska', 'skarock',\n",
       "       'slow', 'smooth', 'soft', 'soul', 'soulful', 'sound', 'soundtrack',\n",
       "       'southern', 'specialty', 'speech', 'spiritual', 'sport',\n",
       "       'stonerrock', 'surf', 'swing', 'synthpop', 'synthrock',\n",
       "       'sängerportrait', 'tango', 'tanzorchester', 'taraftar', 'tatar',\n",
       "       'tech', 'techno', 'teen', 'thrash', 'top', 'traditional',\n",
       "       'tradjazz', 'trance', 'tribal', 'trip', 'triphop', 'tropical',\n",
       "       'türk', 'türkçe', 'ukrrock', 'unknown', 'urban', 'uzbek',\n",
       "       'variété', 'vi', 'videogame', 'vocal', 'western', 'world',\n",
       "       'worldbeat', 'ïîï', 'электроника'], dtype=object)"
      ]
     },
     "execution_count": 14,
     "metadata": {},
     "output_type": "execute_result"
    }
   ],
   "source": [
    "# Просмотр уникальных названий жанров\n",
    "df['genre'].sort_values().unique()"
   ]
  },
  {
   "cell_type": "markdown",
   "metadata": {
    "id": "qej-Qmuo_Zct"
   },
   "source": [
    "Просмотрим список и найдем неявные дубликаты названия `hiphop`. Это могут быть названия с ошибками или альтернативные названия того же жанра.\n",
    "\n",
    "Видим следующие неявные дубликаты:\n",
    "* *hip*,\n",
    "* *hop*,\n",
    "* *hip-hop*.\n",
    "\n",
    "Чтобы очистить от них таблицу, напишем функцию `replace_wrong_genres()` с двумя параметрами: \n",
    "* `wrong_genres` — список дубликатов,\n",
    "* `correct_genre` — строка с правильным значением.\n",
    "\n",
    "Функция должна исправить колонку `genre` в таблице `df`: заменить каждое значение из списка `wrong_genres` на значение из `correct_genre`."
   ]
  },
  {
   "cell_type": "code",
   "execution_count": 15,
   "metadata": {
    "id": "ErNDkmns_Zct"
   },
   "outputs": [],
   "source": [
    "# Функция для замены неявных дубликатов\n",
    "def replace_wrong_genres(wrong_genres, correct_genre):\n",
    "    for wrong_genre in wrong_genres:\n",
    "        df['genre']= df['genre'].replace(wrong_genre,correct_genre)\n",
    "    return df['genre']"
   ]
  },
  {
   "cell_type": "markdown",
   "metadata": {
    "id": "aDoBJxbA_Zct"
   },
   "source": [
    "Вызовем `replace_wrong_genres()` и передадим ей такие аргументы, чтобы она устранила неявные дубликаты: вместо `hip`, `hop` и `hip-hop` в таблице должно быть значение `hiphop`:"
   ]
  },
  {
   "cell_type": "code",
   "execution_count": 16,
   "metadata": {
    "id": "YN5i2hpmSo09"
   },
   "outputs": [
    {
     "data": {
      "text/plain": [
       "0              rock\n",
       "1              rock\n",
       "2               pop\n",
       "3              folk\n",
       "4             dance\n",
       "            ...    \n",
       "61248           rnb\n",
       "61249        hiphop\n",
       "61250    industrial\n",
       "61251          rock\n",
       "61252       country\n",
       "Name: genre, Length: 61253, dtype: object"
      ]
     },
     "execution_count": 16,
     "metadata": {},
     "output_type": "execute_result"
    }
   ],
   "source": [
    "# Устранение неявных дубликатов\n",
    "wrong_genres = ['hip', 'hop', 'hip-hop']\n",
    "correct_genre = 'hiphop'\n",
    "replace_wrong_genres(wrong_genres, correct_genre)"
   ]
  },
  {
   "cell_type": "markdown",
   "metadata": {
    "id": "zQKF16_RG15m"
   },
   "source": [
    "Проверим, что заменили неправильные названия:\n",
    "\n",
    "*   hip\n",
    "*   hop\n",
    "*   hip-hop\n",
    "\n",
    "Выведем отсортированный список уникальных значений столбца `genre`:"
   ]
  },
  {
   "cell_type": "code",
   "execution_count": 17,
   "metadata": {
    "id": "wvixALnFG15m"
   },
   "outputs": [
    {
     "data": {
      "text/plain": [
       "array(['acid', 'acoustic', 'action', 'adult', 'africa', 'afrikaans',\n",
       "       'alternative', 'alternativepunk', 'ambient', 'americana',\n",
       "       'animated', 'anime', 'arabesk', 'arabic', 'arena',\n",
       "       'argentinetango', 'art', 'audiobook', 'author', 'avantgarde',\n",
       "       'axé', 'baile', 'balkan', 'beats', 'bigroom', 'black', 'bluegrass',\n",
       "       'blues', 'bollywood', 'bossa', 'brazilian', 'breakbeat', 'breaks',\n",
       "       'broadway', 'cantautori', 'cantopop', 'canzone', 'caribbean',\n",
       "       'caucasian', 'celtic', 'chamber', 'chanson', 'children', 'chill',\n",
       "       'chinese', 'choral', 'christian', 'christmas', 'classical',\n",
       "       'classicmetal', 'club', 'colombian', 'comedy', 'conjazz',\n",
       "       'contemporary', 'country', 'cuban', 'dance', 'dancehall',\n",
       "       'dancepop', 'dark', 'death', 'deep', 'deutschrock', 'deutschspr',\n",
       "       'dirty', 'disco', 'dnb', 'documentary', 'downbeat', 'downtempo',\n",
       "       'drum', 'dub', 'dubstep', 'eastern', 'easy', 'electronic',\n",
       "       'electropop', 'emo', 'entehno', 'epicmetal', 'estrada', 'ethnic',\n",
       "       'eurofolk', 'european', 'experimental', 'extrememetal', 'fado',\n",
       "       'fairytail', 'film', 'fitness', 'flamenco', 'folk', 'folklore',\n",
       "       'folkmetal', 'folkrock', 'folktronica', 'forró', 'frankreich',\n",
       "       'französisch', 'french', 'funk', 'future', 'gangsta', 'garage',\n",
       "       'german', 'ghazal', 'gitarre', 'glitch', 'gospel', 'gothic',\n",
       "       'grime', 'grunge', 'gypsy', 'handsup', \"hard'n'heavy\", 'hardcore',\n",
       "       'hardstyle', 'hardtechno', 'hiphop', 'historisch', 'holiday',\n",
       "       'horror', 'house', 'hymn', 'idm', 'independent', 'indian', 'indie',\n",
       "       'indipop', 'industrial', 'inspirational', 'instrumental',\n",
       "       'international', 'irish', 'jam', 'japanese', 'jazz', 'jewish',\n",
       "       'jpop', 'jungle', 'k-pop', 'karadeniz', 'karaoke', 'kayokyoku',\n",
       "       'korean', 'laiko', 'latin', 'latino', 'leftfield', 'local',\n",
       "       'lounge', 'loungeelectronic', 'lovers', 'malaysian', 'mandopop',\n",
       "       'marschmusik', 'meditative', 'mediterranean', 'melodic', 'metal',\n",
       "       'metalcore', 'mexican', 'middle', 'minimal', 'miscellaneous',\n",
       "       'modern', 'mood', 'mpb', 'muslim', 'native', 'neoklassik', 'neue',\n",
       "       'new', 'newage', 'newwave', 'nu', 'nujazz', 'numetal', 'oceania',\n",
       "       'old', 'opera', 'orchestral', 'other', 'piano', 'podcasts', 'pop',\n",
       "       'popdance', 'popelectronic', 'popeurodance', 'poprussian', 'post',\n",
       "       'posthardcore', 'postrock', 'power', 'progmetal', 'progressive',\n",
       "       'psychedelic', 'punjabi', 'punk', 'quebecois', 'ragga', 'ram',\n",
       "       'rancheras', 'rap', 'rave', 'reggae', 'reggaeton', 'regional',\n",
       "       'relax', 'religious', 'retro', 'rhythm', 'rnb', 'rnr', 'rock',\n",
       "       'rockabilly', 'rockalternative', 'rockindie', 'rockother',\n",
       "       'romance', 'roots', 'ruspop', 'rusrap', 'rusrock', 'russian',\n",
       "       'salsa', 'samba', 'scenic', 'schlager', 'self', 'sertanejo',\n",
       "       'shanson', 'shoegazing', 'showtunes', 'singer', 'ska', 'skarock',\n",
       "       'slow', 'smooth', 'soft', 'soul', 'soulful', 'sound', 'soundtrack',\n",
       "       'southern', 'specialty', 'speech', 'spiritual', 'sport',\n",
       "       'stonerrock', 'surf', 'swing', 'synthpop', 'synthrock',\n",
       "       'sängerportrait', 'tango', 'tanzorchester', 'taraftar', 'tatar',\n",
       "       'tech', 'techno', 'teen', 'thrash', 'top', 'traditional',\n",
       "       'tradjazz', 'trance', 'tribal', 'trip', 'triphop', 'tropical',\n",
       "       'türk', 'türkçe', 'ukrrock', 'unknown', 'urban', 'uzbek',\n",
       "       'variété', 'vi', 'videogame', 'vocal', 'western', 'world',\n",
       "       'worldbeat', 'ïîï', 'электроника'], dtype=object)"
      ]
     },
     "execution_count": 17,
     "metadata": {},
     "output_type": "execute_result"
    }
   ],
   "source": [
    "# Проверка на неявные дубликаты\n",
    "df['genre'].sort_values().unique()"
   ]
  },
  {
   "cell_type": "markdown",
   "metadata": {
    "id": "jz6a9-7HQUDd"
   },
   "source": [
    "**Выводы**\n",
    "\n",
    "Предобработка обнаружила три проблемы в данных:\n",
    "\n",
    "- нарушения в стиле заголовков,\n",
    "- пропущенные значения,\n",
    "- дубликаты — явные и неявные.\n",
    "\n",
    "Были исправлены заголовки, чтобы упростить работу с таблицей. Без дубликатов исследование стало более точным.\n",
    "\n",
    "Пропущенные значения мы заменили на `'unknown'`. Ещё предстоит увидеть, не повредят ли исследованию пропуски в колонке `genre`.\n",
    "\n",
    "Теперь можно перейти к проверке гипотез. "
   ]
  },
  {
   "cell_type": "markdown",
   "metadata": {
    "id": "WttZHXH0SqKk"
   },
   "source": [
    "## Проверка гипотез"
   ]
  },
  {
   "cell_type": "markdown",
   "metadata": {
    "id": "Im936VVi_Zcu"
   },
   "source": [
    "### Сравнение поведения пользователей двух столиц"
   ]
  },
  {
   "cell_type": "markdown",
   "metadata": {
    "id": "nwt_MuaL_Zcu"
   },
   "source": [
    "Первая гипотеза утверждает, что пользователи по-разному слушают музыку в Москве и Санкт-Петербурге. Проверим это предположение по данным о трёх днях недели — понедельнике, среде и пятнице. Для этого:\n",
    "\n",
    "* Разделим пользователей Москвы и Санкт-Петербурга\n",
    "* Сравним, сколько треков послушала каждая группа пользователей в понедельник, среду и пятницу.\n"
   ]
  },
  {
   "cell_type": "markdown",
   "metadata": {
    "id": "8Dw_YMmT_Zcu"
   },
   "source": [
    "Для тренировки сначала выполним каждый из расчётов по отдельности. \n",
    "\n",
    "Оценим активность пользователей в каждом городе. Сгруппируем данные по городу и посчитаем прослушивания в каждой группе.\n",
    "\n"
   ]
  },
  {
   "cell_type": "code",
   "execution_count": 18,
   "metadata": {
    "id": "0_Qs96oh_Zcu"
   },
   "outputs": [
    {
     "data": {
      "text/html": [
       "<div>\n",
       "<style scoped>\n",
       "    .dataframe tbody tr th:only-of-type {\n",
       "        vertical-align: middle;\n",
       "    }\n",
       "\n",
       "    .dataframe tbody tr th {\n",
       "        vertical-align: top;\n",
       "    }\n",
       "\n",
       "    .dataframe thead th {\n",
       "        text-align: right;\n",
       "    }\n",
       "</style>\n",
       "<table border=\"1\" class=\"dataframe\">\n",
       "  <thead>\n",
       "    <tr style=\"text-align: right;\">\n",
       "      <th></th>\n",
       "      <th>user_id</th>\n",
       "      <th>track</th>\n",
       "      <th>artist</th>\n",
       "      <th>genre</th>\n",
       "      <th>time</th>\n",
       "      <th>day</th>\n",
       "    </tr>\n",
       "    <tr>\n",
       "      <th>city</th>\n",
       "      <th></th>\n",
       "      <th></th>\n",
       "      <th></th>\n",
       "      <th></th>\n",
       "      <th></th>\n",
       "      <th></th>\n",
       "    </tr>\n",
       "  </thead>\n",
       "  <tbody>\n",
       "    <tr>\n",
       "      <td>Moscow</td>\n",
       "      <td>42741</td>\n",
       "      <td>42741</td>\n",
       "      <td>42741</td>\n",
       "      <td>42741</td>\n",
       "      <td>42741</td>\n",
       "      <td>42741</td>\n",
       "    </tr>\n",
       "    <tr>\n",
       "      <td>Saint-Petersburg</td>\n",
       "      <td>18512</td>\n",
       "      <td>18512</td>\n",
       "      <td>18512</td>\n",
       "      <td>18512</td>\n",
       "      <td>18512</td>\n",
       "      <td>18512</td>\n",
       "    </tr>\n",
       "  </tbody>\n",
       "</table>\n",
       "</div>"
      ],
      "text/plain": [
       "                  user_id  track  artist  genre   time    day\n",
       "city                                                         \n",
       "Moscow              42741  42741   42741  42741  42741  42741\n",
       "Saint-Petersburg    18512  18512   18512  18512  18512  18512"
      ]
     },
     "execution_count": 18,
     "metadata": {},
     "output_type": "execute_result"
    }
   ],
   "source": [
    "# Подсчёт прослушиваний в каждом городе\n",
    "df.groupby('city').count()"
   ]
  },
  {
   "cell_type": "markdown",
   "metadata": {
    "id": "dzli3w8o_Zcu"
   },
   "source": [
    "В Москве прослушиваний больше, чем в Петербурге. Из этого не следует, что московские пользователи чаще слушают музыку. Просто самих пользователей в Москве больше.\n",
    "\n",
    "Теперь сгруппируем данные по дню недели и подсчитаем прослушивания в понедельник, среду и пятницу. Учитывая, что в данных есть информация только о прослушиваниях только за эти дни.\n"
   ]
  },
  {
   "cell_type": "code",
   "execution_count": 19,
   "metadata": {
    "id": "uZMKjiJz_Zcu"
   },
   "outputs": [
    {
     "data": {
      "text/html": [
       "<div>\n",
       "<style scoped>\n",
       "    .dataframe tbody tr th:only-of-type {\n",
       "        vertical-align: middle;\n",
       "    }\n",
       "\n",
       "    .dataframe tbody tr th {\n",
       "        vertical-align: top;\n",
       "    }\n",
       "\n",
       "    .dataframe thead th {\n",
       "        text-align: right;\n",
       "    }\n",
       "</style>\n",
       "<table border=\"1\" class=\"dataframe\">\n",
       "  <thead>\n",
       "    <tr style=\"text-align: right;\">\n",
       "      <th></th>\n",
       "      <th>user_id</th>\n",
       "      <th>track</th>\n",
       "      <th>artist</th>\n",
       "      <th>genre</th>\n",
       "      <th>city</th>\n",
       "      <th>time</th>\n",
       "    </tr>\n",
       "    <tr>\n",
       "      <th>day</th>\n",
       "      <th></th>\n",
       "      <th></th>\n",
       "      <th></th>\n",
       "      <th></th>\n",
       "      <th></th>\n",
       "      <th></th>\n",
       "    </tr>\n",
       "  </thead>\n",
       "  <tbody>\n",
       "    <tr>\n",
       "      <td>Friday</td>\n",
       "      <td>21840</td>\n",
       "      <td>21840</td>\n",
       "      <td>21840</td>\n",
       "      <td>21840</td>\n",
       "      <td>21840</td>\n",
       "      <td>21840</td>\n",
       "    </tr>\n",
       "    <tr>\n",
       "      <td>Monday</td>\n",
       "      <td>21354</td>\n",
       "      <td>21354</td>\n",
       "      <td>21354</td>\n",
       "      <td>21354</td>\n",
       "      <td>21354</td>\n",
       "      <td>21354</td>\n",
       "    </tr>\n",
       "    <tr>\n",
       "      <td>Wednesday</td>\n",
       "      <td>18059</td>\n",
       "      <td>18059</td>\n",
       "      <td>18059</td>\n",
       "      <td>18059</td>\n",
       "      <td>18059</td>\n",
       "      <td>18059</td>\n",
       "    </tr>\n",
       "  </tbody>\n",
       "</table>\n",
       "</div>"
      ],
      "text/plain": [
       "           user_id  track  artist  genre   city   time\n",
       "day                                                   \n",
       "Friday       21840  21840   21840  21840  21840  21840\n",
       "Monday       21354  21354   21354  21354  21354  21354\n",
       "Wednesday    18059  18059   18059  18059  18059  18059"
      ]
     },
     "execution_count": 19,
     "metadata": {},
     "output_type": "execute_result"
    }
   ],
   "source": [
    "# Подсчёт прослушиваний в каждый из трёх дней\n",
    "df.groupby('day').count()"
   ]
  },
  {
   "cell_type": "markdown",
   "metadata": {
    "id": "cC2tNrlL_Zcu"
   },
   "source": [
    "В среднем пользователи из двух городов менее активны по средам. Но картина может измениться, если рассмотреть каждый город в отдельности."
   ]
  },
  {
   "cell_type": "markdown",
   "metadata": {
    "id": "POzs8bGa_Zcu"
   },
   "source": [
    "Мы видели, как работает группировка по городу и по дням недели. Теперь напишем функцию, которая объединит два эти расчёта.\n",
    "\n",
    "Создадим функцию `number_tracks()`, которая посчитает прослушивания для заданного дня и города. Ей понадобятся два параметра:\n",
    "* день недели,\n",
    "* название города.\n",
    "\n",
    "В функции сохраним в переменную строки исходной таблицы, у которых значение:\n",
    "  * в колонке `day` равно параметру `day`,\n",
    "  * в колонке `city` равно параметру `city`.\n",
    "\n",
    "Для этого применим последовательную фильтрацию с логической индексацией.\n",
    "\n",
    "Затем посчитаем значения в столбце `user_id` получившейся таблицы. Результат сохраним в новую переменную. Вернем эту переменную из функции."
   ]
  },
  {
   "cell_type": "code",
   "execution_count": 20,
   "metadata": {
    "id": "Nz3GdQB1_Zcu"
   },
   "outputs": [],
   "source": [
    "# <создание функции number_tracks()>\n",
    "# Объявляется функция с двумя параметрами: day, city.\n",
    "\n",
    "# В переменной track_list сохраняются те строки таблицы df, для которых \n",
    "# значение в столбце 'day' равно параметру day и одновременно значение\n",
    "# в столбце 'city' равно параметру city (используйте последовательную фильтрацию\n",
    "# с помощью логической индексации).\n",
    "# В переменной track_list_count сохраняется число значений столбца 'user_id',\n",
    "# рассчитанное методом count() для таблицы track_list.\n",
    "# Функция возвращает число - значение track_list_count.\n",
    "def number_tracks(day, city):\n",
    "    track_list = df[df['day']==day]\n",
    "    track_list = track_list[track_list['city']==city]\n",
    "    track_list_count = track_list['user_id'].count()\n",
    "    return track_list_count\n",
    "# Функция для подсчёта прослушиваний для конкретного города и дня.\n",
    "# С помощью последовательной фильтрации с логической индексацией она \n",
    "# сначала получит из исходной таблицы строки с нужным днём,\n",
    "# затем из результата отфильтрует строки с нужным городом,\n",
    "# методом count() посчитает количество значений в колонке user_id. \n",
    "# Это количество функция вернёт в качестве результата"
   ]
  },
  {
   "cell_type": "markdown",
   "metadata": {
    "id": "ytf7xFrFJQ2r"
   },
   "source": [
    "Вызовем `number_tracks()` шесть раз, меняя значение параметров — так, чтобы получить данные для каждого города в каждый из трёх дней."
   ]
  },
  {
   "cell_type": "code",
   "execution_count": 21,
   "metadata": {
    "id": "rJcRATNQ_Zcu"
   },
   "outputs": [
    {
     "data": {
      "text/plain": [
       "15740"
      ]
     },
     "execution_count": 21,
     "metadata": {},
     "output_type": "execute_result"
    }
   ],
   "source": [
    "# количество прослушиваний в Москве по понедельникам\n",
    "number_tracks('Monday', 'Moscow')\n"
   ]
  },
  {
   "cell_type": "code",
   "execution_count": 22,
   "metadata": {
    "id": "hq_ncZ5T_Zcu"
   },
   "outputs": [
    {
     "data": {
      "text/plain": [
       "5614"
      ]
     },
     "execution_count": 22,
     "metadata": {},
     "output_type": "execute_result"
    }
   ],
   "source": [
    "# количество прослушиваний в Санкт-Петербурге по понедельникам\n",
    "number_tracks('Monday','Saint-Petersburg')"
   ]
  },
  {
   "cell_type": "code",
   "execution_count": 23,
   "metadata": {
    "id": "_NTy2VPU_Zcu"
   },
   "outputs": [
    {
     "data": {
      "text/plain": [
       "11056"
      ]
     },
     "execution_count": 23,
     "metadata": {},
     "output_type": "execute_result"
    }
   ],
   "source": [
    "# количество прослушиваний в Москве по средам\n",
    "number_tracks('Wednesday', 'Moscow')"
   ]
  },
  {
   "cell_type": "code",
   "execution_count": 24,
   "metadata": {
    "id": "j2y3TAwo_Zcu"
   },
   "outputs": [
    {
     "data": {
      "text/plain": [
       "7003"
      ]
     },
     "execution_count": 24,
     "metadata": {},
     "output_type": "execute_result"
    }
   ],
   "source": [
    "# количество прослушиваний в Санкт-Петербурге по средам\n",
    "number_tracks('Wednesday','Saint-Petersburg')"
   ]
  },
  {
   "cell_type": "code",
   "execution_count": 25,
   "metadata": {
    "id": "vYDw5u_K_Zcu"
   },
   "outputs": [
    {
     "data": {
      "text/plain": [
       "15945"
      ]
     },
     "execution_count": 25,
     "metadata": {},
     "output_type": "execute_result"
    }
   ],
   "source": [
    "# количество прослушиваний в Москве по пятницам\n",
    "number_tracks('Friday', 'Moscow')"
   ]
  },
  {
   "cell_type": "code",
   "execution_count": 26,
   "metadata": {
    "id": "8_yzFtW3_Zcu"
   },
   "outputs": [
    {
     "data": {
      "text/plain": [
       "5895"
      ]
     },
     "execution_count": 26,
     "metadata": {},
     "output_type": "execute_result"
    }
   ],
   "source": [
    "# количество прослушиваний в Санкт-Петербурге по пятницам\n",
    "number_tracks('Friday','Saint-Petersburg')"
   ]
  },
  {
   "cell_type": "markdown",
   "metadata": {
    "id": "7QXffbO-_Zcu"
   },
   "source": [
    "Создадим c помощью конструктора `pd.DataFrame` таблицу, где\n",
    "* названия колонок — `['city', 'monday', 'wednesday', 'friday']`;\n",
    "* данные — результаты, которые вы получили с помощью `number_tracks`."
   ]
  },
  {
   "cell_type": "code",
   "execution_count": 27,
   "metadata": {
    "id": "APAcLpOr_Zcu"
   },
   "outputs": [
    {
     "data": {
      "text/html": [
       "<div>\n",
       "<style scoped>\n",
       "    .dataframe tbody tr th:only-of-type {\n",
       "        vertical-align: middle;\n",
       "    }\n",
       "\n",
       "    .dataframe tbody tr th {\n",
       "        vertical-align: top;\n",
       "    }\n",
       "\n",
       "    .dataframe thead th {\n",
       "        text-align: right;\n",
       "    }\n",
       "</style>\n",
       "<table border=\"1\" class=\"dataframe\">\n",
       "  <thead>\n",
       "    <tr style=\"text-align: right;\">\n",
       "      <th></th>\n",
       "      <th>city</th>\n",
       "      <th>monday</th>\n",
       "      <th>wednesday</th>\n",
       "      <th>friday</th>\n",
       "    </tr>\n",
       "  </thead>\n",
       "  <tbody>\n",
       "    <tr>\n",
       "      <td>0</td>\n",
       "      <td>Moscow</td>\n",
       "      <td>15740</td>\n",
       "      <td>11056</td>\n",
       "      <td>15945</td>\n",
       "    </tr>\n",
       "    <tr>\n",
       "      <td>1</td>\n",
       "      <td>Saint-Petersburg</td>\n",
       "      <td>5614</td>\n",
       "      <td>7003</td>\n",
       "      <td>5895</td>\n",
       "    </tr>\n",
       "  </tbody>\n",
       "</table>\n",
       "</div>"
      ],
      "text/plain": [
       "               city  monday  wednesday  friday\n",
       "0            Moscow   15740      11056   15945\n",
       "1  Saint-Petersburg    5614       7003    5895"
      ]
     },
     "metadata": {},
     "output_type": "display_data"
    }
   ],
   "source": [
    "# Таблица с результатами\n",
    "city_number = [['Moscow',15740, 11056, 15945], ['Saint-Petersburg',5614, 7003, 5895]]\n",
    "col = ['city', 'monday', 'wednesday', 'friday']\n",
    "total = pd.DataFrame(data=city_number, columns=col)\n",
    "display(total)"
   ]
  },
  {
   "cell_type": "markdown",
   "metadata": {
    "id": "-EgPIHYu_Zcu"
   },
   "source": [
    "**Выводы**\n",
    "\n",
    "Данные показывают разницу поведения пользователей:\n",
    "\n",
    "- В Москве пик прослушиваний приходится на понедельник и пятницу, а в среду заметен спад.\n",
    "- В Петербурге, наоборот, больше слушают музыку по средам. Активность в понедельник и пятницу здесь почти в равной мере уступает среде.\n",
    "\n",
    "Значит, данные говорят в пользу первой гипотезы."
   ]
  },
  {
   "cell_type": "markdown",
   "metadata": {
    "id": "atZAxtq4_Zcu"
   },
   "source": [
    "### Музыка в начале и в конце недели"
   ]
  },
  {
   "cell_type": "markdown",
   "metadata": {
    "id": "eXrQqXFH_Zcu"
   },
   "source": [
    "Согласно второй гипотезе, утром в понедельник в Москве преобладают одни жанры, а в Петербурге — другие. Так же и вечером пятницы преобладают разные жанры — в зависимости от города."
   ]
  },
  {
   "cell_type": "markdown",
   "metadata": {
    "id": "S8UcW6Hw_Zcu"
   },
   "source": [
    "Сохраним таблицы с данными в две переменные:\n",
    "* по Москве — в `moscow_general`;\n",
    "* по Санкт-Петербургу — в `spb_general`."
   ]
  },
  {
   "cell_type": "code",
   "execution_count": 28,
   "metadata": {
    "id": "qeaFfM_P_Zcu"
   },
   "outputs": [],
   "source": [
    "# получение таблицы moscow_general из тех строк таблицы df, \n",
    "# для которых значение в столбце 'city' равно 'Moscow'\n",
    "moscow_general = df[df['city']=='Moscow']\n"
   ]
  },
  {
   "cell_type": "code",
   "execution_count": 29,
   "metadata": {
    "id": "ORaVRKto_Zcu"
   },
   "outputs": [],
   "source": [
    "# получение таблицы spb_general из тех строк таблицы df,\n",
    "# для которых значение в столбце 'city' равно 'Saint-Petersburg'\n",
    "spb_general = df[df['city']=='Saint-Petersburg']"
   ]
  },
  {
   "cell_type": "markdown",
   "metadata": {
    "id": "MEJV-CX2_Zcu"
   },
   "source": [
    "Создадим функцию `genre_weekday()` с четырьмя параметрами:\n",
    "* таблица (датафрейм) с данными,\n",
    "* день недели,\n",
    "* начальная временная метка в формате 'hh:mm', \n",
    "* последняя временная метка в формате 'hh:mm'.\n",
    "\n",
    "Функция должна вернуть информацию о топ-10 жанров тех треков, которые прослушивали в указанный день, в промежутке между двумя отметками времени."
   ]
  },
  {
   "cell_type": "code",
   "execution_count": 30,
   "metadata": {
    "id": "laJT9BYl_Zcu"
   },
   "outputs": [],
   "source": [
    "# Объявление функции genre_weekday() с параметрами table, day, time1, time2,\n",
    "# которая возвращает информацию о самых популярных жанрах в указанный день в\n",
    "# заданное время:\n",
    "# 1) в переменную genre_df сохраняются те строки переданного датафрейма table, для\n",
    "#    которых одновременно:\n",
    "#    - значение в столбце day равно значению аргумента day\n",
    "#    - значение в столбце time больше значения аргумента time1\n",
    "#    - значение в столбце time меньше значения аргумента time2\n",
    "#    Используйте последовательную фильтрацию с помощью логической индексации.\n",
    "# 2) сгруппировать датафрейм genre_df по столбцу genre, взять один из его\n",
    "#    столбцов и посчитать методом count() количество записей для каждого из\n",
    "#    присутствующих жанров, получившийся Series записать в переменную\n",
    "#    genre_df_count\n",
    "# 3) отсортировать genre_df_count по убыванию встречаемости и сохранить\n",
    "#    в переменную genre_df_sorted\n",
    "# 4) вернуть Series из 10 первых значений genre_df_sorted, это будут топ-10\n",
    "#    популярных жанров (в указанный день, в заданное время)\n",
    "\n",
    "def genre_weekday(table, day, time1, time2):\n",
    "    genre_df = table[(table['day']==day) & (table['time'] > time1) & (table['time'] < time2)]\n",
    "    genre_df = genre_df.groupby('genre')\n",
    "    genre_df_count = genre_df['genre'].count()\n",
    "    genre_df_sorted = genre_df_count.sort_values(ascending = False)\n",
    "    return genre_df_sorted.head(10)"
   ]
  },
  {
   "cell_type": "markdown",
   "metadata": {
    "id": "la2s2_PF_Zcu"
   },
   "source": [
    "Cравним результаты функции `genre_weekday()` для Москвы и Санкт-Петербурга в понедельник утром (с 7:00 до 11:00) и в пятницу вечером (с 17:00 до 23:00):"
   ]
  },
  {
   "cell_type": "code",
   "execution_count": 31,
   "metadata": {
    "id": "yz7itPUQ_Zcu"
   },
   "outputs": [
    {
     "data": {
      "text/plain": [
       "genre\n",
       "pop            781\n",
       "dance          549\n",
       "electronic     480\n",
       "rock           474\n",
       "hiphop         286\n",
       "ruspop         186\n",
       "world          181\n",
       "rusrap         175\n",
       "alternative    164\n",
       "unknown        161\n",
       "Name: genre, dtype: int64"
      ]
     },
     "execution_count": 31,
     "metadata": {},
     "output_type": "execute_result"
    }
   ],
   "source": [
    "# вызов функции для утра понедельника в Москве (вместо df — таблица moscow_general)\n",
    "# объекты, хранящие время, являются строками и сравниваются как строки\n",
    "# пример вызова: genre_weekday(moscow_general, 'Monday', '07:00', '11:00')\n",
    "genre_weekday(moscow_general, 'Monday', '07:00', '11:00')"
   ]
  },
  {
   "cell_type": "code",
   "execution_count": 32,
   "metadata": {
    "id": "kwUcHPdy_Zcu"
   },
   "outputs": [
    {
     "data": {
      "text/plain": [
       "genre\n",
       "pop            218\n",
       "dance          182\n",
       "rock           162\n",
       "electronic     147\n",
       "hiphop          80\n",
       "ruspop          64\n",
       "alternative     58\n",
       "rusrap          55\n",
       "jazz            44\n",
       "classical       40\n",
       "Name: genre, dtype: int64"
      ]
     },
     "execution_count": 32,
     "metadata": {},
     "output_type": "execute_result"
    }
   ],
   "source": [
    "# вызов функции для утра понедельника в Петербурге (вместо df — таблица spb_general)\n",
    "genre_weekday(spb_general, 'Monday', '07:00', '11:00')"
   ]
  },
  {
   "cell_type": "code",
   "execution_count": 33,
   "metadata": {
    "id": "EzXVRE1o_Zcu"
   },
   "outputs": [
    {
     "data": {
      "text/plain": [
       "genre\n",
       "pop            717\n",
       "dance          524\n",
       "rock           518\n",
       "electronic     485\n",
       "hiphop         238\n",
       "alternative    182\n",
       "world          172\n",
       "classical      172\n",
       "ruspop         149\n",
       "rusrap         133\n",
       "Name: genre, dtype: int64"
      ]
     },
     "execution_count": 33,
     "metadata": {},
     "output_type": "execute_result"
    }
   ],
   "source": [
    "# вызов функции для вечера пятницы в Москве\n",
    "genre_weekday(moscow_general, 'Monday', '17:00', '23:00')"
   ]
  },
  {
   "cell_type": "code",
   "execution_count": 34,
   "metadata": {
    "id": "JZaEKu5v_Zcu"
   },
   "outputs": [
    {
     "data": {
      "text/plain": [
       "genre\n",
       "pop            263\n",
       "rock           208\n",
       "electronic     192\n",
       "dance          191\n",
       "hiphop         104\n",
       "alternative     72\n",
       "classical       71\n",
       "jazz            57\n",
       "rusrap          54\n",
       "ruspop          53\n",
       "Name: genre, dtype: int64"
      ]
     },
     "execution_count": 34,
     "metadata": {},
     "output_type": "execute_result"
    }
   ],
   "source": [
    "# вызов функции для вечера пятницы в Петербурге\n",
    "genre_weekday(spb_general, 'Monday', '17:00', '23:00')"
   ]
  },
  {
   "cell_type": "markdown",
   "metadata": {
    "id": "wrCe4MNX_Zcu"
   },
   "source": [
    "**Выводы**\n",
    "\n",
    "Если сравнить топ-10 жанров в понедельник утром, можно сделать такие выводы:\n",
    "\n",
    "1. В Москве и Петербурге слушают похожую музыку. Единственное отличие — в московский рейтинг вошёл жанр “world”, а в петербургский — джаз и классика.\n",
    "\n",
    "2. В Москве пропущенных значений оказалось так много, что значение `'unknown'` заняло десятое место среди самых популярных жанров. Значит, пропущенные значения занимают существенную долю в данных и угрожают достоверности исследования.\n",
    "\n",
    "Вечер пятницы не меняет эту картину. Некоторые жанры поднимаются немного выше, другие спускаются, но в целом топ-10 остаётся тем же самым.\n",
    "\n",
    "Таким образом, вторая гипотеза подтвердилась лишь частично:\n",
    "* Пользователи слушают похожую музыку в начале недели и в конце.\n",
    "* Разница между Москвой и Петербургом не слишком выражена. В Москве чаще слушают русскую популярную музыку, в Петербурге — джаз.\n",
    "\n",
    "Однако пропуски в данных ставят под сомнение этот результат. В Москве их так много, что рейтинг топ-10 мог бы выглядеть иначе, если бы не утерянные  данные о жанрах."
   ]
  },
  {
   "cell_type": "markdown",
   "metadata": {
    "id": "JolODAqr_Zcu"
   },
   "source": [
    "### Жанровые предпочтения в Москве и Петербурге\n",
    "\n",
    "Гипотеза: Петербург — столица рэпа, музыку этого жанра там слушают чаще, чем в Москве.  А Москва — город контрастов, в котором, тем не менее, преобладает поп-музыка."
   ]
  },
  {
   "cell_type": "markdown",
   "metadata": {
    "id": "DlegSvaT_Zcu"
   },
   "source": [
    "Сгруппируем таблицу `moscow_general` по жанру и посчитаем прослушивания треков каждого жанра методом `count()`. Затем отсортируем результат в порядке убывания и сохраним его в таблице `moscow_genres`."
   ]
  },
  {
   "cell_type": "code",
   "execution_count": 35,
   "metadata": {
    "id": "r19lIPke_Zcu"
   },
   "outputs": [],
   "source": [
    "# одной строкой: группировка таблицы moscow_general по столбцу 'genre', \n",
    "# подсчёт числа значений 'genre' в этой группировке методом count(), \n",
    "# сортировка получившегося Series в порядке убывания и сохранение в moscow_genres\n",
    "moscow_genres = moscow_general.groupby('genre')['genre'].count().sort_values(ascending = False)\n"
   ]
  },
  {
   "cell_type": "markdown",
   "metadata": {
    "id": "6kMuomxTiIr8"
   },
   "source": [
    "Выведем на экран первые десять строк `moscow_genres`:"
   ]
  },
  {
   "cell_type": "code",
   "execution_count": 36,
   "metadata": {
    "id": "WhCSooF8_Zcv"
   },
   "outputs": [
    {
     "data": {
      "text/plain": [
       "genre\n",
       "pop            5892\n",
       "dance          4435\n",
       "rock           3965\n",
       "electronic     3786\n",
       "hiphop         2096\n",
       "classical      1616\n",
       "world          1432\n",
       "alternative    1379\n",
       "ruspop         1372\n",
       "rusrap         1161\n",
       "Name: genre, dtype: int64"
      ]
     },
     "execution_count": 36,
     "metadata": {},
     "output_type": "execute_result"
    }
   ],
   "source": [
    "# просмотр первых 10 строк moscow_genres\n",
    "moscow_genres.head(10)"
   ]
  },
  {
   "cell_type": "markdown",
   "metadata": {
    "id": "cnPG2vnN_Zcv"
   },
   "source": [
    "Теперь повторим то же и для Петербурга.\n",
    "\n",
    "Сгруппируем таблицу `spb_general` по жанру. Посчитаем прослушивания треков каждого жанра. Результат отсортируем в порядке убывания и сохраним в таблице `spb_genres`:\n"
   ]
  },
  {
   "cell_type": "code",
   "execution_count": 37,
   "metadata": {
    "id": "gluLIpE7_Zcv"
   },
   "outputs": [],
   "source": [
    "# одной строкой: группировка таблицы spb_general по столбцу 'genre', \n",
    "# подсчёт числа значений 'genre' в этой группировке методом count(), \n",
    "# сортировка получившегося Series в порядке убывания и сохранение в spb_genres\n",
    "spb_genres = spb_general.groupby('genre')['genre'].count().sort_values(ascending = False)"
   ]
  },
  {
   "cell_type": "markdown",
   "metadata": {
    "id": "5Doha_ODgyQ8"
   },
   "source": [
    "Выведем на экран первые десять строк `spb_genres`:"
   ]
  },
  {
   "cell_type": "code",
   "execution_count": 38,
   "metadata": {
    "id": "uaGJHjVU_Zcv"
   },
   "outputs": [
    {
     "data": {
      "text/plain": [
       "genre\n",
       "pop            2431\n",
       "dance          1932\n",
       "rock           1879\n",
       "electronic     1736\n",
       "hiphop          960\n",
       "alternative     649\n",
       "classical       646\n",
       "rusrap          564\n",
       "ruspop          538\n",
       "world           515\n",
       "Name: genre, dtype: int64"
      ]
     },
     "execution_count": 38,
     "metadata": {},
     "output_type": "execute_result"
    }
   ],
   "source": [
    "# просмотр первых 10 строк spb_genres\n",
    "spb_genres.head(10)"
   ]
  },
  {
   "cell_type": "markdown",
   "metadata": {
    "id": "RY51YJYu_Zcv"
   },
   "source": [
    "**Выводы**"
   ]
  },
  {
   "cell_type": "markdown",
   "metadata": {
    "id": "nVhnJEm__Zcv"
   },
   "source": [
    "Гипотеза частично подтвердилась:\n",
    "* Поп-музыка — самый популярный жанр в Москве, как и предполагала гипотеза. Более того, в топ-10 жанров встречается близкий жанр — русская популярная музыка.\n",
    "* Вопреки ожиданиям, рэп одинаково популярен в Москве и Петербурге. \n"
   ]
  },
  {
   "cell_type": "markdown",
   "metadata": {
    "id": "ykKQ0N65_Zcv"
   },
   "source": [
    "## Итоги исследования"
   ]
  },
  {
   "cell_type": "markdown",
   "metadata": {
    "id": "tjUwbHb3_Zcv"
   },
   "source": [
    "Мы проверили три гипотезы и установили:\n",
    "\n",
    "1. День недели по-разному влияет на активность пользователей в Москве и Петербурге. \n",
    "\n",
    "Первая гипотеза полностью подтвердилась.\n",
    "\n",
    "2. Музыкальные предпочтения не сильно меняются в течение недели — будь то Москва или Петербург. Небольшие различия заметны в начале недели, по понедельникам:\n",
    "* в Москве слушают музыку жанра “world”,\n",
    "* в Петербурге — джаз и классику.\n",
    "\n",
    "Таким образом, вторая гипотеза подтвердилась лишь отчасти. Этот результат мог оказаться иным, если бы не пропуски в данных.\n",
    "\n",
    "3. Во вкусах пользователей Москвы и Петербурга больше общего чем различий. Вопреки ожиданиям, предпочтения жанров в Петербурге напоминают московские.\n",
    "\n",
    "Третья гипотеза не подтвердилась. Если различия в предпочтениях и существуют, на основной массе пользователей они незаметны.\n",
    "\n"
   ]
  }
 ],
 "metadata": {
  "ExecuteTimeLog": [
   {
    "duration": 691,
    "start_time": "2021-10-29T17:58:57.903Z"
   },
   {
    "duration": 2174,
    "start_time": "2021-10-29T17:59:58.161Z"
   },
   {
    "duration": 3,
    "start_time": "2021-10-29T18:00:18.622Z"
   },
   {
    "duration": 2174,
    "start_time": "2021-10-29T18:00:22.922Z"
   },
   {
    "duration": 2138,
    "start_time": "2021-10-29T18:00:56.669Z"
   },
   {
    "duration": 4,
    "start_time": "2021-10-29T18:03:22.371Z"
   },
   {
    "duration": 188,
    "start_time": "2021-10-29T18:03:56.109Z"
   },
   {
    "duration": 185,
    "start_time": "2021-10-29T18:03:59.528Z"
   },
   {
    "duration": 194,
    "start_time": "2021-10-29T18:04:03.234Z"
   },
   {
    "duration": 34,
    "start_time": "2021-10-29T18:04:33.213Z"
   },
   {
    "duration": 32,
    "start_time": "2021-10-29T18:05:17.075Z"
   },
   {
    "duration": 5,
    "start_time": "2021-10-29T18:13:11.037Z"
   },
   {
    "duration": 28,
    "start_time": "2021-10-29T18:16:18.224Z"
   },
   {
    "duration": 5,
    "start_time": "2021-10-29T18:16:31.421Z"
   },
   {
    "duration": 32,
    "start_time": "2021-10-29T18:23:29.470Z"
   },
   {
    "duration": 32,
    "start_time": "2021-10-29T18:24:47.202Z"
   },
   {
    "duration": 32,
    "start_time": "2021-10-29T18:36:12.835Z"
   },
   {
    "duration": 7091,
    "start_time": "2021-10-29T18:36:27.596Z"
   },
   {
    "duration": -375,
    "start_time": "2021-10-29T18:36:35.066Z"
   },
   {
    "duration": 32,
    "start_time": "2021-10-29T18:36:35.007Z"
   },
   {
    "duration": 7956,
    "start_time": "2021-10-29T18:42:37.229Z"
   },
   {
    "duration": 31,
    "start_time": "2021-10-29T18:43:12.791Z"
   },
   {
    "duration": 24,
    "start_time": "2021-10-29T18:52:52.036Z"
   },
   {
    "duration": 32,
    "start_time": "2021-10-29T18:52:56.659Z"
   },
   {
    "duration": 282,
    "start_time": "2021-10-30T16:02:27.427Z"
   },
   {
    "duration": 275,
    "start_time": "2021-10-30T16:03:23.630Z"
   },
   {
    "duration": 281,
    "start_time": "2021-10-30T16:04:02.763Z"
   },
   {
    "duration": 575,
    "start_time": "2021-10-30T16:05:03.919Z"
   },
   {
    "duration": 3,
    "start_time": "2021-10-30T16:05:11.520Z"
   },
   {
    "duration": 251,
    "start_time": "2021-10-30T16:12:02.213Z"
   },
   {
    "duration": 548,
    "start_time": "2021-10-30T16:19:17.408Z"
   },
   {
    "duration": 137,
    "start_time": "2021-10-30T16:19:22.295Z"
   },
   {
    "duration": 17,
    "start_time": "2021-10-30T16:19:25.412Z"
   },
   {
    "duration": 23,
    "start_time": "2021-10-30T16:19:28.989Z"
   },
   {
    "duration": 4,
    "start_time": "2021-10-30T16:19:32.566Z"
   },
   {
    "duration": 23,
    "start_time": "2021-10-30T16:19:41.481Z"
   },
   {
    "duration": 5,
    "start_time": "2021-10-30T16:19:44.245Z"
   },
   {
    "duration": 23,
    "start_time": "2021-10-30T16:19:47.228Z"
   },
   {
    "duration": 17,
    "start_time": "2021-10-30T16:19:50.876Z"
   },
   {
    "duration": 23,
    "start_time": "2021-10-30T16:19:53.275Z"
   },
   {
    "duration": 55,
    "start_time": "2021-10-30T16:19:56.531Z"
   },
   {
    "duration": 78,
    "start_time": "2021-10-30T16:20:01.305Z"
   },
   {
    "duration": 58,
    "start_time": "2021-10-30T16:21:49.143Z"
   },
   {
    "duration": 65,
    "start_time": "2021-10-30T16:22:56.388Z"
   },
   {
    "duration": 57,
    "start_time": "2021-10-30T16:23:01.279Z"
   },
   {
    "duration": 76,
    "start_time": "2021-10-30T16:25:20.469Z"
   },
   {
    "duration": 59,
    "start_time": "2021-10-30T16:25:37.360Z"
   },
   {
    "duration": 71,
    "start_time": "2021-10-30T16:26:13.432Z"
   },
   {
    "duration": 50,
    "start_time": "2021-10-30T16:26:17.182Z"
   },
   {
    "duration": 7,
    "start_time": "2021-10-30T16:27:55.719Z"
   },
   {
    "duration": 41,
    "start_time": "2021-10-30T16:30:09.991Z"
   },
   {
    "duration": 3,
    "start_time": "2021-10-30T16:43:41.979Z"
   },
   {
    "duration": 282,
    "start_time": "2021-10-30T16:43:45.249Z"
   },
   {
    "duration": 3,
    "start_time": "2021-10-30T16:52:18.804Z"
   },
   {
    "duration": 237,
    "start_time": "2021-10-30T16:52:21.557Z"
   },
   {
    "duration": 3,
    "start_time": "2021-10-30T16:54:46.297Z"
   },
   {
    "duration": 246,
    "start_time": "2021-10-30T16:54:48.916Z"
   },
   {
    "duration": 234,
    "start_time": "2021-10-30T16:56:59.427Z"
   },
   {
    "duration": 239,
    "start_time": "2021-10-30T16:57:50.529Z"
   },
   {
    "duration": 14,
    "start_time": "2021-10-30T16:58:14.462Z"
   },
   {
    "duration": 36,
    "start_time": "2021-10-30T16:58:46.149Z"
   },
   {
    "duration": 34,
    "start_time": "2021-10-30T17:05:02.321Z"
   },
   {
    "duration": 32,
    "start_time": "2021-10-30T17:06:32.922Z"
   },
   {
    "duration": 4,
    "start_time": "2021-10-30T17:18:07.942Z"
   },
   {
    "duration": 274,
    "start_time": "2021-10-30T17:18:45.010Z"
   },
   {
    "duration": 4,
    "start_time": "2021-10-30T17:21:02.447Z"
   },
   {
    "duration": 253,
    "start_time": "2021-10-30T17:21:04.892Z"
   },
   {
    "duration": 21,
    "start_time": "2021-10-30T17:26:29.441Z"
   },
   {
    "duration": 21,
    "start_time": "2021-10-30T17:27:10.319Z"
   },
   {
    "duration": 16,
    "start_time": "2021-10-30T17:29:31.614Z"
   },
   {
    "duration": 4,
    "start_time": "2021-10-30T17:29:38.235Z"
   },
   {
    "duration": 23,
    "start_time": "2021-10-30T17:29:41.269Z"
   },
   {
    "duration": 23,
    "start_time": "2021-10-30T17:29:43.787Z"
   },
   {
    "duration": 9,
    "start_time": "2021-10-30T17:32:06.539Z"
   },
   {
    "duration": 13,
    "start_time": "2021-10-30T17:34:11.885Z"
   },
   {
    "duration": 13,
    "start_time": "2021-10-30T17:34:24.342Z"
   },
   {
    "duration": 14,
    "start_time": "2021-10-30T17:34:27.629Z"
   },
   {
    "duration": 14,
    "start_time": "2021-10-30T17:34:34.251Z"
   },
   {
    "duration": 14,
    "start_time": "2021-10-30T17:34:43.292Z"
   },
   {
    "duration": 23,
    "start_time": "2021-10-30T18:21:49.198Z"
   },
   {
    "duration": 393,
    "start_time": "2021-10-30T18:21:53.480Z"
   },
   {
    "duration": 5,
    "start_time": "2021-10-30T18:22:02.637Z"
   },
   {
    "duration": 23,
    "start_time": "2021-10-30T18:22:05.526Z"
   },
   {
    "duration": 22,
    "start_time": "2021-10-30T18:35:16.260Z"
   },
   {
    "duration": 19,
    "start_time": "2021-10-30T18:35:49.537Z"
   },
   {
    "duration": 15,
    "start_time": "2021-10-30T18:35:56.584Z"
   },
   {
    "duration": 16,
    "start_time": "2021-10-30T18:36:01.196Z"
   },
   {
    "duration": 16,
    "start_time": "2021-10-30T18:36:22.947Z"
   },
   {
    "duration": 15,
    "start_time": "2021-10-30T18:36:53.278Z"
   },
   {
    "duration": 19,
    "start_time": "2021-10-30T18:37:30.693Z"
   },
   {
    "duration": 16,
    "start_time": "2021-10-30T18:37:48.436Z"
   },
   {
    "duration": 254,
    "start_time": "2021-10-30T18:42:47.984Z"
   },
   {
    "duration": 271,
    "start_time": "2021-10-30T18:47:07.816Z"
   },
   {
    "duration": 259,
    "start_time": "2021-10-30T18:47:13.178Z"
   },
   {
    "duration": 252,
    "start_time": "2021-10-30T18:50:27.219Z"
   },
   {
    "duration": 258,
    "start_time": "2021-10-30T18:50:44.753Z"
   },
   {
    "duration": 8,
    "start_time": "2021-10-30T18:56:14.253Z"
   },
   {
    "duration": 7,
    "start_time": "2021-10-30T18:56:20.962Z"
   },
   {
    "duration": 244,
    "start_time": "2021-10-30T18:56:57.766Z"
   },
   {
    "duration": 9,
    "start_time": "2021-10-30T18:57:23.300Z"
   },
   {
    "duration": 84,
    "start_time": "2021-10-30T19:03:52.341Z"
   },
   {
    "duration": 12,
    "start_time": "2021-10-30T19:04:03.423Z"
   },
   {
    "duration": 13,
    "start_time": "2021-10-30T19:04:06.203Z"
   },
   {
    "duration": 22,
    "start_time": "2021-10-30T19:04:22.937Z"
   },
   {
    "duration": 13,
    "start_time": "2021-10-30T19:04:43.644Z"
   },
   {
    "duration": 4,
    "start_time": "2021-10-30T19:20:16.321Z"
   },
   {
    "duration": 17,
    "start_time": "2021-10-30T19:21:39.813Z"
   },
   {
    "duration": 17,
    "start_time": "2021-10-30T19:21:59.569Z"
   },
   {
    "duration": 17,
    "start_time": "2021-10-30T19:25:02.531Z"
   },
   {
    "duration": 252,
    "start_time": "2021-10-30T19:25:13.240Z"
   },
   {
    "duration": 230,
    "start_time": "2021-10-30T19:25:27.837Z"
   },
   {
    "duration": 13,
    "start_time": "2021-10-30T19:26:02.015Z"
   },
   {
    "duration": 14,
    "start_time": "2021-10-30T19:26:06.443Z"
   },
   {
    "duration": 18,
    "start_time": "2021-10-30T19:26:26.597Z"
   },
   {
    "duration": 13,
    "start_time": "2021-10-30T19:26:48.130Z"
   },
   {
    "duration": 7048,
    "start_time": "2021-10-30T19:31:41.247Z"
   },
   {
    "duration": 9,
    "start_time": "2021-10-30T19:35:04.383Z"
   },
   {
    "duration": 12,
    "start_time": "2021-10-30T19:35:08.075Z"
   },
   {
    "duration": 6,
    "start_time": "2021-10-30T19:35:35.957Z"
   },
   {
    "duration": 7,
    "start_time": "2021-10-30T19:37:27.223Z"
   },
   {
    "duration": 5,
    "start_time": "2021-10-30T19:37:58.740Z"
   },
   {
    "duration": 6,
    "start_time": "2021-10-30T19:38:18.988Z"
   },
   {
    "duration": 844,
    "start_time": "2021-10-30T19:41:21.251Z"
   },
   {
    "duration": 238,
    "start_time": "2021-10-30T19:41:36.819Z"
   },
   {
    "duration": 580,
    "start_time": "2021-10-30T19:41:45.895Z"
   },
   {
    "duration": 154,
    "start_time": "2021-10-30T19:41:49.800Z"
   },
   {
    "duration": 17,
    "start_time": "2021-10-30T19:41:52.500Z"
   },
   {
    "duration": 616,
    "start_time": "2021-10-30T19:42:13.655Z"
   },
   {
    "duration": 204,
    "start_time": "2021-10-30T19:42:17.768Z"
   },
   {
    "duration": 16,
    "start_time": "2021-10-30T19:42:20.728Z"
   },
   {
    "duration": 30,
    "start_time": "2021-10-30T19:42:27.474Z"
   },
   {
    "duration": 4,
    "start_time": "2021-10-30T19:42:34.823Z"
   },
   {
    "duration": 24,
    "start_time": "2021-10-30T19:42:44.118Z"
   },
   {
    "duration": 4,
    "start_time": "2021-10-30T19:42:48.010Z"
   },
   {
    "duration": 22,
    "start_time": "2021-10-30T19:42:52.189Z"
   },
   {
    "duration": 21,
    "start_time": "2021-10-30T19:43:01.986Z"
   },
   {
    "duration": 25,
    "start_time": "2021-10-30T19:43:10.111Z"
   },
   {
    "duration": 59,
    "start_time": "2021-10-30T19:43:14.106Z"
   },
   {
    "duration": 80,
    "start_time": "2021-10-30T19:43:20.812Z"
   },
   {
    "duration": 55,
    "start_time": "2021-10-30T19:43:26.023Z"
   },
   {
    "duration": 40,
    "start_time": "2021-10-30T19:43:30.788Z"
   },
   {
    "duration": 4,
    "start_time": "2021-10-30T19:43:40.563Z"
   },
   {
    "duration": 15,
    "start_time": "2021-10-30T19:43:54.875Z"
   },
   {
    "duration": 49,
    "start_time": "2021-10-30T19:43:58.385Z"
   },
   {
    "duration": 54,
    "start_time": "2021-10-30T19:44:03.647Z"
   },
   {
    "duration": 35,
    "start_time": "2021-10-30T19:44:10.028Z"
   },
   {
    "duration": 3,
    "start_time": "2021-10-30T19:44:16.045Z"
   },
   {
    "duration": 18,
    "start_time": "2021-10-30T19:44:19.499Z"
   },
   {
    "duration": 18,
    "start_time": "2021-10-30T19:44:24.098Z"
   },
   {
    "duration": 17,
    "start_time": "2021-10-30T19:44:27.680Z"
   },
   {
    "duration": 22,
    "start_time": "2021-10-30T19:44:29.896Z"
   },
   {
    "duration": 24,
    "start_time": "2021-10-30T19:44:34.758Z"
   },
   {
    "duration": 25,
    "start_time": "2021-10-30T19:44:37.119Z"
   },
   {
    "duration": 9,
    "start_time": "2021-10-30T19:44:43.942Z"
   },
   {
    "duration": 17,
    "start_time": "2021-10-30T19:44:50.363Z"
   },
   {
    "duration": 14,
    "start_time": "2021-10-30T19:44:52.625Z"
   },
   {
    "duration": 5,
    "start_time": "2021-10-30T19:44:56.874Z"
   },
   {
    "duration": 20,
    "start_time": "2021-10-30T19:45:01.042Z"
   },
   {
    "duration": 15,
    "start_time": "2021-10-30T19:45:03.461Z"
   },
   {
    "duration": 20,
    "start_time": "2021-10-30T19:45:05.682Z"
   },
   {
    "duration": 14,
    "start_time": "2021-10-30T19:45:07.727Z"
   },
   {
    "duration": 8,
    "start_time": "2021-10-30T19:45:13.352Z"
   },
   {
    "duration": 6,
    "start_time": "2021-10-30T19:45:16.786Z"
   },
   {
    "duration": 7,
    "start_time": "2021-10-30T19:45:20.291Z"
   },
   {
    "duration": 7,
    "start_time": "2021-10-30T19:45:23.345Z"
   },
   {
    "duration": 3,
    "start_time": "2021-10-30T19:46:05.062Z"
   },
   {
    "duration": 178,
    "start_time": "2021-10-30T19:46:05.067Z"
   },
   {
    "duration": 18,
    "start_time": "2021-10-30T19:46:05.247Z"
   },
   {
    "duration": 32,
    "start_time": "2021-10-30T19:46:05.267Z"
   },
   {
    "duration": 5,
    "start_time": "2021-10-30T19:46:05.301Z"
   },
   {
    "duration": 25,
    "start_time": "2021-10-30T19:46:05.307Z"
   },
   {
    "duration": 3,
    "start_time": "2021-10-30T19:46:05.334Z"
   },
   {
    "duration": 30,
    "start_time": "2021-10-30T19:46:05.364Z"
   },
   {
    "duration": 17,
    "start_time": "2021-10-30T19:46:05.397Z"
   },
   {
    "duration": 52,
    "start_time": "2021-10-30T19:46:05.416Z"
   },
   {
    "duration": 60,
    "start_time": "2021-10-30T19:46:05.470Z"
   },
   {
    "duration": 85,
    "start_time": "2021-10-30T19:46:05.532Z"
   },
   {
    "duration": 60,
    "start_time": "2021-10-30T19:46:05.619Z"
   },
   {
    "duration": 40,
    "start_time": "2021-10-30T19:46:05.681Z"
   },
   {
    "duration": 8,
    "start_time": "2021-10-30T19:46:05.722Z"
   },
   {
    "duration": 17,
    "start_time": "2021-10-30T19:46:05.732Z"
   },
   {
    "duration": 56,
    "start_time": "2021-10-30T19:46:05.751Z"
   },
   {
    "duration": 32,
    "start_time": "2021-10-30T19:46:05.809Z"
   },
   {
    "duration": 56,
    "start_time": "2021-10-30T19:46:05.843Z"
   },
   {
    "duration": 3,
    "start_time": "2021-10-30T19:46:05.901Z"
   },
   {
    "duration": 30,
    "start_time": "2021-10-30T19:46:05.906Z"
   },
   {
    "duration": 30,
    "start_time": "2021-10-30T19:46:05.938Z"
   },
   {
    "duration": 31,
    "start_time": "2021-10-30T19:46:05.971Z"
   },
   {
    "duration": 13,
    "start_time": "2021-10-30T19:46:06.004Z"
   },
   {
    "duration": 54,
    "start_time": "2021-10-30T19:46:06.019Z"
   },
   {
    "duration": 30,
    "start_time": "2021-10-30T19:46:06.074Z"
   },
   {
    "duration": 15,
    "start_time": "2021-10-30T19:46:06.106Z"
   },
   {
    "duration": 23,
    "start_time": "2021-10-30T19:46:06.123Z"
   },
   {
    "duration": 22,
    "start_time": "2021-10-30T19:46:06.147Z"
   },
   {
    "duration": 22,
    "start_time": "2021-10-30T19:46:06.172Z"
   },
   {
    "duration": 36,
    "start_time": "2021-10-30T19:46:06.196Z"
   },
   {
    "duration": 53,
    "start_time": "2021-10-30T19:46:06.234Z"
   },
   {
    "duration": 32,
    "start_time": "2021-10-30T19:46:06.289Z"
   },
   {
    "duration": 19,
    "start_time": "2021-10-30T19:46:06.323Z"
   },
   {
    "duration": 10,
    "start_time": "2021-10-30T19:46:06.344Z"
   },
   {
    "duration": 12,
    "start_time": "2021-10-30T19:46:06.355Z"
   },
   {
    "duration": 21,
    "start_time": "2021-10-30T19:46:06.368Z"
   },
   {
    "duration": 10,
    "start_time": "2021-10-30T19:46:06.391Z"
   },
   {
    "duration": 601,
    "start_time": "2021-10-30T19:46:28.893Z"
   },
   {
    "duration": 159,
    "start_time": "2021-10-30T19:46:29.496Z"
   },
   {
    "duration": 19,
    "start_time": "2021-10-30T19:46:29.656Z"
   },
   {
    "duration": 30,
    "start_time": "2021-10-30T19:46:29.678Z"
   },
   {
    "duration": 5,
    "start_time": "2021-10-30T19:46:29.711Z"
   },
   {
    "duration": 52,
    "start_time": "2021-10-30T19:46:29.718Z"
   },
   {
    "duration": 5,
    "start_time": "2021-10-30T19:46:29.773Z"
   },
   {
    "duration": 28,
    "start_time": "2021-10-30T19:46:29.784Z"
   },
   {
    "duration": 19,
    "start_time": "2021-10-30T19:46:29.814Z"
   },
   {
    "duration": 60,
    "start_time": "2021-10-30T19:46:29.835Z"
   },
   {
    "duration": 97,
    "start_time": "2021-10-30T19:46:29.897Z"
   },
   {
    "duration": 128,
    "start_time": "2021-10-30T19:46:29.996Z"
   },
   {
    "duration": 85,
    "start_time": "2021-10-30T19:46:30.127Z"
   },
   {
    "duration": 78,
    "start_time": "2021-10-30T19:46:30.214Z"
   },
   {
    "duration": 3,
    "start_time": "2021-10-30T19:46:30.294Z"
   },
   {
    "duration": 31,
    "start_time": "2021-10-30T19:46:30.299Z"
   },
   {
    "duration": 73,
    "start_time": "2021-10-30T19:46:30.332Z"
   },
   {
    "duration": 67,
    "start_time": "2021-10-30T19:46:30.407Z"
   },
   {
    "duration": 54,
    "start_time": "2021-10-30T19:46:30.476Z"
   },
   {
    "duration": 5,
    "start_time": "2021-10-30T19:46:30.532Z"
   },
   {
    "duration": 44,
    "start_time": "2021-10-30T19:46:30.539Z"
   },
   {
    "duration": 24,
    "start_time": "2021-10-30T19:46:30.585Z"
   },
   {
    "duration": 38,
    "start_time": "2021-10-30T19:46:30.613Z"
   },
   {
    "duration": 28,
    "start_time": "2021-10-30T19:46:30.654Z"
   },
   {
    "duration": 21,
    "start_time": "2021-10-30T19:46:30.684Z"
   },
   {
    "duration": 20,
    "start_time": "2021-10-30T19:46:30.707Z"
   },
   {
    "duration": 34,
    "start_time": "2021-10-30T19:46:30.729Z"
   },
   {
    "duration": 15,
    "start_time": "2021-10-30T19:46:30.766Z"
   },
   {
    "duration": 55,
    "start_time": "2021-10-30T19:46:30.783Z"
   },
   {
    "duration": 22,
    "start_time": "2021-10-30T19:46:30.848Z"
   },
   {
    "duration": 62,
    "start_time": "2021-10-30T19:46:30.872Z"
   },
   {
    "duration": 33,
    "start_time": "2021-10-30T19:46:30.937Z"
   },
   {
    "duration": 48,
    "start_time": "2021-10-30T19:46:30.972Z"
   },
   {
    "duration": 20,
    "start_time": "2021-10-30T19:46:31.025Z"
   },
   {
    "duration": 9,
    "start_time": "2021-10-30T19:46:31.047Z"
   },
   {
    "duration": 9,
    "start_time": "2021-10-30T19:46:31.058Z"
   },
   {
    "duration": 19,
    "start_time": "2021-10-30T19:46:31.070Z"
   },
   {
    "duration": 26,
    "start_time": "2021-10-30T19:46:31.092Z"
   },
   {
    "duration": 5,
    "start_time": "2021-10-30T19:48:45.396Z"
   },
   {
    "duration": 5,
    "start_time": "2021-10-30T19:49:07.813Z"
   },
   {
    "duration": 620,
    "start_time": "2021-10-30T19:49:19.493Z"
   },
   {
    "duration": 162,
    "start_time": "2021-10-30T19:49:20.115Z"
   },
   {
    "duration": 18,
    "start_time": "2021-10-30T19:49:20.280Z"
   },
   {
    "duration": 25,
    "start_time": "2021-10-30T19:49:20.300Z"
   },
   {
    "duration": 4,
    "start_time": "2021-10-30T19:49:20.327Z"
   },
   {
    "duration": 54,
    "start_time": "2021-10-30T19:49:20.333Z"
   },
   {
    "duration": 4,
    "start_time": "2021-10-30T19:49:20.389Z"
   },
   {
    "duration": 23,
    "start_time": "2021-10-30T19:49:20.396Z"
   },
   {
    "duration": 18,
    "start_time": "2021-10-30T19:49:20.421Z"
   },
   {
    "duration": 30,
    "start_time": "2021-10-30T19:49:20.463Z"
   },
   {
    "duration": 73,
    "start_time": "2021-10-30T19:49:20.495Z"
   },
   {
    "duration": 69,
    "start_time": "2021-10-30T19:49:20.569Z"
   },
   {
    "duration": 72,
    "start_time": "2021-10-30T19:49:20.639Z"
   },
   {
    "duration": 37,
    "start_time": "2021-10-30T19:49:20.713Z"
   },
   {
    "duration": 12,
    "start_time": "2021-10-30T19:49:20.752Z"
   },
   {
    "duration": 19,
    "start_time": "2021-10-30T19:49:20.766Z"
   },
   {
    "duration": 39,
    "start_time": "2021-10-30T19:49:20.787Z"
   },
   {
    "duration": 59,
    "start_time": "2021-10-30T19:49:20.828Z"
   },
   {
    "duration": 37,
    "start_time": "2021-10-30T19:49:20.889Z"
   },
   {
    "duration": 4,
    "start_time": "2021-10-30T19:49:20.928Z"
   },
   {
    "duration": 35,
    "start_time": "2021-10-30T19:49:20.935Z"
   },
   {
    "duration": 19,
    "start_time": "2021-10-30T19:49:20.973Z"
   },
   {
    "duration": 18,
    "start_time": "2021-10-30T19:49:20.995Z"
   },
   {
    "duration": 19,
    "start_time": "2021-10-30T19:49:21.015Z"
   },
   {
    "duration": 20,
    "start_time": "2021-10-30T19:49:21.063Z"
   },
   {
    "duration": 15,
    "start_time": "2021-10-30T19:49:21.085Z"
   },
   {
    "duration": 7,
    "start_time": "2021-10-30T19:49:21.102Z"
   },
   {
    "duration": 14,
    "start_time": "2021-10-30T19:49:21.110Z"
   },
   {
    "duration": 38,
    "start_time": "2021-10-30T19:49:21.125Z"
   },
   {
    "duration": 4,
    "start_time": "2021-10-30T19:49:21.165Z"
   },
   {
    "duration": 25,
    "start_time": "2021-10-30T19:49:21.171Z"
   },
   {
    "duration": 13,
    "start_time": "2021-10-30T19:49:21.198Z"
   },
   {
    "duration": 20,
    "start_time": "2021-10-30T19:49:21.212Z"
   },
   {
    "duration": 33,
    "start_time": "2021-10-30T19:49:21.233Z"
   },
   {
    "duration": 8,
    "start_time": "2021-10-30T19:49:21.268Z"
   },
   {
    "duration": 5,
    "start_time": "2021-10-30T19:49:21.278Z"
   },
   {
    "duration": 12,
    "start_time": "2021-10-30T19:49:21.284Z"
   },
   {
    "duration": 6,
    "start_time": "2021-10-30T19:49:21.297Z"
   },
   {
    "duration": 761,
    "start_time": "2021-10-31T14:12:59.408Z"
   },
   {
    "duration": 204,
    "start_time": "2021-10-31T14:13:00.172Z"
   },
   {
    "duration": 36,
    "start_time": "2021-10-31T14:13:00.379Z"
   },
   {
    "duration": 31,
    "start_time": "2021-10-31T14:13:00.418Z"
   },
   {
    "duration": 39,
    "start_time": "2021-10-31T14:13:00.452Z"
   },
   {
    "duration": 36,
    "start_time": "2021-10-31T14:13:00.494Z"
   },
   {
    "duration": 5,
    "start_time": "2021-10-31T14:13:00.532Z"
   },
   {
    "duration": 63,
    "start_time": "2021-10-31T14:13:00.541Z"
   },
   {
    "duration": 31,
    "start_time": "2021-10-31T14:13:00.608Z"
   },
   {
    "duration": 52,
    "start_time": "2021-10-31T14:13:00.641Z"
   },
   {
    "duration": 100,
    "start_time": "2021-10-31T14:13:00.697Z"
   },
   {
    "duration": 128,
    "start_time": "2021-10-31T14:13:00.800Z"
   },
   {
    "duration": 94,
    "start_time": "2021-10-31T14:13:00.930Z"
   },
   {
    "duration": 69,
    "start_time": "2021-10-31T14:13:01.027Z"
   },
   {
    "duration": 12,
    "start_time": "2021-10-31T14:13:01.099Z"
   },
   {
    "duration": 34,
    "start_time": "2021-10-31T14:13:01.114Z"
   },
   {
    "duration": 71,
    "start_time": "2021-10-31T14:13:01.150Z"
   },
   {
    "duration": 65,
    "start_time": "2021-10-31T14:13:01.223Z"
   },
   {
    "duration": 53,
    "start_time": "2021-10-31T14:13:01.291Z"
   },
   {
    "duration": 5,
    "start_time": "2021-10-31T14:13:01.346Z"
   },
   {
    "duration": 57,
    "start_time": "2021-10-31T14:13:01.353Z"
   },
   {
    "duration": 19,
    "start_time": "2021-10-31T14:13:01.413Z"
   },
   {
    "duration": 19,
    "start_time": "2021-10-31T14:13:01.437Z"
   },
   {
    "duration": 27,
    "start_time": "2021-10-31T14:13:01.487Z"
   },
   {
    "duration": 21,
    "start_time": "2021-10-31T14:13:01.516Z"
   },
   {
    "duration": 58,
    "start_time": "2021-10-31T14:13:01.539Z"
   },
   {
    "duration": 18,
    "start_time": "2021-10-31T14:13:01.600Z"
   },
   {
    "duration": 19,
    "start_time": "2021-10-31T14:13:01.620Z"
   },
   {
    "duration": 12,
    "start_time": "2021-10-31T14:13:01.641Z"
   },
   {
    "duration": 12,
    "start_time": "2021-10-31T14:13:01.655Z"
   },
   {
    "duration": 51,
    "start_time": "2021-10-31T14:13:01.670Z"
   },
   {
    "duration": 17,
    "start_time": "2021-10-31T14:13:01.724Z"
   },
   {
    "duration": 43,
    "start_time": "2021-10-31T14:13:01.744Z"
   },
   {
    "duration": 33,
    "start_time": "2021-10-31T14:13:01.790Z"
   },
   {
    "duration": 12,
    "start_time": "2021-10-31T14:13:01.825Z"
   },
   {
    "duration": 8,
    "start_time": "2021-10-31T14:13:01.840Z"
   },
   {
    "duration": 44,
    "start_time": "2021-10-31T14:13:01.851Z"
   },
   {
    "duration": 16,
    "start_time": "2021-10-31T14:13:01.898Z"
   },
   {
    "duration": 14,
    "start_time": "2021-10-31T14:22:49.806Z"
   }
  ],
  "colab": {
   "collapsed_sections": [
    "E0vqbgi9ay0H",
    "VUC88oWjTJw2"
   ],
   "name": "yandex_music_project_2021.2.ipynb",
   "provenance": []
  },
  "kernelspec": {
   "display_name": "Python 3",
   "language": "python",
   "name": "python3"
  },
  "language_info": {
   "codemirror_mode": {
    "name": "ipython",
    "version": 3
   },
   "file_extension": ".py",
   "mimetype": "text/x-python",
   "name": "python",
   "nbconvert_exporter": "python",
   "pygments_lexer": "ipython3",
   "version": "3.8.8"
  },
  "toc": {
   "base_numbering": 1,
   "nav_menu": {},
   "number_sections": true,
   "sideBar": true,
   "skip_h1_title": true,
   "title_cell": "Table of Contents",
   "title_sidebar": "Contents",
   "toc_cell": false,
   "toc_position": {},
   "toc_section_display": true,
   "toc_window_display": false
  }
 },
 "nbformat": 4,
 "nbformat_minor": 1
}
