{
 "cells": [
  {
   "cell_type": "markdown",
   "metadata": {},
   "source": [
    "# Анализ пограммы лояльности в сети строительных магазинов"
   ]
  },
  {
   "cell_type": "markdown",
   "metadata": {},
   "source": [
    "#### Материалы \n",
    "\n",
    "[Презентация](https://drive.google.com/file/d/1Ybwn_dYmRaWQbqpIHX5bcZuRcoZPtDwP/view?usp=sharing)\n",
    "\n",
    "[Дашборд](https://public.tableau.com/views/Final_dashboard_16535965523450/Dashboard1?:language=en-US&:display_count=n&:origin=viz_share_link)\n",
    " "
   ]
  },
  {
   "cell_type": "markdown",
   "metadata": {},
   "source": [
    "**Описание проекта**\n",
    "\n",
    "Заказчик данного исследования - сеть магазинов строительных материалов. В сети действует система скидок, специальных предложений и подарков для клиентов, стать участниками этой системы они могут за 200 рублей в месяц с использованием персональных карт.\n",
    "\n",
    "Наша задача проанализировать действующую в магазине программу лояльности.\n",
    "\n",
    "**Задачи проекта**\n",
    "\n",
    "**1. Предобработка данных** \n",
    "\n",
    " 1.1. Загрузка данных и изучение общей информации\n",
    "\n",
    "  1.2. Обработка типов данных\n",
    "\n",
    "  1.3. Проверка наличия пропусков и дуликатов\n",
    "\n",
    "**2. Исследовательский анализ данных** \n",
    "\n",
    " 2.1. Определить, данными за какой период мы располагаем\n",
    "\n",
    " 2.2. Объединение датафреймов retail_dataset и product_codes\n",
    "\n",
    " 2.3. Расчет основных метрик\n",
    " \n",
    "  Для всей сети без магазина shop 0 в разрезе покупатель участвует в программме лояльности/не участвует:\n",
    "  \n",
    "  - Общий объем продаж (выручка);\n",
    "  \n",
    "  - Количество покупок;\n",
    "  \n",
    "  - Средний чек;\n",
    "  \n",
    "  - Средняя выручка на 1 покупателя;\n",
    "  \n",
    "  - Среднее количество покупок в неделю на 1 покупателя;\n",
    "     \n",
    "  Для  магазина shop 0 в разрезе покупатель участвует в программме лояльности/не\n",
    "  участвует:\n",
    "  \n",
    "  \n",
    "  - Средний чек;\n",
    "  \n",
    "  - Средняя выручка на 1 покупателя;\n",
    "  \n",
    "  - Среднее количество покупок на 1 покупателя;\n",
    "    \n",
    "  - Количество покупателей.\n",
    "\n",
    " 2.4. Динамика среднего чека\n",
    "\n",
    " 2.5. Динамика количества покупок на 1 клиента\n",
    "\n",
    "**3. Статистический анализ данных** \n",
    "\n",
    " 3.1. Сформулировать и проверить статистические гипотезы о равенстве продаж для лояльных/\n",
    " нелояльных покупателей\n",
    " \n",
    "\n",
    "**4. Выводы**. Подвести итоги исследования, сделать выводы об эффективности программы лояльности, дать возможные рекомендации отделу маркетинга\n",
    "\n",
    "**Исходные данные**\n",
    "\n",
    "Файл retail_dataset.csv:\n",
    "\n",
    "- `purchaseId` — id чека;\n",
    "- `item_ID` — id товара;\n",
    "- `purchasedate` — дата покупки;\n",
    "- `Quantity` — количество товара;\n",
    "- `CustomerID` — id покупателя;\n",
    "- `ShopID` — id магазина;\n",
    "- `loyalty_program` — участвует ли покупатель в программе лояльности;\n",
    "\n",
    "Файл product_codes.csv:\n",
    "\n",
    "- `productID` — id товара;\n",
    "- `price_per_one` — стоимость одной единицы товара;"
   ]
  },
  {
   "cell_type": "markdown",
   "metadata": {},
   "source": [
    "## 1. Предобработка данных\n",
    "\n",
    "### 1.1. Загрузка данных и изучение общей информации"
   ]
  },
  {
   "cell_type": "code",
   "execution_count": 1,
   "metadata": {},
   "outputs": [],
   "source": [
    "# импорт библиотек\n",
    "import pandas as pd\n",
    "import datetime as dt\n",
    "import warnings\n",
    "import scipy.stats as stats\n",
    "from scipy import stats as st\n",
    "import seaborn as sns\n",
    "import matplotlib.pyplot as plt\n",
    "import numpy as np\n",
    "from datetime import datetime, timedelta"
   ]
  },
  {
   "cell_type": "code",
   "execution_count": 2,
   "metadata": {},
   "outputs": [
    {
     "data": {
      "text/html": [
       "<div>\n",
       "<style scoped>\n",
       "    .dataframe tbody tr th:only-of-type {\n",
       "        vertical-align: middle;\n",
       "    }\n",
       "\n",
       "    .dataframe tbody tr th {\n",
       "        vertical-align: top;\n",
       "    }\n",
       "\n",
       "    .dataframe thead th {\n",
       "        text-align: right;\n",
       "    }\n",
       "</style>\n",
       "<table border=\"1\" class=\"dataframe\">\n",
       "  <thead>\n",
       "    <tr style=\"text-align: right;\">\n",
       "      <th></th>\n",
       "      <th>purchaseid</th>\n",
       "      <th>item_ID</th>\n",
       "      <th>Quantity</th>\n",
       "      <th>purchasedate</th>\n",
       "      <th>CustomerID</th>\n",
       "      <th>ShopID</th>\n",
       "      <th>loyalty_program</th>\n",
       "    </tr>\n",
       "  </thead>\n",
       "  <tbody>\n",
       "    <tr>\n",
       "      <th>0</th>\n",
       "      <td>538280</td>\n",
       "      <td>21873</td>\n",
       "      <td>11</td>\n",
       "      <td>2016-12-10 12:50:00</td>\n",
       "      <td>18427.0</td>\n",
       "      <td>Shop 0</td>\n",
       "      <td>0.0</td>\n",
       "    </tr>\n",
       "    <tr>\n",
       "      <th>1</th>\n",
       "      <td>538862</td>\n",
       "      <td>22195</td>\n",
       "      <td>0</td>\n",
       "      <td>2016-12-14 14:11:00</td>\n",
       "      <td>22389.0</td>\n",
       "      <td>Shop 0</td>\n",
       "      <td>1.0</td>\n",
       "    </tr>\n",
       "    <tr>\n",
       "      <th>2</th>\n",
       "      <td>538855</td>\n",
       "      <td>21239</td>\n",
       "      <td>7</td>\n",
       "      <td>2016-12-14 13:50:00</td>\n",
       "      <td>22182.0</td>\n",
       "      <td>Shop 0</td>\n",
       "      <td>1.0</td>\n",
       "    </tr>\n",
       "    <tr>\n",
       "      <th>3</th>\n",
       "      <td>543543</td>\n",
       "      <td>22271</td>\n",
       "      <td>0</td>\n",
       "      <td>2017-02-09 15:33:00</td>\n",
       "      <td>23522.0</td>\n",
       "      <td>Shop 0</td>\n",
       "      <td>1.0</td>\n",
       "    </tr>\n",
       "    <tr>\n",
       "      <th>4</th>\n",
       "      <td>543812</td>\n",
       "      <td>79321</td>\n",
       "      <td>0</td>\n",
       "      <td>2017-02-13 14:40:00</td>\n",
       "      <td>23151.0</td>\n",
       "      <td>Shop 0</td>\n",
       "      <td>1.0</td>\n",
       "    </tr>\n",
       "  </tbody>\n",
       "</table>\n",
       "</div>"
      ],
      "text/plain": [
       "  purchaseid item_ID  Quantity         purchasedate  CustomerID  ShopID  \\\n",
       "0     538280   21873        11  2016-12-10 12:50:00     18427.0  Shop 0   \n",
       "1     538862   22195         0  2016-12-14 14:11:00     22389.0  Shop 0   \n",
       "2     538855   21239         7  2016-12-14 13:50:00     22182.0  Shop 0   \n",
       "3     543543   22271         0  2017-02-09 15:33:00     23522.0  Shop 0   \n",
       "4     543812   79321         0  2017-02-13 14:40:00     23151.0  Shop 0   \n",
       "\n",
       "   loyalty_program  \n",
       "0              0.0  \n",
       "1              1.0  \n",
       "2              1.0  \n",
       "3              1.0  \n",
       "4              1.0  "
      ]
     },
     "metadata": {},
     "output_type": "display_data"
    },
    {
     "data": {
      "text/html": [
       "<div>\n",
       "<style scoped>\n",
       "    .dataframe tbody tr th:only-of-type {\n",
       "        vertical-align: middle;\n",
       "    }\n",
       "\n",
       "    .dataframe tbody tr th {\n",
       "        vertical-align: top;\n",
       "    }\n",
       "\n",
       "    .dataframe thead th {\n",
       "        text-align: right;\n",
       "    }\n",
       "</style>\n",
       "<table border=\"1\" class=\"dataframe\">\n",
       "  <thead>\n",
       "    <tr style=\"text-align: right;\">\n",
       "      <th></th>\n",
       "      <th>productID</th>\n",
       "      <th>price_per_one</th>\n",
       "    </tr>\n",
       "  </thead>\n",
       "  <tbody>\n",
       "    <tr>\n",
       "      <th>0</th>\n",
       "      <td>85123A</td>\n",
       "      <td>2.55</td>\n",
       "    </tr>\n",
       "    <tr>\n",
       "      <th>1</th>\n",
       "      <td>71053</td>\n",
       "      <td>3.39</td>\n",
       "    </tr>\n",
       "    <tr>\n",
       "      <th>2</th>\n",
       "      <td>84406B</td>\n",
       "      <td>2.75</td>\n",
       "    </tr>\n",
       "    <tr>\n",
       "      <th>3</th>\n",
       "      <td>84029G</td>\n",
       "      <td>3.39</td>\n",
       "    </tr>\n",
       "    <tr>\n",
       "      <th>4</th>\n",
       "      <td>84029E</td>\n",
       "      <td>3.39</td>\n",
       "    </tr>\n",
       "  </tbody>\n",
       "</table>\n",
       "</div>"
      ],
      "text/plain": [
       "  productID  price_per_one\n",
       "0    85123A           2.55\n",
       "1     71053           3.39\n",
       "2    84406B           2.75\n",
       "3    84029G           3.39\n",
       "4    84029E           3.39"
      ]
     },
     "metadata": {},
     "output_type": "display_data"
    }
   ],
   "source": [
    "# чтение файлов с данными и запись в соответствующие переменные\n",
    "retail, product = (\n",
    "pd.read_csv('retail_dataset.csv'), \n",
    "pd.read_csv('product_codes.csv')\n",
    ")\n",
    "\n",
    "# выведем на экран датафреймы, чтобы познакомиться  с данными\n",
    "display(retail.head(5), product.head(5))"
   ]
  },
  {
   "cell_type": "markdown",
   "metadata": {},
   "source": [
    "Для удобства переименуем столбец item_ID датасета retail, чтобы в дальнейшем произвести объединение с датасетом product"
   ]
  },
  {
   "cell_type": "code",
   "execution_count": 3,
   "metadata": {},
   "outputs": [],
   "source": [
    "retail = retail.rename(columns={'item_ID':'productID'})"
   ]
  },
  {
   "cell_type": "markdown",
   "metadata": {},
   "source": [
    "Посмотрим на распределение значений в каждом столбце\n"
   ]
  },
  {
   "cell_type": "code",
   "execution_count": 4,
   "metadata": {},
   "outputs": [
    {
     "data": {
      "text/plain": [
       "[count     105335\n",
       " unique      4894\n",
       " top       537434\n",
       " freq         675\n",
       " Name: purchaseid, dtype: object,\n",
       " count     105335\n",
       " unique      3159\n",
       " top       85123A\n",
       " freq         565\n",
       " Name: productID, dtype: object,\n",
       " count    105335.000000\n",
       " mean          7.821218\n",
       " std         327.946695\n",
       " min      -74216.000000\n",
       " 25%           0.000000\n",
       " 50%           2.000000\n",
       " 75%           7.000000\n",
       " max       74214.000000\n",
       " Name: Quantity, dtype: float64,\n",
       " count                  105335\n",
       " unique                   4430\n",
       " top       2016-12-06 16:57:00\n",
       " freq                      675\n",
       " Name: purchasedate, dtype: object,\n",
       " count    69125.000000\n",
       " mean     21019.302047\n",
       " std       1765.444679\n",
       " min      18025.000000\n",
       " 25%      19544.000000\n",
       " 50%      20990.000000\n",
       " 75%      22659.000000\n",
       " max      23962.000000\n",
       " Name: CustomerID, dtype: float64,\n",
       " count     105335\n",
       " unique        31\n",
       " top       Shop 0\n",
       " freq       97393\n",
       " Name: ShopID, dtype: object,\n",
       " count    105335.000000\n",
       " mean          0.226345\n",
       " std           0.418467\n",
       " min           0.000000\n",
       " 25%           0.000000\n",
       " 50%           0.000000\n",
       " 75%           0.000000\n",
       " max           1.000000\n",
       " Name: loyalty_program, dtype: float64]"
      ]
     },
     "execution_count": 4,
     "metadata": {},
     "output_type": "execute_result"
    }
   ],
   "source": [
    "# список столбцов датафрейма retail\n",
    "columns_name = retail.columns\n",
    "\n",
    "# пройдеммся циклом по каждому столбцу и применим метод describe() для описнаия распределения значений\n",
    "[retail[i].describe() for i in columns_name]"
   ]
  },
  {
   "cell_type": "code",
   "execution_count": 5,
   "metadata": {},
   "outputs": [
    {
     "data": {
      "text/plain": [
       "count     9969.000000\n",
       "mean        19.503697\n",
       "std        330.880754\n",
       "min          0.000000\n",
       "25%          1.250000\n",
       "50%          2.550000\n",
       "75%          5.510000\n",
       "max      16888.020000\n",
       "Name: price_per_one, dtype: float64"
      ]
     },
     "execution_count": 5,
     "metadata": {},
     "output_type": "execute_result"
    }
   ],
   "source": [
    "# посмотрим на распределение значений по столбцу 'price_per_one' датафрейма product\n",
    "product['price_per_one'].describe()\n"
   ]
  },
  {
   "cell_type": "code",
   "execution_count": 6,
   "metadata": {},
   "outputs": [
    {
     "data": {
      "text/plain": [
       "<AxesSubplot:>"
      ]
     },
     "execution_count": 6,
     "metadata": {},
     "output_type": "execute_result"
    },
    {
     "data": {
      "image/png": "[encoded data removed]",
      "text/plain": [
       "<Figure size 432x288 with 1 Axes>"
      ]
     },
     "metadata": {
      "needs_background": "light"
     },
     "output_type": "display_data"
    }
   ],
   "source": [
    "product['price_per_one'].plot()"
   ]
  },
  {
   "cell_type": "markdown",
   "metadata": {},
   "source": [
    "Видим, что в столбце с количеством товара ('Quantity') четверть значений нулевые, это больше похоже на ошибку в данных, т.к. при бесплатной, например, передаче товара указывается нулевая сумма, а наименование и количество товара являются обязательными реквизитами чека. Удалим строки с нулевым количеством товара, т.к. на расчет выручки это никак не повлияет (при умножении цены товара на 0 будет 0), а подсчет количества покупок не будет искажен, если будут чеки только с позициями с нулевым количеством товара. \n",
    "Также минимальные и максимальные значения (-74216 и 74214) будем считать аномалиями и также уберем из анализа.\n",
    "А вот из датафрейма с ценами \"аномальные\" значения, которые за пределами 4-го квартиля удалять не будем,т.к. максимальная цена 16888 руб. за единицу товара вполне реальная история и такие даже редкие покупки могут значительно влиять на эффективность магазина.\n",
    "\n",
    "На графике распределения значений цен есть 4 сильно выбивающихся значения, очистим данные от них, чтобы они не искажали результаты."
   ]
  },
  {
   "cell_type": "code",
   "execution_count": 7,
   "metadata": {},
   "outputs": [],
   "source": [
    "# исключим из датафрейма retail строки с Quantity==0 и аномалии\n",
    "retail_2 = retail.query('Quantity!=0 and Quantity!=-74216 and Quantity!=74214')\n",
    "\n",
    "product = product.query('price_per_one < 2500')"
   ]
  },
  {
   "cell_type": "markdown",
   "metadata": {},
   "source": [
    "\n",
    "### 1.2. Обработка типов данных"
   ]
  },
  {
   "cell_type": "code",
   "execution_count": 8,
   "metadata": {},
   "outputs": [
    {
     "name": "stdout",
     "output_type": "stream",
     "text": [
      "<class 'pandas.core.frame.DataFrame'>\n",
      "Int64Index: 72278 entries, 0 to 105334\n",
      "Data columns (total 7 columns):\n",
      " #   Column           Non-Null Count  Dtype  \n",
      "---  ------           --------------  -----  \n",
      " 0   purchaseid       72278 non-null  object \n",
      " 1   productID        72278 non-null  object \n",
      " 2   Quantity         72278 non-null  int64  \n",
      " 3   purchasedate     72278 non-null  object \n",
      " 4   CustomerID       55971 non-null  float64\n",
      " 5   ShopID           72278 non-null  object \n",
      " 6   loyalty_program  72278 non-null  float64\n",
      "dtypes: float64(2), int64(1), object(4)\n",
      "memory usage: 4.4+ MB\n"
     ]
    },
    {
     "data": {
      "text/plain": [
       "None"
      ]
     },
     "metadata": {},
     "output_type": "display_data"
    },
    {
     "name": "stdout",
     "output_type": "stream",
     "text": [
      "<class 'pandas.core.frame.DataFrame'>\n",
      "Int64Index: 9961 entries, 0 to 9968\n",
      "Data columns (total 2 columns):\n",
      " #   Column         Non-Null Count  Dtype  \n",
      "---  ------         --------------  -----  \n",
      " 0   productID      9961 non-null   object \n",
      " 1   price_per_one  9961 non-null   float64\n",
      "dtypes: float64(1), object(1)\n",
      "memory usage: 233.5+ KB\n"
     ]
    },
    {
     "data": {
      "text/plain": [
       "None"
      ]
     },
     "metadata": {},
     "output_type": "display_data"
    }
   ],
   "source": [
    "# выведем общую информацию о данных, чтобы убедиться, что тип данных во всех колонках соотвествующий\n",
    "display(retail_2.info())\n",
    "display(product.info())"
   ]
  },
  {
   "cell_type": "markdown",
   "metadata": {},
   "source": [
    "Явно потребуется заменить тип для для столбца с датами  - purchasedate датафрейма retail в формат  datetime"
   ]
  },
  {
   "cell_type": "code",
   "execution_count": 9,
   "metadata": {},
   "outputs": [
    {
     "name": "stderr",
     "output_type": "stream",
     "text": [
      "/tmp/ipykernel_43/1606335224.py:2: SettingWithCopyWarning: \n",
      "A value is trying to be set on a copy of a slice from a DataFrame.\n",
      "Try using .loc[row_indexer,col_indexer] = value instead\n",
      "\n",
      "See the caveats in the documentation: https://pandas.pydata.org/pandas-docs/stable/user_guide/indexing.html#returning-a-view-versus-a-copy\n",
      "  retail_2['purchasedate'] = pd.to_datetime(retail_2['purchasedate'])\n"
     ]
    }
   ],
   "source": [
    "# преобразование в формат datetime\n",
    "retail_2['purchasedate'] = pd.to_datetime(retail_2['purchasedate'])\n",
    "\n"
   ]
  },
  {
   "cell_type": "markdown",
   "metadata": {},
   "source": [
    "\n",
    "### 1.3. Проверка наличия пропусков и дуликатов"
   ]
  },
  {
   "cell_type": "code",
   "execution_count": 10,
   "metadata": {},
   "outputs": [
    {
     "data": {
      "text/plain": [
       "purchaseid             0\n",
       "productID              0\n",
       "Quantity               0\n",
       "purchasedate           0\n",
       "CustomerID         16307\n",
       "ShopID                 0\n",
       "loyalty_program        0\n",
       "dtype: int64"
      ]
     },
     "metadata": {},
     "output_type": "display_data"
    },
    {
     "data": {
      "text/plain": [
       "productID        0\n",
       "price_per_one    0\n",
       "dtype: int64"
      ]
     },
     "metadata": {},
     "output_type": "display_data"
    }
   ],
   "source": [
    "# проверка пропусков методом isna()\n",
    "display(retail_2.isna().sum()) \n",
    "display(product.isna().sum())"
   ]
  },
  {
   "cell_type": "markdown",
   "metadata": {},
   "source": [
    "Много пропущенных значений в столбце  id покупателя (CustomerID), похожу на то, что это те покупатели, которые не участвуют в программе лояльнсти, проверим это предположение - подсчитаем сумму значений по столбцу 'loyalty_program' для всех позиций, для которых id покупателя пропущено:         "
   ]
  },
  {
   "cell_type": "code",
   "execution_count": 11,
   "metadata": {},
   "outputs": [
    {
     "data": {
      "text/plain": [
       "0.0"
      ]
     },
     "execution_count": 11,
     "metadata": {},
     "output_type": "execute_result"
    }
   ],
   "source": [
    "# подсчитаем сумму по столбцу loyalty_program\n",
    "retail_2.loc[retail_2['CustomerID'].isna()] ['loyalty_program'].sum()"
   ]
  },
  {
   "cell_type": "markdown",
   "metadata": {},
   "source": [
    "Т.к. 1 означает, что покупатель участвует в программе лояльности, а о - не участвует, а при подсчете суммы у нас получился результат равный 0, значит среди позиций с пропущенными значениями id покупателя нет покупателей, участвующих в программе лояльности. В данном случае эти пропуски - не ошибки в данных, удалять или заменять мы их не будем."
   ]
  },
  {
   "cell_type": "code",
   "execution_count": 12,
   "metadata": {},
   "outputs": [
    {
     "data": {
      "text/plain": [
       "340"
      ]
     },
     "metadata": {},
     "output_type": "display_data"
    },
    {
     "data": {
      "text/plain": [
       "0"
      ]
     },
     "metadata": {},
     "output_type": "display_data"
    }
   ],
   "source": [
    "# подсчет дубликатов\n",
    "display(retail_2.duplicated().sum())\n",
    "display(product.duplicated().sum())"
   ]
  },
  {
   "cell_type": "markdown",
   "metadata": {},
   "source": [
    "В датафрейме retail 340 дубликата, но т.к. строки в данном фрейме - это товары, то вполне возможно, что кассир просто таким образом пробивал покупки, поэтому не будем ничего удалять. "
   ]
  },
  {
   "cell_type": "markdown",
   "metadata": {},
   "source": [
    "## 2. Исследовательский анализ данных\n",
    "\n",
    "### 2.1. Период данных"
   ]
  },
  {
   "cell_type": "code",
   "execution_count": 13,
   "metadata": {},
   "outputs": [
    {
     "data": {
      "text/plain": [
       "Timestamp('2016-12-01 08:26:00')"
      ]
     },
     "metadata": {},
     "output_type": "display_data"
    },
    {
     "data": {
      "text/plain": [
       "Timestamp('2017-02-28 17:04:00')"
      ]
     },
     "metadata": {},
     "output_type": "display_data"
    }
   ],
   "source": [
    "# определение минимальной и максимальной даты\n",
    "display(retail_2['purchasedate'].min())\n",
    "display(retail_2['purchasedate'].max())"
   ]
  },
  {
   "cell_type": "markdown",
   "metadata": {},
   "source": [
    "Данные о покупках в датасете даны за 3 месяца - с 1 декабря 2016 года по 28 февраля 2017 года."
   ]
  },
  {
   "cell_type": "markdown",
   "metadata": {},
   "source": [
    "### 2.2. Объединение датафреймов retail_dataset и product_codes"
   ]
  },
  {
   "cell_type": "markdown",
   "metadata": {},
   "source": [
    "Для дальнейших расчетов нам потребуется объединить датасеты retail и product"
   ]
  },
  {
   "cell_type": "code",
   "execution_count": 14,
   "metadata": {},
   "outputs": [
    {
     "data": {
      "text/plain": [
       "6802"
      ]
     },
     "execution_count": 14,
     "metadata": {},
     "output_type": "execute_result"
    }
   ],
   "source": [
    "# проверка на уникальность id товаров\n",
    "product['productID'].duplicated().sum()"
   ]
  },
  {
   "cell_type": "markdown",
   "metadata": {},
   "source": [
    "Видим, что в таблице product id товара моежет соответствовать несколько вариантов цены, поэтому перед объединением фреймов нужно будет в product произвести группировку по id товара, чтобы получить пару: уникальный id товара - цена. \n",
    "\n",
    "Возьмем среднее значение цены, т.к. за 3 месяца цена менялась скорее всего совсем не значительно,а имеющиеся "
   ]
  },
  {
   "cell_type": "code",
   "execution_count": 15,
   "metadata": {},
   "outputs": [
    {
     "data": {
      "text/html": [
       "<div>\n",
       "<style scoped>\n",
       "    .dataframe tbody tr th:only-of-type {\n",
       "        vertical-align: middle;\n",
       "    }\n",
       "\n",
       "    .dataframe tbody tr th {\n",
       "        vertical-align: top;\n",
       "    }\n",
       "\n",
       "    .dataframe thead th {\n",
       "        text-align: right;\n",
       "    }\n",
       "</style>\n",
       "<table border=\"1\" class=\"dataframe\">\n",
       "  <thead>\n",
       "    <tr style=\"text-align: right;\">\n",
       "      <th></th>\n",
       "      <th>productID</th>\n",
       "      <th>price_per_one</th>\n",
       "    </tr>\n",
       "  </thead>\n",
       "  <tbody>\n",
       "    <tr>\n",
       "      <th>0</th>\n",
       "      <td>10002</td>\n",
       "      <td>1.63</td>\n",
       "    </tr>\n",
       "    <tr>\n",
       "      <th>1</th>\n",
       "      <td>10080</td>\n",
       "      <td>0.85</td>\n",
       "    </tr>\n",
       "    <tr>\n",
       "      <th>2</th>\n",
       "      <td>10120</td>\n",
       "      <td>0.21</td>\n",
       "    </tr>\n",
       "    <tr>\n",
       "      <th>3</th>\n",
       "      <td>10123C</td>\n",
       "      <td>0.65</td>\n",
       "    </tr>\n",
       "    <tr>\n",
       "      <th>4</th>\n",
       "      <td>10124A</td>\n",
       "      <td>0.42</td>\n",
       "    </tr>\n",
       "  </tbody>\n",
       "</table>\n",
       "</div>"
      ],
      "text/plain": [
       "  productID  price_per_one\n",
       "0     10002           1.63\n",
       "1     10080           0.85\n",
       "2     10120           0.21\n",
       "3    10123C           0.65\n",
       "4    10124A           0.42"
      ]
     },
     "execution_count": 15,
     "metadata": {},
     "output_type": "execute_result"
    }
   ],
   "source": [
    "product_grouped = product.pivot_table(index='productID', values='price_per_one', aggfunc='median').reset_index()\n",
    "product_grouped.head()"
   ]
  },
  {
   "cell_type": "code",
   "execution_count": 16,
   "metadata": {},
   "outputs": [
    {
     "data": {
      "text/html": [
       "<div>\n",
       "<style scoped>\n",
       "    .dataframe tbody tr th:only-of-type {\n",
       "        vertical-align: middle;\n",
       "    }\n",
       "\n",
       "    .dataframe tbody tr th {\n",
       "        vertical-align: top;\n",
       "    }\n",
       "\n",
       "    .dataframe thead th {\n",
       "        text-align: right;\n",
       "    }\n",
       "</style>\n",
       "<table border=\"1\" class=\"dataframe\">\n",
       "  <thead>\n",
       "    <tr style=\"text-align: right;\">\n",
       "      <th></th>\n",
       "      <th>purchaseid</th>\n",
       "      <th>productID</th>\n",
       "      <th>Quantity</th>\n",
       "      <th>purchasedate</th>\n",
       "      <th>CustomerID</th>\n",
       "      <th>ShopID</th>\n",
       "      <th>loyalty_program</th>\n",
       "      <th>price_per_one</th>\n",
       "    </tr>\n",
       "  </thead>\n",
       "  <tbody>\n",
       "    <tr>\n",
       "      <th>0</th>\n",
       "      <td>538280</td>\n",
       "      <td>21873</td>\n",
       "      <td>11</td>\n",
       "      <td>2016-12-10 12:50:00</td>\n",
       "      <td>18427.0</td>\n",
       "      <td>Shop 0</td>\n",
       "      <td>0.0</td>\n",
       "      <td>1.630</td>\n",
       "    </tr>\n",
       "    <tr>\n",
       "      <th>1</th>\n",
       "      <td>538855</td>\n",
       "      <td>21239</td>\n",
       "      <td>7</td>\n",
       "      <td>2016-12-14 13:50:00</td>\n",
       "      <td>22182.0</td>\n",
       "      <td>Shop 0</td>\n",
       "      <td>1.0</td>\n",
       "      <td>1.630</td>\n",
       "    </tr>\n",
       "    <tr>\n",
       "      <th>2</th>\n",
       "      <td>541424</td>\n",
       "      <td>79321</td>\n",
       "      <td>1</td>\n",
       "      <td>2017-01-17 17:57:00</td>\n",
       "      <td>NaN</td>\n",
       "      <td>Shop 0</td>\n",
       "      <td>0.0</td>\n",
       "      <td>5.750</td>\n",
       "    </tr>\n",
       "    <tr>\n",
       "      <th>3</th>\n",
       "      <td>537795</td>\n",
       "      <td>82494L</td>\n",
       "      <td>5</td>\n",
       "      <td>2016-12-08 13:03:00</td>\n",
       "      <td>22892.0</td>\n",
       "      <td>Shop 0</td>\n",
       "      <td>1.0</td>\n",
       "      <td>5.205</td>\n",
       "    </tr>\n",
       "    <tr>\n",
       "      <th>4</th>\n",
       "      <td>541696</td>\n",
       "      <td>22197</td>\n",
       "      <td>4</td>\n",
       "      <td>2017-01-20 18:08:00</td>\n",
       "      <td>NaN</td>\n",
       "      <td>Shop 0</td>\n",
       "      <td>0.0</td>\n",
       "      <td>1.240</td>\n",
       "    </tr>\n",
       "  </tbody>\n",
       "</table>\n",
       "</div>"
      ],
      "text/plain": [
       "  purchaseid productID  Quantity        purchasedate  CustomerID  ShopID  \\\n",
       "0     538280     21873        11 2016-12-10 12:50:00     18427.0  Shop 0   \n",
       "1     538855     21239         7 2016-12-14 13:50:00     22182.0  Shop 0   \n",
       "2     541424     79321         1 2017-01-17 17:57:00         NaN  Shop 0   \n",
       "3     537795    82494L         5 2016-12-08 13:03:00     22892.0  Shop 0   \n",
       "4     541696     22197         4 2017-01-20 18:08:00         NaN  Shop 0   \n",
       "\n",
       "   loyalty_program  price_per_one  \n",
       "0              0.0          1.630  \n",
       "1              1.0          1.630  \n",
       "2              0.0          5.750  \n",
       "3              1.0          5.205  \n",
       "4              0.0          1.240  "
      ]
     },
     "execution_count": 16,
     "metadata": {},
     "output_type": "execute_result"
    }
   ],
   "source": [
    "# объединение датасетов\n",
    "data_full = pd.merge(retail_2, product_grouped, how='left', on='productID')\n",
    "data_full.head()"
   ]
  },
  {
   "cell_type": "markdown",
   "metadata": {},
   "source": [
    "### 2.3. Основные метрики"
   ]
  },
  {
   "cell_type": "markdown",
   "metadata": {},
   "source": [
    "Чтобы проследить закономерности в данных анализировать будем показатели отдельно для покупателей, участвующих в программе лояльности и для тех, кто не участвует.\n",
    "\n",
    "#### 2.3.1. Общий объем продаж\n",
    "\n",
    "Для начала посмотрим на общий объем продаж - посчитаем выручку."
   ]
  },
  {
   "cell_type": "code",
   "execution_count": 17,
   "metadata": {},
   "outputs": [
    {
     "data": {
      "text/plain": [
       "2165246.895"
      ]
     },
     "execution_count": 17,
     "metadata": {},
     "output_type": "execute_result"
    }
   ],
   "source": [
    "# добавление столбца с выручкой\n",
    "data_full['revenue'] = data_full['Quantity'] * data_full['price_per_one']\n",
    "# общая выручка по всем клиентам сети\n",
    "data_full['revenue'].sum()"
   ]
  },
  {
   "cell_type": "code",
   "execution_count": 18,
   "metadata": {},
   "outputs": [
    {
     "data": {
      "text/plain": [
       "172690.18"
      ]
     },
     "execution_count": 18,
     "metadata": {},
     "output_type": "execute_result"
    }
   ],
   "source": [
    "# выручка по клиентам без id\n",
    "data_full.loc[data_full['CustomerID'].isna()]['revenue'].sum() "
   ]
  },
  {
   "cell_type": "code",
   "execution_count": 19,
   "metadata": {},
   "outputs": [
    {
     "data": {
      "text/plain": [
       "7.98"
      ]
     },
     "execution_count": 19,
     "metadata": {},
     "output_type": "execute_result"
    }
   ],
   "source": [
    "# доля выручки клиентов без id\n",
    "wo_id_share = round((data_full.loc[data_full['CustomerID'].isna()]['revenue'].sum() / data_full['revenue'].sum()*100),2)\n",
    "wo_id_share"
   ]
  },
  {
   "cell_type": "markdown",
   "metadata": {},
   "source": [
    "Выручка по клиентам без id всего 2% от общего объема продаж, поэтому не будем исключать этих клиентов из расчетов - на результат эти данные все равно не повлияют."
   ]
  },
  {
   "cell_type": "code",
   "execution_count": 20,
   "metadata": {},
   "outputs": [
    {
     "data": {
      "text/html": [
       "<div>\n",
       "<style scoped>\n",
       "    .dataframe tbody tr th:only-of-type {\n",
       "        vertical-align: middle;\n",
       "    }\n",
       "\n",
       "    .dataframe tbody tr th {\n",
       "        vertical-align: top;\n",
       "    }\n",
       "\n",
       "    .dataframe thead th {\n",
       "        text-align: right;\n",
       "    }\n",
       "</style>\n",
       "<table border=\"1\" class=\"dataframe\">\n",
       "  <thead>\n",
       "    <tr style=\"text-align: right;\">\n",
       "      <th></th>\n",
       "      <th>loyalty_program</th>\n",
       "      <th>revenue</th>\n",
       "    </tr>\n",
       "  </thead>\n",
       "  <tbody>\n",
       "    <tr>\n",
       "      <th>0</th>\n",
       "      <td>0.0</td>\n",
       "      <td>1591385.375</td>\n",
       "    </tr>\n",
       "    <tr>\n",
       "      <th>1</th>\n",
       "      <td>1.0</td>\n",
       "      <td>573861.520</td>\n",
       "    </tr>\n",
       "  </tbody>\n",
       "</table>\n",
       "</div>"
      ],
      "text/plain": [
       "   loyalty_program      revenue\n",
       "0              0.0  1591385.375\n",
       "1              1.0   573861.520"
      ]
     },
     "execution_count": 20,
     "metadata": {},
     "output_type": "execute_result"
    }
   ],
   "source": [
    "# группировка по 'loyalty_program'\n",
    "rev_per_lp = data_full.pivot_table(index='loyalty_program', values='revenue', aggfunc='sum').reset_index()\n",
    "rev_per_lp"
   ]
  },
  {
   "cell_type": "markdown",
   "metadata": {},
   "source": [
    "Общий объем выручки за 3 месяца для клиентов, не участвующих в программе лояльности стоставил 1,6 млн.руб., а для участвующих - почти в 2 раза меньше 574 тыс.руб. Пока результат выглядит неожиданно, но мы еще не посмотрели на соотношение количества покупателей в этих группах,возможно, большинство покупателей не участвует в программе лояльности.\n",
    "\n",
    "Посмотрим, как распределена выручка по магазинам сети."
   ]
  },
  {
   "cell_type": "code",
   "execution_count": 21,
   "metadata": {},
   "outputs": [
    {
     "data": {
      "text/html": [
       "<div>\n",
       "<style scoped>\n",
       "    .dataframe tbody tr th:only-of-type {\n",
       "        vertical-align: middle;\n",
       "    }\n",
       "\n",
       "    .dataframe tbody tr th {\n",
       "        vertical-align: top;\n",
       "    }\n",
       "\n",
       "    .dataframe thead th {\n",
       "        text-align: right;\n",
       "    }\n",
       "</style>\n",
       "<table border=\"1\" class=\"dataframe\">\n",
       "  <thead>\n",
       "    <tr style=\"text-align: right;\">\n",
       "      <th></th>\n",
       "      <th>ShopID</th>\n",
       "      <th>revenue</th>\n",
       "      <th>revenue_percent</th>\n",
       "    </tr>\n",
       "  </thead>\n",
       "  <tbody>\n",
       "    <tr>\n",
       "      <th>0</th>\n",
       "      <td>Shop 0</td>\n",
       "      <td>1742143.950</td>\n",
       "      <td>80.46</td>\n",
       "    </tr>\n",
       "    <tr>\n",
       "      <th>23</th>\n",
       "      <td>Shop 3</td>\n",
       "      <td>101963.465</td>\n",
       "      <td>4.71</td>\n",
       "    </tr>\n",
       "    <tr>\n",
       "      <th>27</th>\n",
       "      <td>Shop 6</td>\n",
       "      <td>55936.820</td>\n",
       "      <td>2.58</td>\n",
       "    </tr>\n",
       "    <tr>\n",
       "      <th>25</th>\n",
       "      <td>Shop 4</td>\n",
       "      <td>50635.565</td>\n",
       "      <td>2.34</td>\n",
       "    </tr>\n",
       "    <tr>\n",
       "      <th>1</th>\n",
       "      <td>Shop 1</td>\n",
       "      <td>48030.905</td>\n",
       "      <td>2.22</td>\n",
       "    </tr>\n",
       "    <tr>\n",
       "      <th>12</th>\n",
       "      <td>Shop 2</td>\n",
       "      <td>39485.245</td>\n",
       "      <td>1.82</td>\n",
       "    </tr>\n",
       "    <tr>\n",
       "      <th>6</th>\n",
       "      <td>Shop 14</td>\n",
       "      <td>22153.325</td>\n",
       "      <td>1.02</td>\n",
       "    </tr>\n",
       "    <tr>\n",
       "      <th>29</th>\n",
       "      <td>Shop 8</td>\n",
       "      <td>16971.025</td>\n",
       "      <td>0.78</td>\n",
       "    </tr>\n",
       "    <tr>\n",
       "      <th>28</th>\n",
       "      <td>Shop 7</td>\n",
       "      <td>11233.930</td>\n",
       "      <td>0.52</td>\n",
       "    </tr>\n",
       "    <tr>\n",
       "      <th>11</th>\n",
       "      <td>Shop 19</td>\n",
       "      <td>10249.600</td>\n",
       "      <td>0.47</td>\n",
       "    </tr>\n",
       "    <tr>\n",
       "      <th>2</th>\n",
       "      <td>Shop 10</td>\n",
       "      <td>9949.380</td>\n",
       "      <td>0.46</td>\n",
       "    </tr>\n",
       "    <tr>\n",
       "      <th>4</th>\n",
       "      <td>Shop 12</td>\n",
       "      <td>6813.930</td>\n",
       "      <td>0.31</td>\n",
       "    </tr>\n",
       "    <tr>\n",
       "      <th>10</th>\n",
       "      <td>Shop 18</td>\n",
       "      <td>6631.165</td>\n",
       "      <td>0.31</td>\n",
       "    </tr>\n",
       "    <tr>\n",
       "      <th>26</th>\n",
       "      <td>Shop 5</td>\n",
       "      <td>6202.610</td>\n",
       "      <td>0.29</td>\n",
       "    </tr>\n",
       "    <tr>\n",
       "      <th>3</th>\n",
       "      <td>Shop 11</td>\n",
       "      <td>4023.410</td>\n",
       "      <td>0.19</td>\n",
       "    </tr>\n",
       "    <tr>\n",
       "      <th>8</th>\n",
       "      <td>Shop 16</td>\n",
       "      <td>3828.300</td>\n",
       "      <td>0.18</td>\n",
       "    </tr>\n",
       "    <tr>\n",
       "      <th>17</th>\n",
       "      <td>Shop 24</td>\n",
       "      <td>3984.625</td>\n",
       "      <td>0.18</td>\n",
       "    </tr>\n",
       "    <tr>\n",
       "      <th>18</th>\n",
       "      <td>Shop 25</td>\n",
       "      <td>3433.865</td>\n",
       "      <td>0.16</td>\n",
       "    </tr>\n",
       "    <tr>\n",
       "      <th>15</th>\n",
       "      <td>Shop 22</td>\n",
       "      <td>3003.470</td>\n",
       "      <td>0.14</td>\n",
       "    </tr>\n",
       "    <tr>\n",
       "      <th>19</th>\n",
       "      <td>Shop 26</td>\n",
       "      <td>2775.590</td>\n",
       "      <td>0.13</td>\n",
       "    </tr>\n",
       "    <tr>\n",
       "      <th>5</th>\n",
       "      <td>Shop 13</td>\n",
       "      <td>2410.330</td>\n",
       "      <td>0.11</td>\n",
       "    </tr>\n",
       "    <tr>\n",
       "      <th>30</th>\n",
       "      <td>Shop 9</td>\n",
       "      <td>2415.115</td>\n",
       "      <td>0.11</td>\n",
       "    </tr>\n",
       "    <tr>\n",
       "      <th>20</th>\n",
       "      <td>Shop 27</td>\n",
       "      <td>2095.470</td>\n",
       "      <td>0.10</td>\n",
       "    </tr>\n",
       "    <tr>\n",
       "      <th>9</th>\n",
       "      <td>Shop 17</td>\n",
       "      <td>2236.450</td>\n",
       "      <td>0.10</td>\n",
       "    </tr>\n",
       "    <tr>\n",
       "      <th>7</th>\n",
       "      <td>Shop 15</td>\n",
       "      <td>1736.520</td>\n",
       "      <td>0.08</td>\n",
       "    </tr>\n",
       "    <tr>\n",
       "      <th>21</th>\n",
       "      <td>Shop 28</td>\n",
       "      <td>1621.895</td>\n",
       "      <td>0.07</td>\n",
       "    </tr>\n",
       "    <tr>\n",
       "      <th>14</th>\n",
       "      <td>Shop 21</td>\n",
       "      <td>1349.250</td>\n",
       "      <td>0.06</td>\n",
       "    </tr>\n",
       "    <tr>\n",
       "      <th>13</th>\n",
       "      <td>Shop 20</td>\n",
       "      <td>988.945</td>\n",
       "      <td>0.05</td>\n",
       "    </tr>\n",
       "    <tr>\n",
       "      <th>24</th>\n",
       "      <td>Shop 30</td>\n",
       "      <td>743.530</td>\n",
       "      <td>0.03</td>\n",
       "    </tr>\n",
       "    <tr>\n",
       "      <th>22</th>\n",
       "      <td>Shop 29</td>\n",
       "      <td>207.715</td>\n",
       "      <td>0.01</td>\n",
       "    </tr>\n",
       "    <tr>\n",
       "      <th>16</th>\n",
       "      <td>Shop 23</td>\n",
       "      <td>-8.500</td>\n",
       "      <td>-0.00</td>\n",
       "    </tr>\n",
       "  </tbody>\n",
       "</table>\n",
       "</div>"
      ],
      "text/plain": [
       "     ShopID      revenue  revenue_percent\n",
       "0    Shop 0  1742143.950            80.46\n",
       "23   Shop 3   101963.465             4.71\n",
       "27   Shop 6    55936.820             2.58\n",
       "25   Shop 4    50635.565             2.34\n",
       "1    Shop 1    48030.905             2.22\n",
       "12   Shop 2    39485.245             1.82\n",
       "6   Shop 14    22153.325             1.02\n",
       "29   Shop 8    16971.025             0.78\n",
       "28   Shop 7    11233.930             0.52\n",
       "11  Shop 19    10249.600             0.47\n",
       "2   Shop 10     9949.380             0.46\n",
       "4   Shop 12     6813.930             0.31\n",
       "10  Shop 18     6631.165             0.31\n",
       "26   Shop 5     6202.610             0.29\n",
       "3   Shop 11     4023.410             0.19\n",
       "8   Shop 16     3828.300             0.18\n",
       "17  Shop 24     3984.625             0.18\n",
       "18  Shop 25     3433.865             0.16\n",
       "15  Shop 22     3003.470             0.14\n",
       "19  Shop 26     2775.590             0.13\n",
       "5   Shop 13     2410.330             0.11\n",
       "30   Shop 9     2415.115             0.11\n",
       "20  Shop 27     2095.470             0.10\n",
       "9   Shop 17     2236.450             0.10\n",
       "7   Shop 15     1736.520             0.08\n",
       "21  Shop 28     1621.895             0.07\n",
       "14  Shop 21     1349.250             0.06\n",
       "13  Shop 20      988.945             0.05\n",
       "24  Shop 30      743.530             0.03\n",
       "22  Shop 29      207.715             0.01\n",
       "16  Shop 23       -8.500            -0.00"
      ]
     },
     "execution_count": 21,
     "metadata": {},
     "output_type": "execute_result"
    }
   ],
   "source": [
    "# группировка выручки по мазазинам\n",
    "shop_share = data_full.pivot_table(index='ShopID', values='revenue', aggfunc='sum').reset_index()\n",
    "shop_share['revenue_percent'] = round((shop_share['revenue'] / shop_share['revenue'].sum()*100),2)\n",
    "shop_share.sort_values('revenue_percent', ascending=False)"
   ]
  },
  {
   "cell_type": "markdown",
   "metadata": {},
   "source": [
    "Практически 80% продаж приходится на магазин Shop 0. \n",
    "\n",
    "#### 2.3.2. Количество покупок\n",
    "\n",
    "Посчитаем общее количество покупок для этих групп клиентов, за 1 покупку будем принимать 1 чек."
   ]
  },
  {
   "cell_type": "code",
   "execution_count": 22,
   "metadata": {},
   "outputs": [
    {
     "data": {
      "text/html": [
       "<div>\n",
       "<style scoped>\n",
       "    .dataframe tbody tr th:only-of-type {\n",
       "        vertical-align: middle;\n",
       "    }\n",
       "\n",
       "    .dataframe tbody tr th {\n",
       "        vertical-align: top;\n",
       "    }\n",
       "\n",
       "    .dataframe thead th {\n",
       "        text-align: right;\n",
       "    }\n",
       "</style>\n",
       "<table border=\"1\" class=\"dataframe\">\n",
       "  <thead>\n",
       "    <tr style=\"text-align: right;\">\n",
       "      <th></th>\n",
       "      <th>loyalty_program</th>\n",
       "      <th>purchaseid</th>\n",
       "    </tr>\n",
       "  </thead>\n",
       "  <tbody>\n",
       "    <tr>\n",
       "      <th>0</th>\n",
       "      <td>0.0</td>\n",
       "      <td>3396</td>\n",
       "    </tr>\n",
       "    <tr>\n",
       "      <th>1</th>\n",
       "      <td>1.0</td>\n",
       "      <td>1331</td>\n",
       "    </tr>\n",
       "  </tbody>\n",
       "</table>\n",
       "</div>"
      ],
      "text/plain": [
       "   loyalty_program  purchaseid\n",
       "0              0.0        3396\n",
       "1              1.0        1331"
      ]
     },
     "execution_count": 22,
     "metadata": {},
     "output_type": "execute_result"
    }
   ],
   "source": [
    "# расчет количества покупок\n",
    "data_total_purh = data_full.pivot_table(index='loyalty_program', values='purchaseid', aggfunc='nunique').reset_index()\n",
    "data_total_purh"
   ]
  },
  {
   "cell_type": "code",
   "execution_count": 23,
   "metadata": {},
   "outputs": [
    {
     "data": {
      "text/plain": [
       "67551"
      ]
     },
     "execution_count": 23,
     "metadata": {},
     "output_type": "execute_result"
    }
   ],
   "source": [
    "data_full['purchaseid'].duplicated().sum()"
   ]
  },
  {
   "cell_type": "markdown",
   "metadata": {},
   "source": [
    "Покупатели, не участвующие в программе лояльности совершили больше чем в 2 раза больше покупок. чем не участвующие.\n",
    "Самое время посмотреть на количество покупателей в этих группах."
   ]
  },
  {
   "cell_type": "code",
   "execution_count": 24,
   "metadata": {},
   "outputs": [
    {
     "data": {
      "text/plain": [
       "array([0., 1.])"
      ]
     },
     "execution_count": 24,
     "metadata": {},
     "output_type": "execute_result"
    }
   ],
   "source": [
    "# выведем уникальные значения столбца 'loyalty_program'\n",
    "data_full['loyalty_program'].unique()"
   ]
  },
  {
   "cell_type": "code",
   "execution_count": 26,
   "metadata": {},
   "outputs": [
    {
     "data": {
      "text/html": [
       "<div>\n",
       "<style scoped>\n",
       "    .dataframe tbody tr th:only-of-type {\n",
       "        vertical-align: middle;\n",
       "    }\n",
       "\n",
       "    .dataframe tbody tr th {\n",
       "        vertical-align: top;\n",
       "    }\n",
       "\n",
       "    .dataframe thead th {\n",
       "        text-align: right;\n",
       "    }\n",
       "</style>\n",
       "<table border=\"1\" class=\"dataframe\">\n",
       "  <thead>\n",
       "    <tr style=\"text-align: right;\">\n",
       "      <th></th>\n",
       "      <th>loyalty_program</th>\n",
       "      <th>CustomerID</th>\n",
       "    </tr>\n",
       "  </thead>\n",
       "  <tbody>\n",
       "    <tr>\n",
       "      <th>0</th>\n",
       "      <td>0.0</td>\n",
       "      <td>1155</td>\n",
       "    </tr>\n",
       "    <tr>\n",
       "      <th>1</th>\n",
       "      <td>1.0</td>\n",
       "      <td>584</td>\n",
       "    </tr>\n",
       "  </tbody>\n",
       "</table>\n",
       "</div>"
      ],
      "text/plain": [
       "   loyalty_program  CustomerID\n",
       "0              0.0        1155\n",
       "1              1.0         584"
      ]
     },
     "execution_count": 26,
     "metadata": {},
     "output_type": "execute_result"
    }
   ],
   "source": [
    "data_full.pivot_table(index='loyalty_program', values='CustomerID', aggfunc='nunique').reset_index()"
   ]
  },
  {
   "cell_type": "markdown",
   "metadata": {},
   "source": [
    " Число пользователей, не участвующих в программе лояльности,даже без учета пользователей без id, а их 23% и они также не в программе лояльности примерно в 2 раза превышает количесвто пользователей, участвующих в программе, отсюда и превышение в объемах выручки по ним, поэтому для дальнейшего анализа будем рассчитывать относительные показатели, т.к. по ним уже можно будет судить об эффективности. И т.к. основной объем продаж проходит через магазин Shop0, то посчитаем метрики отдельно для него и для сети без него."
   ]
  },
  {
   "cell_type": "markdown",
   "metadata": {},
   "source": [
    "#### 2.3.3. Расчет метрик для сети без магазина Shop 0"
   ]
  },
  {
   "cell_type": "markdown",
   "metadata": {},
   "source": [
    "**Средний чек**\n",
    "\n",
    "Чтобы рассчитать средний чек разделим выручку на количество чеков по покупателям лояльным и нелояльным, для этого сначала сгруппируем датафрейм по \"loyalty_program\", подсчитаем уникальное количество чеков и проссумируем по ним выручку."
   ]
  },
  {
   "cell_type": "code",
   "execution_count": 27,
   "metadata": {},
   "outputs": [
    {
     "data": {
      "text/html": [
       "<div>\n",
       "<style scoped>\n",
       "    .dataframe tbody tr th:only-of-type {\n",
       "        vertical-align: middle;\n",
       "    }\n",
       "\n",
       "    .dataframe tbody tr th {\n",
       "        vertical-align: top;\n",
       "    }\n",
       "\n",
       "    .dataframe thead th {\n",
       "        text-align: right;\n",
       "    }\n",
       "</style>\n",
       "<table border=\"1\" class=\"dataframe\">\n",
       "  <thead>\n",
       "    <tr style=\"text-align: right;\">\n",
       "      <th></th>\n",
       "      <th>loyalty_program</th>\n",
       "      <th>purchaseid</th>\n",
       "      <th>revenue</th>\n",
       "      <th>avg_purchas</th>\n",
       "    </tr>\n",
       "  </thead>\n",
       "  <tbody>\n",
       "    <tr>\n",
       "      <th>0</th>\n",
       "      <td>0.0</td>\n",
       "      <td>411</td>\n",
       "      <td>412224.530</td>\n",
       "      <td>1002.979392</td>\n",
       "    </tr>\n",
       "    <tr>\n",
       "      <th>1</th>\n",
       "      <td>1.0</td>\n",
       "      <td>7</td>\n",
       "      <td>10878.415</td>\n",
       "      <td>1554.059286</td>\n",
       "    </tr>\n",
       "  </tbody>\n",
       "</table>\n",
       "</div>"
      ],
      "text/plain": [
       "   loyalty_program  purchaseid     revenue  avg_purchas\n",
       "0              0.0         411  412224.530  1002.979392\n",
       "1              1.0           7   10878.415  1554.059286"
      ]
     },
     "execution_count": 27,
     "metadata": {},
     "output_type": "execute_result"
    }
   ],
   "source": [
    "avg_check = data_full.query('ShopID != \"Shop 0\"').pivot_table(\n",
    "    index='loyalty_program',values=['purchaseid', 'revenue'], \n",
    "    aggfunc={'purchaseid':'nunique', 'revenue':'sum'}).reset_index()\n",
    "    \n",
    "avg_check['avg_purchas'] = avg_check['revenue'] / avg_check['purchaseid']\n",
    "avg_check"
   ]
  },
  {
   "cell_type": "markdown",
   "metadata": {},
   "source": [
    "Средний чек у покупателей, участвующих в прогррамме лояльности на 55% выше, чем для нелояльных покупателей."
   ]
  },
  {
   "cell_type": "markdown",
   "metadata": {},
   "source": [
    "**Средняя выручка на 1 покупателя**"
   ]
  },
  {
   "cell_type": "code",
   "execution_count": 28,
   "metadata": {},
   "outputs": [
    {
     "data": {
      "text/html": [
       "<div>\n",
       "<style scoped>\n",
       "    .dataframe tbody tr th:only-of-type {\n",
       "        vertical-align: middle;\n",
       "    }\n",
       "\n",
       "    .dataframe tbody tr th {\n",
       "        vertical-align: top;\n",
       "    }\n",
       "\n",
       "    .dataframe thead th {\n",
       "        text-align: right;\n",
       "    }\n",
       "</style>\n",
       "<table border=\"1\" class=\"dataframe\">\n",
       "  <thead>\n",
       "    <tr style=\"text-align: right;\">\n",
       "      <th></th>\n",
       "      <th>loyalty_program</th>\n",
       "      <th>CustomerID</th>\n",
       "      <th>revenue</th>\n",
       "      <th>avg_rev</th>\n",
       "    </tr>\n",
       "  </thead>\n",
       "  <tbody>\n",
       "    <tr>\n",
       "      <th>0</th>\n",
       "      <td>0.0</td>\n",
       "      <td>173</td>\n",
       "      <td>412224.530</td>\n",
       "      <td>2382.800751</td>\n",
       "    </tr>\n",
       "    <tr>\n",
       "      <th>1</th>\n",
       "      <td>1.0</td>\n",
       "      <td>3</td>\n",
       "      <td>10878.415</td>\n",
       "      <td>3626.138333</td>\n",
       "    </tr>\n",
       "  </tbody>\n",
       "</table>\n",
       "</div>"
      ],
      "text/plain": [
       "   loyalty_program  CustomerID     revenue      avg_rev\n",
       "0              0.0         173  412224.530  2382.800751\n",
       "1              1.0           3   10878.415  3626.138333"
      ]
     },
     "execution_count": 28,
     "metadata": {},
     "output_type": "execute_result"
    }
   ],
   "source": [
    "avg_rev_per_cust = data_full.query('ShopID != \"Shop 0\"').pivot_table(\n",
    "    index='loyalty_program',values=['CustomerID', 'revenue'], \n",
    "    aggfunc={'CustomerID':'nunique', 'revenue':'sum'}).reset_index()\n",
    "    \n",
    "avg_rev_per_cust['avg_rev'] = avg_rev_per_cust['revenue'] / avg_rev_per_cust['CustomerID']\n",
    "avg_rev_per_cust"
   ]
  },
  {
   "cell_type": "markdown",
   "metadata": {},
   "source": [
    "На 1 покупателя, участвующего в программе лоядьности приходится на 55% выручки больше"
   ]
  },
  {
   "cell_type": "markdown",
   "metadata": {},
   "source": [
    "**Среднее количество покупок на 1 покупателя**"
   ]
  },
  {
   "cell_type": "code",
   "execution_count": 29,
   "metadata": {},
   "outputs": [
    {
     "data": {
      "text/html": [
       "<div>\n",
       "<style scoped>\n",
       "    .dataframe tbody tr th:only-of-type {\n",
       "        vertical-align: middle;\n",
       "    }\n",
       "\n",
       "    .dataframe tbody tr th {\n",
       "        vertical-align: top;\n",
       "    }\n",
       "\n",
       "    .dataframe thead th {\n",
       "        text-align: right;\n",
       "    }\n",
       "</style>\n",
       "<table border=\"1\" class=\"dataframe\">\n",
       "  <thead>\n",
       "    <tr style=\"text-align: right;\">\n",
       "      <th></th>\n",
       "      <th>loyalty_program</th>\n",
       "      <th>CustomerID</th>\n",
       "      <th>purchaseid</th>\n",
       "      <th>avg_purchas</th>\n",
       "    </tr>\n",
       "  </thead>\n",
       "  <tbody>\n",
       "    <tr>\n",
       "      <th>0</th>\n",
       "      <td>0.0</td>\n",
       "      <td>173</td>\n",
       "      <td>411</td>\n",
       "      <td>2.375723</td>\n",
       "    </tr>\n",
       "    <tr>\n",
       "      <th>1</th>\n",
       "      <td>1.0</td>\n",
       "      <td>3</td>\n",
       "      <td>7</td>\n",
       "      <td>2.333333</td>\n",
       "    </tr>\n",
       "  </tbody>\n",
       "</table>\n",
       "</div>"
      ],
      "text/plain": [
       "   loyalty_program  CustomerID  purchaseid  avg_purchas\n",
       "0              0.0         173         411     2.375723\n",
       "1              1.0           3           7     2.333333"
      ]
     },
     "execution_count": 29,
     "metadata": {},
     "output_type": "execute_result"
    }
   ],
   "source": [
    "avg_purch = data_full.query('ShopID != \"Shop 0\"').pivot_table(\n",
    "    index='loyalty_program',values=['purchaseid', 'CustomerID'], \n",
    "    aggfunc={'purchaseid':'nunique', 'CustomerID':'nunique'}).reset_index()\n",
    "    \n",
    "avg_purch['avg_purchas'] = avg_purch['purchaseid'] / avg_purch['CustomerID']\n",
    "avg_purch"
   ]
  },
  {
   "cell_type": "markdown",
   "metadata": {},
   "source": [
    "Покупатели, не участвующие в программе лояльности в среднем за месяц совершают такое же количество покупок как и те, кто участвует."
   ]
  },
  {
   "cell_type": "markdown",
   "metadata": {},
   "source": [
    "### 2.3.4. Метрики магазина Shop 0.\n"
   ]
  },
  {
   "cell_type": "markdown",
   "metadata": {},
   "source": [
    "**Средний чек в магазине Shop 0**"
   ]
  },
  {
   "cell_type": "code",
   "execution_count": 30,
   "metadata": {},
   "outputs": [
    {
     "data": {
      "text/html": [
       "<div>\n",
       "<style scoped>\n",
       "    .dataframe tbody tr th:only-of-type {\n",
       "        vertical-align: middle;\n",
       "    }\n",
       "\n",
       "    .dataframe tbody tr th {\n",
       "        vertical-align: top;\n",
       "    }\n",
       "\n",
       "    .dataframe thead th {\n",
       "        text-align: right;\n",
       "    }\n",
       "</style>\n",
       "<table border=\"1\" class=\"dataframe\">\n",
       "  <thead>\n",
       "    <tr style=\"text-align: right;\">\n",
       "      <th></th>\n",
       "      <th>loyalty_program</th>\n",
       "      <th>purchaseid</th>\n",
       "      <th>revenue</th>\n",
       "      <th>avg_purchas</th>\n",
       "    </tr>\n",
       "  </thead>\n",
       "  <tbody>\n",
       "    <tr>\n",
       "      <th>0</th>\n",
       "      <td>0.0</td>\n",
       "      <td>2985</td>\n",
       "      <td>1179160.845</td>\n",
       "      <td>395.028759</td>\n",
       "    </tr>\n",
       "    <tr>\n",
       "      <th>1</th>\n",
       "      <td>1.0</td>\n",
       "      <td>1324</td>\n",
       "      <td>562983.105</td>\n",
       "      <td>425.213826</td>\n",
       "    </tr>\n",
       "  </tbody>\n",
       "</table>\n",
       "</div>"
      ],
      "text/plain": [
       "   loyalty_program  purchaseid      revenue  avg_purchas\n",
       "0              0.0        2985  1179160.845   395.028759\n",
       "1              1.0        1324   562983.105   425.213826"
      ]
     },
     "execution_count": 30,
     "metadata": {},
     "output_type": "execute_result"
    }
   ],
   "source": [
    "# фильтр по магазинам\n",
    "data_Shop_0 = data_full.query('ShopID==\"Shop 0\"')\n",
    "# группировка по лояльным/нелояльным клиентам\n",
    "avg_check_Shop_0 = data_Shop_0.pivot_table(\n",
    "    index='loyalty_program',values=['purchaseid', 'revenue'], \n",
    "    aggfunc={'purchaseid':'nunique', 'revenue':'sum'}).reset_index()\n",
    "    \n",
    "avg_check_Shop_0['avg_purchas'] = avg_check_Shop_0['revenue'] / avg_check_Shop_0['purchaseid']\n",
    "avg_check_Shop_0"
   ]
  },
  {
   "cell_type": "markdown",
   "metadata": {},
   "source": [
    "Средний чек по покупателям в программе лояльности превышает на 8% значение среднего чека для нелояльных клиентов."
   ]
  },
  {
   "cell_type": "markdown",
   "metadata": {},
   "source": [
    "**Среднее выручка на 1 покупателя в магазине Shop 0**"
   ]
  },
  {
   "cell_type": "code",
   "execution_count": 31,
   "metadata": {},
   "outputs": [
    {
     "data": {
      "text/html": [
       "<div>\n",
       "<style scoped>\n",
       "    .dataframe tbody tr th:only-of-type {\n",
       "        vertical-align: middle;\n",
       "    }\n",
       "\n",
       "    .dataframe tbody tr th {\n",
       "        vertical-align: top;\n",
       "    }\n",
       "\n",
       "    .dataframe thead th {\n",
       "        text-align: right;\n",
       "    }\n",
       "</style>\n",
       "<table border=\"1\" class=\"dataframe\">\n",
       "  <thead>\n",
       "    <tr style=\"text-align: right;\">\n",
       "      <th></th>\n",
       "      <th>loyalty_program</th>\n",
       "      <th>CustomerID</th>\n",
       "      <th>revenue</th>\n",
       "      <th>avg_rev</th>\n",
       "    </tr>\n",
       "  </thead>\n",
       "  <tbody>\n",
       "    <tr>\n",
       "      <th>0</th>\n",
       "      <td>0.0</td>\n",
       "      <td>982</td>\n",
       "      <td>1179160.845</td>\n",
       "      <td>1200.774791</td>\n",
       "    </tr>\n",
       "    <tr>\n",
       "      <th>1</th>\n",
       "      <td>1.0</td>\n",
       "      <td>581</td>\n",
       "      <td>562983.105</td>\n",
       "      <td>968.989854</td>\n",
       "    </tr>\n",
       "  </tbody>\n",
       "</table>\n",
       "</div>"
      ],
      "text/plain": [
       "   loyalty_program  CustomerID      revenue      avg_rev\n",
       "0              0.0         982  1179160.845  1200.774791\n",
       "1              1.0         581   562983.105   968.989854"
      ]
     },
     "execution_count": 31,
     "metadata": {},
     "output_type": "execute_result"
    }
   ],
   "source": [
    "avg_rev_per_cust_Shop_0 = data_Shop_0.pivot_table(\n",
    "    index='loyalty_program',values=['CustomerID', 'revenue'], \n",
    "    aggfunc={'CustomerID':'nunique', 'revenue':'sum'}).reset_index()\n",
    "    \n",
    "avg_rev_per_cust_Shop_0['avg_rev'] = avg_rev_per_cust_Shop_0['revenue'] / avg_rev_per_cust_Shop_0['CustomerID']\n",
    "avg_rev_per_cust_Shop_0"
   ]
  },
  {
   "cell_type": "markdown",
   "metadata": {},
   "source": [
    "На одного покупателя в программе лояльности в магазине Shop 0 приходится на 19% выручки меньше, чем на покупателей, не участвующих в программе."
   ]
  },
  {
   "cell_type": "markdown",
   "metadata": {},
   "source": [
    "**Среднее количество покупок на 1 покупателя в магазине Shop 0**"
   ]
  },
  {
   "cell_type": "code",
   "execution_count": 32,
   "metadata": {},
   "outputs": [
    {
     "data": {
      "text/html": [
       "<div>\n",
       "<style scoped>\n",
       "    .dataframe tbody tr th:only-of-type {\n",
       "        vertical-align: middle;\n",
       "    }\n",
       "\n",
       "    .dataframe tbody tr th {\n",
       "        vertical-align: top;\n",
       "    }\n",
       "\n",
       "    .dataframe thead th {\n",
       "        text-align: right;\n",
       "    }\n",
       "</style>\n",
       "<table border=\"1\" class=\"dataframe\">\n",
       "  <thead>\n",
       "    <tr style=\"text-align: right;\">\n",
       "      <th></th>\n",
       "      <th>loyalty_program</th>\n",
       "      <th>CustomerID</th>\n",
       "      <th>purchaseid</th>\n",
       "      <th>avg_purchas</th>\n",
       "    </tr>\n",
       "  </thead>\n",
       "  <tbody>\n",
       "    <tr>\n",
       "      <th>0</th>\n",
       "      <td>0.0</td>\n",
       "      <td>982</td>\n",
       "      <td>2985</td>\n",
       "      <td>3.039715</td>\n",
       "    </tr>\n",
       "    <tr>\n",
       "      <th>1</th>\n",
       "      <td>1.0</td>\n",
       "      <td>581</td>\n",
       "      <td>1324</td>\n",
       "      <td>2.278830</td>\n",
       "    </tr>\n",
       "  </tbody>\n",
       "</table>\n",
       "</div>"
      ],
      "text/plain": [
       "   loyalty_program  CustomerID  purchaseid  avg_purchas\n",
       "0              0.0         982        2985     3.039715\n",
       "1              1.0         581        1324     2.278830"
      ]
     },
     "execution_count": 32,
     "metadata": {},
     "output_type": "execute_result"
    }
   ],
   "source": [
    "avg_purch_Shop_0 = data_Shop_0.pivot_table(\n",
    "    index='loyalty_program',values=['purchaseid', 'CustomerID'], \n",
    "    aggfunc={'purchaseid':'nunique', 'CustomerID':'nunique'}).reset_index()\n",
    "    \n",
    "avg_purch_Shop_0['avg_purchas'] = avg_purch_Shop_0['purchaseid'] / avg_purch_Shop_0['CustomerID']\n",
    "avg_purch_Shop_0"
   ]
  },
  {
   "cell_type": "markdown",
   "metadata": {},
   "source": [
    "Количество покупок на 1 клиента для покупателей, не участвующих в программе лояльности больше."
   ]
  },
  {
   "cell_type": "markdown",
   "metadata": {},
   "source": [
    "**Количество покупателей в магазине Shop 0**"
   ]
  },
  {
   "cell_type": "code",
   "execution_count": 33,
   "metadata": {},
   "outputs": [
    {
     "data": {
      "text/html": [
       "<div>\n",
       "<style scoped>\n",
       "    .dataframe tbody tr th:only-of-type {\n",
       "        vertical-align: middle;\n",
       "    }\n",
       "\n",
       "    .dataframe tbody tr th {\n",
       "        vertical-align: top;\n",
       "    }\n",
       "\n",
       "    .dataframe thead th {\n",
       "        text-align: right;\n",
       "    }\n",
       "</style>\n",
       "<table border=\"1\" class=\"dataframe\">\n",
       "  <thead>\n",
       "    <tr style=\"text-align: right;\">\n",
       "      <th></th>\n",
       "      <th>CustomerID</th>\n",
       "    </tr>\n",
       "    <tr>\n",
       "      <th>loyalty_program</th>\n",
       "      <th></th>\n",
       "    </tr>\n",
       "  </thead>\n",
       "  <tbody>\n",
       "    <tr>\n",
       "      <th>0.0</th>\n",
       "      <td>982</td>\n",
       "    </tr>\n",
       "    <tr>\n",
       "      <th>1.0</th>\n",
       "      <td>581</td>\n",
       "    </tr>\n",
       "  </tbody>\n",
       "</table>\n",
       "</div>"
      ],
      "text/plain": [
       "                 CustomerID\n",
       "loyalty_program            \n",
       "0.0                     982\n",
       "1.0                     581"
      ]
     },
     "execution_count": 33,
     "metadata": {},
     "output_type": "execute_result"
    }
   ],
   "source": [
    "data_Shop_0.pivot_table(index='loyalty_program', values='CustomerID', aggfunc='nunique')"
   ]
  },
  {
   "cell_type": "markdown",
   "metadata": {},
   "source": [
    "\n",
    "В магазине Shop 0 в программе лояльности участвуют только 37% покупателей."
   ]
  },
  {
   "cell_type": "markdown",
   "metadata": {},
   "source": [
    "Основными метриками эффективности программы лояльности будем считать средний чек и количество покупок на 1 клиента.\n",
    "Посмотрим на них в динамике."
   ]
  },
  {
   "cell_type": "markdown",
   "metadata": {},
   "source": [
    "#### 2.3.5. Динамика среднего чека для сети без Shop 0"
   ]
  },
  {
   "cell_type": "code",
   "execution_count": 34,
   "metadata": {},
   "outputs": [],
   "source": [
    "# округление даты до дней\n",
    "data_full['purchasedate'] = data_full['purchasedate'].dt.round('1D')"
   ]
  },
  {
   "cell_type": "code",
   "execution_count": 37,
   "metadata": {},
   "outputs": [
    {
     "data": {
      "image/png": "[encoded data removed]",
      "text/plain": [
       "<Figure size 720x360 with 1 Axes>"
      ]
     },
     "metadata": {
      "needs_background": "light"
     },
     "output_type": "display_data"
    }
   ],
   "source": [
    "# группировка данных\n",
    "df_0 = data_full.query('loyalty_program==False and ShopID!=\"Shop 0\"').pivot_table(index='purchasedate', values=['purchaseid', 'revenue'],aggfunc={'purchaseid':'nunique', 'revenue':'sum'})\n",
    "df_0['avg_check'] = df_0['revenue'] / df_0['purchaseid']\n",
    "df_0 = df_0.drop(['purchaseid', 'revenue'], axis=1)\n",
    "\n",
    "df_1 = data_full.query('loyalty_program==True and ShopID!=\"Shop 0\"').pivot_table(index='purchasedate', values=['purchaseid', 'revenue'],aggfunc={'purchaseid':'nunique', 'revenue':'sum'})\n",
    "df_1['avg_check'] = df_1['revenue'] / df_1['purchaseid']\n",
    "df_1 = df_1.drop(['purchaseid', 'revenue'], axis=1)\n",
    "\n",
    "# вывод графика\n",
    "fig = plt.figure(figsize=(10,5))\n",
    "plt.plot(df_0, label=\"non-loyalty\")\n",
    "plt.plot(df_1, label=\"loyalty\")\n",
    "plt.legend(loc=\"upper right\");"
   ]
  },
  {
   "cell_type": "markdown",
   "metadata": {},
   "source": [
    "Средний чек колеблется примерно в равных диапазонах для обоих групп клиентов, для нелояльных клиентов можно заметить пиковое значение в середине января, но это, видимо, разовая крупная покупка.\n"
   ]
  },
  {
   "cell_type": "markdown",
   "metadata": {},
   "source": [
    "#### 2.3.6. Динамика среднего чека для shop 0"
   ]
  },
  {
   "cell_type": "code",
   "execution_count": 39,
   "metadata": {},
   "outputs": [
    {
     "data": {
      "image/png": "[encoded data removed]",
      "text/plain": [
       "<Figure size 720x360 with 1 Axes>"
      ]
     },
     "metadata": {
      "needs_background": "light"
     },
     "output_type": "display_data"
    }
   ],
   "source": [
    "df_0_sh0 = data_full.query('loyalty_program==False and ShopID==\"Shop 0\"').pivot_table(index='purchasedate', values=['purchaseid', 'revenue'],aggfunc={'purchaseid':'nunique', 'revenue':'sum'})\n",
    "df_0_sh0['avg_check'] = df_0_sh0['revenue'] / df_0_sh0['purchaseid']\n",
    "df_0_sh0 = df_0_sh0.drop(['purchaseid', 'revenue'], axis=1)\n",
    "\n",
    "df_1_sh0 = data_full.query('loyalty_program==True and ShopID==\"Shop 0\"').pivot_table(index='purchasedate', values=['purchaseid', 'revenue'],aggfunc={'purchaseid':'nunique', 'revenue':'sum'})\n",
    "df_1_sh0['avg_check'] = df_1_sh0['revenue'] / df_1_sh0['purchaseid']\n",
    "df_1_sh0 = df_1_sh0.drop(['purchaseid', 'revenue'], axis=1)\n",
    "\n",
    "\n",
    "\n",
    "# df_0.plot()\n",
    "# df_1.plot()\n",
    "# plt.show()\n",
    "\n",
    "fig = plt.figure(figsize=(10,5))\n",
    "plt.plot(df_0_sh0, label=\"non-loyalty\")\n",
    "plt.plot(df_1_sh0, label=\"loyalty\")\n",
    "plt.legend(loc=\"upper right\");"
   ]
  },
  {
   "cell_type": "markdown",
   "metadata": {},
   "source": [
    "Средний чек участников программы лояльности колеблется примерно в тех же пределах, что и для покупателей, которые не в программе."
   ]
  },
  {
   "cell_type": "markdown",
   "metadata": {},
   "source": [
    "#### 2.3.7. Динамика среднего чека для сети без shop 0"
   ]
  },
  {
   "cell_type": "code",
   "execution_count": 40,
   "metadata": {},
   "outputs": [
    {
     "data": {
      "image/png": "[encoded data removed]",
      "text/plain": [
       "<Figure size 720x360 with 1 Axes>"
      ]
     },
     "metadata": {
      "needs_background": "light"
     },
     "output_type": "display_data"
    }
   ],
   "source": [
    "df_0_2 = data_full.query('loyalty_program==False and ShopID!=\"Shop 0\"').pivot_table(index='purchasedate', values=['purchaseid', 'revenue'],aggfunc={'purchaseid':'nunique', 'revenue':'sum'})\n",
    "df_0_2['avg_check'] = df_0_2['revenue'] / df_0_2['purchaseid']\n",
    "df_0_2 = df_0_2.drop(['purchaseid', 'revenue'], axis=1)\n",
    "\n",
    "df_1_2 = data_full.query('loyalty_program==True and ShopID!=\"Shop 0\"').pivot_table(index='purchasedate', values=['purchaseid', 'revenue'],aggfunc={'purchaseid':'nunique', 'revenue':'sum'})\n",
    "df_1_2['avg_check'] = df_1_2['revenue'] / df_1_2['purchaseid']\n",
    "df_1_2 = df_1_2.drop(['purchaseid', 'revenue'], axis=1)\n",
    "\n",
    "\n",
    "\n",
    "# df_0.plot()\n",
    "# df_1.plot()\n",
    "# plt.show()\n",
    "\n",
    "fig = plt.figure(figsize=(10,5))\n",
    "plt.plot(df_0_2, label=\"non-loyalty\")\n",
    "plt.plot(df_1_2, label=\"loyalty\")\n",
    "plt.legend(loc=\"upper right\");"
   ]
  },
  {
   "cell_type": "markdown",
   "metadata": {},
   "source": [
    "#### 2.3.8. Динамика количества покупок на 1 клиента в магазине shop 0"
   ]
  },
  {
   "cell_type": "code",
   "execution_count": 41,
   "metadata": {},
   "outputs": [
    {
     "name": "stderr",
     "output_type": "stream",
     "text": [
      "/tmp/ipykernel_43/3072485729.py:1: FutureWarning: Series.dt.weekofyear and Series.dt.week have been deprecated.  Please use Series.dt.isocalendar().week instead.\n",
      "  data_full['week'] = data_full['purchasedate'].dt.week\n"
     ]
    }
   ],
   "source": [
    "data_full['week'] = data_full['purchasedate'].dt.week\n"
   ]
  },
  {
   "cell_type": "code",
   "execution_count": 42,
   "metadata": {},
   "outputs": [
    {
     "data": {
      "image/png": "[encoded data removed]",
      "text/plain": [
       "<Figure size 720x360 with 1 Axes>"
      ]
     },
     "metadata": {
      "needs_background": "light"
     },
     "output_type": "display_data"
    }
   ],
   "source": [
    "# группировка данных\n",
    "dp_0 = data_full.query('loyalty_program==False and ShopID==\"Shop 0\"').pivot_table(index='week', values=['purchaseid', 'CustomerID'],aggfunc={'purchaseid':'nunique','CustomerID':'nunique' })\n",
    "dp_0['avg_purch'] = dp_0['purchaseid'] / dp_0['CustomerID']\n",
    "\n",
    "dp_1 = data_full.query('loyalty_program==True and ShopID==\"Shop 0\"').pivot_table(index='week', values=['purchaseid', 'CustomerID'],aggfunc={'purchaseid':'nunique','CustomerID':'nunique' })\n",
    "dp_1['avg_purch'] = dp_1['purchaseid'] / dp_1['CustomerID']\n",
    "\n",
    "\n",
    "# вывод графика\n",
    "fig = plt.figure(figsize=(10,5))\n",
    "plt.plot(dp_0['avg_purch'], label=\"non-loyalty\")\n",
    "plt.plot(dp_1['avg_purch'], label=\"loyalty\")\n",
    "plt.legend(loc=\"upper right\");"
   ]
  },
  {
   "cell_type": "markdown",
   "metadata": {},
   "source": [
    "В течении недели не лояльные покупатели совершают чуть больше покупок, чем те, кто участвует в программе лояльности."
   ]
  },
  {
   "cell_type": "markdown",
   "metadata": {},
   "source": [
    "#### 2.3.9. Динамика количества покупок на 1 клиента в магазинах сети кроме shop 0"
   ]
  },
  {
   "cell_type": "code",
   "execution_count": 43,
   "metadata": {},
   "outputs": [
    {
     "data": {
      "image/png": "[encoded data removed]",
      "text/plain": [
       "<Figure size 720x360 with 1 Axes>"
      ]
     },
     "metadata": {
      "needs_background": "light"
     },
     "output_type": "display_data"
    }
   ],
   "source": [
    "# группировка данных\n",
    "dp_2 = data_full.query('loyalty_program==False and ShopID!=\"Shop 0\"').pivot_table(index='week', values=['purchaseid', 'CustomerID'],aggfunc={'purchaseid':'nunique','CustomerID':'nunique' })\n",
    "dp_2['avg_purch'] = dp_2['purchaseid'] / dp_2['CustomerID']\n",
    "\n",
    "dp_3 = data_full.query('loyalty_program==True and ShopID!=\"Shop 0\"').pivot_table(index='week', values=['purchaseid', 'CustomerID'],aggfunc={'purchaseid':'nunique','CustomerID':'nunique' })\n",
    "dp_3['avg_purch'] = dp_3['purchaseid'] / dp_3['CustomerID']\n",
    "\n",
    "# вывод графика\n",
    "fig = plt.figure(figsize=(10,5))\n",
    "plt.plot(dp_2['avg_purch'], label=\"non-loyalty\")\n",
    "plt.plot(dp_3['avg_purch'], label=\"loyalty\")\n",
    "plt.legend(loc=\"upper right\");"
   ]
  },
  {
   "cell_type": "markdown",
   "metadata": {},
   "source": [
    "В течении недели в магазине Shop 0, также как и по остальным магазинам сети не лояльные покупатели совершают чуть больше покупок, чем те, кто участвует в программе лояльности, есть выбивающийся из общей картины пик (3 покупки), но это ра"
   ]
  },
  {
   "cell_type": "markdown",
   "metadata": {},
   "source": [
    "## 3. Проверка гипотез"
   ]
  },
  {
   "cell_type": "markdown",
   "metadata": {},
   "source": [
    "Проверим гипотезы о том, что средний чек и количество покупок на 1 клиента для покупателей, участвующих в программе лояльности и для покупателей не в прогрмме равны. Проверку произведем отдельно для магазинов сети без Shop 0 и отдельно для этого магазина.\n",
    "\n",
    "### 3.1. Проверка гипотез для магазинов сети без Shop 0\n",
    "\n",
    "**Гипотеза 1**\n",
    "\n",
    "*H0: Средний чек, покупателей, участвующих в программе лояльности равен среднему чеку покупателей, не участвующих в программе.*\n",
    "\n",
    "*H1: Средний чек, покупателей, участвующих в программе лояльности не равен среднему чеку покупателей, не участвующих в программе.*\n",
    "\n",
    "Для проверки этих гипотез будем использовать t-тест."
   ]
  },
  {
   "cell_type": "code",
   "execution_count": 44,
   "metadata": {},
   "outputs": [
    {
     "name": "stdout",
     "output_type": "stream",
     "text": [
      "p-значение: 0.5414956566007212\n",
      "Не получилось отвергнуть нулевую гипотезу\n"
     ]
    }
   ],
   "source": [
    "# подготовка выборки по среднему чеку для покупателей, не участвующих в программе лояльности\n",
    "sample_0 = data_full.query('loyalty_program==False and ShopID!=\"Shop 0\"').pivot_table(index='CustomerID', values=['purchaseid', 'revenue'], aggfunc={'purchaseid':'nunique','revenue':'sum'})\n",
    "sample_0['avg_check'] = sample_0['revenue'] / sample_0['purchaseid']\n",
    "sample_0['avg_check']\n",
    "sample_0 = np.array(sample_0['avg_check'])\n",
    "\n",
    "# подготовка выборки по среднему чеку для покупателей, не участвующих в программе лояльности\n",
    "sample_1 = data_full.query('loyalty_program==True and ShopID!=\"Shop 0\"').pivot_table(index='CustomerID', values=['purchaseid', 'revenue'], aggfunc={'purchaseid':'nunique','revenue':'sum'})\n",
    "sample_1['avg_check'] = sample_1['revenue'] / sample_1['purchaseid']\n",
    "sample_1['avg_check']\n",
    "sample_1 = np.array(sample_1['avg_check'])\n",
    "\n",
    "alpha = .05 # критический уровень статистической значимости\n",
    "# если p-value окажется меньше него - отвергнем гипотезу\n",
    "\n",
    "results = st.ttest_ind(\n",
    "    sample_0, \n",
    "    sample_1)\n",
    "\n",
    "print('p-значение:', results.pvalue)\n",
    "\n",
    "if results.pvalue < alpha:\n",
    "    print(\"Отвергаем нулевую гипотезу\")\n",
    "else:\n",
    "    print(\"Не получилось отвергнуть нулевую гипотезу\") "
   ]
  },
  {
   "cell_type": "markdown",
   "metadata": {},
   "source": [
    "Рассчитанные p-value оказался больше уровня стат.значимости, а значит нулевую гипотезу мы не отвергаем, т.е. в среднем чеке покупателей-участников программы лояльности и не участвующих нет статистически значимой разницы, т.е. можем говорить что значения среднего чека равны."
   ]
  },
  {
   "cell_type": "markdown",
   "metadata": {},
   "source": [
    "**Гипотеза 2**\n",
    "\n",
    "H0: Количество покупок (чеков) на клиента, участвующего в программе лояльности равно количеству покупок клиентов, не участвующих в программе.\n",
    "\n",
    "H1: Количество покупок (чеков) на клиента, участвующего в программе лояльности не равно количеству покупок клиентов, не участвующих в программе."
   ]
  },
  {
   "cell_type": "code",
   "execution_count": 45,
   "metadata": {},
   "outputs": [
    {
     "name": "stdout",
     "output_type": "stream",
     "text": [
      "p-значение: 0.49637546666363286\n",
      "Не получилось отвергнуть нулевую гипотезу\n"
     ]
    }
   ],
   "source": [
    "# подготовка выборки по среднему чеку для покупателей, не участвующих в программе лояльности\n",
    "sample_2 = data_full.query('loyalty_program==False and ShopID!=\"Shop 0\"').pivot_table(index='purchasedate', values=['purchaseid', 'CustomerID'], aggfunc={'purchaseid':'nunique','CustomerID':'nunique'})\n",
    "sample_2['avg_purh'] = sample_2['purchaseid'] / sample_2['CustomerID']\n",
    "sample_2['avg_purh']\n",
    "sample_2 = np.array(sample_2['avg_purh'])\n",
    "\n",
    "# подготовка выборки по среднему чеку для покупателей, не участвующих в программе лояльности\n",
    "sample_3 = data_full.query('loyalty_program==True and ShopID!=\"Shop 0\"').pivot_table(index='purchasedate', values=['purchaseid', 'CustomerID'], aggfunc={'purchaseid':'nunique','CustomerID':'nunique'})\n",
    "sample_3['avg_purh'] = sample_3['purchaseid'] / sample_3['CustomerID']\n",
    "sample_3['avg_purh']\n",
    "sample_3 = np.array(sample_3['avg_purh'])\n",
    "\n",
    "alpha = .05 # критический уровень статистической значимости\n",
    "# если p-value окажется меньше него - отвергнем гипотезу\n",
    "\n",
    "results = st.ttest_ind(\n",
    "    sample_2, \n",
    "    sample_3)\n",
    "\n",
    "print('p-значение:', results.pvalue)\n",
    "\n",
    "if results.pvalue < alpha:\n",
    "    print(\"Отвергаем нулевую гипотезу\")\n",
    "else:\n",
    "    print(\"Не получилось отвергнуть нулевую гипотезу\") "
   ]
  },
  {
   "cell_type": "markdown",
   "metadata": {},
   "source": [
    "На основании того, что p-значение больше, чем уровень стат.значимости, мы принимаем нулевую гипотезу и делаем вывод о том, что количество покупок у лояльных и нелояльных клиентов одинаковое."
   ]
  },
  {
   "cell_type": "markdown",
   "metadata": {},
   "source": [
    "### 3.2. Проверка гипотез для магазина Shop 0\n",
    "\n",
    "**Гипотеза 3**\n",
    "\n",
    "*H0: Средний чек, покупателей, участвующих в программе лояльности равен среднему чеку покупателей, не участвующих в программе.*\n",
    "\n",
    "*H1: Средний чек, покупателей, участвующих в программе лояльности не равен среднему чеку покупателей, не участвующих в программе.*\n",
    "\n",
    "Для проверки этих гипотез будем использовать также t-тест."
   ]
  },
  {
   "cell_type": "code",
   "execution_count": 46,
   "metadata": {},
   "outputs": [
    {
     "name": "stdout",
     "output_type": "stream",
     "text": [
      "p-значение: 0.48944888369146\n",
      "Не получилось отвергнуть нулевую гипотезу\n"
     ]
    }
   ],
   "source": [
    "# подготовка выборки по среднему чеку для покупателей, не участвующих в программе лояльности\n",
    "sample_0 = data_full.query('loyalty_program==False and ShopID==\"Shop 0\"').pivot_table(index='CustomerID', values=['purchaseid', 'revenue'], aggfunc={'purchaseid':'nunique','revenue':'sum'})\n",
    "sample_0['avg_check'] = sample_0['revenue'] / sample_0['purchaseid']\n",
    "sample_0['avg_check']\n",
    "sample_0 = np.array(sample_0['avg_check'])\n",
    "\n",
    "# подготовка выборки по среднему чеку для покупателей, не участвующих в программе лояльности\n",
    "sample_1 = data_full.query('loyalty_program==True and ShopID==\"Shop 0\"').pivot_table(index='CustomerID', values=['purchaseid', 'revenue'], aggfunc={'purchaseid':'nunique','revenue':'sum'})\n",
    "sample_1['avg_check'] = sample_1['revenue'] / sample_1['purchaseid']\n",
    "sample_1['avg_check']\n",
    "sample_1 = np.array(sample_1['avg_check'])\n",
    "\n",
    "alpha = .05 # критический уровень статистической значимости\n",
    "# если p-value окажется меньше него - отвергнем гипотезу\n",
    "\n",
    "results = st.ttest_ind(\n",
    "    sample_0, \n",
    "    sample_1)\n",
    "\n",
    "print('p-значение:', results.pvalue)\n",
    "\n",
    "if results.pvalue < alpha:\n",
    "    print(\"Отвергаем нулевую гипотезу\")\n",
    "else:\n",
    "    print(\"Не получилось отвергнуть нулевую гипотезу\") "
   ]
  },
  {
   "cell_type": "markdown",
   "metadata": {},
   "source": [
    "Картина для магазина Shop0 такая же как и для других магазинов - нет статистически значимой разницы в среднем чеке покупателей участвующих и не участвующих в программе лояльности."
   ]
  },
  {
   "cell_type": "markdown",
   "metadata": {},
   "source": [
    "**Гипотеза 4**\n",
    "\n",
    "H0: Количество покупок (чеков) на клиента, участвующего в программе лояльности равно количеству покупок клиентов, не участвующих в программе.\n",
    "\n",
    "H1: Количество покупок (чеков) на клиента, участвующего в программе лояльности не равно количеству покупок клиентов, не участвующих в программе."
   ]
  },
  {
   "cell_type": "code",
   "execution_count": 47,
   "metadata": {},
   "outputs": [
    {
     "name": "stdout",
     "output_type": "stream",
     "text": [
      "p-значение: 4.975915916063226e-09\n",
      "Отвергаем нулевую гипотезу\n"
     ]
    }
   ],
   "source": [
    "# подготовка выборки по среднему чеку для покупателей, не участвующих в программе лояльности\n",
    "sample_2 = data_full.query('loyalty_program==False and ShopID==\"Shop 0\"').pivot_table(index='purchasedate', values=['purchaseid', 'CustomerID'], aggfunc={'purchaseid':'nunique','CustomerID':'nunique'})\n",
    "sample_2['avg_purh'] = sample_2['purchaseid'] / sample_2['CustomerID']\n",
    "sample_2['avg_purh']\n",
    "sample_2 = np.array(sample_2['avg_purh'])\n",
    "\n",
    "# подготовка выборки по среднему чеку для покупателей, не участвующих в программе лояльности\n",
    "sample_3 = data_full.query('loyalty_program==True and ShopID==\"Shop 0\"').pivot_table(index='purchasedate', values=['purchaseid', 'CustomerID'], aggfunc={'purchaseid':'nunique','CustomerID':'nunique'})\n",
    "sample_3['avg_purh'] = sample_3['purchaseid'] / sample_3['CustomerID']\n",
    "sample_3['avg_purh']\n",
    "sample_3 = np.array(sample_3['avg_purh'])\n",
    "\n",
    "alpha = .05 # критический уровень статистической значимости\n",
    "# если p-value окажется меньше него - отвергнем гипотезу\n",
    "\n",
    "results = st.ttest_ind(\n",
    "    sample_2, \n",
    "    sample_3)\n",
    "\n",
    "print('p-значение:', results.pvalue)\n",
    "\n",
    "if results.pvalue < alpha:\n",
    "    print(\"Отвергаем нулевую гипотезу\")\n",
    "else:\n",
    "    print(\"Не получилось отвергнуть нулевую гипотезу\") "
   ]
  },
  {
   "cell_type": "markdown",
   "metadata": {},
   "source": [
    "А вот в количестве покупок на 1 клиента есть статистически значимая разница, мы принимаем альтернативную гипотезу. Эту разницу мы наблюдали на графике - не лояльные покупатели совершали чуть больше покупок в неделю, чем лояльные."
   ]
  },
  {
   "cell_type": "markdown",
   "metadata": {},
   "source": [
    "## 4. Выводы\n",
    "\n",
    "В ходе проведения анализа программы лояльности нашего строительного магазина мыобработали исходные данные:установили нужный формат данных, проверили нет ли пропусков и дубликатов, избавились от аномальных значений в данных и ошибок.\n",
    "Рассчитали основные метрики:\n",
    "- Общий объем выручки по сети составил 2,2 млн.руб. за изучаемый период (3 месяца).\n",
    "- Основная доля выручки - 80% приходится на магазин Shop 0,т.е.это, видимо, флагманский магазин и его показатели очень важны, т.к. в большей степени формируют результат по всей сети.\n",
    "- Число пользователей, не участвующих в программе лояльности,даже без учета пользователей без id, а их 23% и они также не в программе лояльности примерно в 2 раза превышает количесвто пользователей, участвующих в программе.\n",
    "\n",
    "**Для сети без Shop0**\n",
    "\n",
    "- Средний чек магазинов сети без флагмана  у покупателей, участвующих в прогррамме лояльности составил 1,5 тыс., что на 55% выше, чем для нелояльных покупателей.\n",
    "- На 1 покупателя, участвующего в программе лоядьности приходится на 55% выручки больше\n",
    "- Покупатели, не участвующие в программе лояльности в среднем за месяц совершают такое же количество покупок как и те, кто участвует.\n",
    "\n",
    "**Для магазина Shop 0**\n",
    "\n",
    "- Средний чек по покупателям в программе лояльности составил 425 руб., что превышает на 8% значение среднего чека для нелояльных клиентов.\n",
    "- На одного покупателя в программе лояльности в магазине Shop 0 приходится на 19% выручки меньше, чем на покупателей, не участвующих в программе. \n",
    "- Количество покупок на 1 клиента для покупателей, не участвующих в программе лояльности больше.\n",
    "- В магазине Shop 0 в программе лояльности участвуют только 37% покупателей.\n",
    "- В динамике средний чек колеблется примерно в одинаковых диапазонах как для сети без Shop0, так и отдельно для этого магазина.\n",
    "- По количеству покупок в неделю для Shop 0 и для сети без него показатели для нелояльных клиентов чуть выше.\n",
    "\n",
    "Проведенные стат.тесты показали что **для магазинов сети без Shop 0**\n",
    "\n",
    "\n",
    "- В среднем чеке покупателей-участников программы лояльности и не участвующих для нет статистически значимой разницы, т.е. можем говорить что значения среднего чека равны.\n",
    "- Количество покупок у лояльных и нелояльных клиентов одинаковое., т.к. нет статистически значимой разницы в количестве.\n",
    "\n",
    "**Для магазина Shop 0**\n",
    "\n",
    "- Картина для магазина Shop0 такая же как и для других магазинов - нет статистически значимой разницы в среднем чеке покупателей участвующих и не участвующих в программе лояльности.\n",
    "\n",
    "- В количестве покупок на 1 клиента есть статистически значимая разница, не лояльные покупатели совершали чуть больше покупок в неделю, чем лояльные.\n",
    "\n",
    "Таким образом, на основании проведенного исследования мы можем сделать вывод о том, что программа лояльности не показала своей эффективности, т.к. основная метрика - средний чек не отличается по клиентам, участвующим в программе не участвующим. А количество покупок покупок на 1 клиента за неделю даже чуть выше по клиентам, которые не в программе. Поэтому можно дать рекомендацию для отдела маркетинга - пересмотреть условия программы и если издержки на ее внедрение повлияли снизили рентабельность продаж, то возможно, лучше ее отменить."
   ]
  }
 ],
 "metadata": {
  "ExecuteTimeLog": [
   {
    "duration": 955,
    "start_time": "2022-05-20T14:19:18.447Z"
   },
   {
    "duration": 355,
    "start_time": "2022-05-20T14:27:54.291Z"
   },
   {
    "duration": 30,
    "start_time": "2022-05-20T14:53:37.464Z"
   },
   {
    "duration": 20,
    "start_time": "2022-05-20T14:53:59.888Z"
   },
   {
    "duration": 21,
    "start_time": "2022-05-20T14:55:26.364Z"
   },
   {
    "duration": 26,
    "start_time": "2022-05-20T14:55:50.863Z"
   },
   {
    "duration": 37,
    "start_time": "2022-05-20T14:58:11.898Z"
   },
   {
    "duration": 18,
    "start_time": "2022-05-20T15:10:53.489Z"
   },
   {
    "duration": 32,
    "start_time": "2022-05-20T15:11:07.336Z"
   },
   {
    "duration": 10,
    "start_time": "2022-05-20T15:11:14.627Z"
   },
   {
    "duration": 81,
    "start_time": "2022-05-20T17:27:35.153Z"
   },
   {
    "duration": 952,
    "start_time": "2022-05-20T17:27:42.004Z"
   },
   {
    "duration": 513,
    "start_time": "2022-05-20T17:27:42.958Z"
   },
   {
    "duration": 44,
    "start_time": "2022-05-20T17:27:43.473Z"
   },
   {
    "duration": 50,
    "start_time": "2022-05-20T17:27:43.519Z"
   },
   {
    "duration": 31,
    "start_time": "2022-05-20T17:27:43.575Z"
   },
   {
    "duration": 10,
    "start_time": "2022-05-20T17:27:43.608Z"
   },
   {
    "duration": 111,
    "start_time": "2022-05-20T17:28:25.492Z"
   },
   {
    "duration": 34,
    "start_time": "2022-05-20T17:32:46.978Z"
   },
   {
    "duration": 28,
    "start_time": "2022-05-20T17:33:06.382Z"
   },
   {
    "duration": 74,
    "start_time": "2022-05-20T17:33:13.498Z"
   },
   {
    "duration": 19,
    "start_time": "2022-05-20T17:33:40.882Z"
   },
   {
    "duration": 24,
    "start_time": "2022-05-20T17:40:25.393Z"
   },
   {
    "duration": 27,
    "start_time": "2022-05-20T17:40:37.311Z"
   },
   {
    "duration": 8,
    "start_time": "2022-05-20T17:44:49.038Z"
   },
   {
    "duration": 7,
    "start_time": "2022-05-20T17:45:05.855Z"
   },
   {
    "duration": 7,
    "start_time": "2022-05-20T17:45:25.494Z"
   },
   {
    "duration": 29,
    "start_time": "2022-05-20T17:46:07.668Z"
   },
   {
    "duration": 36,
    "start_time": "2022-05-20T17:46:28.806Z"
   },
   {
    "duration": 38,
    "start_time": "2022-05-20T17:46:45.487Z"
   },
   {
    "duration": 20,
    "start_time": "2022-05-20T17:46:50.706Z"
   },
   {
    "duration": 15,
    "start_time": "2022-05-20T17:47:34.210Z"
   },
   {
    "duration": 26,
    "start_time": "2022-05-20T17:58:30.152Z"
   },
   {
    "duration": 28,
    "start_time": "2022-05-20T17:58:45.305Z"
   },
   {
    "duration": 22,
    "start_time": "2022-05-20T17:58:57.744Z"
   },
   {
    "duration": 36,
    "start_time": "2022-05-20T17:59:03.922Z"
   },
   {
    "duration": 28,
    "start_time": "2022-05-20T18:00:29.243Z"
   },
   {
    "duration": 19,
    "start_time": "2022-05-20T18:00:55.904Z"
   },
   {
    "duration": 18,
    "start_time": "2022-05-20T18:01:02.891Z"
   },
   {
    "duration": 8,
    "start_time": "2022-05-20T18:11:48.648Z"
   },
   {
    "duration": 43,
    "start_time": "2022-05-20T18:12:03.948Z"
   },
   {
    "duration": 6,
    "start_time": "2022-05-20T18:39:27.818Z"
   },
   {
    "duration": 7,
    "start_time": "2022-05-20T18:39:38.791Z"
   },
   {
    "duration": 38,
    "start_time": "2022-05-20T18:51:21.424Z"
   },
   {
    "duration": 5,
    "start_time": "2022-05-20T18:51:33.684Z"
   },
   {
    "duration": 36,
    "start_time": "2022-05-20T18:51:38.437Z"
   },
   {
    "duration": 123,
    "start_time": "2022-05-20T18:52:16.080Z"
   },
   {
    "duration": 108,
    "start_time": "2022-05-20T19:03:23.832Z"
   },
   {
    "duration": 935,
    "start_time": "2022-05-24T09:46:43.118Z"
   },
   {
    "duration": 316,
    "start_time": "2022-05-24T09:46:44.055Z"
   },
   {
    "duration": 10,
    "start_time": "2022-05-24T09:46:44.373Z"
   },
   {
    "duration": 44,
    "start_time": "2022-05-24T09:46:44.386Z"
   },
   {
    "duration": 24,
    "start_time": "2022-05-24T09:46:44.433Z"
   },
   {
    "duration": 43,
    "start_time": "2022-05-24T09:46:44.459Z"
   },
   {
    "duration": 12,
    "start_time": "2022-05-24T09:46:44.504Z"
   },
   {
    "duration": 76,
    "start_time": "2022-05-24T09:46:44.517Z"
   },
   {
    "duration": 7,
    "start_time": "2022-05-24T09:46:44.595Z"
   },
   {
    "duration": 182,
    "start_time": "2022-05-24T09:46:44.605Z"
   },
   {
    "duration": 5,
    "start_time": "2022-05-24T09:47:46.031Z"
   },
   {
    "duration": 9,
    "start_time": "2022-05-24T10:36:45.606Z"
   },
   {
    "duration": 13,
    "start_time": "2022-05-24T10:46:00.035Z"
   },
   {
    "duration": 415,
    "start_time": "2022-05-24T10:46:44.023Z"
   },
   {
    "duration": 106,
    "start_time": "2022-05-24T10:48:11.652Z"
   },
   {
    "duration": 9,
    "start_time": "2022-05-24T10:48:16.926Z"
   },
   {
    "duration": 17,
    "start_time": "2022-05-24T10:48:23.780Z"
   },
   {
    "duration": 15,
    "start_time": "2022-05-24T11:01:12.278Z"
   },
   {
    "duration": 15,
    "start_time": "2022-05-24T11:01:45.758Z"
   },
   {
    "duration": 34,
    "start_time": "2022-05-24T11:02:14.820Z"
   },
   {
    "duration": 683,
    "start_time": "2022-05-24T12:31:15.063Z"
   },
   {
    "duration": 852,
    "start_time": "2022-05-24T12:31:21.380Z"
   },
   {
    "duration": 141,
    "start_time": "2022-05-24T12:31:22.234Z"
   },
   {
    "duration": 17,
    "start_time": "2022-05-24T12:31:22.378Z"
   },
   {
    "duration": 64,
    "start_time": "2022-05-24T12:31:22.398Z"
   },
   {
    "duration": 74,
    "start_time": "2022-05-24T12:31:22.463Z"
   },
   {
    "duration": 42,
    "start_time": "2022-05-24T12:31:22.539Z"
   },
   {
    "duration": 40,
    "start_time": "2022-05-24T12:31:22.582Z"
   },
   {
    "duration": 67,
    "start_time": "2022-05-24T12:31:22.624Z"
   },
   {
    "duration": 8,
    "start_time": "2022-05-24T12:31:22.693Z"
   },
   {
    "duration": 11,
    "start_time": "2022-05-24T12:31:22.703Z"
   },
   {
    "duration": 86,
    "start_time": "2022-05-24T12:31:22.715Z"
   },
   {
    "duration": 75,
    "start_time": "2022-05-24T12:31:22.803Z"
   },
   {
    "duration": 119,
    "start_time": "2022-05-24T12:31:22.879Z"
   },
   {
    "duration": 0,
    "start_time": "2022-05-24T12:31:23.000Z"
   },
   {
    "duration": 872,
    "start_time": "2022-05-24T12:31:36.459Z"
   },
   {
    "duration": 165,
    "start_time": "2022-05-24T12:31:37.334Z"
   },
   {
    "duration": 11,
    "start_time": "2022-05-24T12:31:37.501Z"
   },
   {
    "duration": 53,
    "start_time": "2022-05-24T12:31:37.513Z"
   },
   {
    "duration": 38,
    "start_time": "2022-05-24T12:31:37.585Z"
   },
   {
    "duration": 33,
    "start_time": "2022-05-24T12:31:37.625Z"
   },
   {
    "duration": 31,
    "start_time": "2022-05-24T12:31:37.660Z"
   },
   {
    "duration": 47,
    "start_time": "2022-05-24T12:31:37.693Z"
   },
   {
    "duration": 8,
    "start_time": "2022-05-24T12:31:37.742Z"
   },
   {
    "duration": 36,
    "start_time": "2022-05-24T12:31:37.752Z"
   },
   {
    "duration": 27,
    "start_time": "2022-05-24T12:31:37.790Z"
   },
   {
    "duration": 44,
    "start_time": "2022-05-24T12:31:37.818Z"
   },
   {
    "duration": 146,
    "start_time": "2022-05-24T12:31:37.864Z"
   },
   {
    "duration": 0,
    "start_time": "2022-05-24T12:31:38.013Z"
   },
   {
    "duration": 8,
    "start_time": "2022-05-24T12:32:57.796Z"
   },
   {
    "duration": 4,
    "start_time": "2022-05-24T12:33:31.651Z"
   },
   {
    "duration": 7,
    "start_time": "2022-05-24T12:33:55.179Z"
   },
   {
    "duration": 7,
    "start_time": "2022-05-24T12:34:02.827Z"
   },
   {
    "duration": 17,
    "start_time": "2022-05-24T12:35:07.544Z"
   },
   {
    "duration": 3,
    "start_time": "2022-05-24T12:57:50.976Z"
   },
   {
    "duration": 4,
    "start_time": "2022-05-24T12:57:55.255Z"
   },
   {
    "duration": 13,
    "start_time": "2022-05-24T13:01:19.548Z"
   },
   {
    "duration": 75,
    "start_time": "2022-05-24T13:01:33.854Z"
   },
   {
    "duration": 73,
    "start_time": "2022-05-24T13:03:06.399Z"
   },
   {
    "duration": 17,
    "start_time": "2022-05-24T14:33:54.408Z"
   },
   {
    "duration": 19,
    "start_time": "2022-05-24T14:34:48.071Z"
   },
   {
    "duration": 15,
    "start_time": "2022-05-24T14:35:04.958Z"
   },
   {
    "duration": 15,
    "start_time": "2022-05-24T14:35:31.623Z"
   },
   {
    "duration": 27,
    "start_time": "2022-05-24T14:36:31.648Z"
   },
   {
    "duration": 26,
    "start_time": "2022-05-24T14:36:47.209Z"
   },
   {
    "duration": 18,
    "start_time": "2022-05-24T14:40:32.568Z"
   },
   {
    "duration": 25,
    "start_time": "2022-05-24T14:40:44.890Z"
   },
   {
    "duration": 24,
    "start_time": "2022-05-24T14:40:53.906Z"
   },
   {
    "duration": 29,
    "start_time": "2022-05-24T14:41:55.372Z"
   },
   {
    "duration": 20,
    "start_time": "2022-05-24T14:43:07.301Z"
   },
   {
    "duration": 29,
    "start_time": "2022-05-24T14:45:47.958Z"
   },
   {
    "duration": 18,
    "start_time": "2022-05-24T14:46:08.448Z"
   },
   {
    "duration": 32,
    "start_time": "2022-05-24T14:48:55.163Z"
   },
   {
    "duration": 12,
    "start_time": "2022-05-24T14:49:11.666Z"
   },
   {
    "duration": 41,
    "start_time": "2022-05-24T14:49:21.362Z"
   },
   {
    "duration": 34,
    "start_time": "2022-05-24T14:49:43.652Z"
   },
   {
    "duration": 34,
    "start_time": "2022-05-24T14:49:57.045Z"
   },
   {
    "duration": 24,
    "start_time": "2022-05-24T15:00:33.576Z"
   },
   {
    "duration": 23,
    "start_time": "2022-05-24T15:00:49.792Z"
   },
   {
    "duration": 30,
    "start_time": "2022-05-24T15:01:47.180Z"
   },
   {
    "duration": 24,
    "start_time": "2022-05-24T15:01:54.390Z"
   },
   {
    "duration": 18,
    "start_time": "2022-05-24T15:02:03.270Z"
   },
   {
    "duration": 10,
    "start_time": "2022-05-24T15:02:14.195Z"
   },
   {
    "duration": 32,
    "start_time": "2022-05-24T15:02:18.227Z"
   },
   {
    "duration": 8,
    "start_time": "2022-05-24T15:02:44.882Z"
   },
   {
    "duration": 36,
    "start_time": "2022-05-24T15:03:06.280Z"
   },
   {
    "duration": 10,
    "start_time": "2022-05-24T15:03:13.421Z"
   },
   {
    "duration": 14,
    "start_time": "2022-05-24T15:03:40.313Z"
   },
   {
    "duration": 25,
    "start_time": "2022-05-24T15:12:33.166Z"
   },
   {
    "duration": 18,
    "start_time": "2022-05-24T15:12:51.325Z"
   },
   {
    "duration": 836,
    "start_time": "2022-05-24T19:29:42.027Z"
   },
   {
    "duration": 332,
    "start_time": "2022-05-24T19:29:42.865Z"
   },
   {
    "duration": 21,
    "start_time": "2022-05-24T19:29:43.200Z"
   },
   {
    "duration": 111,
    "start_time": "2022-05-24T19:29:43.224Z"
   },
   {
    "duration": 11,
    "start_time": "2022-05-24T19:29:43.337Z"
   },
   {
    "duration": 60,
    "start_time": "2022-05-24T19:29:43.349Z"
   },
   {
    "duration": 29,
    "start_time": "2022-05-24T19:29:43.411Z"
   },
   {
    "duration": 16,
    "start_time": "2022-05-24T19:29:43.442Z"
   },
   {
    "duration": 34,
    "start_time": "2022-05-24T19:29:43.459Z"
   },
   {
    "duration": 41,
    "start_time": "2022-05-24T19:29:43.499Z"
   },
   {
    "duration": 6,
    "start_time": "2022-05-24T19:29:43.541Z"
   },
   {
    "duration": 5,
    "start_time": "2022-05-24T19:29:43.548Z"
   },
   {
    "duration": 43,
    "start_time": "2022-05-24T19:29:43.554Z"
   },
   {
    "duration": 44,
    "start_time": "2022-05-24T19:29:43.601Z"
   },
   {
    "duration": 58,
    "start_time": "2022-05-24T19:29:43.646Z"
   },
   {
    "duration": 27,
    "start_time": "2022-05-24T19:40:27.145Z"
   },
   {
    "duration": 37,
    "start_time": "2022-05-24T19:40:37.415Z"
   },
   {
    "duration": 18,
    "start_time": "2022-05-24T19:40:53.790Z"
   },
   {
    "duration": 12,
    "start_time": "2022-05-24T19:41:51.991Z"
   },
   {
    "duration": 9,
    "start_time": "2022-05-24T19:42:00.797Z"
   },
   {
    "duration": 29,
    "start_time": "2022-05-24T19:42:30.949Z"
   },
   {
    "duration": 34,
    "start_time": "2022-05-24T19:42:45.751Z"
   },
   {
    "duration": 31,
    "start_time": "2022-05-24T19:45:10.459Z"
   },
   {
    "duration": 5,
    "start_time": "2022-05-24T19:45:55.962Z"
   },
   {
    "duration": 226,
    "start_time": "2022-05-24T19:48:19.199Z"
   },
   {
    "duration": 25,
    "start_time": "2022-05-24T19:49:50.292Z"
   },
   {
    "duration": 36,
    "start_time": "2022-05-24T19:50:54.185Z"
   },
   {
    "duration": 11,
    "start_time": "2022-05-24T19:51:45.962Z"
   },
   {
    "duration": 3,
    "start_time": "2022-05-24T19:52:16.518Z"
   },
   {
    "duration": 5,
    "start_time": "2022-05-24T19:52:19.058Z"
   },
   {
    "duration": 43,
    "start_time": "2022-05-24T19:53:26.642Z"
   },
   {
    "duration": 28,
    "start_time": "2022-05-24T19:53:53.234Z"
   },
   {
    "duration": 50,
    "start_time": "2022-05-24T19:55:12.762Z"
   },
   {
    "duration": 25,
    "start_time": "2022-05-24T19:55:52.704Z"
   },
   {
    "duration": 8,
    "start_time": "2022-05-24T19:56:11.750Z"
   },
   {
    "duration": 8,
    "start_time": "2022-05-24T19:56:26.930Z"
   },
   {
    "duration": 8,
    "start_time": "2022-05-24T19:56:45.446Z"
   },
   {
    "duration": 13,
    "start_time": "2022-05-24T19:56:53.360Z"
   },
   {
    "duration": 4,
    "start_time": "2022-05-24T19:56:57.356Z"
   },
   {
    "duration": 8,
    "start_time": "2022-05-24T19:57:49.408Z"
   },
   {
    "duration": 901,
    "start_time": "2022-05-25T07:54:29.490Z"
   },
   {
    "duration": 370,
    "start_time": "2022-05-25T07:54:30.393Z"
   },
   {
    "duration": 11,
    "start_time": "2022-05-25T07:54:30.764Z"
   },
   {
    "duration": 112,
    "start_time": "2022-05-25T07:54:30.777Z"
   },
   {
    "duration": 13,
    "start_time": "2022-05-25T07:54:30.890Z"
   },
   {
    "duration": 32,
    "start_time": "2022-05-25T07:54:30.904Z"
   },
   {
    "duration": 19,
    "start_time": "2022-05-25T07:54:30.937Z"
   },
   {
    "duration": 46,
    "start_time": "2022-05-25T07:54:30.957Z"
   },
   {
    "duration": 8,
    "start_time": "2022-05-25T07:54:31.005Z"
   },
   {
    "duration": 35,
    "start_time": "2022-05-25T07:54:31.015Z"
   },
   {
    "duration": 6,
    "start_time": "2022-05-25T07:54:31.052Z"
   },
   {
    "duration": 22,
    "start_time": "2022-05-25T07:54:31.059Z"
   },
   {
    "duration": 57,
    "start_time": "2022-05-25T07:54:31.083Z"
   },
   {
    "duration": 35,
    "start_time": "2022-05-25T07:54:31.142Z"
   },
   {
    "duration": 42,
    "start_time": "2022-05-25T07:54:31.179Z"
   },
   {
    "duration": 30,
    "start_time": "2022-05-25T07:54:31.224Z"
   },
   {
    "duration": 8,
    "start_time": "2022-05-25T07:54:31.256Z"
   },
   {
    "duration": 15,
    "start_time": "2022-05-25T07:54:31.266Z"
   },
   {
    "duration": 39,
    "start_time": "2022-05-25T07:54:31.283Z"
   },
   {
    "duration": 29,
    "start_time": "2022-05-25T07:54:31.324Z"
   },
   {
    "duration": 8,
    "start_time": "2022-05-25T07:54:31.355Z"
   },
   {
    "duration": 12,
    "start_time": "2022-05-25T07:54:31.364Z"
   },
   {
    "duration": 14,
    "start_time": "2022-05-25T07:54:31.378Z"
   },
   {
    "duration": 14,
    "start_time": "2022-05-25T07:54:31.394Z"
   },
   {
    "duration": 5,
    "start_time": "2022-05-25T07:54:31.409Z"
   },
   {
    "duration": 7,
    "start_time": "2022-05-25T08:00:21.267Z"
   },
   {
    "duration": 17,
    "start_time": "2022-05-25T08:02:11.327Z"
   },
   {
    "duration": 7,
    "start_time": "2022-05-25T08:02:56.168Z"
   },
   {
    "duration": 9,
    "start_time": "2022-05-25T08:03:16.132Z"
   },
   {
    "duration": 12,
    "start_time": "2022-05-25T08:03:41.647Z"
   },
   {
    "duration": 17,
    "start_time": "2022-05-25T08:04:11.325Z"
   },
   {
    "duration": 15,
    "start_time": "2022-05-25T08:04:24.564Z"
   },
   {
    "duration": 20,
    "start_time": "2022-05-25T08:06:59.114Z"
   },
   {
    "duration": 18,
    "start_time": "2022-05-25T08:07:14.898Z"
   },
   {
    "duration": 8,
    "start_time": "2022-05-25T08:07:35.689Z"
   },
   {
    "duration": 7,
    "start_time": "2022-05-25T08:07:56.593Z"
   },
   {
    "duration": 50,
    "start_time": "2022-05-25T09:04:56.596Z"
   },
   {
    "duration": 26,
    "start_time": "2022-05-25T09:05:07.345Z"
   },
   {
    "duration": 41,
    "start_time": "2022-05-25T09:05:12.643Z"
   },
   {
    "duration": 43,
    "start_time": "2022-05-25T09:05:42.542Z"
   },
   {
    "duration": 143,
    "start_time": "2022-05-25T09:37:46.188Z"
   },
   {
    "duration": 140,
    "start_time": "2022-05-25T09:47:45.193Z"
   },
   {
    "duration": 21,
    "start_time": "2022-05-25T09:47:57.194Z"
   },
   {
    "duration": 24,
    "start_time": "2022-05-25T09:48:28.772Z"
   },
   {
    "duration": 31,
    "start_time": "2022-05-25T09:49:03.818Z"
   },
   {
    "duration": 11,
    "start_time": "2022-05-25T09:49:34.217Z"
   },
   {
    "duration": 2,
    "start_time": "2022-05-25T09:49:50.782Z"
   },
   {
    "duration": 4,
    "start_time": "2022-05-25T09:49:55.459Z"
   },
   {
    "duration": 31,
    "start_time": "2022-05-25T09:50:40.041Z"
   },
   {
    "duration": 54,
    "start_time": "2022-05-25T09:51:41.164Z"
   },
   {
    "duration": 32,
    "start_time": "2022-05-25T09:52:00.517Z"
   },
   {
    "duration": 29,
    "start_time": "2022-05-25T09:52:27.140Z"
   },
   {
    "duration": 41,
    "start_time": "2022-05-25T09:52:34.410Z"
   },
   {
    "duration": 25,
    "start_time": "2022-05-25T09:53:37.760Z"
   },
   {
    "duration": 31,
    "start_time": "2022-05-25T09:53:43.036Z"
   },
   {
    "duration": 36,
    "start_time": "2022-05-25T09:55:06.460Z"
   },
   {
    "duration": 11,
    "start_time": "2022-05-25T09:55:59.086Z"
   },
   {
    "duration": 9,
    "start_time": "2022-05-25T09:58:35.222Z"
   },
   {
    "duration": 11,
    "start_time": "2022-05-25T09:58:56.151Z"
   },
   {
    "duration": 1099,
    "start_time": "2022-05-25T09:59:15.675Z"
   },
   {
    "duration": 274,
    "start_time": "2022-05-25T09:59:25.632Z"
   },
   {
    "duration": 34,
    "start_time": "2022-05-25T10:01:02.689Z"
   },
   {
    "duration": 139,
    "start_time": "2022-05-25T10:01:11.730Z"
   },
   {
    "duration": 27,
    "start_time": "2022-05-25T10:04:33.197Z"
   },
   {
    "duration": 933,
    "start_time": "2022-05-25T10:04:41.183Z"
   },
   {
    "duration": 164,
    "start_time": "2022-05-25T10:04:42.120Z"
   },
   {
    "duration": 29,
    "start_time": "2022-05-25T10:04:42.286Z"
   },
   {
    "duration": 94,
    "start_time": "2022-05-25T10:04:42.321Z"
   },
   {
    "duration": 456,
    "start_time": "2022-05-25T10:04:42.418Z"
   },
   {
    "duration": 13,
    "start_time": "2022-05-25T10:04:42.876Z"
   },
   {
    "duration": 43,
    "start_time": "2022-05-25T10:04:42.903Z"
   },
   {
    "duration": 20,
    "start_time": "2022-05-25T10:04:42.949Z"
   },
   {
    "duration": 51,
    "start_time": "2022-05-25T10:04:42.971Z"
   },
   {
    "duration": 14,
    "start_time": "2022-05-25T10:04:43.026Z"
   },
   {
    "duration": 75,
    "start_time": "2022-05-25T10:04:43.043Z"
   },
   {
    "duration": 7,
    "start_time": "2022-05-25T10:04:43.120Z"
   },
   {
    "duration": 9,
    "start_time": "2022-05-25T10:04:43.130Z"
   },
   {
    "duration": 28,
    "start_time": "2022-05-25T10:04:43.141Z"
   },
   {
    "duration": 65,
    "start_time": "2022-05-25T10:04:43.171Z"
   },
   {
    "duration": 27,
    "start_time": "2022-05-25T10:04:43.238Z"
   },
   {
    "duration": 61,
    "start_time": "2022-05-25T10:04:43.267Z"
   },
   {
    "duration": 8,
    "start_time": "2022-05-25T10:04:43.330Z"
   },
   {
    "duration": 7,
    "start_time": "2022-05-25T10:04:43.341Z"
   },
   {
    "duration": 28,
    "start_time": "2022-05-25T10:04:43.350Z"
   },
   {
    "duration": 65,
    "start_time": "2022-05-25T10:04:43.380Z"
   },
   {
    "duration": 20,
    "start_time": "2022-05-25T10:04:43.447Z"
   },
   {
    "duration": 58,
    "start_time": "2022-05-25T10:04:43.469Z"
   },
   {
    "duration": 12,
    "start_time": "2022-05-25T10:04:43.529Z"
   },
   {
    "duration": 20,
    "start_time": "2022-05-25T10:06:15.104Z"
   },
   {
    "duration": 10,
    "start_time": "2022-05-25T10:07:26.774Z"
   },
   {
    "duration": 146,
    "start_time": "2022-05-25T10:09:09.674Z"
   },
   {
    "duration": 11,
    "start_time": "2022-05-25T10:09:22.413Z"
   },
   {
    "duration": 37,
    "start_time": "2022-05-25T10:13:16.999Z"
   },
   {
    "duration": 31,
    "start_time": "2022-05-25T10:14:32.299Z"
   },
   {
    "duration": 52,
    "start_time": "2022-05-25T10:14:37.868Z"
   },
   {
    "duration": 32,
    "start_time": "2022-05-25T10:15:06.858Z"
   },
   {
    "duration": 60,
    "start_time": "2022-05-25T10:15:14.726Z"
   },
   {
    "duration": 37,
    "start_time": "2022-05-25T10:18:13.057Z"
   },
   {
    "duration": 50,
    "start_time": "2022-05-25T10:19:20.365Z"
   },
   {
    "duration": 30,
    "start_time": "2022-05-25T10:19:38.245Z"
   },
   {
    "duration": 39,
    "start_time": "2022-05-25T10:19:47.283Z"
   },
   {
    "duration": 40,
    "start_time": "2022-05-25T10:20:05.408Z"
   },
   {
    "duration": 31,
    "start_time": "2022-05-25T10:20:12.323Z"
   },
   {
    "duration": 22,
    "start_time": "2022-05-25T10:21:50.929Z"
   },
   {
    "duration": 17,
    "start_time": "2022-05-25T10:24:51.752Z"
   },
   {
    "duration": 12,
    "start_time": "2022-05-25T10:25:09.063Z"
   },
   {
    "duration": 6,
    "start_time": "2022-05-25T10:31:57.346Z"
   },
   {
    "duration": 10,
    "start_time": "2022-05-25T10:33:53.724Z"
   },
   {
    "duration": 13,
    "start_time": "2022-05-25T10:34:16.822Z"
   },
   {
    "duration": 7,
    "start_time": "2022-05-25T10:36:36.770Z"
   },
   {
    "duration": 30,
    "start_time": "2022-05-25T10:37:36.752Z"
   },
   {
    "duration": 14,
    "start_time": "2022-05-25T10:38:14.913Z"
   },
   {
    "duration": 22,
    "start_time": "2022-05-25T10:38:55.955Z"
   },
   {
    "duration": 6,
    "start_time": "2022-05-25T10:39:49.943Z"
   },
   {
    "duration": 7,
    "start_time": "2022-05-25T11:40:57.738Z"
   },
   {
    "duration": 6,
    "start_time": "2022-05-25T11:41:02.211Z"
   },
   {
    "duration": 9,
    "start_time": "2022-05-25T11:41:26.028Z"
   },
   {
    "duration": 9,
    "start_time": "2022-05-25T11:41:55.012Z"
   },
   {
    "duration": 43,
    "start_time": "2022-05-25T11:42:04.508Z"
   },
   {
    "duration": 9,
    "start_time": "2022-05-25T11:42:09.175Z"
   },
   {
    "duration": 20,
    "start_time": "2022-05-25T11:42:54.851Z"
   },
   {
    "duration": 9,
    "start_time": "2022-05-25T11:43:33.168Z"
   },
   {
    "duration": 9,
    "start_time": "2022-05-25T11:45:31.282Z"
   },
   {
    "duration": 7,
    "start_time": "2022-05-25T11:45:36.387Z"
   },
   {
    "duration": 8,
    "start_time": "2022-05-25T11:48:25.096Z"
   },
   {
    "duration": 41,
    "start_time": "2022-05-25T11:55:32.740Z"
   },
   {
    "duration": 22,
    "start_time": "2022-05-25T11:56:49.024Z"
   },
   {
    "duration": 859,
    "start_time": "2022-05-25T11:57:50.755Z"
   },
   {
    "duration": 135,
    "start_time": "2022-05-25T11:57:51.616Z"
   },
   {
    "duration": 11,
    "start_time": "2022-05-25T11:57:51.753Z"
   },
   {
    "duration": 101,
    "start_time": "2022-05-25T11:57:51.766Z"
   },
   {
    "duration": 454,
    "start_time": "2022-05-25T11:57:51.868Z"
   },
   {
    "duration": 12,
    "start_time": "2022-05-25T11:57:52.324Z"
   },
   {
    "duration": 32,
    "start_time": "2022-05-25T11:57:52.338Z"
   },
   {
    "duration": 46,
    "start_time": "2022-05-25T11:57:52.372Z"
   },
   {
    "duration": 19,
    "start_time": "2022-05-25T11:57:52.419Z"
   },
   {
    "duration": 7,
    "start_time": "2022-05-25T11:57:52.440Z"
   },
   {
    "duration": 66,
    "start_time": "2022-05-25T11:57:52.449Z"
   },
   {
    "duration": 6,
    "start_time": "2022-05-25T11:57:52.517Z"
   },
   {
    "duration": 6,
    "start_time": "2022-05-25T11:57:52.525Z"
   },
   {
    "duration": 20,
    "start_time": "2022-05-25T11:57:52.533Z"
   },
   {
    "duration": 70,
    "start_time": "2022-05-25T11:57:52.554Z"
   },
   {
    "duration": 6,
    "start_time": "2022-05-25T11:57:52.626Z"
   },
   {
    "duration": 18,
    "start_time": "2022-05-25T11:57:52.634Z"
   },
   {
    "duration": 8,
    "start_time": "2022-05-25T11:57:52.654Z"
   },
   {
    "duration": 42,
    "start_time": "2022-05-25T11:57:52.663Z"
   },
   {
    "duration": 41,
    "start_time": "2022-05-25T11:57:52.707Z"
   },
   {
    "duration": 9,
    "start_time": "2022-05-25T11:57:52.749Z"
   },
   {
    "duration": 8,
    "start_time": "2022-05-25T11:57:52.759Z"
   },
   {
    "duration": 47,
    "start_time": "2022-05-25T11:57:52.769Z"
   },
   {
    "duration": 22,
    "start_time": "2022-05-25T11:57:52.818Z"
   },
   {
    "duration": 14,
    "start_time": "2022-05-25T11:57:52.842Z"
   },
   {
    "duration": 59,
    "start_time": "2022-05-25T11:57:52.857Z"
   },
   {
    "duration": 13,
    "start_time": "2022-05-25T11:57:52.918Z"
   },
   {
    "duration": 10,
    "start_time": "2022-05-25T11:57:52.934Z"
   },
   {
    "duration": 12,
    "start_time": "2022-05-25T11:57:52.946Z"
   },
   {
    "duration": 9,
    "start_time": "2022-05-25T12:02:59.489Z"
   },
   {
    "duration": 130,
    "start_time": "2022-05-25T12:03:39.265Z"
   },
   {
    "duration": 5,
    "start_time": "2022-05-25T12:04:41.495Z"
   },
   {
    "duration": 10,
    "start_time": "2022-05-25T12:04:59.261Z"
   },
   {
    "duration": 9,
    "start_time": "2022-05-25T12:09:51.794Z"
   },
   {
    "duration": 10,
    "start_time": "2022-05-25T12:10:53.023Z"
   },
   {
    "duration": 860,
    "start_time": "2022-05-25T12:11:02.032Z"
   },
   {
    "duration": 145,
    "start_time": "2022-05-25T12:11:02.894Z"
   },
   {
    "duration": 11,
    "start_time": "2022-05-25T12:11:03.043Z"
   },
   {
    "duration": 109,
    "start_time": "2022-05-25T12:11:03.055Z"
   },
   {
    "duration": 8,
    "start_time": "2022-05-25T12:11:03.165Z"
   },
   {
    "duration": 11,
    "start_time": "2022-05-25T12:11:03.174Z"
   },
   {
    "duration": 57,
    "start_time": "2022-05-25T12:11:03.186Z"
   },
   {
    "duration": 19,
    "start_time": "2022-05-25T12:11:03.245Z"
   },
   {
    "duration": 59,
    "start_time": "2022-05-25T12:11:03.268Z"
   },
   {
    "duration": 6,
    "start_time": "2022-05-25T12:11:03.329Z"
   },
   {
    "duration": 32,
    "start_time": "2022-05-25T12:11:03.337Z"
   },
   {
    "duration": 6,
    "start_time": "2022-05-25T12:11:03.371Z"
   },
   {
    "duration": 7,
    "start_time": "2022-05-25T12:11:03.404Z"
   },
   {
    "duration": 25,
    "start_time": "2022-05-25T12:11:03.414Z"
   },
   {
    "duration": 30,
    "start_time": "2022-05-25T12:11:03.440Z"
   },
   {
    "duration": 38,
    "start_time": "2022-05-25T12:11:03.472Z"
   },
   {
    "duration": 18,
    "start_time": "2022-05-25T12:11:03.514Z"
   },
   {
    "duration": 8,
    "start_time": "2022-05-25T12:11:03.533Z"
   },
   {
    "duration": 20,
    "start_time": "2022-05-25T12:11:03.542Z"
   },
   {
    "duration": 58,
    "start_time": "2022-05-25T12:11:03.564Z"
   },
   {
    "duration": 8,
    "start_time": "2022-05-25T12:11:03.625Z"
   },
   {
    "duration": 16,
    "start_time": "2022-05-25T12:11:03.634Z"
   },
   {
    "duration": 34,
    "start_time": "2022-05-25T12:11:03.651Z"
   },
   {
    "duration": 52,
    "start_time": "2022-05-25T12:11:03.686Z"
   },
   {
    "duration": 10,
    "start_time": "2022-05-25T12:11:03.740Z"
   },
   {
    "duration": 38,
    "start_time": "2022-05-25T12:11:03.751Z"
   },
   {
    "duration": 35,
    "start_time": "2022-05-25T12:11:03.792Z"
   },
   {
    "duration": 12,
    "start_time": "2022-05-25T12:11:03.829Z"
   },
   {
    "duration": 20,
    "start_time": "2022-05-25T12:11:03.843Z"
   },
   {
    "duration": 161,
    "start_time": "2022-05-25T12:30:35.868Z"
   },
   {
    "duration": 28,
    "start_time": "2022-05-25T12:30:53.276Z"
   },
   {
    "duration": 37,
    "start_time": "2022-05-25T12:36:41.529Z"
   },
   {
    "duration": 33,
    "start_time": "2022-05-25T12:40:34.452Z"
   },
   {
    "duration": 25,
    "start_time": "2022-05-25T12:52:22.801Z"
   },
   {
    "duration": 10,
    "start_time": "2022-05-25T12:52:49.248Z"
   },
   {
    "duration": 13,
    "start_time": "2022-05-25T12:54:04.157Z"
   },
   {
    "duration": 9,
    "start_time": "2022-05-25T12:54:37.579Z"
   },
   {
    "duration": 14,
    "start_time": "2022-05-25T12:56:19.823Z"
   },
   {
    "duration": 65,
    "start_time": "2022-05-25T13:03:11.334Z"
   },
   {
    "duration": 17,
    "start_time": "2022-05-25T13:03:20.932Z"
   },
   {
    "duration": 29,
    "start_time": "2022-05-25T13:03:35.754Z"
   },
   {
    "duration": 13,
    "start_time": "2022-05-25T14:11:17.861Z"
   },
   {
    "duration": 22,
    "start_time": "2022-05-25T14:12:45.700Z"
   },
   {
    "duration": 19,
    "start_time": "2022-05-25T14:14:19.453Z"
   },
   {
    "duration": 14,
    "start_time": "2022-05-25T14:16:03.215Z"
   },
   {
    "duration": 22,
    "start_time": "2022-05-25T14:16:07.922Z"
   },
   {
    "duration": 25,
    "start_time": "2022-05-25T14:16:23.085Z"
   },
   {
    "duration": 24,
    "start_time": "2022-05-25T14:16:50.039Z"
   },
   {
    "duration": 18,
    "start_time": "2022-05-25T14:16:54.589Z"
   },
   {
    "duration": 30,
    "start_time": "2022-05-25T14:17:25.811Z"
   },
   {
    "duration": 20,
    "start_time": "2022-05-25T14:19:03.507Z"
   },
   {
    "duration": 33,
    "start_time": "2022-05-25T14:19:13.769Z"
   },
   {
    "duration": 22,
    "start_time": "2022-05-25T14:19:35.625Z"
   },
   {
    "duration": 25,
    "start_time": "2022-05-25T14:19:40.653Z"
   },
   {
    "duration": 20,
    "start_time": "2022-05-25T14:25:11.377Z"
   },
   {
    "duration": 28,
    "start_time": "2022-05-25T14:25:14.837Z"
   },
   {
    "duration": 12,
    "start_time": "2022-05-25T14:25:50.561Z"
   },
   {
    "duration": 37,
    "start_time": "2022-05-25T14:28:24.738Z"
   },
   {
    "duration": 41,
    "start_time": "2022-05-25T14:28:44.687Z"
   },
   {
    "duration": 26,
    "start_time": "2022-05-25T14:34:13.118Z"
   },
   {
    "duration": 31,
    "start_time": "2022-05-25T14:37:47.129Z"
   },
   {
    "duration": 15,
    "start_time": "2022-05-25T14:45:02.744Z"
   },
   {
    "duration": 19,
    "start_time": "2022-05-25T14:45:16.856Z"
   },
   {
    "duration": 808,
    "start_time": "2022-05-26T07:08:16.547Z"
   },
   {
    "duration": 519,
    "start_time": "2022-05-26T07:08:17.357Z"
   },
   {
    "duration": 10,
    "start_time": "2022-05-26T07:08:17.878Z"
   },
   {
    "duration": 84,
    "start_time": "2022-05-26T07:08:17.890Z"
   },
   {
    "duration": 7,
    "start_time": "2022-05-26T07:08:17.976Z"
   },
   {
    "duration": 11,
    "start_time": "2022-05-26T07:08:17.995Z"
   },
   {
    "duration": 38,
    "start_time": "2022-05-26T07:08:18.007Z"
   },
   {
    "duration": 18,
    "start_time": "2022-05-26T07:08:18.047Z"
   },
   {
    "duration": 42,
    "start_time": "2022-05-26T07:08:18.067Z"
   },
   {
    "duration": 6,
    "start_time": "2022-05-26T07:08:18.111Z"
   },
   {
    "duration": 27,
    "start_time": "2022-05-26T07:08:18.119Z"
   },
   {
    "duration": 6,
    "start_time": "2022-05-26T07:08:18.148Z"
   },
   {
    "duration": 9,
    "start_time": "2022-05-26T07:08:18.155Z"
   },
   {
    "duration": 16,
    "start_time": "2022-05-26T07:08:18.200Z"
   },
   {
    "duration": 28,
    "start_time": "2022-05-26T07:08:18.217Z"
   },
   {
    "duration": 6,
    "start_time": "2022-05-26T07:08:18.246Z"
   },
   {
    "duration": 15,
    "start_time": "2022-05-26T07:08:18.254Z"
   },
   {
    "duration": 31,
    "start_time": "2022-05-26T07:08:18.270Z"
   },
   {
    "duration": 15,
    "start_time": "2022-05-26T07:08:18.302Z"
   },
   {
    "duration": 25,
    "start_time": "2022-05-26T07:08:18.319Z"
   },
   {
    "duration": 7,
    "start_time": "2022-05-26T07:08:18.345Z"
   },
   {
    "duration": 14,
    "start_time": "2022-05-26T07:08:18.353Z"
   },
   {
    "duration": 43,
    "start_time": "2022-05-26T07:08:18.368Z"
   },
   {
    "duration": 21,
    "start_time": "2022-05-26T07:08:18.413Z"
   },
   {
    "duration": 11,
    "start_time": "2022-05-26T07:08:18.435Z"
   },
   {
    "duration": 53,
    "start_time": "2022-05-26T07:08:18.447Z"
   },
   {
    "duration": 26,
    "start_time": "2022-05-26T07:08:18.502Z"
   },
   {
    "duration": 36,
    "start_time": "2022-05-26T07:08:18.531Z"
   },
   {
    "duration": 48,
    "start_time": "2022-05-26T07:08:18.569Z"
   },
   {
    "duration": 12,
    "start_time": "2022-05-26T07:08:18.619Z"
   },
   {
    "duration": 27,
    "start_time": "2022-05-26T07:08:18.632Z"
   },
   {
    "duration": 59,
    "start_time": "2022-05-26T07:08:18.661Z"
   },
   {
    "duration": 24,
    "start_time": "2022-05-26T07:08:18.721Z"
   },
   {
    "duration": 48,
    "start_time": "2022-05-26T07:08:18.746Z"
   },
   {
    "duration": 18,
    "start_time": "2022-05-26T07:08:18.796Z"
   },
   {
    "duration": 9,
    "start_time": "2022-05-26T07:08:18.816Z"
   },
   {
    "duration": 12,
    "start_time": "2022-05-26T07:08:18.827Z"
   },
   {
    "duration": 54,
    "start_time": "2022-05-26T07:08:18.841Z"
   },
   {
    "duration": 13,
    "start_time": "2022-05-26T07:08:18.898Z"
   },
   {
    "duration": 9,
    "start_time": "2022-05-26T07:08:18.912Z"
   },
   {
    "duration": 14,
    "start_time": "2022-05-26T07:08:18.923Z"
   },
   {
    "duration": 16,
    "start_time": "2022-05-26T07:09:31.676Z"
   },
   {
    "duration": 7,
    "start_time": "2022-05-26T07:10:47.152Z"
   },
   {
    "duration": 35,
    "start_time": "2022-05-26T07:14:54.553Z"
   },
   {
    "duration": 76,
    "start_time": "2022-05-26T07:15:03.573Z"
   },
   {
    "duration": 27,
    "start_time": "2022-05-26T07:15:09.343Z"
   },
   {
    "duration": 23,
    "start_time": "2022-05-26T07:15:38.767Z"
   },
   {
    "duration": 6,
    "start_time": "2022-05-26T07:33:00.922Z"
   },
   {
    "duration": 29,
    "start_time": "2022-05-26T07:33:05.543Z"
   },
   {
    "duration": 19,
    "start_time": "2022-05-26T07:33:59.749Z"
   },
   {
    "duration": 24,
    "start_time": "2022-05-26T07:34:49.045Z"
   },
   {
    "duration": 43,
    "start_time": "2022-05-26T07:34:53.992Z"
   },
   {
    "duration": 41,
    "start_time": "2022-05-26T07:37:07.152Z"
   },
   {
    "duration": 1224,
    "start_time": "2022-05-26T07:44:38.075Z"
   },
   {
    "duration": 722,
    "start_time": "2022-05-26T07:47:47.089Z"
   },
   {
    "duration": 222,
    "start_time": "2022-05-26T07:47:59.439Z"
   },
   {
    "duration": 885,
    "start_time": "2022-05-26T07:48:17.471Z"
   },
   {
    "duration": 172,
    "start_time": "2022-05-26T07:50:11.444Z"
   },
   {
    "duration": 152,
    "start_time": "2022-05-26T07:50:26.040Z"
   },
   {
    "duration": 127,
    "start_time": "2022-05-26T07:54:52.386Z"
   },
   {
    "duration": 8,
    "start_time": "2022-05-26T07:55:13.159Z"
   },
   {
    "duration": 7,
    "start_time": "2022-05-26T07:55:22.841Z"
   },
   {
    "duration": 7,
    "start_time": "2022-05-26T07:55:36.151Z"
   },
   {
    "duration": 8,
    "start_time": "2022-05-26T07:55:43.188Z"
   },
   {
    "duration": 10,
    "start_time": "2022-05-26T07:55:54.968Z"
   },
   {
    "duration": 621,
    "start_time": "2022-05-26T07:56:14.600Z"
   },
   {
    "duration": 17,
    "start_time": "2022-05-26T07:56:27.935Z"
   },
   {
    "duration": 187,
    "start_time": "2022-05-26T07:57:02.049Z"
   },
   {
    "duration": 399,
    "start_time": "2022-05-26T08:02:51.546Z"
   },
   {
    "duration": 201,
    "start_time": "2022-05-26T08:02:59.342Z"
   },
   {
    "duration": 16,
    "start_time": "2022-05-26T08:03:15.264Z"
   },
   {
    "duration": 166,
    "start_time": "2022-05-26T08:03:33.180Z"
   },
   {
    "duration": 199,
    "start_time": "2022-05-26T08:05:45.185Z"
   },
   {
    "duration": 194,
    "start_time": "2022-05-26T08:06:01.853Z"
   },
   {
    "duration": 277,
    "start_time": "2022-05-26T08:06:44.267Z"
   },
   {
    "duration": 287,
    "start_time": "2022-05-26T08:07:07.315Z"
   },
   {
    "duration": 140,
    "start_time": "2022-05-26T08:07:15.979Z"
   },
   {
    "duration": 20,
    "start_time": "2022-05-26T08:18:21.159Z"
   },
   {
    "duration": 37,
    "start_time": "2022-05-26T08:23:37.837Z"
   },
   {
    "duration": 248,
    "start_time": "2022-05-26T08:24:19.621Z"
   },
   {
    "duration": 30,
    "start_time": "2022-05-26T08:25:36.336Z"
   },
   {
    "duration": 43,
    "start_time": "2022-05-26T08:25:54.934Z"
   },
   {
    "duration": 54,
    "start_time": "2022-05-26T08:26:07.658Z"
   },
   {
    "duration": 74,
    "start_time": "2022-05-26T08:26:14.184Z"
   },
   {
    "duration": 39,
    "start_time": "2022-05-26T08:26:27.940Z"
   },
   {
    "duration": 49,
    "start_time": "2022-05-26T08:26:37.009Z"
   },
   {
    "duration": 277,
    "start_time": "2022-05-26T08:26:49.565Z"
   },
   {
    "duration": 271,
    "start_time": "2022-05-26T08:27:01.872Z"
   },
   {
    "duration": 515,
    "start_time": "2022-05-26T08:28:45.350Z"
   },
   {
    "duration": 543,
    "start_time": "2022-05-26T08:29:03.735Z"
   },
   {
    "duration": 1200,
    "start_time": "2022-05-26T10:46:27.793Z"
   },
   {
    "duration": 358,
    "start_time": "2022-05-26T10:46:28.995Z"
   },
   {
    "duration": 10,
    "start_time": "2022-05-26T10:46:29.355Z"
   },
   {
    "duration": 78,
    "start_time": "2022-05-26T10:46:29.367Z"
   },
   {
    "duration": 7,
    "start_time": "2022-05-26T10:46:29.446Z"
   },
   {
    "duration": 10,
    "start_time": "2022-05-26T10:46:29.455Z"
   },
   {
    "duration": 27,
    "start_time": "2022-05-26T10:46:29.475Z"
   },
   {
    "duration": 15,
    "start_time": "2022-05-26T10:46:29.504Z"
   },
   {
    "duration": 16,
    "start_time": "2022-05-26T10:46:29.521Z"
   },
   {
    "duration": 6,
    "start_time": "2022-05-26T10:46:29.539Z"
   },
   {
    "duration": 52,
    "start_time": "2022-05-26T10:46:29.546Z"
   },
   {
    "duration": 5,
    "start_time": "2022-05-26T10:46:29.599Z"
   },
   {
    "duration": 4,
    "start_time": "2022-05-26T10:46:29.606Z"
   },
   {
    "duration": 16,
    "start_time": "2022-05-26T10:46:29.611Z"
   },
   {
    "duration": 56,
    "start_time": "2022-05-26T10:46:29.628Z"
   },
   {
    "duration": 5,
    "start_time": "2022-05-26T10:46:29.685Z"
   },
   {
    "duration": 14,
    "start_time": "2022-05-26T10:46:29.692Z"
   },
   {
    "duration": 6,
    "start_time": "2022-05-26T10:46:29.707Z"
   },
   {
    "duration": 15,
    "start_time": "2022-05-26T10:46:29.714Z"
   },
   {
    "duration": 46,
    "start_time": "2022-05-26T10:46:29.731Z"
   },
   {
    "duration": 5,
    "start_time": "2022-05-26T10:46:29.779Z"
   },
   {
    "duration": 10,
    "start_time": "2022-05-26T10:46:29.785Z"
   },
   {
    "duration": 16,
    "start_time": "2022-05-26T10:46:29.796Z"
   },
   {
    "duration": 19,
    "start_time": "2022-05-26T10:46:29.814Z"
   },
   {
    "duration": 10,
    "start_time": "2022-05-26T10:46:29.835Z"
   },
   {
    "duration": 48,
    "start_time": "2022-05-26T10:46:29.846Z"
   },
   {
    "duration": 27,
    "start_time": "2022-05-26T10:46:29.895Z"
   },
   {
    "duration": 54,
    "start_time": "2022-05-26T10:46:29.925Z"
   },
   {
    "duration": 28,
    "start_time": "2022-05-26T10:46:29.980Z"
   },
   {
    "duration": 10,
    "start_time": "2022-05-26T10:46:30.010Z"
   },
   {
    "duration": 26,
    "start_time": "2022-05-26T10:46:30.021Z"
   },
   {
    "duration": 57,
    "start_time": "2022-05-26T10:46:30.048Z"
   },
   {
    "duration": 20,
    "start_time": "2022-05-26T10:46:30.106Z"
   },
   {
    "duration": 30,
    "start_time": "2022-05-26T10:46:30.128Z"
   },
   {
    "duration": 32,
    "start_time": "2022-05-26T10:46:30.159Z"
   },
   {
    "duration": 6,
    "start_time": "2022-05-26T10:46:30.192Z"
   },
   {
    "duration": 555,
    "start_time": "2022-05-26T10:46:30.199Z"
   },
   {
    "duration": 4,
    "start_time": "2022-05-26T10:46:30.756Z"
   },
   {
    "duration": 0,
    "start_time": "2022-05-26T10:46:30.762Z"
   },
   {
    "duration": 0,
    "start_time": "2022-05-26T10:46:30.774Z"
   },
   {
    "duration": 0,
    "start_time": "2022-05-26T10:46:30.776Z"
   },
   {
    "duration": 0,
    "start_time": "2022-05-26T10:46:30.777Z"
   },
   {
    "duration": 0,
    "start_time": "2022-05-26T10:46:30.778Z"
   },
   {
    "duration": 0,
    "start_time": "2022-05-26T10:46:30.779Z"
   },
   {
    "duration": 0,
    "start_time": "2022-05-26T10:46:30.780Z"
   },
   {
    "duration": 176,
    "start_time": "2022-05-26T10:46:49.959Z"
   },
   {
    "duration": 183,
    "start_time": "2022-05-26T10:47:00.550Z"
   },
   {
    "duration": 183,
    "start_time": "2022-05-26T10:47:53.951Z"
   },
   {
    "duration": 278,
    "start_time": "2022-05-26T10:50:49.672Z"
   },
   {
    "duration": 174,
    "start_time": "2022-05-26T10:53:45.688Z"
   },
   {
    "duration": 175,
    "start_time": "2022-05-26T10:54:31.450Z"
   },
   {
    "duration": 248,
    "start_time": "2022-05-26T10:54:42.678Z"
   },
   {
    "duration": 183,
    "start_time": "2022-05-26T10:54:47.706Z"
   },
   {
    "duration": 191,
    "start_time": "2022-05-26T10:55:14.437Z"
   },
   {
    "duration": 231,
    "start_time": "2022-05-26T10:55:43.990Z"
   },
   {
    "duration": 226,
    "start_time": "2022-05-26T10:56:01.816Z"
   },
   {
    "duration": 64,
    "start_time": "2022-05-26T10:59:04.199Z"
   },
   {
    "duration": 54,
    "start_time": "2022-05-26T10:59:44.328Z"
   },
   {
    "duration": 12,
    "start_time": "2022-05-26T11:00:28.493Z"
   },
   {
    "duration": 19,
    "start_time": "2022-05-26T11:00:34.217Z"
   },
   {
    "duration": 27,
    "start_time": "2022-05-26T11:01:14.806Z"
   },
   {
    "duration": 28,
    "start_time": "2022-05-26T11:01:23.856Z"
   },
   {
    "duration": 11,
    "start_time": "2022-05-26T11:01:30.606Z"
   },
   {
    "duration": 122,
    "start_time": "2022-05-26T11:01:43.572Z"
   },
   {
    "duration": 8,
    "start_time": "2022-05-26T11:01:46.702Z"
   },
   {
    "duration": 43,
    "start_time": "2022-05-26T11:01:56.058Z"
   },
   {
    "duration": 9,
    "start_time": "2022-05-26T11:02:05.330Z"
   },
   {
    "duration": 53,
    "start_time": "2022-05-26T11:02:12.527Z"
   },
   {
    "duration": 12,
    "start_time": "2022-05-26T11:02:17.231Z"
   },
   {
    "duration": 49,
    "start_time": "2022-05-26T11:02:20.822Z"
   },
   {
    "duration": 40,
    "start_time": "2022-05-26T11:02:41.876Z"
   },
   {
    "duration": 9,
    "start_time": "2022-05-26T11:02:43.553Z"
   },
   {
    "duration": 190,
    "start_time": "2022-05-26T11:02:49.525Z"
   },
   {
    "duration": 221,
    "start_time": "2022-05-26T11:03:43.836Z"
   },
   {
    "duration": 179,
    "start_time": "2022-05-26T11:04:04.725Z"
   },
   {
    "duration": 202,
    "start_time": "2022-05-26T11:04:46.578Z"
   },
   {
    "duration": 193,
    "start_time": "2022-05-26T11:06:49.876Z"
   },
   {
    "duration": 178,
    "start_time": "2022-05-26T11:07:05.754Z"
   },
   {
    "duration": 10,
    "start_time": "2022-05-26T11:36:22.647Z"
   },
   {
    "duration": 11,
    "start_time": "2022-05-26T11:37:08.421Z"
   },
   {
    "duration": 8,
    "start_time": "2022-05-26T11:39:36.327Z"
   },
   {
    "duration": 115,
    "start_time": "2022-05-26T11:41:02.548Z"
   },
   {
    "duration": 9,
    "start_time": "2022-05-26T11:41:20.259Z"
   },
   {
    "duration": 122,
    "start_time": "2022-05-26T11:41:36.454Z"
   },
   {
    "duration": 15,
    "start_time": "2022-05-26T11:44:56.659Z"
   },
   {
    "duration": 1163,
    "start_time": "2022-05-26T11:45:01.939Z"
   },
   {
    "duration": 107,
    "start_time": "2022-05-26T11:45:03.104Z"
   },
   {
    "duration": 8,
    "start_time": "2022-05-26T11:45:03.213Z"
   },
   {
    "duration": 86,
    "start_time": "2022-05-26T11:45:03.223Z"
   },
   {
    "duration": 8,
    "start_time": "2022-05-26T11:45:03.310Z"
   },
   {
    "duration": 139,
    "start_time": "2022-05-26T11:45:03.320Z"
   },
   {
    "duration": 24,
    "start_time": "2022-05-26T11:45:03.460Z"
   },
   {
    "duration": 97,
    "start_time": "2022-05-26T11:45:03.485Z"
   },
   {
    "duration": 17,
    "start_time": "2022-05-26T11:45:03.583Z"
   },
   {
    "duration": 16,
    "start_time": "2022-05-26T11:45:03.602Z"
   },
   {
    "duration": 10,
    "start_time": "2022-05-26T11:45:03.619Z"
   },
   {
    "duration": 56,
    "start_time": "2022-05-26T11:45:03.630Z"
   },
   {
    "duration": 7,
    "start_time": "2022-05-26T11:45:03.688Z"
   },
   {
    "duration": 6,
    "start_time": "2022-05-26T11:45:03.696Z"
   },
   {
    "duration": 18,
    "start_time": "2022-05-26T11:45:03.703Z"
   },
   {
    "duration": 57,
    "start_time": "2022-05-26T11:45:03.723Z"
   },
   {
    "duration": 5,
    "start_time": "2022-05-26T11:45:03.782Z"
   },
   {
    "duration": 16,
    "start_time": "2022-05-26T11:45:03.789Z"
   },
   {
    "duration": 29,
    "start_time": "2022-05-26T11:45:03.806Z"
   },
   {
    "duration": 26,
    "start_time": "2022-05-26T11:45:03.837Z"
   },
   {
    "duration": 25,
    "start_time": "2022-05-26T11:45:03.865Z"
   },
   {
    "duration": 5,
    "start_time": "2022-05-26T11:45:03.892Z"
   },
   {
    "duration": 8,
    "start_time": "2022-05-26T11:45:03.898Z"
   },
   {
    "duration": 19,
    "start_time": "2022-05-26T11:45:03.907Z"
   },
   {
    "duration": 22,
    "start_time": "2022-05-26T11:45:03.927Z"
   },
   {
    "duration": 24,
    "start_time": "2022-05-26T11:45:03.951Z"
   },
   {
    "duration": 30,
    "start_time": "2022-05-26T11:45:03.977Z"
   },
   {
    "duration": 24,
    "start_time": "2022-05-26T11:45:04.010Z"
   },
   {
    "duration": 59,
    "start_time": "2022-05-26T11:45:04.036Z"
   },
   {
    "duration": 28,
    "start_time": "2022-05-26T11:45:04.098Z"
   },
   {
    "duration": 11,
    "start_time": "2022-05-26T11:45:04.128Z"
   },
   {
    "duration": 52,
    "start_time": "2022-05-26T11:45:04.140Z"
   },
   {
    "duration": 35,
    "start_time": "2022-05-26T11:45:04.194Z"
   },
   {
    "duration": 22,
    "start_time": "2022-05-26T11:45:04.231Z"
   },
   {
    "duration": 46,
    "start_time": "2022-05-26T11:45:04.255Z"
   },
   {
    "duration": 17,
    "start_time": "2022-05-26T11:45:04.303Z"
   },
   {
    "duration": 6,
    "start_time": "2022-05-26T11:45:04.321Z"
   },
   {
    "duration": 319,
    "start_time": "2022-05-26T11:45:04.328Z"
   },
   {
    "duration": 239,
    "start_time": "2022-05-26T11:45:04.648Z"
   },
   {
    "duration": 189,
    "start_time": "2022-05-26T11:45:04.889Z"
   },
   {
    "duration": 8,
    "start_time": "2022-05-26T11:45:05.079Z"
   },
   {
    "duration": 6,
    "start_time": "2022-05-26T11:45:05.089Z"
   },
   {
    "duration": 0,
    "start_time": "2022-05-26T11:45:05.096Z"
   },
   {
    "duration": 0,
    "start_time": "2022-05-26T11:45:05.097Z"
   },
   {
    "duration": 0,
    "start_time": "2022-05-26T11:45:05.098Z"
   },
   {
    "duration": 0,
    "start_time": "2022-05-26T11:45:05.099Z"
   },
   {
    "duration": 0,
    "start_time": "2022-05-26T11:45:05.100Z"
   },
   {
    "duration": 0,
    "start_time": "2022-05-26T11:45:05.101Z"
   },
   {
    "duration": 0,
    "start_time": "2022-05-26T11:45:05.102Z"
   },
   {
    "duration": 115,
    "start_time": "2022-05-26T11:45:44.949Z"
   },
   {
    "duration": 16,
    "start_time": "2022-05-26T11:46:27.786Z"
   },
   {
    "duration": 1056,
    "start_time": "2022-05-26T11:46:32.882Z"
   },
   {
    "duration": 112,
    "start_time": "2022-05-26T11:46:33.940Z"
   },
   {
    "duration": 9,
    "start_time": "2022-05-26T11:46:34.054Z"
   },
   {
    "duration": 72,
    "start_time": "2022-05-26T11:46:34.074Z"
   },
   {
    "duration": 7,
    "start_time": "2022-05-26T11:46:34.148Z"
   },
   {
    "duration": 146,
    "start_time": "2022-05-26T11:46:34.156Z"
   },
   {
    "duration": 17,
    "start_time": "2022-05-26T11:46:34.304Z"
   },
   {
    "duration": 125,
    "start_time": "2022-05-26T11:46:34.323Z"
   },
   {
    "duration": 27,
    "start_time": "2022-05-26T11:46:34.450Z"
   },
   {
    "duration": 16,
    "start_time": "2022-05-26T11:46:34.478Z"
   },
   {
    "duration": 6,
    "start_time": "2022-05-26T11:46:34.495Z"
   },
   {
    "duration": 27,
    "start_time": "2022-05-26T11:46:34.503Z"
   },
   {
    "duration": 5,
    "start_time": "2022-05-26T11:46:34.532Z"
   },
   {
    "duration": 4,
    "start_time": "2022-05-26T11:46:34.575Z"
   },
   {
    "duration": 18,
    "start_time": "2022-05-26T11:46:34.580Z"
   },
   {
    "duration": 28,
    "start_time": "2022-05-26T11:46:34.600Z"
   },
   {
    "duration": 7,
    "start_time": "2022-05-26T11:46:34.629Z"
   },
   {
    "duration": 42,
    "start_time": "2022-05-26T11:46:34.637Z"
   },
   {
    "duration": 7,
    "start_time": "2022-05-26T11:46:34.680Z"
   },
   {
    "duration": 24,
    "start_time": "2022-05-26T11:46:34.688Z"
   },
   {
    "duration": 26,
    "start_time": "2022-05-26T11:46:34.713Z"
   },
   {
    "duration": 6,
    "start_time": "2022-05-26T11:46:34.741Z"
   },
   {
    "duration": 28,
    "start_time": "2022-05-26T11:46:34.748Z"
   },
   {
    "duration": 18,
    "start_time": "2022-05-26T11:46:34.777Z"
   },
   {
    "duration": 19,
    "start_time": "2022-05-26T11:46:34.797Z"
   },
   {
    "duration": 9,
    "start_time": "2022-05-26T11:46:34.817Z"
   },
   {
    "duration": 53,
    "start_time": "2022-05-26T11:46:34.828Z"
   },
   {
    "duration": 22,
    "start_time": "2022-05-26T11:46:34.883Z"
   },
   {
    "duration": 32,
    "start_time": "2022-05-26T11:46:34.907Z"
   },
   {
    "duration": 52,
    "start_time": "2022-05-26T11:46:34.941Z"
   },
   {
    "duration": 11,
    "start_time": "2022-05-26T11:46:34.994Z"
   },
   {
    "duration": 39,
    "start_time": "2022-05-26T11:46:35.007Z"
   },
   {
    "duration": 37,
    "start_time": "2022-05-26T11:46:35.047Z"
   },
   {
    "duration": 22,
    "start_time": "2022-05-26T11:46:35.086Z"
   },
   {
    "duration": 29,
    "start_time": "2022-05-26T11:46:35.109Z"
   },
   {
    "duration": 41,
    "start_time": "2022-05-26T11:46:35.139Z"
   },
   {
    "duration": 6,
    "start_time": "2022-05-26T11:46:35.181Z"
   },
   {
    "duration": 313,
    "start_time": "2022-05-26T11:46:35.188Z"
   },
   {
    "duration": 215,
    "start_time": "2022-05-26T11:46:35.503Z"
   },
   {
    "duration": 198,
    "start_time": "2022-05-26T11:46:35.720Z"
   },
   {
    "duration": 10,
    "start_time": "2022-05-26T11:46:35.922Z"
   },
   {
    "duration": 4,
    "start_time": "2022-05-26T11:46:35.934Z"
   },
   {
    "duration": 0,
    "start_time": "2022-05-26T11:46:35.940Z"
   },
   {
    "duration": 0,
    "start_time": "2022-05-26T11:46:35.942Z"
   },
   {
    "duration": 0,
    "start_time": "2022-05-26T11:46:35.943Z"
   },
   {
    "duration": 0,
    "start_time": "2022-05-26T11:46:35.945Z"
   },
   {
    "duration": 0,
    "start_time": "2022-05-26T11:46:35.946Z"
   },
   {
    "duration": 0,
    "start_time": "2022-05-26T11:46:35.947Z"
   },
   {
    "duration": 0,
    "start_time": "2022-05-26T11:46:35.948Z"
   },
   {
    "duration": 205,
    "start_time": "2022-05-26T11:50:00.689Z"
   },
   {
    "duration": 196,
    "start_time": "2022-05-26T11:50:45.625Z"
   },
   {
    "duration": 176,
    "start_time": "2022-05-26T11:51:41.638Z"
   },
   {
    "duration": 17,
    "start_time": "2022-05-26T11:54:32.084Z"
   },
   {
    "duration": 2,
    "start_time": "2022-05-26T12:42:47.499Z"
   },
   {
    "duration": 18,
    "start_time": "2022-05-26T12:44:47.916Z"
   },
   {
    "duration": 121,
    "start_time": "2022-05-26T12:47:51.077Z"
   },
   {
    "duration": 19,
    "start_time": "2022-05-26T12:48:24.199Z"
   },
   {
    "duration": 35,
    "start_time": "2022-05-26T12:49:27.930Z"
   },
   {
    "duration": 24,
    "start_time": "2022-05-26T12:59:20.977Z"
   },
   {
    "duration": 32,
    "start_time": "2022-05-26T12:59:25.630Z"
   },
   {
    "duration": 30,
    "start_time": "2022-05-26T13:04:47.428Z"
   },
   {
    "duration": 31,
    "start_time": "2022-05-26T13:05:23.929Z"
   },
   {
    "duration": 4,
    "start_time": "2022-05-26T13:05:40.223Z"
   },
   {
    "duration": 28,
    "start_time": "2022-05-26T13:05:44.697Z"
   },
   {
    "duration": 29,
    "start_time": "2022-05-26T13:05:49.056Z"
   },
   {
    "duration": 28,
    "start_time": "2022-05-26T13:05:59.682Z"
   },
   {
    "duration": 37,
    "start_time": "2022-05-26T13:06:45.279Z"
   },
   {
    "duration": 47,
    "start_time": "2022-05-26T13:07:22.214Z"
   },
   {
    "duration": 3,
    "start_time": "2022-05-26T13:08:10.662Z"
   },
   {
    "duration": 61,
    "start_time": "2022-05-26T13:08:16.960Z"
   },
   {
    "duration": 51,
    "start_time": "2022-05-26T13:16:09.917Z"
   },
   {
    "duration": 9,
    "start_time": "2022-05-26T13:17:32.470Z"
   },
   {
    "duration": 255,
    "start_time": "2022-05-26T13:20:56.638Z"
   },
   {
    "duration": 198,
    "start_time": "2022-05-26T13:21:09.655Z"
   },
   {
    "duration": 194,
    "start_time": "2022-05-26T13:22:09.424Z"
   },
   {
    "duration": 232,
    "start_time": "2022-05-26T13:24:07.654Z"
   },
   {
    "duration": 285,
    "start_time": "2022-05-26T13:24:29.486Z"
   },
   {
    "duration": 201,
    "start_time": "2022-05-26T13:25:12.591Z"
   },
   {
    "duration": 9,
    "start_time": "2022-05-26T13:29:18.656Z"
   },
   {
    "duration": 4,
    "start_time": "2022-05-26T13:30:20.428Z"
   },
   {
    "duration": 14,
    "start_time": "2022-05-26T13:30:27.290Z"
   },
   {
    "duration": 14,
    "start_time": "2022-05-26T13:30:32.135Z"
   },
   {
    "duration": 17,
    "start_time": "2022-05-26T13:30:37.091Z"
   },
   {
    "duration": 174,
    "start_time": "2022-05-26T13:30:57.547Z"
   },
   {
    "duration": 172,
    "start_time": "2022-05-26T13:31:14.736Z"
   },
   {
    "duration": 22,
    "start_time": "2022-05-26T13:53:21.125Z"
   },
   {
    "duration": 30,
    "start_time": "2022-05-26T13:55:52.912Z"
   },
   {
    "duration": 231,
    "start_time": "2022-05-26T13:59:29.557Z"
   },
   {
    "duration": 157,
    "start_time": "2022-05-26T13:59:44.187Z"
   },
   {
    "duration": 122,
    "start_time": "2022-05-26T14:00:08.019Z"
   },
   {
    "duration": 33,
    "start_time": "2022-05-26T14:00:15.493Z"
   },
   {
    "duration": 136,
    "start_time": "2022-05-26T14:00:24.568Z"
   },
   {
    "duration": 1381,
    "start_time": "2022-05-26T14:01:06.169Z"
   },
   {
    "duration": 148,
    "start_time": "2022-05-26T14:01:12.587Z"
   },
   {
    "duration": 29,
    "start_time": "2022-05-26T14:05:16.803Z"
   },
   {
    "duration": 21,
    "start_time": "2022-05-26T14:07:23.021Z"
   },
   {
    "duration": 26,
    "start_time": "2022-05-26T14:08:26.258Z"
   },
   {
    "duration": 30,
    "start_time": "2022-05-26T14:14:35.387Z"
   },
   {
    "duration": 30,
    "start_time": "2022-05-26T14:14:37.361Z"
   },
   {
    "duration": 201,
    "start_time": "2022-05-26T14:16:38.218Z"
   },
   {
    "duration": 203,
    "start_time": "2022-05-26T14:21:30.962Z"
   },
   {
    "duration": 273,
    "start_time": "2022-05-26T14:22:41.990Z"
   },
   {
    "duration": 182,
    "start_time": "2022-05-26T14:23:30.782Z"
   },
   {
    "duration": 32,
    "start_time": "2022-05-26T14:27:40.811Z"
   },
   {
    "duration": 51,
    "start_time": "2022-05-26T14:27:52.630Z"
   },
   {
    "duration": 51,
    "start_time": "2022-05-26T14:29:42.735Z"
   },
   {
    "duration": 32,
    "start_time": "2022-05-26T14:32:22.399Z"
   },
   {
    "duration": 59,
    "start_time": "2022-05-26T14:36:32.812Z"
   },
   {
    "duration": 50,
    "start_time": "2022-05-26T14:39:06.461Z"
   },
   {
    "duration": 35,
    "start_time": "2022-05-26T16:33:34.495Z"
   },
   {
    "duration": 27,
    "start_time": "2022-05-26T16:33:47.802Z"
   },
   {
    "duration": 850,
    "start_time": "2022-05-26T16:35:19.478Z"
   },
   {
    "duration": 639,
    "start_time": "2022-05-26T16:36:49.151Z"
   },
   {
    "duration": 1570,
    "start_time": "2022-05-26T16:42:55.926Z"
   },
   {
    "duration": 685,
    "start_time": "2022-05-26T16:45:31.894Z"
   },
   {
    "duration": 717,
    "start_time": "2022-05-26T16:48:02.801Z"
   },
   {
    "duration": 619,
    "start_time": "2022-05-26T16:48:55.896Z"
   },
   {
    "duration": 14,
    "start_time": "2022-05-26T17:59:16.106Z"
   },
   {
    "duration": 8,
    "start_time": "2022-05-26T18:00:06.610Z"
   },
   {
    "duration": 847,
    "start_time": "2022-05-26T18:01:31.996Z"
   },
   {
    "duration": 1272,
    "start_time": "2022-05-27T08:08:53.222Z"
   },
   {
    "duration": 301,
    "start_time": "2022-05-27T08:08:54.497Z"
   },
   {
    "duration": 10,
    "start_time": "2022-05-27T08:08:54.799Z"
   },
   {
    "duration": 75,
    "start_time": "2022-05-27T08:08:54.811Z"
   },
   {
    "duration": 7,
    "start_time": "2022-05-27T08:08:54.888Z"
   },
   {
    "duration": 148,
    "start_time": "2022-05-27T08:08:54.896Z"
   },
   {
    "duration": 22,
    "start_time": "2022-05-27T08:08:55.046Z"
   },
   {
    "duration": 105,
    "start_time": "2022-05-27T08:08:55.070Z"
   },
   {
    "duration": 16,
    "start_time": "2022-05-27T08:08:55.176Z"
   },
   {
    "duration": 16,
    "start_time": "2022-05-27T08:08:55.195Z"
   },
   {
    "duration": 6,
    "start_time": "2022-05-27T08:08:55.213Z"
   },
   {
    "duration": 65,
    "start_time": "2022-05-27T08:08:55.220Z"
   },
   {
    "duration": 7,
    "start_time": "2022-05-27T08:08:55.287Z"
   },
   {
    "duration": 5,
    "start_time": "2022-05-27T08:08:55.296Z"
   },
   {
    "duration": 18,
    "start_time": "2022-05-27T08:08:55.302Z"
   },
   {
    "duration": 57,
    "start_time": "2022-05-27T08:08:55.322Z"
   },
   {
    "duration": 6,
    "start_time": "2022-05-27T08:08:55.380Z"
   },
   {
    "duration": 16,
    "start_time": "2022-05-27T08:08:55.387Z"
   },
   {
    "duration": 6,
    "start_time": "2022-05-27T08:08:55.405Z"
   },
   {
    "duration": 13,
    "start_time": "2022-05-27T08:08:55.413Z"
   },
   {
    "duration": 54,
    "start_time": "2022-05-27T08:08:55.428Z"
   },
   {
    "duration": 27,
    "start_time": "2022-05-27T08:08:55.484Z"
   },
   {
    "duration": 6,
    "start_time": "2022-05-27T08:08:55.513Z"
   },
   {
    "duration": 9,
    "start_time": "2022-05-27T08:08:55.521Z"
   },
   {
    "duration": 18,
    "start_time": "2022-05-27T08:08:55.558Z"
   },
   {
    "duration": 21,
    "start_time": "2022-05-27T08:08:55.578Z"
   },
   {
    "duration": 22,
    "start_time": "2022-05-27T08:08:55.600Z"
   },
   {
    "duration": 46,
    "start_time": "2022-05-27T08:08:55.625Z"
   },
   {
    "duration": 22,
    "start_time": "2022-05-27T08:08:55.672Z"
   },
   {
    "duration": 35,
    "start_time": "2022-05-27T08:08:55.695Z"
   },
   {
    "duration": 41,
    "start_time": "2022-05-27T08:08:55.732Z"
   },
   {
    "duration": 30,
    "start_time": "2022-05-27T08:08:55.775Z"
   },
   {
    "duration": 18,
    "start_time": "2022-05-27T08:08:55.806Z"
   },
   {
    "duration": 6,
    "start_time": "2022-05-27T08:08:55.825Z"
   },
   {
    "duration": 29,
    "start_time": "2022-05-27T08:08:55.832Z"
   },
   {
    "duration": 634,
    "start_time": "2022-05-27T08:08:55.862Z"
   },
   {
    "duration": 319,
    "start_time": "2022-05-27T08:08:56.498Z"
   },
   {
    "duration": 651,
    "start_time": "2022-05-27T08:08:56.818Z"
   },
   {
    "duration": 205,
    "start_time": "2022-05-27T08:08:57.470Z"
   },
   {
    "duration": 190,
    "start_time": "2022-05-27T08:08:57.676Z"
   },
   {
    "duration": 14,
    "start_time": "2022-05-27T08:08:57.867Z"
   },
   {
    "duration": 188,
    "start_time": "2022-05-27T08:08:57.883Z"
   },
   {
    "duration": 167,
    "start_time": "2022-05-27T08:08:58.073Z"
   },
   {
    "duration": 40,
    "start_time": "2022-05-27T08:08:58.242Z"
   },
   {
    "duration": 31,
    "start_time": "2022-05-27T08:08:58.283Z"
   },
   {
    "duration": 67,
    "start_time": "2022-05-27T08:08:58.316Z"
   },
   {
    "duration": 50,
    "start_time": "2022-05-27T08:08:58.385Z"
   }
  ],
  "kernelspec": {
   "display_name": "Python 3",
   "language": "python",
   "name": "python3"
  },
  "language_info": {
   "codemirror_mode": {
    "name": "ipython",
    "version": 3
   },
   "file_extension": ".py",
   "mimetype": "text/x-python",
   "name": "python",
   "nbconvert_exporter": "python",
   "pygments_lexer": "ipython3",
   "version": "3.8.8"
  },
  "toc": {
   "base_numbering": 1,
   "nav_menu": {},
   "number_sections": false,
   "sideBar": true,
   "skip_h1_title": true,
   "title_cell": "Table of Contents",
   "title_sidebar": "Contents",
   "toc_cell": false,
   "toc_position": {},
   "toc_section_display": true,
   "toc_window_display": true
  }
 },
 "nbformat": 4,
 "nbformat_minor": 2
}
