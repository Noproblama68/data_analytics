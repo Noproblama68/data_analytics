{
 "cells": [
  {
   "cell_type": "markdown",
   "metadata": {},
   "source": [
    "\n",
    "# Анализ рынка игровой индустрии \n",
    "_____\n",
    "**Описание проекта**\n",
    "\n",
    "Заказчик - интернет-магазин, который продаёт по всему миру компьютерные игры. Наша задача - выявить закономерности, определяющие успешность игры, чтобы спрогнозировать, какой продукт будет более популярен и спланировать рекламные кампании.\n",
    "\n",
    "Для анализа мы взяли из открытых источников доступные исторические данные о продажах игр, оценки пользователей и экспертов, жанры и платформы. \n",
    "_____\n",
    "**Цель проекта**\n",
    "\n",
    "В данном исследовании основной целью будет являться определение наиболее перспективных продуктов и выявление критериев, влияющих на успех игры.\n",
    "_____\n",
    "**Задачи проекта**\n",
    "\n",
    "Для достижения поставленной цели будет необходимо:\n",
    "1. Изучить общую информацию о файле, выявить проблемы в данных\n",
    "2. Подготовить данные\n",
    "- *Заменить названия столбцов;*\n",
    "- *Преобразовать данные в нужные типы;*\n",
    "- *Обработать пропуски;*\n",
    "- *Посчитать суммарные продажи во всех регионах.*\n",
    "3. Провести исследовательский анализ данных\n",
    "- *Посмотреть, сколько игр выпускалось в разные годы;*\n",
    "- *Посмотреть, как менялись продажи по платформам. Выбрать платформы с наибольшими суммарными продажами и построить распределение по годам. Определить срок жизни платформы;*\n",
    "- *Определить какие платформы лидируют по продажам, растут или падают;*\n",
    "- *Построить график «ящик с усами» по глобальным продажам игр в разбивке по платформам;*\n",
    "- *Посмотреть, как влияют на продажи отзывы пользователей и критиков. Постройте диаграмму рассеяния и посчитайте корреляцию между отзывами и продажами;*\n",
    "- *Посмотреть на общее распределение игр по жанрам.*\n",
    "4. Составить портрет пользователя каждого региона\n",
    "- *Определить для пользователя каждого региона (NA, EU, JP) самые популярные платформы (топ-5), самые популярные жанры (топ-5);*\n",
    "- *Выяснить влияет ли рейтинг ESRB на продажи в отдельном регионе.*\n",
    "5. Провести статистический анализ\n",
    "- *Выяснить отличаются ли средние пользовательские рейтинги платформ Xbox One и PC и жанров Action и Sports.*\n"
   ]
  },
  {
   "cell_type": "markdown",
   "metadata": {},
   "source": [
    "______\n",
    "Данное исследование состоит из следующих разделов:\n",
    "\n",
    "#### 1. Изучение общей информации\n",
    "\n",
    "<a href='#section1'>1.1. Импорт библиотек и чтение файла</a>\n",
    "\n",
    "<a href='#section2'>1.2. Знакомство с содержимым столбцов, просморт общей информации о файле и подсчет пропусков</a>\n",
    "\n",
    "#### 2. Подготовка данных\n",
    "\n",
    "<a href='#section3'>2.1. Замена названий столбцов</a>\n",
    "\n",
    "<a href='#section4'>2.2. Преобразование типов данных</a>\n",
    "\n",
    "<a href='#section5'>2.3. Обработка пропусков</a>\n",
    "\n",
    "<a href='#section6'>2.4. Подсчет суммарных продаж по всем регионам</a>\n",
    "\n",
    "#### 3. Исследовательский анализ данных\n",
    "\n",
    "<a href='#section7'>3.1. Динамика выпуска игр по годам</a>\n",
    "\n",
    "<a href='#section8'>3.2. Динамика общих продаж по платформам</a>\n",
    "\n",
    "<a href='#section9'>3.3. Срок жизни игровой платформы</a>\n",
    "\n",
    "<a href='#section10'>3.4. Динамика продаж по топовым платформам в актуальном периоде</a>\n",
    "\n",
    "<a href='#section11'>3.5. Корреляционный анализ зависимости продаж от оценок пользователей и критиков</a>\n",
    "\n",
    "<a href='#section12'>3.6. Распределение игр по жанрам</a>\n",
    "\n",
    "#### 4.  Портрет пользователя каждого региона\n",
    "\n",
    "<a href='#section13'>4.1. Топ-5 популярных платформ</a>\n",
    "\n",
    "<a href='#section14'>4.2. Топ-5 популярных жанров</a>\n",
    "\n",
    "<a href='#section15'>4.3. Влияние рейтинга ESRB на продажи в отдельном регионе</a>\n",
    "\n",
    "#### 5. Статистический анализ данных\n",
    "\n",
    "<a href='#section16'>5.1. Проверка первой гипотезы</a>\n",
    "\n",
    "<a href='#section17'>5.2. Проверка второй гипотезы</a>\n",
    "\n",
    "\n",
    "<a href='#section18'>6. Общий вывод</a>\n",
    "\n"
   ]
  },
  {
   "cell_type": "markdown",
   "metadata": {},
   "source": [
    "## 1. Изучение общей информации"
   ]
  },
  {
   "cell_type": "markdown",
   "metadata": {},
   "source": [
    "<a id='section1'></a>\n",
    "### 1.1. Импорт библиотек и чтение файла"
   ]
  },
  {
   "cell_type": "code",
   "execution_count": 1,
   "metadata": {},
   "outputs": [],
   "source": [
    "# импорт библиотек\n",
    "import pandas as pd\n",
    "import seaborn as sns\n",
    "import matplotlib.pyplot as plt\n",
    "from scipy import stats as st\n",
    "import numpy as np\n",
    "import warnings\n",
    "warnings.filterwarnings('ignore')\n"
   ]
  },
  {
   "cell_type": "code",
   "execution_count": 2,
   "metadata": {},
   "outputs": [
    {
     "data": {
      "text/html": [
       "<div>\n",
       "<style scoped>\n",
       "    .dataframe tbody tr th:only-of-type {\n",
       "        vertical-align: middle;\n",
       "    }\n",
       "\n",
       "    .dataframe tbody tr th {\n",
       "        vertical-align: top;\n",
       "    }\n",
       "\n",
       "    .dataframe thead th {\n",
       "        text-align: right;\n",
       "    }\n",
       "</style>\n",
       "<table border=\"1\" class=\"dataframe\">\n",
       "  <thead>\n",
       "    <tr style=\"text-align: right;\">\n",
       "      <th></th>\n",
       "      <th>Name</th>\n",
       "      <th>Platform</th>\n",
       "      <th>Year_of_Release</th>\n",
       "      <th>Genre</th>\n",
       "      <th>NA_sales</th>\n",
       "      <th>EU_sales</th>\n",
       "      <th>JP_sales</th>\n",
       "      <th>Other_sales</th>\n",
       "      <th>Critic_Score</th>\n",
       "      <th>User_Score</th>\n",
       "      <th>Rating</th>\n",
       "    </tr>\n",
       "  </thead>\n",
       "  <tbody>\n",
       "    <tr>\n",
       "      <td>0</td>\n",
       "      <td>Wii Sports</td>\n",
       "      <td>Wii</td>\n",
       "      <td>2006.0</td>\n",
       "      <td>Sports</td>\n",
       "      <td>41.36</td>\n",
       "      <td>28.96</td>\n",
       "      <td>3.77</td>\n",
       "      <td>8.45</td>\n",
       "      <td>76.0</td>\n",
       "      <td>8</td>\n",
       "      <td>E</td>\n",
       "    </tr>\n",
       "    <tr>\n",
       "      <td>1</td>\n",
       "      <td>Super Mario Bros.</td>\n",
       "      <td>NES</td>\n",
       "      <td>1985.0</td>\n",
       "      <td>Platform</td>\n",
       "      <td>29.08</td>\n",
       "      <td>3.58</td>\n",
       "      <td>6.81</td>\n",
       "      <td>0.77</td>\n",
       "      <td>NaN</td>\n",
       "      <td>NaN</td>\n",
       "      <td>NaN</td>\n",
       "    </tr>\n",
       "    <tr>\n",
       "      <td>2</td>\n",
       "      <td>Mario Kart Wii</td>\n",
       "      <td>Wii</td>\n",
       "      <td>2008.0</td>\n",
       "      <td>Racing</td>\n",
       "      <td>15.68</td>\n",
       "      <td>12.76</td>\n",
       "      <td>3.79</td>\n",
       "      <td>3.29</td>\n",
       "      <td>82.0</td>\n",
       "      <td>8.3</td>\n",
       "      <td>E</td>\n",
       "    </tr>\n",
       "    <tr>\n",
       "      <td>3</td>\n",
       "      <td>Wii Sports Resort</td>\n",
       "      <td>Wii</td>\n",
       "      <td>2009.0</td>\n",
       "      <td>Sports</td>\n",
       "      <td>15.61</td>\n",
       "      <td>10.93</td>\n",
       "      <td>3.28</td>\n",
       "      <td>2.95</td>\n",
       "      <td>80.0</td>\n",
       "      <td>8</td>\n",
       "      <td>E</td>\n",
       "    </tr>\n",
       "    <tr>\n",
       "      <td>4</td>\n",
       "      <td>Pokemon Red/Pokemon Blue</td>\n",
       "      <td>GB</td>\n",
       "      <td>1996.0</td>\n",
       "      <td>Role-Playing</td>\n",
       "      <td>11.27</td>\n",
       "      <td>8.89</td>\n",
       "      <td>10.22</td>\n",
       "      <td>1.00</td>\n",
       "      <td>NaN</td>\n",
       "      <td>NaN</td>\n",
       "      <td>NaN</td>\n",
       "    </tr>\n",
       "  </tbody>\n",
       "</table>\n",
       "</div>"
      ],
      "text/plain": [
       "                       Name Platform  Year_of_Release         Genre  NA_sales  \\\n",
       "0                Wii Sports      Wii           2006.0        Sports     41.36   \n",
       "1         Super Mario Bros.      NES           1985.0      Platform     29.08   \n",
       "2            Mario Kart Wii      Wii           2008.0        Racing     15.68   \n",
       "3         Wii Sports Resort      Wii           2009.0        Sports     15.61   \n",
       "4  Pokemon Red/Pokemon Blue       GB           1996.0  Role-Playing     11.27   \n",
       "\n",
       "   EU_sales  JP_sales  Other_sales  Critic_Score User_Score Rating  \n",
       "0     28.96      3.77         8.45          76.0          8      E  \n",
       "1      3.58      6.81         0.77           NaN        NaN    NaN  \n",
       "2     12.76      3.79         3.29          82.0        8.3      E  \n",
       "3     10.93      3.28         2.95          80.0          8      E  \n",
       "4      8.89     10.22         1.00           NaN        NaN    NaN  "
      ]
     },
     "execution_count": 2,
     "metadata": {},
     "output_type": "execute_result"
    }
   ],
   "source": [
    "# чтение файла\n",
    "data = pd.read_csv('/datasets/games.csv')\n",
    "data.head(5)"
   ]
  },
  {
   "cell_type": "markdown",
   "metadata": {},
   "source": [
    "<a id='section2'></a>\n",
    "### 1.2. Знакомство с содержимым столбцов, просмотр общей информации о файле и подсчет пропусков"
   ]
  },
  {
   "cell_type": "code",
   "execution_count": 3,
   "metadata": {},
   "outputs": [
    {
     "data": {
      "text/plain": [
       "array(['Wii', 'NES', 'GB', 'DS', 'X360', 'PS3', 'PS2', 'SNES', 'GBA',\n",
       "       'PS4', '3DS', 'N64', 'PS', 'XB', 'PC', '2600', 'PSP', 'XOne',\n",
       "       'WiiU', 'GC', 'GEN', 'DC', 'PSV', 'SAT', 'SCD', 'WS', 'NG', 'TG16',\n",
       "       '3DO', 'GG', 'PCFX'], dtype=object)"
      ]
     },
     "execution_count": 3,
     "metadata": {},
     "output_type": "execute_result"
    }
   ],
   "source": [
    "# познакомимся с видами платформ\n",
    "data['Platform'].unique()"
   ]
  },
  {
   "cell_type": "code",
   "execution_count": 4,
   "metadata": {},
   "outputs": [
    {
     "data": {
      "text/plain": [
       "array(['Sports', 'Platform', 'Racing', 'Role-Playing', 'Puzzle', 'Misc',\n",
       "       'Shooter', 'Simulation', 'Action', 'Fighting', 'Adventure',\n",
       "       'Strategy', nan], dtype=object)"
      ]
     },
     "execution_count": 4,
     "metadata": {},
     "output_type": "execute_result"
    }
   ],
   "source": [
    "# изучим жанры\n",
    "data['Genre'].unique()"
   ]
  },
  {
   "cell_type": "code",
   "execution_count": 5,
   "metadata": {},
   "outputs": [
    {
     "data": {
      "text/plain": [
       "array(['E', nan, 'M', 'T', 'E10+', 'K-A', 'AO', 'EC', 'RP'], dtype=object)"
      ]
     },
     "execution_count": 5,
     "metadata": {},
     "output_type": "execute_result"
    }
   ],
   "source": [
    "# изучим виды рейтинга\n",
    "data['Rating'].unique()"
   ]
  },
  {
   "cell_type": "code",
   "execution_count": 6,
   "metadata": {},
   "outputs": [
    {
     "data": {
      "text/plain": [
       "array(['8', nan, '8.3', '8.5', '6.6', '8.4', '8.6', '7.7', '6.3', '7.4',\n",
       "       '8.2', '9', '7.9', '8.1', '8.7', '7.1', '3.4', '5.3', '4.8', '3.2',\n",
       "       '8.9', '6.4', '7.8', '7.5', '2.6', '7.2', '9.2', '7', '7.3', '4.3',\n",
       "       '7.6', '5.7', '5', '9.1', '6.5', 'tbd', '8.8', '6.9', '9.4', '6.8',\n",
       "       '6.1', '6.7', '5.4', '4', '4.9', '4.5', '9.3', '6.2', '4.2', '6',\n",
       "       '3.7', '4.1', '5.8', '5.6', '5.5', '4.4', '4.6', '5.9', '3.9',\n",
       "       '3.1', '2.9', '5.2', '3.3', '4.7', '5.1', '3.5', '2.5', '1.9', '3',\n",
       "       '2.7', '2.2', '2', '9.5', '2.1', '3.6', '2.8', '1.8', '3.8', '0',\n",
       "       '1.6', '9.6', '2.4', '1.7', '1.1', '0.3', '1.5', '0.7', '1.2',\n",
       "       '2.3', '0.5', '1.3', '0.2', '0.6', '1.4', '0.9', '1', '9.7'],\n",
       "      dtype=object)"
      ]
     },
     "execution_count": 6,
     "metadata": {},
     "output_type": "execute_result"
    }
   ],
   "source": [
    "# посмотрим, что в данных по оценкам пользователей\n",
    "data['User_Score'].unique()"
   ]
  },
  {
   "cell_type": "code",
   "execution_count": 7,
   "metadata": {},
   "outputs": [
    {
     "name": "stdout",
     "output_type": "stream",
     "text": [
      "<class 'pandas.core.frame.DataFrame'>\n",
      "RangeIndex: 16715 entries, 0 to 16714\n",
      "Data columns (total 11 columns):\n",
      "Name               16713 non-null object\n",
      "Platform           16715 non-null object\n",
      "Year_of_Release    16446 non-null float64\n",
      "Genre              16713 non-null object\n",
      "NA_sales           16715 non-null float64\n",
      "EU_sales           16715 non-null float64\n",
      "JP_sales           16715 non-null float64\n",
      "Other_sales        16715 non-null float64\n",
      "Critic_Score       8137 non-null float64\n",
      "User_Score         10014 non-null object\n",
      "Rating             9949 non-null object\n",
      "dtypes: float64(6), object(5)\n",
      "memory usage: 1.4+ MB\n"
     ]
    }
   ],
   "source": [
    "# вывод общей информации о данных\n",
    "data.info()"
   ]
  },
  {
   "cell_type": "code",
   "execution_count": 8,
   "metadata": {},
   "outputs": [
    {
     "data": {
      "text/plain": [
       "Name                  2\n",
       "Platform              0\n",
       "Year_of_Release     269\n",
       "Genre                 2\n",
       "NA_sales              0\n",
       "EU_sales              0\n",
       "JP_sales              0\n",
       "Other_sales           0\n",
       "Critic_Score       8578\n",
       "User_Score         6701\n",
       "Rating             6766\n",
       "dtype: int64"
      ]
     },
     "execution_count": 8,
     "metadata": {},
     "output_type": "execute_result"
    }
   ],
   "source": [
    "# подсчет пропущенных значений\n",
    "data.isna().sum()"
   ]
  },
  {
   "cell_type": "markdown",
   "metadata": {},
   "source": [
    "**В ходе изучения общей информации о файле были выявлены следующие проблемы:**\n",
    "- **названия столбцов необходимо привести к нижнему регистру;**\n",
    "- **заменить тип данных на float в столбце User_Score и в в столбце year_of_release привести в формат дат;**\n",
    "- **необходима обработка пропусков;**\n",
    "- **значение tbd в оценках пользователей.**\n"
   ]
  },
  {
   "cell_type": "markdown",
   "metadata": {},
   "source": [
    "## 2. Подготовка данных"
   ]
  },
  {
   "cell_type": "markdown",
   "metadata": {},
   "source": [
    "<a id='section3'></a>\n",
    "### 2.1. Замена названий столбцов"
   ]
  },
  {
   "cell_type": "code",
   "execution_count": 9,
   "metadata": {},
   "outputs": [
    {
     "data": {
      "text/plain": [
       "Index(['name', 'platform', 'year_of_release', 'genre', 'na_sales', 'eu_sales',\n",
       "       'jp_sales', 'other_sales', 'critic_score', 'user_score', 'rating'],\n",
       "      dtype='object')"
      ]
     },
     "execution_count": 9,
     "metadata": {},
     "output_type": "execute_result"
    }
   ],
   "source": [
    "# приведение названий столбцов к нижнему регистру\n",
    "data.columns = data.columns.str.lower()\n",
    "data.columns"
   ]
  },
  {
   "cell_type": "markdown",
   "metadata": {},
   "source": [
    "<a id='section4'></a>\n",
    "### 2.2 Преобразование типов данных"
   ]
  },
  {
   "cell_type": "markdown",
   "metadata": {},
   "source": [
    "В столбце user_score кроме оценок пользователей встретилось значение 'tbd' - to be defined (предстоит определить). Его нужно заменить на пропуски, чтобы в дальнейшем это значение не влияло на проведение стат.тестов."
   ]
  },
  {
   "cell_type": "code",
   "execution_count": 10,
   "metadata": {},
   "outputs": [],
   "source": [
    "# замена значений 'tbd' в столбце user_score на 'nan'\n",
    "data.loc[data['user_score'] == 'tbd', 'user_score'] = float(np.NaN)\n",
    "# преобразование типа данных в столбце user_score на float\n",
    "data['user_score'] = data['user_score'].astype(float)\n"
   ]
  },
  {
   "cell_type": "code",
   "execution_count": 11,
   "metadata": {},
   "outputs": [],
   "source": [
    "# приведем данные в столбце year_of_release в формат дат\n",
    "data['year_of_release'] = pd.to_datetime(data['year_of_release'], format='%Y')\n"
   ]
  },
  {
   "cell_type": "markdown",
   "metadata": {},
   "source": [
    "<a id='section5'></a>\n",
    "### 2.3. Обработка пропусков"
   ]
  },
  {
   "cell_type": "markdown",
   "metadata": {},
   "source": [
    "1) В столбце year_of_release строки с пропусками удалим, т.к. доля таких строк всего 1.6% и на результаты исследования никак не повлияет.\n",
    "\n",
    "2) В столбце genre всего 2 строки с пропускками, поэтому их также целесообразнее удалить.\n",
    "\n"
   ]
  },
  {
   "cell_type": "code",
   "execution_count": 12,
   "metadata": {},
   "outputs": [
    {
     "data": {
      "text/plain": [
       "name                  0\n",
       "platform              0\n",
       "year_of_release       0\n",
       "genre                 0\n",
       "na_sales              0\n",
       "eu_sales              0\n",
       "jp_sales              0\n",
       "other_sales           0\n",
       "critic_score       8461\n",
       "user_score         8981\n",
       "rating             6676\n",
       "dtype: int64"
      ]
     },
     "execution_count": 12,
     "metadata": {},
     "output_type": "execute_result"
    }
   ],
   "source": [
    "# удаление строк с пропусками в столбцах year_of_release и genre\n",
    "data = data.dropna(subset = ['year_of_release', 'genre'])\n",
    "data.isna().sum()"
   ]
  },
  {
   "cell_type": "raw",
   "metadata": {},
   "source": [
    "3) Пропуски в столбце rating заменим на значение-заглушку unknown, чтобы в дальнейшем можно было проводить корреляционный анализ, наглядно выводить на пайчарт эту информацию и кусок данных с пропущенным рейтингом не был выброшен из анализа."
   ]
  },
  {
   "cell_type": "code",
   "execution_count": 13,
   "metadata": {},
   "outputs": [],
   "source": [
    "# замена пропусков в столбце rating\n",
    "data.loc[data['rating'].isna(), 'rating'] = 'unknown'\n"
   ]
  },
  {
   "cell_type": "markdown",
   "metadata": {},
   "source": [
    "4) Пропуски в столбцах critic_score и user_score оставим как есть, дальнейшем для проведения  стат.тестов их можно будет просто отфильтровать."
   ]
  },
  {
   "cell_type": "markdown",
   "metadata": {},
   "source": [
    "Т.к. данные датасета были получены из открытых источников, скорее всего путем парсинга сайтов, то пропущенные значения могли появиться как в результате отсутствия информации, так и несовершенства работы парсера. Возможны и другие ошибки при сохранении данных, которые привели к потере данных."
   ]
  },
  {
   "cell_type": "markdown",
   "metadata": {},
   "source": [
    "<a id='section6'></a>\n",
    "### 2.3. Подсчет суммарных продаж по всем регионам"
   ]
  },
  {
   "cell_type": "code",
   "execution_count": 14,
   "metadata": {},
   "outputs": [
    {
     "data": {
      "text/html": [
       "<div>\n",
       "<style scoped>\n",
       "    .dataframe tbody tr th:only-of-type {\n",
       "        vertical-align: middle;\n",
       "    }\n",
       "\n",
       "    .dataframe tbody tr th {\n",
       "        vertical-align: top;\n",
       "    }\n",
       "\n",
       "    .dataframe thead th {\n",
       "        text-align: right;\n",
       "    }\n",
       "</style>\n",
       "<table border=\"1\" class=\"dataframe\">\n",
       "  <thead>\n",
       "    <tr style=\"text-align: right;\">\n",
       "      <th></th>\n",
       "      <th>name</th>\n",
       "      <th>platform</th>\n",
       "      <th>year_of_release</th>\n",
       "      <th>genre</th>\n",
       "      <th>na_sales</th>\n",
       "      <th>eu_sales</th>\n",
       "      <th>jp_sales</th>\n",
       "      <th>other_sales</th>\n",
       "      <th>critic_score</th>\n",
       "      <th>user_score</th>\n",
       "      <th>rating</th>\n",
       "      <th>total_sales</th>\n",
       "    </tr>\n",
       "  </thead>\n",
       "  <tbody>\n",
       "    <tr>\n",
       "      <td>0</td>\n",
       "      <td>Wii Sports</td>\n",
       "      <td>Wii</td>\n",
       "      <td>2006-01-01</td>\n",
       "      <td>Sports</td>\n",
       "      <td>41.36</td>\n",
       "      <td>28.96</td>\n",
       "      <td>3.77</td>\n",
       "      <td>8.45</td>\n",
       "      <td>76.0</td>\n",
       "      <td>8.0</td>\n",
       "      <td>E</td>\n",
       "      <td>82.54</td>\n",
       "    </tr>\n",
       "    <tr>\n",
       "      <td>1</td>\n",
       "      <td>Super Mario Bros.</td>\n",
       "      <td>NES</td>\n",
       "      <td>1985-01-01</td>\n",
       "      <td>Platform</td>\n",
       "      <td>29.08</td>\n",
       "      <td>3.58</td>\n",
       "      <td>6.81</td>\n",
       "      <td>0.77</td>\n",
       "      <td>NaN</td>\n",
       "      <td>NaN</td>\n",
       "      <td>unknown</td>\n",
       "      <td>40.24</td>\n",
       "    </tr>\n",
       "    <tr>\n",
       "      <td>2</td>\n",
       "      <td>Mario Kart Wii</td>\n",
       "      <td>Wii</td>\n",
       "      <td>2008-01-01</td>\n",
       "      <td>Racing</td>\n",
       "      <td>15.68</td>\n",
       "      <td>12.76</td>\n",
       "      <td>3.79</td>\n",
       "      <td>3.29</td>\n",
       "      <td>82.0</td>\n",
       "      <td>8.3</td>\n",
       "      <td>E</td>\n",
       "      <td>35.52</td>\n",
       "    </tr>\n",
       "    <tr>\n",
       "      <td>3</td>\n",
       "      <td>Wii Sports Resort</td>\n",
       "      <td>Wii</td>\n",
       "      <td>2009-01-01</td>\n",
       "      <td>Sports</td>\n",
       "      <td>15.61</td>\n",
       "      <td>10.93</td>\n",
       "      <td>3.28</td>\n",
       "      <td>2.95</td>\n",
       "      <td>80.0</td>\n",
       "      <td>8.0</td>\n",
       "      <td>E</td>\n",
       "      <td>32.77</td>\n",
       "    </tr>\n",
       "    <tr>\n",
       "      <td>4</td>\n",
       "      <td>Pokemon Red/Pokemon Blue</td>\n",
       "      <td>GB</td>\n",
       "      <td>1996-01-01</td>\n",
       "      <td>Role-Playing</td>\n",
       "      <td>11.27</td>\n",
       "      <td>8.89</td>\n",
       "      <td>10.22</td>\n",
       "      <td>1.00</td>\n",
       "      <td>NaN</td>\n",
       "      <td>NaN</td>\n",
       "      <td>unknown</td>\n",
       "      <td>31.38</td>\n",
       "    </tr>\n",
       "  </tbody>\n",
       "</table>\n",
       "</div>"
      ],
      "text/plain": [
       "                       name platform year_of_release         genre  na_sales  \\\n",
       "0                Wii Sports      Wii      2006-01-01        Sports     41.36   \n",
       "1         Super Mario Bros.      NES      1985-01-01      Platform     29.08   \n",
       "2            Mario Kart Wii      Wii      2008-01-01        Racing     15.68   \n",
       "3         Wii Sports Resort      Wii      2009-01-01        Sports     15.61   \n",
       "4  Pokemon Red/Pokemon Blue       GB      1996-01-01  Role-Playing     11.27   \n",
       "\n",
       "   eu_sales  jp_sales  other_sales  critic_score  user_score   rating  \\\n",
       "0     28.96      3.77         8.45          76.0         8.0        E   \n",
       "1      3.58      6.81         0.77           NaN         NaN  unknown   \n",
       "2     12.76      3.79         3.29          82.0         8.3        E   \n",
       "3     10.93      3.28         2.95          80.0         8.0        E   \n",
       "4      8.89     10.22         1.00           NaN         NaN  unknown   \n",
       "\n",
       "   total_sales  \n",
       "0        82.54  \n",
       "1        40.24  \n",
       "2        35.52  \n",
       "3        32.77  \n",
       "4        31.38  "
      ]
     },
     "execution_count": 14,
     "metadata": {},
     "output_type": "execute_result"
    }
   ],
   "source": [
    "# добавим столбец с суммарными продажами\n",
    "data['total_sales'] = data['na_sales'] + data['eu_sales'] + data['jp_sales'] + data['other_sales']\n",
    "data.head(5)"
   ]
  },
  {
   "cell_type": "markdown",
   "metadata": {},
   "source": [
    "## 3. Исследовательский анализ данных"
   ]
  },
  {
   "cell_type": "markdown",
   "metadata": {},
   "source": [
    "<a id='section7'></a>\n",
    "### 3.1. Динамика выпуска по годам"
   ]
  },
  {
   "cell_type": "markdown",
   "metadata": {},
   "source": [
    "Посмотрим сколько игр выпускалось в разные годы"
   ]
  },
  {
   "cell_type": "code",
   "execution_count": 15,
   "metadata": {
    "scrolled": true
   },
   "outputs": [],
   "source": [
    "# группировка по году выпуска игр и подсчет количества выпущенных игр за каждый год\n",
    "games_year = data.groupby('year_of_release')['name'].count()\n"
   ]
  },
  {
   "cell_type": "code",
   "execution_count": 16,
   "metadata": {},
   "outputs": [
    {
     "data": {
      "image/png": "[encoded data removed]",
      "text/plain": [
       "<Figure size 1440x360 with 1 Axes>"
      ]
     },
     "metadata": {
      "needs_background": "light"
     },
     "output_type": "display_data"
    }
   ],
   "source": [
    "#вывод графика по количеству игр, выпущенных в разные годы\n",
    "games_year.plot(figsize = (20,5), grid=True)\n",
    "plt.ylabel('count')\n",
    "plt.title('Распределение релизов игр по годам', fontsize=14)\n",
    "plt.show()    "
   ]
  },
  {
   "cell_type": "markdown",
   "metadata": {},
   "source": [
    "<a id='section8'></a>\n",
    "### 3.2. Общая динамика продаж по платформам"
   ]
  },
  {
   "cell_type": "markdown",
   "metadata": {},
   "source": [
    "Посмотрим, как менялись продажи по платформам. Выберем платформы с наибольшими суммарными продажами и построим распределение по годам."
   ]
  },
  {
   "cell_type": "code",
   "execution_count": 17,
   "metadata": {},
   "outputs": [
    {
     "data": {
      "text/html": [
       "<div>\n",
       "<style scoped>\n",
       "    .dataframe tbody tr th:only-of-type {\n",
       "        vertical-align: middle;\n",
       "    }\n",
       "\n",
       "    .dataframe tbody tr th {\n",
       "        vertical-align: top;\n",
       "    }\n",
       "\n",
       "    .dataframe thead th {\n",
       "        text-align: right;\n",
       "    }\n",
       "</style>\n",
       "<table border=\"1\" class=\"dataframe\">\n",
       "  <thead>\n",
       "    <tr style=\"text-align: right;\">\n",
       "      <th></th>\n",
       "      <th>total_sales</th>\n",
       "    </tr>\n",
       "    <tr>\n",
       "      <th>platform</th>\n",
       "      <th></th>\n",
       "    </tr>\n",
       "  </thead>\n",
       "  <tbody>\n",
       "    <tr>\n",
       "      <td>PS2</td>\n",
       "      <td>1233.56</td>\n",
       "    </tr>\n",
       "    <tr>\n",
       "      <td>X360</td>\n",
       "      <td>961.24</td>\n",
       "    </tr>\n",
       "    <tr>\n",
       "      <td>PS3</td>\n",
       "      <td>931.34</td>\n",
       "    </tr>\n",
       "    <tr>\n",
       "      <td>Wii</td>\n",
       "      <td>891.18</td>\n",
       "    </tr>\n",
       "    <tr>\n",
       "      <td>DS</td>\n",
       "      <td>802.78</td>\n",
       "    </tr>\n",
       "    <tr>\n",
       "      <td>PS</td>\n",
       "      <td>727.58</td>\n",
       "    </tr>\n",
       "    <tr>\n",
       "      <td>PS4</td>\n",
       "      <td>314.14</td>\n",
       "    </tr>\n",
       "    <tr>\n",
       "      <td>GBA</td>\n",
       "      <td>312.88</td>\n",
       "    </tr>\n",
       "    <tr>\n",
       "      <td>PSP</td>\n",
       "      <td>289.53</td>\n",
       "    </tr>\n",
       "    <tr>\n",
       "      <td>3DS</td>\n",
       "      <td>257.81</td>\n",
       "    </tr>\n",
       "  </tbody>\n",
       "</table>\n",
       "</div>"
      ],
      "text/plain": [
       "          total_sales\n",
       "platform             \n",
       "PS2           1233.56\n",
       "X360           961.24\n",
       "PS3            931.34\n",
       "Wii            891.18\n",
       "DS             802.78\n",
       "PS             727.58\n",
       "PS4            314.14\n",
       "GBA            312.88\n",
       "PSP            289.53\n",
       "3DS            257.81"
      ]
     },
     "metadata": {},
     "output_type": "display_data"
    },
    {
     "data": {
      "image/png": "[encoded data removed]",
      "text/plain": [
       "<Figure size 1080x360 with 1 Axes>"
      ]
     },
     "metadata": {
      "needs_background": "light"
     },
     "output_type": "display_data"
    }
   ],
   "source": [
    "#группировка суммарных продаж по платформам и сортировка по убыванию продаж\n",
    "report = data.pivot_table(index='platform', values='total_sales', aggfunc='sum').sort_values(by='total_sales', ascending=False).head(10)\n",
    "top_10 = report.index\n",
    "display(report)\n",
    "# график продаж по top 10 платформ по годам\n",
    "data.query('platform in @top_10').pivot_table(index='year_of_release', columns='platform', values='total_sales', aggfunc='sum').plot(figsize=(15,5),grid=True);\n",
    "\n"
   ]
  },
  {
   "cell_type": "markdown",
   "metadata": {},
   "source": [
    "<a id='section9'></a>\n",
    "### 3.3. Срок жизни игровой платформы"
   ]
  },
  {
   "cell_type": "markdown",
   "metadata": {},
   "source": [
    "Посмотрим на срок актуальности игровой платформы"
   ]
  },
  {
   "cell_type": "code",
   "execution_count": 18,
   "metadata": {},
   "outputs": [
    {
     "data": {
      "text/plain": [
       "year_of_release    8.035714\n",
       "dtype: float64"
      ]
     },
     "execution_count": 18,
     "metadata": {},
     "output_type": "execute_result"
    }
   ],
   "source": [
    "# выбираем порог продаж 100 тыс.копий\n",
    "min_sales = 0.1\n",
    "# находим суммарные продажи в год выше порога\n",
    "report_1 = data.groupby(['platform', 'year_of_release']).agg({'total_sales':'sum'}).query('total_sales > @min_sales')\n",
    "# среднее число лет порога\n",
    "report_1.reset_index().groupby('platform').agg({'year_of_release':'nunique'}).mean()"
   ]
  },
  {
   "cell_type": "markdown",
   "metadata": {},
   "source": [
    "Рассчет показал, что в среднем срок жизни платформы составляет 8 лет, из графика также видно, что между началом и концом продаж проходти 8-10 лет."
   ]
  },
  {
   "cell_type": "markdown",
   "metadata": {},
   "source": [
    "<a id='section10'></a>\n",
    "### 3.4. Динамика продаж по топовым платформ в актуальном периоде"
   ]
  },
  {
   "cell_type": "markdown",
   "metadata": {},
   "source": [
    "**Учитывая, что индустрия компьютерных игр очень быстро меняется, чтобы строить прогнозы на будущее, для целей дальнейшего анализа будем рассматривать последние 3 года.**"
   ]
  },
  {
   "cell_type": "markdown",
   "metadata": {},
   "source": [
    "Возьмем актуальный период 3 последних года - с 2014 по 2016 гг. и посмотрим распределение продаж по топовым платформам за этот период."
   ]
  },
  {
   "cell_type": "code",
   "execution_count": 19,
   "metadata": {},
   "outputs": [
    {
     "data": {
      "image/png": "[encoded data removed]",
      "text/plain": [
       "<Figure size 1080x360 with 1 Axes>"
      ]
     },
     "metadata": {
      "needs_background": "light"
     },
     "output_type": "display_data"
    }
   ],
   "source": [
    "# посмотрим, какие платформы лидируют в актуальном периоде\n",
    "report_new = data.query('year_of_release >= \"2014-01-01\"').pivot_table(index='platform', values='total_sales', aggfunc='sum').sort_values(by='total_sales', ascending=False).head(10)\n",
    "top_new = report_new.index\n",
    "\n",
    "# берем нужный срез данных и формируем сводную таблицу по годам\n",
    "platform_actually = (\n",
    "    data.query('platform in @top_new and year_of_release >= \"2014-01-01\"')\n",
    "    .pivot_table(index='year_of_release', columns='platform', values='total_sales', aggfunc='sum')\n",
    ")\n",
    "platform_actually.plot(figsize=(15,5),grid=True); # строим график продаж по каждой платформе по годам"
   ]
  },
  {
   "cell_type": "markdown",
   "metadata": {},
   "source": [
    "**Лидером продаж является консоль PS4, далее идет XOne и на 3-м месте платформа 3DS.** \n",
    "\n",
    "**Из графика видно, что платформа PSP уже в 2015 году подошла к концу срока существования, можно заметить, что платформами, которые находятся в конце своего существования являются также PS3, X360, WII. На смену этим платформам пришли новые, это PS4, XOne, WiiU, они с 2014 года только набирают обороты и в 2015 году достигают пика продаж. Стоит выделить PC, т.к. она продается с 1995 года и до сих пор.\n",
    "Самыми популярными и восстребованными платформами можно считать: PS4, XOne, WiiU, PC и 3DS, которая имеет большое количество продаж в 2015 и 2016 годах.**"
   ]
  },
  {
   "cell_type": "code",
   "execution_count": 20,
   "metadata": {},
   "outputs": [],
   "source": [
    "# объявим переменную с прибыльными платформами\n",
    "profitable_platforms = ['WiiU', 'PS4', 'XOne', 'PC', '3DS']"
   ]
  },
  {
   "cell_type": "markdown",
   "metadata": {},
   "source": [
    "Построим график «ящик с усами» по глобальным продажам игр в разбивке по каждой из потенциально прибыльных платформ за актуальный период."
   ]
  },
  {
   "cell_type": "code",
   "execution_count": 21,
   "metadata": {},
   "outputs": [
    {
     "data": {
      "text/plain": [
       "Text(0, 0.5, 'total_sales')"
      ]
     },
     "execution_count": 21,
     "metadata": {},
     "output_type": "execute_result"
    },
    {
     "data": {
      "image/png": "[encoded data removed]",
      "text/plain": [
       "<Figure size 1080x720 with 1 Axes>"
      ]
     },
     "metadata": {
      "needs_background": "light"
     },
     "output_type": "display_data"
    }
   ],
   "source": [
    "# построим боксплот\n",
    "data.query('platform in @profitable_platforms and year_of_release >= \"2014-01-01\"').boxplot('total_sales', by='platform', figsize=(15,10));\n",
    "plt.ylim(0,5)\n",
    "plt.title('')\n",
    "plt.ylabel('total_sales')\n"
   ]
  },
  {
   "cell_type": "markdown",
   "metadata": {},
   "source": [
    "**Из боксплотов мы можем увидеть, самые большие медианные значения продаж у PS4, WiiU и XOne, что может означать, что эти платформы являются потенциально более прибыльными. Также стоит отметить, что у платформ PS4, XOne, WiiU наблюдаются значения , которые значительно выбиваются из общего распределения (выбросы на графике), это значит, что эти платформы имеют много игр-бестселлеров, т.е. самые продаваемы игры разошлись тиражом 4-5 млн.копий и более.**\n"
   ]
  },
  {
   "cell_type": "markdown",
   "metadata": {},
   "source": [
    "<a id='section11'></a>\n",
    "### 3.5. Корреляционный анализ зависимости продаж от отзывов пользователей и критиков"
   ]
  },
  {
   "cell_type": "markdown",
   "metadata": {},
   "source": [
    "Посмотрим, как влияют на продажи внутри одной популярной платформы отзывы пользователей и критиков. Построим диаграмму рассеяния и посчитаем корреляцию между отзывами и продажами. Возьмем список актуальных топовых платформ - 'WiiU', 'PS4', 'XOne', 'PC', '3DS'. "
   ]
  },
  {
   "cell_type": "code",
   "execution_count": 22,
   "metadata": {},
   "outputs": [
    {
     "name": "stdout",
     "output_type": "stream",
     "text": [
      "\n",
      "Корреляция объема продаж и оценок по платформе PS4\n",
      "\n",
      "Коэффициент корреляции между объемом продаж и оценками пользователей: -0.031957110204556424\n",
      "Коэффициент корреляции между объемом продаж и оценками критиков: 0.406567902061781\n",
      "\n",
      "Корреляция объема продаж и оценок по платформе XOne\n",
      "\n",
      "Коэффициент корреляции между объемом продаж и оценками пользователей: -0.06892505328279412\n",
      "Коэффициент корреляции между объемом продаж и оценками критиков: 0.41699832800840175\n",
      "\n",
      "Корреляция объема продаж и оценок по платформе WiiU\n",
      "\n",
      "Коэффициент корреляции между объемом продаж и оценками пользователей: 0.4002190202148617\n",
      "Коэффициент корреляции между объемом продаж и оценками критиков: 0.3483797601201749\n",
      "\n",
      "Корреляция объема продаж и оценок по платформе 3DS\n",
      "\n",
      "Коэффициент корреляции между объемом продаж и оценками пользователей: 0.22207843643390884\n",
      "Коэффициент корреляции между объемом продаж и оценками критиков: 0.34873973059848346\n",
      "\n",
      "Корреляция объема продаж и оценок по платформе PC\n",
      "\n",
      "Коэффициент корреляции между объемом продаж и оценками пользователей: 0.012904741611451193\n",
      "Коэффициент корреляции между объемом продаж и оценками критиков: 0.2573947184009851\n"
     ]
    },
    {
     "data": {
      "image/png": "[encoded data removed]",
      "text/plain": [
       "<Figure size 1080x360 with 2 Axes>"
      ]
     },
     "metadata": {
      "needs_background": "light"
     },
     "output_type": "display_data"
    },
    {
     "data": {
      "image/png": "[encoded data removed]",
      "text/plain": [
       "<Figure size 1080x360 with 2 Axes>"
      ]
     },
     "metadata": {
      "needs_background": "light"
     },
     "output_type": "display_data"
    },
    {
     "data": {
      "image/png": "[encoded data removed]",
      "text/plain": [
       "<Figure size 1080x360 with 2 Axes>"
      ]
     },
     "metadata": {
      "needs_background": "light"
     },
     "output_type": "display_data"
    },
    {
     "data": {
      "image/png": "[encoded data removed]",
      "text/plain": [
       "<Figure size 1080x360 with 2 Axes>"
      ]
     },
     "metadata": {
      "needs_background": "light"
     },
     "output_type": "display_data"
    },
    {
     "data": {
      "image/png": "[encoded data removed]",
      "text/plain": [
       "<Figure size 1080x360 with 2 Axes>"
      ]
     },
     "metadata": {
      "needs_background": "light"
     },
     "output_type": "display_data"
    }
   ],
   "source": [
    "# напишем функцию для вывода диаграмм рассеяния и коэффициентов корреляции\n",
    "def sales_score_corr(platform_corr):\n",
    "    print('')\n",
    "    print('Корреляция объема продаж и оценок по платформе ' + str(platform_corr))\n",
    "    print('')\n",
    "    fig, (ax1, ax2) = plt.subplots(nrows=1, ncols=2, figsize=(15,5))\n",
    "    ax1.scatter(x=data.query('platform == @platform_corr')['user_score'], y=data.query('platform == @platform_corr')['total_sales'], alpha=0.3)\n",
    "    ax1.set_title('Влияние оценок пользователей на объем продаж по платформе\\n'+ str(platform_corr))\n",
    "    ax1.set_ylabel('Продажи, млн.штук')\n",
    "    ax1.set_xlabel('Оценки пользователей')\n",
    "    ax2.scatter(x=data.query('platform == @platform_corr')['critic_score'], y=data.query('platform == @platform_corr')['total_sales'], alpha=0.3)\n",
    "    ax2.set_title('Влияние оценок критиков на объем продаж по платформе\\n'+ str(platform_corr))\n",
    "    ax2.set_ylabel('Продажи, млн.штук')\n",
    "    ax2.set_xlabel('Оценки критиков')\n",
    "    print('Коэффициент корреляции между объемом продаж и оценками пользователей:', \n",
    "      data.query('platform == @platform_corr')['total_sales'].corr(data.query('platform == @platform_corr')['user_score']))\n",
    "    print('Коэффициент корреляции между объемом продаж и оценками критиков:', \n",
    "      data.query('platform == @platform_corr')['total_sales'].corr(data.query('platform == @platform_corr')['critic_score']))\n",
    "\n",
    "# вызовем функцию для списка актуальных топовых платформ    \n",
    "sales_score_corr(\"PS4\")   \n",
    "sales_score_corr(\"XOne\")\n",
    "sales_score_corr(\"WiiU\")\n",
    "sales_score_corr(\"3DS\")\n",
    "sales_score_corr(\"PC\")"
   ]
  },
  {
   "cell_type": "markdown",
   "metadata": {},
   "source": [
    "**Результаты данных рассчетов говорят нам о том, что:**\n",
    "- **связи между оценками пользователей и объемом продаж нет, это заметно по результатам анализа почти всех рассмотренных платформ, кроме WiiU, там заметна слабая зависимость;**\n",
    "- **оценки критиков не сильно, но влияют на продажи, причем наиболее выражена эта связь на платформе XOne, слабее всех - на PC.**"
   ]
  },
  {
   "cell_type": "markdown",
   "metadata": {},
   "source": [
    "<a id='section12'></a>\n",
    "### 3.6. Распределение игр по жанрам"
   ]
  },
  {
   "cell_type": "markdown",
   "metadata": {},
   "source": [
    "Посмотрим на общее распределение игр по жанрам."
   ]
  },
  {
   "cell_type": "code",
   "execution_count": 23,
   "metadata": {},
   "outputs": [
    {
     "data": {
      "image/png": "[encoded data removed]",
      "text/plain": [
       "<Figure size 1080x360 with 1 Axes>"
      ]
     },
     "metadata": {
      "needs_background": "light"
     },
     "output_type": "display_data"
    }
   ],
   "source": [
    "# выводим распределение продаж по жанрам\n",
    "genre_sales = (\n",
    "    data.query('platform in @profitable_platforms and year_of_release >= \"2014-01-01\"') # берем срез по топ 10 платформ, начиная с 2012г.\n",
    "    .pivot_table(index='genre', values='total_sales', aggfunc='sum') # делаем сводную таблицу по жанру\n",
    "    .sort_values(by='total_sales', ascending=False) # сортируем по убыванию объема продаж\n",
    "    .reset_index().rename_axis(None, axis=1) # обновляем индексацию\n",
    ")\n",
    "plt.figure(figsize=(15,5)) # строим гистограмму\n",
    "plt.title('Распределение продаж по жанрам')\n",
    "sns.barplot(data=genre_sales, x='genre', y='total_sales');\n"
   ]
  },
  {
   "cell_type": "markdown",
   "metadata": {},
   "source": [
    "Смотря на общий объем продаж, видно, что больше всего копий игр было продано в жанре Action, Shooter и Role-Playing. \n",
    "\n",
    "Однако, следует посмотреть также на распределение средних значений продаж и медиан.\n"
   ]
  },
  {
   "cell_type": "code",
   "execution_count": 24,
   "metadata": {},
   "outputs": [
    {
     "data": {
      "image/png": "[encoded data removed]",
      "text/plain": [
       "<Figure size 1080x360 with 1 Axes>"
      ]
     },
     "metadata": {
      "needs_background": "light"
     },
     "output_type": "display_data"
    }
   ],
   "source": [
    "# выводим боксплоты, чтобы посмотреть на распредение средних значений и медиан\n",
    "plt.figure(figsize=(15,5)) \n",
    "plt.title('Распределение продаж по жанрам')\n",
    "plt.ylim(0,5)\n",
    "sns.boxplot(data=data.query('platform in @profitable_platforms and year_of_release >= \"2014-01-01\"'), x='genre', y='total_sales');"
   ]
  },
  {
   "cell_type": "markdown",
   "metadata": {},
   "source": [
    "Теперь стало видно, что самые продаваемые игры в  жанре Shooter, Sports, Platform, Action. Игры жанра Shooter имеют также самую большую дисперсию, т.е. имеют большое число игр-хитов. Хуже всего в актуальном периоде продаются игры Puzzle, Adventure и Strategy, они имеют самый маленький размах и не имеют игр-бестселлеров.\n",
    "Поэтому потенциально более прибыльными жанрами можно назвать Shooter, Sports, Platform, Action и Role-Playing - они самые популярные, имеют больше всего продаж и бестселлеров."
   ]
  },
  {
   "cell_type": "markdown",
   "metadata": {},
   "source": [
    "## 4. Портрет пользователя каждого региона"
   ]
  },
  {
   "cell_type": "markdown",
   "metadata": {},
   "source": [
    "<a id='section13'></a>\n",
    "### 4.1.Топ-5 популярных платформ"
   ]
  },
  {
   "cell_type": "markdown",
   "metadata": {},
   "source": [
    "Для пользователя каждого региона определим самые популярные платформы:\n"
   ]
  },
  {
   "cell_type": "code",
   "execution_count": 25,
   "metadata": {},
   "outputs": [],
   "source": [
    "# напишем функцию, которая будет выводить пайчарт с долей продаж по платформам\n",
    "def ratio_func(data, col_name):\n",
    "    result = (\n",
    "        data.query('year_of_release >= \"2014-01-01\"')\n",
    "        .pivot_table(index='platform',values=col_name, aggfunc='sum') # группируем данные\n",
    "        .sort_values(by=col_name,ascending=False) # сортируем данные\n",
    "        .head(5) # берем топ-5\n",
    "    )\n",
    "    result.plot(kind='pie', figsize=(5, 5),subplots=True,autopct='%1.1f%%', title='Доля продаж'); # выводим пайчарт\n",
    "    \n"
   ]
  },
  {
   "cell_type": "markdown",
   "metadata": {},
   "source": [
    "**TOP-5 Платформ. NA - регион Северная Америка**"
   ]
  },
  {
   "cell_type": "code",
   "execution_count": 26,
   "metadata": {},
   "outputs": [
    {
     "data": {
      "image/png": "[encoded data removed]",
      "text/plain": [
       "<Figure size 360x360 with 1 Axes>"
      ]
     },
     "metadata": {},
     "output_type": "display_data"
    }
   ],
   "source": [
    "# применим функцию для вывода пайчарта по доле продаж для Северной Америки\n",
    "ratio_func(data, 'na_sales')"
   ]
  },
  {
   "cell_type": "markdown",
   "metadata": {},
   "source": [
    "**TOP-5 Платформ. EU - Европейский регион**"
   ]
  },
  {
   "cell_type": "code",
   "execution_count": 27,
   "metadata": {},
   "outputs": [
    {
     "data": {
      "image/png": "[encoded data removed]",
      "text/plain": [
       "<Figure size 360x360 with 1 Axes>"
      ]
     },
     "metadata": {},
     "output_type": "display_data"
    }
   ],
   "source": [
    "# применим функцию для вывода пайчарта по доле продаж для Европы\n",
    "ratio_func(data, 'eu_sales')"
   ]
  },
  {
   "cell_type": "markdown",
   "metadata": {},
   "source": [
    "**TOP-5 Платформ. JP - Япония**"
   ]
  },
  {
   "cell_type": "code",
   "execution_count": 28,
   "metadata": {},
   "outputs": [
    {
     "data": {
      "image/png": "[encoded data removed]",
      "text/plain": [
       "<Figure size 360x360 with 1 Axes>"
      ]
     },
     "metadata": {},
     "output_type": "display_data"
    }
   ],
   "source": [
    "# применим функцию для вывода пайчарта по доле продаж для Японии\n",
    "ratio_func(data, 'jp_sales')"
   ]
  },
  {
   "cell_type": "markdown",
   "metadata": {},
   "source": [
    "На рынке Северной Америки наиболее популярна PS4 -ее доля составила 39%, в Европе самамя большая доля(55%) также приходится на PS4, а вот в Японии картина отличается - большим спросом там пользуется платформа 3DS (48%), на PS4 там приходится 16%."
   ]
  },
  {
   "cell_type": "markdown",
   "metadata": {},
   "source": [
    "<a id='section14'></a>\n",
    "### 4.2. Топ-5 популярных жанров"
   ]
  },
  {
   "cell_type": "code",
   "execution_count": 29,
   "metadata": {},
   "outputs": [],
   "source": [
    "# напишем функцию, которая будет выводить пай чарт с долей продаж по жанрам\n",
    "def ratio_genre_func(data_2, col_name_genre):\n",
    "    result_2 = (\n",
    "        data_2.query('year_of_release >= \"2014-01-01\"')\n",
    "        .pivot_table(index='genre',values=col_name_genre, aggfunc='sum') # группируем данные\n",
    "        .sort_values(by=col_name_genre,ascending=False) # сортируем данные\n",
    "        .head(5) # берем топ-5\n",
    "    )\n",
    "    result_2.plot(kind='pie', figsize=(5, 5),subplots=True,autopct='%1.1f%%', title='Доля продаж'); # выводим пайчарт"
   ]
  },
  {
   "cell_type": "markdown",
   "metadata": {},
   "source": [
    "**TOP-5 жанров. NA - регион Северная Америка**"
   ]
  },
  {
   "cell_type": "code",
   "execution_count": 30,
   "metadata": {},
   "outputs": [
    {
     "data": {
      "image/png": "[encoded data removed]",
      "text/plain": [
       "<Figure size 360x360 with 1 Axes>"
      ]
     },
     "metadata": {},
     "output_type": "display_data"
    }
   ],
   "source": [
    "ratio_genre_func(data,'na_sales')"
   ]
  },
  {
   "cell_type": "markdown",
   "metadata": {},
   "source": [
    "**TOP-5 жанров. EU - Европейский регион**"
   ]
  },
  {
   "cell_type": "code",
   "execution_count": 31,
   "metadata": {},
   "outputs": [
    {
     "data": {
      "image/png": "[encoded data removed]",
      "text/plain": [
       "<Figure size 360x360 with 1 Axes>"
      ]
     },
     "metadata": {},
     "output_type": "display_data"
    }
   ],
   "source": [
    "ratio_genre_func(data,'eu_sales')"
   ]
  },
  {
   "cell_type": "markdown",
   "metadata": {},
   "source": [
    "**TOP-5 жанров. JP - Япония**"
   ]
  },
  {
   "cell_type": "code",
   "execution_count": 32,
   "metadata": {},
   "outputs": [
    {
     "data": {
      "image/png": "[encoded data removed]",
      "text/plain": [
       "<Figure size 360x360 with 1 Axes>"
      ]
     },
     "metadata": {},
     "output_type": "display_data"
    }
   ],
   "source": [
    "ratio_genre_func(data,'jp_sales')"
   ]
  },
  {
   "cell_type": "markdown",
   "metadata": {},
   "source": [
    "Северо-Американский и Европейский регионы также очень похожи по популярности жанров. В Северной Америке и Европе популярнее всего Action и Shooter на них приходится примерно по 30%, меньше всего продаж у жанра Misc и Racing. В Японии больше пользуется спросом Role-Playing (40%), а вот на жанр Shooter в Японии приходтся самая маленькая доля - 6%."
   ]
  },
  {
   "cell_type": "markdown",
   "metadata": {},
   "source": [
    "<a id='section15'></a>\n",
    "### 4.3. Влияние рейтинга ESRB на продажи в отдельном регионе"
   ]
  },
  {
   "cell_type": "markdown",
   "metadata": {},
   "source": [
    "Выясним, какой рейтинг имеют самые продаваемые игры в каждом отдельном регионе."
   ]
  },
  {
   "cell_type": "markdown",
   "metadata": {},
   "source": [
    "E - Everyone - для всех, для детей от 6 лет.\n",
    "\n",
    "T - Teen - игры для подростков старше 13 лет.\n",
    "\n",
    "M - Mature - игры для подростков, старше 17 лет.\n",
    "\n",
    "E10+ - Everyone 10 and older - для всех, старше 10 лет.\n",
    "\n",
    "EC - Early Childhood - для детей от 3 лет.\n",
    "\n",
    "RP - Rating Pending - рейтинг еще не присвоен, зачастую это игры добавленные сразу после презентации.\n",
    "\n",
    "AO - Adults Only 18+ - только для взрослых, старше 18 лет."
   ]
  },
  {
   "cell_type": "code",
   "execution_count": 33,
   "metadata": {},
   "outputs": [],
   "source": [
    "# напишем функцию, которая будет выводить пай чарт по рейтингу\n",
    "def ratio_rating_func(data_3, col_name_rating):\n",
    "    result_3 = (\n",
    "        data_3.query('year_of_release >= \"2014-01-01\"')\n",
    "        .pivot_table(index='rating',values=col_name_rating, aggfunc='sum') # группируем данные\n",
    "        .sort_values(by=col_name_rating,ascending=False) # сортируем данные\n",
    "        .head(5) # берем топ-5\n",
    "    )\n",
    "    result_3.plot(kind='pie', figsize=(5, 5),subplots=True,autopct='%1.1f%%', title='Доля продаж'); # выводим пайчарт\n",
    "    "
   ]
  },
  {
   "cell_type": "markdown",
   "metadata": {},
   "source": [
    "**Рейтинг. NA - регион Северная Америка**"
   ]
  },
  {
   "cell_type": "code",
   "execution_count": 34,
   "metadata": {},
   "outputs": [
    {
     "data": {
      "image/png": "[encoded data removed]",
      "text/plain": [
       "<Figure size 360x360 with 1 Axes>"
      ]
     },
     "metadata": {},
     "output_type": "display_data"
    }
   ],
   "source": [
    "ratio_rating_func(data, 'na_sales')"
   ]
  },
  {
   "cell_type": "markdown",
   "metadata": {},
   "source": [
    "**Рейтинг. EU - Европейский регион**"
   ]
  },
  {
   "cell_type": "code",
   "execution_count": 35,
   "metadata": {},
   "outputs": [
    {
     "data": {
      "image/png": "[encoded data removed]",
      "text/plain": [
       "<Figure size 360x360 with 1 Axes>"
      ]
     },
     "metadata": {},
     "output_type": "display_data"
    }
   ],
   "source": [
    "ratio_rating_func(data, 'eu_sales')"
   ]
  },
  {
   "cell_type": "markdown",
   "metadata": {},
   "source": [
    "**Рейтинг. JP - Япония**"
   ]
  },
  {
   "cell_type": "code",
   "execution_count": 36,
   "metadata": {},
   "outputs": [
    {
     "data": {
      "image/png": "[encoded data removed]",
      "text/plain": [
       "<Figure size 360x360 with 1 Axes>"
      ]
     },
     "metadata": {},
     "output_type": "display_data"
    }
   ],
   "source": [
    "ratio_rating_func(data, 'jp_sales')"
   ]
  },
  {
   "cell_type": "markdown",
   "metadata": {},
   "source": [
    "В Северной Америке и в Европе наиболее популярны игры с рейтингом M - Mature - игры для подростков, старше 17 лет. В Японии самая большая доля 61% приходится на категорию unknown, которой мы обозначили пропущенные значения, но среди оставшихся значений рейтинга наибольшая доля принадлежит рейтингу T-Teen - игры для подростков старше 13 лет. Меньше всего продаж приходится на игры с рейтингм Е10+ во всех регионах."
   ]
  },
  {
   "cell_type": "markdown",
   "metadata": {},
   "source": [
    "**Таким образом, мы определили портреты пользователей для разных регионов и выяснили, что**\n",
    "\n",
    "- при ориентации на рынок Северной Америки в первую очередь нужно обратить внимание на игры платформ PS4 и XOne, в жанре Action, Sports и Shooter, с рейтингм M (подростки от 17 лет).\n",
    "- для рынка Европы стоит рассматривать игры платформ РС4 и XOne, также в жанре Action, Sports и Shooter с рейтингом M и E.\n",
    "- при планировании продаж на рынок Японии стоит внимательнее рассматривать игры платформ 3DS и PS4  в жанре Role-Playing и Action с рейтингом T и Е."
   ]
  },
  {
   "cell_type": "markdown",
   "metadata": {},
   "source": [
    "## 5. Статистический анализ данных"
   ]
  },
  {
   "cell_type": "markdown",
   "metadata": {},
   "source": [
    "<a id='section16'></a>\n",
    "### 5.1. Проверка первой гипотезы"
   ]
  },
  {
   "cell_type": "markdown",
   "metadata": {},
   "source": [
    "Нужно проверить 2 гипотезы:\n",
    "1) Средние пользовательские рейтинги платформ Xbox One и PC одинаковые;\n",
    "\n",
    "2) Средние пользовательские рейтинги жанров Action и Sports разные."
   ]
  },
  {
   "cell_type": "markdown",
   "metadata": {},
   "source": [
    "Сформулируем нулевую и альтернативную гипотезы для первого пункта:\n",
    "\n",
    "*Н0 - средние пользовательские рейтинги платформ Xbox One и PC равны*\n",
    "\n",
    "*Н1 - средние пользовательские рейтинги платформ Xbox One и PC отличаются*\n",
    "\n",
    "Проверим гипотезы, используя встроенную в библиотеку scipy функцию ttest_ind - которая вычисляет уровень значимости критерия Стьюдента для двух независимых выборок. "
   ]
  },
  {
   "cell_type": "code",
   "execution_count": 37,
   "metadata": {},
   "outputs": [],
   "source": [
    "# создание новых датафреймов с оценками пользователей для Xbox One и PC\n",
    "data_xbox = data.query('platform == \"XOne\" and user_score != \"nan\" and year_of_release >= \"2014-01-01\"')['user_score']\n",
    "data_pc = data.query('platform == \"PC\" and user_score != \"nan\" and year_of_release >= \"2014-01-01\"')['user_score']"
   ]
  },
  {
   "cell_type": "code",
   "execution_count": 38,
   "metadata": {},
   "outputs": [
    {
     "name": "stdout",
     "output_type": "stream",
     "text": [
      "0.10450507919348415\n",
      "Нулевую гипотезу не отвергаем\n"
     ]
    }
   ],
   "source": [
    "# критический уровень статистической значимости возьмем равным 5%\n",
    "alpha = 0.05\n",
    "# запуск t-теста\n",
    "results = st.ttest_ind(data_xbox, data_pc, equal_var = True)\n",
    "print(results.pvalue)\n",
    "if results.pvalue < alpha:\n",
    "    print('Нулевую гипотезу отвергаем')\n",
    "else:\n",
    "    print('Нулевую гипотезу не отвергаем')"
   ]
  },
  {
   "cell_type": "markdown",
   "metadata": {},
   "source": [
    "**Полученное значение p-value больше выбранного уровня статистической значимости, а значит нулевую гипотезу мы не отвергаем. \n",
    "Выведем средние значения оценок пользователей для наших выборок, чтобы убедиться, что средние значения не отличаются.**"
   ]
  },
  {
   "cell_type": "code",
   "execution_count": 39,
   "metadata": {},
   "outputs": [
    {
     "data": {
      "text/html": [
       "<div>\n",
       "<style scoped>\n",
       "    .dataframe tbody tr th:only-of-type {\n",
       "        vertical-align: middle;\n",
       "    }\n",
       "\n",
       "    .dataframe tbody tr th {\n",
       "        vertical-align: top;\n",
       "    }\n",
       "\n",
       "    .dataframe thead th {\n",
       "        text-align: right;\n",
       "    }\n",
       "</style>\n",
       "<table border=\"1\" class=\"dataframe\">\n",
       "  <thead>\n",
       "    <tr style=\"text-align: right;\">\n",
       "      <th></th>\n",
       "      <th>mean_user_score</th>\n",
       "    </tr>\n",
       "    <tr>\n",
       "      <th>platform</th>\n",
       "      <th></th>\n",
       "    </tr>\n",
       "  </thead>\n",
       "  <tbody>\n",
       "    <tr>\n",
       "      <td>PC</td>\n",
       "      <td>6.298361</td>\n",
       "    </tr>\n",
       "    <tr>\n",
       "      <td>XOne</td>\n",
       "      <td>6.521429</td>\n",
       "    </tr>\n",
       "  </tbody>\n",
       "</table>\n",
       "</div>"
      ],
      "text/plain": [
       "          mean_user_score\n",
       "platform                 \n",
       "PC               6.298361\n",
       "XOne             6.521429"
      ]
     },
     "execution_count": 39,
     "metadata": {},
     "output_type": "execute_result"
    }
   ],
   "source": [
    "# выводим среднее значение оценок пользователей\n",
    "data_platform_mean = (\n",
    "    data.query('platform == \"XOne\" or platform == \"PC\" and user_score != \"nan\" and year_of_release >= \"2014-01-01\"') # делаем срез данных\n",
    "    .pivot_table(index='platform', values='user_score', aggfunc='mean') # группируем\n",
    "    .rename(columns={'user_score':'mean_user_score'}) # переименовываем столбец с оценками пользователей\n",
    ")\n",
    "data_platform_mean\n"
   ]
  },
  {
   "cell_type": "markdown",
   "metadata": {},
   "source": [
    "Действительно, средние оценки пользователей по платформам XOne и PC практически равны."
   ]
  },
  {
   "cell_type": "markdown",
   "metadata": {},
   "source": [
    "<a id='section17'></a>\n",
    "### 5.2. Проверка второй гипотезы"
   ]
  },
  {
   "cell_type": "markdown",
   "metadata": {},
   "source": [
    "Проверим вторую гипотезу тем же способом"
   ]
  },
  {
   "cell_type": "markdown",
   "metadata": {},
   "source": [
    "*Н0 - средние пользовательские рейтинги платформ жанров Action и Sports равны*\n",
    "\n",
    "*Н1 - средние пользовательские рейтинги платформ жанров Action и Sports отличаются*"
   ]
  },
  {
   "cell_type": "code",
   "execution_count": 40,
   "metadata": {},
   "outputs": [],
   "source": [
    "# создадим новые датафреймы для двух выборок - для жанра Action и Sports\n",
    "data_action = data.query('genre == \"Action\" and user_score != \"nan\" and year_of_release >= \"2014-01-01\"')['user_score']\n",
    "data_sport = data.query('genre == \"Sports\" and user_score != \"nan\" and year_of_release >= \"2014-01-01\"')['user_score']\n"
   ]
  },
  {
   "cell_type": "code",
   "execution_count": 41,
   "metadata": {},
   "outputs": [
    {
     "name": "stdout",
     "output_type": "stream",
     "text": [
      "2.8711147985105864e-19\n",
      "Нулевую гипотезу отвергаем\n"
     ]
    }
   ],
   "source": [
    "# задаем уровень стат.значимости 5%\n",
    "alpha = 0.05\n",
    "# запускаем t-test\n",
    "results = st.ttest_ind(data_action, data_sport, equal_var = True)\n",
    "print(results.pvalue)\n",
    "if results.pvalue < alpha:\n",
    "    print('Нулевую гипотезу отвергаем')\n",
    "else:\n",
    "    print('Нулевую гипотезу не отвергаем')"
   ]
  },
  {
   "cell_type": "markdown",
   "metadata": {},
   "source": [
    "Полученное значение p-value меньше выбранного уровня статистической значимости, т.е. если бы мы утверждали, что средние равны, то более чем в 95% случаев мы бы ошиблись, а значит нулевую гипотезу мы отвергаем. Выведем средние значения оценок пользователей для наших выборок, чтобы убедиться, что средние значения отличаются.\n"
   ]
  },
  {
   "cell_type": "code",
   "execution_count": 42,
   "metadata": {},
   "outputs": [
    {
     "data": {
      "text/html": [
       "<div>\n",
       "<style scoped>\n",
       "    .dataframe tbody tr th:only-of-type {\n",
       "        vertical-align: middle;\n",
       "    }\n",
       "\n",
       "    .dataframe tbody tr th {\n",
       "        vertical-align: top;\n",
       "    }\n",
       "\n",
       "    .dataframe thead th {\n",
       "        text-align: right;\n",
       "    }\n",
       "</style>\n",
       "<table border=\"1\" class=\"dataframe\">\n",
       "  <thead>\n",
       "    <tr style=\"text-align: right;\">\n",
       "      <th></th>\n",
       "      <th>mean_user_score</th>\n",
       "    </tr>\n",
       "    <tr>\n",
       "      <th>genre</th>\n",
       "      <th></th>\n",
       "    </tr>\n",
       "  </thead>\n",
       "  <tbody>\n",
       "    <tr>\n",
       "      <td>Action</td>\n",
       "      <td>7.058129</td>\n",
       "    </tr>\n",
       "    <tr>\n",
       "      <td>Sports</td>\n",
       "      <td>5.225197</td>\n",
       "    </tr>\n",
       "  </tbody>\n",
       "</table>\n",
       "</div>"
      ],
      "text/plain": [
       "        mean_user_score\n",
       "genre                  \n",
       "Action         7.058129\n",
       "Sports         5.225197"
      ]
     },
     "execution_count": 42,
     "metadata": {},
     "output_type": "execute_result"
    }
   ],
   "source": [
    "# выводим среднее значение оценок пользователей\n",
    "data_genre_mean = (\n",
    "    data.query('genre == \"Action\" or genre == \"Sports\" and user_score != \"nan\" and year_of_release >= \"2014-01-01\"') # делаем срез данных\n",
    "    .pivot_table(index='genre', values='user_score', aggfunc='mean') # группируем\n",
    "    .rename(columns={'user_score':'mean_user_score'}) # переименовываем столбец с оценками пользователей\n",
    ")\n",
    "data_genre_mean"
   ]
  },
  {
   "cell_type": "markdown",
   "metadata": {},
   "source": [
    "Видим, что оценки пользователей для жанров Action и Sports действительно отличаются."
   ]
  },
  {
   "cell_type": "markdown",
   "metadata": {},
   "source": [
    "<a id='section18'></a>    \n",
    "## 6. Общий вывод  "
   ]
  },
  {
   "cell_type": "markdown",
   "metadata": {},
   "source": [
    "<div style=\"border:solid green 2px; padding: 20px\">\n",
    "    \n",
    "Перед проведением исследования данные были подробно изучены и были обнаружены проблемы в виде не подходящих типов данных, пропусков, заглавные буквы в названиях столбцов - все это потребовало обработки, также был добавлен столбец total_sales  с суммарными продажами по всем регионам.\n",
    "\n",
    "Для целей анализа мы рассматривали данные только за актуальный период - последние 3 года, т.е. с 2014 по 2016 гг., т.к. предыдущие периоды уже не являются полезными для составления прогнозов на 2017 год.\n",
    "    \n",
    "Мы взяли топ платформ с самыми большими объемами продаж за период с 2014г. по 2016 г. и выяснили, что лидером продаж является консоль PS4, далее идет XOne и на 3-м месте платформа 3DS. Платформа PSP уже в 2015 году подошла к концу срока существования, можно заметить, что платформами, которые находятся в конце своего существования являются также PS3, X360, WII. На смену этим платформам пришли новые, это PS4, XOne, WiiU, они с 2014 года только набирают обороты и в 2015 году достигают пика продаж. Стоит выделить PC, т.к. она продается с 1995 года и до сих пор. Самыми популярными и восстребованными платформами можно считать: PS4, XOne, WiiU, PC и 3DS, которая имеет большое количество продаж в 2015 и 2016 годах.\n",
    "    \n",
    "Самые большие медианные значения продаж у PS4, WiiU и XOne, что может означать, что эти платформы являются потенциально более прибыльными. Также стоит отметить, что у платформ PS4, XOne, WiiU наблюдаются значения , которые значительно выбиваются из общего распределения (выбросы на графике), это значит, что эти платформы имеют много игр-бестселлеров.\n",
    "    \n",
    "Также было выяснено что: \n",
    "- связи между оценками пользователей и объемом продаж нет, это заметно по результатам анализа почти всех рассмотренных платформ, кроме WiiU, там заметна слабая зависимость;\n",
    "- оценки критиков не сильно, но влияют на продажи, причем наиболее выражена эта связь на платформе XOne, слабее всех - на PC.\n",
    "    \n",
    "В разрезе жанров самые продаваемые игры в жанре Shooter, Sports, Platform, Action. Хуже всего в актуальном периоде продаются игры Puzzle, Adventure и Strategy.Поэтому потенциально более прибыльными жанрами можно назвать Shooter, Sports, Platform, Action - они самые популярные, имеют больше всего продаж и бестселлеров.\n",
    "    \n",
    "Проверяя гипотезы о равенстве средних оценок пользователей для платформ XOne и PC и жанров Action и Sports, было выяснено:\n",
    "- средние оценки пользователей по платформам XOne и PC очень близки по среднему значению и можно говорить об их равенсте;\n",
    "- оценки пользователей для жанров Action и Sports отличаются.\n",
    "    \n",
    "Составляя портерт пользователя для разных регионов, было выяснено, что рынок Японии отличается от других рынков. На успех игры влияет множество факторов, среди которых платформа, жанр, оценки критиков и пользователей, возрастной рейтинг, поэтому при составлении плана продаж на 2017 год и разработке новых игр стоит учесть, что:\n",
    "- **при ориентации на рынок Северной Америки в первую очередь нужно обратить внимание на игры платформ PS4 и XOne, в жанре Action, Sports и Shooter, с рейтингм M (подростки от 17 лет);**\n",
    "- **для рынка Европы стоит рассматривать игры платформ РС4 и XOne, также в жанре Action, Sports и Shooter с рейтингом M и E;**\n",
    "- **при планировании продаж на рынок Японии стоит внимательнее рассматривать игры платформ 3DS и PS4 в жанре Role-Playing и Action с рейтингом T и Е.**\n"
   ]
  }
 ],
 "metadata": {
  "ExecuteTimeLog": [
   {
    "duration": 222,
    "start_time": "2021-12-20T13:03:13.712Z"
   },
   {
    "duration": 518,
    "start_time": "2021-12-20T13:03:17.634Z"
   },
   {
    "duration": 39,
    "start_time": "2021-12-20T13:03:20.105Z"
   },
   {
    "duration": 50,
    "start_time": "2021-12-20T13:03:28.703Z"
   },
   {
    "duration": 5,
    "start_time": "2021-12-20T13:05:28.508Z"
   },
   {
    "duration": 5,
    "start_time": "2021-12-20T13:06:15.801Z"
   },
   {
    "duration": 10,
    "start_time": "2021-12-20T13:06:59.715Z"
   },
   {
    "duration": 5,
    "start_time": "2021-12-20T13:07:44.748Z"
   },
   {
    "duration": 9,
    "start_time": "2021-12-20T13:08:53.449Z"
   },
   {
    "duration": 25,
    "start_time": "2021-12-20T13:09:47.405Z"
   },
   {
    "duration": 14,
    "start_time": "2021-12-20T13:09:55.288Z"
   },
   {
    "duration": 295,
    "start_time": "2021-12-21T09:17:10.014Z"
   },
   {
    "duration": 587,
    "start_time": "2021-12-21T09:17:17.583Z"
   },
   {
    "duration": 51,
    "start_time": "2021-12-21T09:17:18.171Z"
   },
   {
    "duration": 4,
    "start_time": "2021-12-21T09:17:18.224Z"
   },
   {
    "duration": 6,
    "start_time": "2021-12-21T09:17:18.230Z"
   },
   {
    "duration": 5,
    "start_time": "2021-12-21T09:17:18.238Z"
   },
   {
    "duration": 17,
    "start_time": "2021-12-21T09:17:18.245Z"
   },
   {
    "duration": 9,
    "start_time": "2021-12-21T09:17:18.264Z"
   },
   {
    "duration": 8,
    "start_time": "2021-12-21T09:17:18.275Z"
   },
   {
    "duration": 2,
    "start_time": "2021-12-21T09:44:14.813Z"
   },
   {
    "duration": 5,
    "start_time": "2021-12-21T09:50:10.285Z"
   },
   {
    "duration": 21,
    "start_time": "2021-12-21T09:50:18.801Z"
   },
   {
    "duration": 6,
    "start_time": "2021-12-21T09:50:35.228Z"
   },
   {
    "duration": 329,
    "start_time": "2021-12-21T09:50:37.962Z"
   },
   {
    "duration": 254,
    "start_time": "2021-12-21T09:50:51.183Z"
   },
   {
    "duration": 261,
    "start_time": "2021-12-21T09:50:54.378Z"
   },
   {
    "duration": 263,
    "start_time": "2021-12-21T09:51:04.589Z"
   },
   {
    "duration": 437,
    "start_time": "2021-12-21T09:53:38.208Z"
   },
   {
    "duration": 244,
    "start_time": "2021-12-21T09:55:31.166Z"
   },
   {
    "duration": 677,
    "start_time": "2021-12-21T09:55:38.258Z"
   },
   {
    "duration": 58,
    "start_time": "2021-12-21T09:55:38.938Z"
   },
   {
    "duration": 7,
    "start_time": "2021-12-21T09:55:38.999Z"
   },
   {
    "duration": 7,
    "start_time": "2021-12-21T09:55:39.011Z"
   },
   {
    "duration": 9,
    "start_time": "2021-12-21T09:55:39.020Z"
   },
   {
    "duration": 29,
    "start_time": "2021-12-21T09:55:39.031Z"
   },
   {
    "duration": 25,
    "start_time": "2021-12-21T09:55:39.062Z"
   },
   {
    "duration": 9,
    "start_time": "2021-12-21T09:55:39.090Z"
   },
   {
    "duration": 5,
    "start_time": "2021-12-21T09:55:39.101Z"
   },
   {
    "duration": 353,
    "start_time": "2021-12-21T09:55:56.918Z"
   },
   {
    "duration": 6,
    "start_time": "2021-12-21T09:56:04.802Z"
   },
   {
    "duration": 21,
    "start_time": "2021-12-21T09:56:18.049Z"
   },
   {
    "duration": 3,
    "start_time": "2021-12-21T09:58:08.328Z"
   },
   {
    "duration": 18,
    "start_time": "2021-12-21T09:58:10.703Z"
   },
   {
    "duration": 5,
    "start_time": "2021-12-21T09:59:37.249Z"
   },
   {
    "duration": 3,
    "start_time": "2021-12-21T10:00:19.457Z"
   },
   {
    "duration": 430,
    "start_time": "2021-12-21T10:01:27.349Z"
   },
   {
    "duration": 9,
    "start_time": "2021-12-21T10:03:46.933Z"
   },
   {
    "duration": 16,
    "start_time": "2021-12-21T10:04:01.471Z"
   },
   {
    "duration": 1017,
    "start_time": "2021-12-21T10:04:18.887Z"
   },
   {
    "duration": 267,
    "start_time": "2021-12-21T10:21:01.568Z"
   },
   {
    "duration": 17,
    "start_time": "2021-12-21T10:21:15.612Z"
   },
   {
    "duration": 8,
    "start_time": "2021-12-21T10:21:21.693Z"
   },
   {
    "duration": 24,
    "start_time": "2021-12-21T10:32:34.697Z"
   },
   {
    "duration": 87,
    "start_time": "2021-12-21T10:32:53.552Z"
   },
   {
    "duration": 16,
    "start_time": "2021-12-21T10:32:58.438Z"
   },
   {
    "duration": 14,
    "start_time": "2021-12-21T10:34:05.541Z"
   },
   {
    "duration": 14,
    "start_time": "2021-12-21T10:38:50.825Z"
   },
   {
    "duration": 11,
    "start_time": "2021-12-21T11:21:10.449Z"
   },
   {
    "duration": 7,
    "start_time": "2021-12-21T11:21:29.719Z"
   },
   {
    "duration": 8,
    "start_time": "2021-12-21T11:22:12.500Z"
   },
   {
    "duration": 726,
    "start_time": "2021-12-21T11:22:18.178Z"
   },
   {
    "duration": 58,
    "start_time": "2021-12-21T11:22:18.906Z"
   },
   {
    "duration": 5,
    "start_time": "2021-12-21T11:22:18.966Z"
   },
   {
    "duration": 9,
    "start_time": "2021-12-21T11:22:18.974Z"
   },
   {
    "duration": 7,
    "start_time": "2021-12-21T11:22:18.985Z"
   },
   {
    "duration": 8,
    "start_time": "2021-12-21T11:22:18.994Z"
   },
   {
    "duration": 14,
    "start_time": "2021-12-21T11:22:19.004Z"
   },
   {
    "duration": 46,
    "start_time": "2021-12-21T11:22:19.021Z"
   },
   {
    "duration": 8,
    "start_time": "2021-12-21T11:22:19.069Z"
   },
   {
    "duration": 14,
    "start_time": "2021-12-21T11:22:19.079Z"
   },
   {
    "duration": 16,
    "start_time": "2021-12-21T11:22:19.095Z"
   },
   {
    "duration": 48,
    "start_time": "2021-12-21T11:22:19.113Z"
   },
   {
    "duration": 337,
    "start_time": "2021-12-21T11:24:28.973Z"
   },
   {
    "duration": 8,
    "start_time": "2021-12-21T11:24:36.680Z"
   },
   {
    "duration": 13,
    "start_time": "2021-12-21T11:24:57.088Z"
   },
   {
    "duration": 6,
    "start_time": "2021-12-21T11:25:16.478Z"
   },
   {
    "duration": 6,
    "start_time": "2021-12-21T11:25:28.642Z"
   },
   {
    "duration": 3,
    "start_time": "2021-12-21T11:36:22.270Z"
   },
   {
    "duration": 25,
    "start_time": "2021-12-21T11:38:12.538Z"
   },
   {
    "duration": 25,
    "start_time": "2021-12-21T11:38:45.497Z"
   },
   {
    "duration": 15,
    "start_time": "2021-12-21T11:39:09.210Z"
   },
   {
    "duration": 9,
    "start_time": "2021-12-21T11:45:09.410Z"
   },
   {
    "duration": 21,
    "start_time": "2021-12-21T11:45:17.291Z"
   },
   {
    "duration": 152,
    "start_time": "2021-12-21T11:45:51.573Z"
   },
   {
    "duration": 23,
    "start_time": "2021-12-21T11:46:21.633Z"
   },
   {
    "duration": 29,
    "start_time": "2021-12-21T11:46:56.534Z"
   },
   {
    "duration": 21,
    "start_time": "2021-12-21T11:48:23.132Z"
   },
   {
    "duration": 11,
    "start_time": "2021-12-21T11:50:19.990Z"
   },
   {
    "duration": 7,
    "start_time": "2021-12-21T11:50:56.579Z"
   },
   {
    "duration": 7,
    "start_time": "2021-12-21T11:51:33.558Z"
   },
   {
    "duration": 674,
    "start_time": "2021-12-21T11:52:51.349Z"
   },
   {
    "duration": 61,
    "start_time": "2021-12-21T11:52:52.025Z"
   },
   {
    "duration": 5,
    "start_time": "2021-12-21T11:52:52.091Z"
   },
   {
    "duration": 23,
    "start_time": "2021-12-21T11:52:52.097Z"
   },
   {
    "duration": 15,
    "start_time": "2021-12-21T11:52:52.121Z"
   },
   {
    "duration": 17,
    "start_time": "2021-12-21T11:52:52.139Z"
   },
   {
    "duration": 12,
    "start_time": "2021-12-21T11:52:52.159Z"
   },
   {
    "duration": 10,
    "start_time": "2021-12-21T11:52:52.174Z"
   },
   {
    "duration": 9,
    "start_time": "2021-12-21T11:52:52.187Z"
   },
   {
    "duration": 9,
    "start_time": "2021-12-21T11:52:52.198Z"
   },
   {
    "duration": 9,
    "start_time": "2021-12-21T11:52:52.209Z"
   },
   {
    "duration": 50,
    "start_time": "2021-12-21T11:52:52.220Z"
   },
   {
    "duration": 6,
    "start_time": "2021-12-21T11:52:52.272Z"
   },
   {
    "duration": 21,
    "start_time": "2021-12-21T11:52:52.280Z"
   },
   {
    "duration": 5,
    "start_time": "2021-12-21T11:52:52.303Z"
   },
   {
    "duration": 309,
    "start_time": "2021-12-21T11:53:57.171Z"
   },
   {
    "duration": 8,
    "start_time": "2021-12-21T11:54:07.094Z"
   },
   {
    "duration": 8,
    "start_time": "2021-12-21T11:54:25.597Z"
   },
   {
    "duration": 7,
    "start_time": "2021-12-21T11:57:53.688Z"
   },
   {
    "duration": 31,
    "start_time": "2021-12-21T11:59:29.824Z"
   },
   {
    "duration": 10,
    "start_time": "2021-12-21T11:59:52.961Z"
   },
   {
    "duration": 11,
    "start_time": "2021-12-21T11:59:55.753Z"
   },
   {
    "duration": 8,
    "start_time": "2021-12-21T12:00:18.149Z"
   },
   {
    "duration": 9,
    "start_time": "2021-12-21T12:00:24.504Z"
   },
   {
    "duration": 252,
    "start_time": "2021-12-21T12:03:37.751Z"
   },
   {
    "duration": 724,
    "start_time": "2021-12-21T12:04:46.173Z"
   },
   {
    "duration": 58,
    "start_time": "2021-12-21T12:04:46.900Z"
   },
   {
    "duration": 5,
    "start_time": "2021-12-21T12:04:46.961Z"
   },
   {
    "duration": 41,
    "start_time": "2021-12-21T12:04:46.968Z"
   },
   {
    "duration": 22,
    "start_time": "2021-12-21T12:04:47.011Z"
   },
   {
    "duration": 18,
    "start_time": "2021-12-21T12:04:47.035Z"
   },
   {
    "duration": 30,
    "start_time": "2021-12-21T12:04:47.055Z"
   },
   {
    "duration": 36,
    "start_time": "2021-12-21T12:04:47.088Z"
   },
   {
    "duration": 16,
    "start_time": "2021-12-21T12:04:47.126Z"
   },
   {
    "duration": 20,
    "start_time": "2021-12-21T12:04:47.145Z"
   },
   {
    "duration": 23,
    "start_time": "2021-12-21T12:04:47.167Z"
   },
   {
    "duration": 38,
    "start_time": "2021-12-21T12:04:47.191Z"
   },
   {
    "duration": 8,
    "start_time": "2021-12-21T12:04:47.231Z"
   },
   {
    "duration": 42,
    "start_time": "2021-12-21T12:04:47.241Z"
   },
   {
    "duration": 346,
    "start_time": "2021-12-21T12:04:47.285Z"
   },
   {
    "duration": 23,
    "start_time": "2021-12-21T12:05:14.176Z"
   },
   {
    "duration": 16,
    "start_time": "2021-12-21T12:05:33.321Z"
   },
   {
    "duration": 648,
    "start_time": "2021-12-21T12:07:43.593Z"
   },
   {
    "duration": 94,
    "start_time": "2021-12-21T12:09:21.069Z"
   },
   {
    "duration": 87,
    "start_time": "2021-12-21T12:09:30.420Z"
   },
   {
    "duration": 298,
    "start_time": "2021-12-21T12:09:36.825Z"
   },
   {
    "duration": 531,
    "start_time": "2021-12-21T12:09:51.155Z"
   },
   {
    "duration": 255,
    "start_time": "2021-12-21T12:09:56.394Z"
   },
   {
    "duration": 262,
    "start_time": "2021-12-21T12:10:54.654Z"
   },
   {
    "duration": 1329,
    "start_time": "2021-12-21T12:11:00.739Z"
   },
   {
    "duration": 50,
    "start_time": "2021-12-21T12:11:02.070Z"
   },
   {
    "duration": 6,
    "start_time": "2021-12-21T12:11:02.122Z"
   },
   {
    "duration": 25,
    "start_time": "2021-12-21T12:11:02.130Z"
   },
   {
    "duration": 29,
    "start_time": "2021-12-21T12:11:02.157Z"
   },
   {
    "duration": 29,
    "start_time": "2021-12-21T12:11:02.189Z"
   },
   {
    "duration": 46,
    "start_time": "2021-12-21T12:11:02.220Z"
   },
   {
    "duration": 34,
    "start_time": "2021-12-21T12:11:02.268Z"
   },
   {
    "duration": 43,
    "start_time": "2021-12-21T12:11:02.305Z"
   },
   {
    "duration": 36,
    "start_time": "2021-12-21T12:11:02.350Z"
   },
   {
    "duration": 37,
    "start_time": "2021-12-21T12:11:02.388Z"
   },
   {
    "duration": 47,
    "start_time": "2021-12-21T12:11:02.427Z"
   },
   {
    "duration": 21,
    "start_time": "2021-12-21T12:11:02.477Z"
   },
   {
    "duration": 45,
    "start_time": "2021-12-21T12:11:02.500Z"
   },
   {
    "duration": 28,
    "start_time": "2021-12-21T12:11:02.546Z"
   },
   {
    "duration": 412,
    "start_time": "2021-12-21T12:11:02.575Z"
   },
   {
    "duration": 269,
    "start_time": "2021-12-21T12:11:47.374Z"
   },
   {
    "duration": 307,
    "start_time": "2021-12-21T12:12:41.626Z"
   },
   {
    "duration": 271,
    "start_time": "2021-12-21T12:13:04.024Z"
   },
   {
    "duration": 288,
    "start_time": "2021-12-21T12:14:32.080Z"
   },
   {
    "duration": 372,
    "start_time": "2021-12-21T12:19:39.797Z"
   },
   {
    "duration": 749,
    "start_time": "2021-12-21T12:19:45.877Z"
   },
   {
    "duration": 759,
    "start_time": "2021-12-21T12:20:02.801Z"
   },
   {
    "duration": 258,
    "start_time": "2021-12-21T12:21:30.280Z"
   },
   {
    "duration": 625,
    "start_time": "2021-12-21T12:21:35.528Z"
   },
   {
    "duration": 3,
    "start_time": "2021-12-21T12:22:08.705Z"
   },
   {
    "duration": 1313,
    "start_time": "2021-12-21T12:22:16.575Z"
   },
   {
    "duration": 56,
    "start_time": "2021-12-21T12:22:17.890Z"
   },
   {
    "duration": 6,
    "start_time": "2021-12-21T12:22:17.949Z"
   },
   {
    "duration": 5,
    "start_time": "2021-12-21T12:22:17.961Z"
   },
   {
    "duration": 6,
    "start_time": "2021-12-21T12:22:17.968Z"
   },
   {
    "duration": 6,
    "start_time": "2021-12-21T12:22:17.976Z"
   },
   {
    "duration": 19,
    "start_time": "2021-12-21T12:22:17.984Z"
   },
   {
    "duration": 8,
    "start_time": "2021-12-21T12:22:18.006Z"
   },
   {
    "duration": 6,
    "start_time": "2021-12-21T12:22:18.017Z"
   },
   {
    "duration": 11,
    "start_time": "2021-12-21T12:22:18.061Z"
   },
   {
    "duration": 15,
    "start_time": "2021-12-21T12:22:18.073Z"
   },
   {
    "duration": 20,
    "start_time": "2021-12-21T12:22:18.090Z"
   },
   {
    "duration": 6,
    "start_time": "2021-12-21T12:22:18.112Z"
   },
   {
    "duration": 52,
    "start_time": "2021-12-21T12:22:18.120Z"
   },
   {
    "duration": 426,
    "start_time": "2021-12-21T12:22:18.173Z"
   },
   {
    "duration": 135,
    "start_time": "2021-12-21T12:22:18.466Z"
   },
   {
    "duration": 414,
    "start_time": "2021-12-21T12:22:30.046Z"
   },
   {
    "duration": 8,
    "start_time": "2021-12-21T12:22:39.660Z"
   },
   {
    "duration": 331,
    "start_time": "2021-12-21T12:23:47.184Z"
   },
   {
    "duration": 377,
    "start_time": "2021-12-21T12:24:57.387Z"
   },
   {
    "duration": 255,
    "start_time": "2021-12-21T12:26:25.188Z"
   },
   {
    "duration": 272,
    "start_time": "2021-12-21T12:26:43.971Z"
   },
   {
    "duration": 263,
    "start_time": "2021-12-21T12:26:52.428Z"
   },
   {
    "duration": 428,
    "start_time": "2021-12-21T12:27:34.228Z"
   },
   {
    "duration": 260,
    "start_time": "2021-12-21T12:27:54.490Z"
   },
   {
    "duration": 291,
    "start_time": "2021-12-21T12:28:05.264Z"
   },
   {
    "duration": 7,
    "start_time": "2021-12-21T12:49:11.878Z"
   },
   {
    "duration": 14,
    "start_time": "2021-12-21T12:49:18.102Z"
   },
   {
    "duration": 13,
    "start_time": "2021-12-21T12:50:11.596Z"
   },
   {
    "duration": 13,
    "start_time": "2021-12-21T12:50:54.167Z"
   },
   {
    "duration": 37,
    "start_time": "2021-12-21T12:53:55.756Z"
   },
   {
    "duration": 633,
    "start_time": "2021-12-21T12:54:43.764Z"
   },
   {
    "duration": 340,
    "start_time": "2021-12-21T12:55:31.807Z"
   },
   {
    "duration": 366,
    "start_time": "2021-12-21T12:56:08.389Z"
   },
   {
    "duration": 267,
    "start_time": "2021-12-21T19:16:40.039Z"
   },
   {
    "duration": 283,
    "start_time": "2021-12-21T19:16:54.578Z"
   },
   {
    "duration": 1141,
    "start_time": "2021-12-21T19:17:29.984Z"
   },
   {
    "duration": 50,
    "start_time": "2021-12-21T19:17:31.127Z"
   },
   {
    "duration": 4,
    "start_time": "2021-12-21T19:17:31.179Z"
   },
   {
    "duration": 10,
    "start_time": "2021-12-21T19:17:31.185Z"
   },
   {
    "duration": 8,
    "start_time": "2021-12-21T19:17:31.196Z"
   },
   {
    "duration": 7,
    "start_time": "2021-12-21T19:17:31.205Z"
   },
   {
    "duration": 11,
    "start_time": "2021-12-21T19:17:31.214Z"
   },
   {
    "duration": 34,
    "start_time": "2021-12-21T19:17:31.227Z"
   },
   {
    "duration": 4,
    "start_time": "2021-12-21T19:17:31.263Z"
   },
   {
    "duration": 11,
    "start_time": "2021-12-21T19:17:31.270Z"
   },
   {
    "duration": 8,
    "start_time": "2021-12-21T19:17:31.283Z"
   },
   {
    "duration": 16,
    "start_time": "2021-12-21T19:17:31.293Z"
   },
   {
    "duration": 7,
    "start_time": "2021-12-21T19:17:31.311Z"
   },
   {
    "duration": 49,
    "start_time": "2021-12-21T19:17:31.320Z"
   },
   {
    "duration": 8,
    "start_time": "2021-12-21T19:17:31.372Z"
   },
   {
    "duration": 334,
    "start_time": "2021-12-21T19:17:31.381Z"
   },
   {
    "duration": 401,
    "start_time": "2021-12-21T19:17:31.717Z"
   },
   {
    "duration": 415,
    "start_time": "2021-12-21T19:17:32.120Z"
   },
   {
    "duration": 17,
    "start_time": "2021-12-21T19:18:23.252Z"
   },
   {
    "duration": 17,
    "start_time": "2021-12-21T19:18:32.658Z"
   },
   {
    "duration": 252,
    "start_time": "2021-12-21T19:19:43.733Z"
   },
   {
    "duration": 17,
    "start_time": "2021-12-21T19:20:34.847Z"
   },
   {
    "duration": 17,
    "start_time": "2021-12-21T19:20:55.821Z"
   },
   {
    "duration": 17,
    "start_time": "2021-12-21T19:21:01.128Z"
   },
   {
    "duration": 17,
    "start_time": "2021-12-21T19:21:13.338Z"
   },
   {
    "duration": 6,
    "start_time": "2021-12-21T19:22:11.027Z"
   },
   {
    "duration": 265,
    "start_time": "2021-12-21T19:22:33.754Z"
   },
   {
    "duration": 305,
    "start_time": "2021-12-21T19:22:47.507Z"
   },
   {
    "duration": 23,
    "start_time": "2021-12-21T19:24:00.284Z"
   },
   {
    "duration": 19,
    "start_time": "2021-12-21T19:24:12.137Z"
   },
   {
    "duration": 17,
    "start_time": "2021-12-21T19:24:19.094Z"
   },
   {
    "duration": 19,
    "start_time": "2021-12-21T19:24:25.199Z"
   },
   {
    "duration": 21,
    "start_time": "2021-12-21T19:24:28.274Z"
   },
   {
    "duration": 22,
    "start_time": "2021-12-21T19:24:47.723Z"
   },
   {
    "duration": 18,
    "start_time": "2021-12-21T19:24:51.603Z"
   },
   {
    "duration": 353,
    "start_time": "2021-12-21T19:42:11.491Z"
   },
   {
    "duration": 17,
    "start_time": "2021-12-21T19:52:22.308Z"
   },
   {
    "duration": 299,
    "start_time": "2021-12-21T19:52:43.067Z"
   },
   {
    "duration": 324,
    "start_time": "2021-12-21T19:53:01.605Z"
   },
   {
    "duration": 380,
    "start_time": "2021-12-21T19:53:33.737Z"
   },
   {
    "duration": 243,
    "start_time": "2021-12-21T19:55:34.862Z"
   },
   {
    "duration": 322,
    "start_time": "2021-12-21T19:55:57.914Z"
   },
   {
    "duration": 284,
    "start_time": "2021-12-21T20:05:25.091Z"
   },
   {
    "duration": 281,
    "start_time": "2021-12-21T20:05:31.837Z"
   },
   {
    "duration": 483,
    "start_time": "2021-12-21T20:05:38.314Z"
   },
   {
    "duration": 264,
    "start_time": "2021-12-21T20:07:47.651Z"
   },
   {
    "duration": 306,
    "start_time": "2021-12-21T20:08:19.319Z"
   },
   {
    "duration": 3,
    "start_time": "2021-12-21T20:12:17.308Z"
   },
   {
    "duration": 561,
    "start_time": "2021-12-21T20:13:33.820Z"
   },
   {
    "duration": 583,
    "start_time": "2021-12-21T20:13:59.906Z"
   },
   {
    "duration": 1621,
    "start_time": "2021-12-21T20:14:41.276Z"
   },
   {
    "duration": 662,
    "start_time": "2021-12-21T20:16:48.347Z"
   },
   {
    "duration": 750,
    "start_time": "2021-12-21T20:17:14.733Z"
   },
   {
    "duration": 273,
    "start_time": "2021-12-21T20:19:05.764Z"
   },
   {
    "duration": 3098,
    "start_time": "2021-12-21T20:21:32.914Z"
   },
   {
    "duration": 2491,
    "start_time": "2021-12-21T20:22:21.533Z"
   },
   {
    "duration": 1042,
    "start_time": "2021-12-21T20:24:20.306Z"
   },
   {
    "duration": 766,
    "start_time": "2021-12-21T20:28:46.867Z"
   },
   {
    "duration": 368,
    "start_time": "2021-12-21T20:29:45.342Z"
   },
   {
    "duration": 3833,
    "start_time": "2021-12-21T20:29:52.563Z"
   },
   {
    "duration": 58,
    "start_time": "2021-12-21T20:29:56.398Z"
   },
   {
    "duration": 5,
    "start_time": "2021-12-21T20:29:56.458Z"
   },
   {
    "duration": 7,
    "start_time": "2021-12-21T20:29:56.465Z"
   },
   {
    "duration": 7,
    "start_time": "2021-12-21T20:29:56.474Z"
   },
   {
    "duration": 6,
    "start_time": "2021-12-21T20:29:56.483Z"
   },
   {
    "duration": 11,
    "start_time": "2021-12-21T20:29:56.490Z"
   },
   {
    "duration": 8,
    "start_time": "2021-12-21T20:29:56.504Z"
   },
   {
    "duration": 4,
    "start_time": "2021-12-21T20:29:56.514Z"
   },
   {
    "duration": 15,
    "start_time": "2021-12-21T20:29:56.520Z"
   },
   {
    "duration": 7,
    "start_time": "2021-12-21T20:29:56.561Z"
   },
   {
    "duration": 15,
    "start_time": "2021-12-21T20:29:56.569Z"
   },
   {
    "duration": 5,
    "start_time": "2021-12-21T20:29:56.586Z"
   },
   {
    "duration": 18,
    "start_time": "2021-12-21T20:29:56.593Z"
   },
   {
    "duration": 8,
    "start_time": "2021-12-21T20:29:56.613Z"
   },
   {
    "duration": 385,
    "start_time": "2021-12-21T20:29:56.622Z"
   },
   {
    "duration": 330,
    "start_time": "2021-12-21T20:29:57.010Z"
   },
   {
    "duration": 1002,
    "start_time": "2021-12-21T20:29:57.342Z"
   },
   {
    "duration": 150,
    "start_time": "2021-12-21T20:29:58.196Z"
   },
   {
    "duration": 414,
    "start_time": "2021-12-21T20:37:27.179Z"
   },
   {
    "duration": 89,
    "start_time": "2021-12-21T20:37:37.246Z"
   },
   {
    "duration": 363,
    "start_time": "2021-12-21T20:37:40.252Z"
   },
   {
    "duration": 375,
    "start_time": "2021-12-21T20:38:15.322Z"
   },
   {
    "duration": 365,
    "start_time": "2021-12-21T20:38:23.058Z"
   },
   {
    "duration": 274,
    "start_time": "2021-12-21T20:40:49.934Z"
   },
   {
    "duration": 409,
    "start_time": "2021-12-21T20:41:39.908Z"
   },
   {
    "duration": 278,
    "start_time": "2021-12-21T20:41:55.093Z"
   },
   {
    "duration": 3,
    "start_time": "2021-12-21T20:42:10.647Z"
   },
   {
    "duration": 274,
    "start_time": "2021-12-21T20:42:18.217Z"
   },
   {
    "duration": 27,
    "start_time": "2021-12-21T20:42:37.382Z"
   },
   {
    "duration": 397,
    "start_time": "2021-12-21T20:44:51.331Z"
   },
   {
    "duration": 374,
    "start_time": "2021-12-21T20:46:14.203Z"
   },
   {
    "duration": 291,
    "start_time": "2021-12-21T20:46:28.762Z"
   },
   {
    "duration": 271,
    "start_time": "2021-12-21T20:46:49.042Z"
   },
   {
    "duration": 275,
    "start_time": "2021-12-21T20:46:54.981Z"
   },
   {
    "duration": 278,
    "start_time": "2021-12-21T20:47:23.991Z"
   },
   {
    "duration": 276,
    "start_time": "2021-12-21T20:48:00.076Z"
   },
   {
    "duration": 256,
    "start_time": "2021-12-21T20:49:29.640Z"
   },
   {
    "duration": 283,
    "start_time": "2021-12-21T20:51:05.873Z"
   },
   {
    "duration": 264,
    "start_time": "2021-12-21T20:51:50.785Z"
   },
   {
    "duration": 289,
    "start_time": "2021-12-22T08:59:35.463Z"
   },
   {
    "duration": 3777,
    "start_time": "2021-12-22T08:59:40.569Z"
   },
   {
    "duration": 47,
    "start_time": "2021-12-22T08:59:44.348Z"
   },
   {
    "duration": 4,
    "start_time": "2021-12-22T08:59:44.397Z"
   },
   {
    "duration": 7,
    "start_time": "2021-12-22T08:59:44.403Z"
   },
   {
    "duration": 5,
    "start_time": "2021-12-22T08:59:44.412Z"
   },
   {
    "duration": 8,
    "start_time": "2021-12-22T08:59:44.418Z"
   },
   {
    "duration": 36,
    "start_time": "2021-12-22T08:59:44.428Z"
   },
   {
    "duration": 8,
    "start_time": "2021-12-22T08:59:44.467Z"
   },
   {
    "duration": 5,
    "start_time": "2021-12-22T08:59:44.477Z"
   },
   {
    "duration": 9,
    "start_time": "2021-12-22T08:59:44.483Z"
   },
   {
    "duration": 13,
    "start_time": "2021-12-22T08:59:44.493Z"
   },
   {
    "duration": 14,
    "start_time": "2021-12-22T08:59:44.508Z"
   },
   {
    "duration": 5,
    "start_time": "2021-12-22T08:59:44.523Z"
   },
   {
    "duration": 44,
    "start_time": "2021-12-22T08:59:44.530Z"
   },
   {
    "duration": 6,
    "start_time": "2021-12-22T08:59:44.576Z"
   },
   {
    "duration": 346,
    "start_time": "2021-12-22T08:59:44.584Z"
   },
   {
    "duration": 330,
    "start_time": "2021-12-22T08:59:44.932Z"
   },
   {
    "duration": 265,
    "start_time": "2021-12-22T08:59:45.264Z"
   },
   {
    "duration": 438,
    "start_time": "2021-12-22T08:59:45.531Z"
   },
   {
    "duration": -325,
    "start_time": "2021-12-22T08:59:46.296Z"
   },
   {
    "duration": 17,
    "start_time": "2021-12-22T09:00:10.921Z"
   },
   {
    "duration": 17,
    "start_time": "2021-12-22T09:00:22.483Z"
   },
   {
    "duration": 16,
    "start_time": "2021-12-22T09:00:27.352Z"
   },
   {
    "duration": 16,
    "start_time": "2021-12-22T09:03:11.036Z"
   },
   {
    "duration": 15,
    "start_time": "2021-12-22T09:14:50.474Z"
   },
   {
    "duration": 287,
    "start_time": "2021-12-22T09:16:24.211Z"
   },
   {
    "duration": 225,
    "start_time": "2021-12-22T09:16:44.973Z"
   },
   {
    "duration": 2447,
    "start_time": "2021-12-22T09:17:16.206Z"
   },
   {
    "duration": 339,
    "start_time": "2021-12-22T09:17:23.726Z"
   },
   {
    "duration": 425,
    "start_time": "2021-12-22T09:18:37.810Z"
   },
   {
    "duration": 231,
    "start_time": "2021-12-22T09:20:44.745Z"
   },
   {
    "duration": 222,
    "start_time": "2021-12-22T09:20:51.209Z"
   },
   {
    "duration": 245,
    "start_time": "2021-12-22T09:23:39.313Z"
   },
   {
    "duration": 265,
    "start_time": "2021-12-22T09:23:49.967Z"
   },
   {
    "duration": 283,
    "start_time": "2021-12-22T09:24:02.471Z"
   },
   {
    "duration": 508,
    "start_time": "2021-12-22T09:24:58.143Z"
   },
   {
    "duration": 326,
    "start_time": "2021-12-22T09:25:20.387Z"
   },
   {
    "duration": 472,
    "start_time": "2021-12-22T09:26:18.912Z"
   },
   {
    "duration": 290,
    "start_time": "2021-12-22T09:26:51.842Z"
   },
   {
    "duration": 281,
    "start_time": "2021-12-22T09:32:42.108Z"
   },
   {
    "duration": 391,
    "start_time": "2021-12-22T09:32:54.542Z"
   },
   {
    "duration": 282,
    "start_time": "2021-12-22T09:40:25.707Z"
   },
   {
    "duration": 486,
    "start_time": "2021-12-22T09:41:25.663Z"
   },
   {
    "duration": 402,
    "start_time": "2021-12-22T09:42:38.026Z"
   },
   {
    "duration": 236,
    "start_time": "2021-12-22T09:42:50.398Z"
   },
   {
    "duration": 273,
    "start_time": "2021-12-22T09:43:09.320Z"
   },
   {
    "duration": 297,
    "start_time": "2021-12-22T09:43:50.389Z"
   },
   {
    "duration": 285,
    "start_time": "2021-12-22T09:44:01.026Z"
   },
   {
    "duration": 299,
    "start_time": "2021-12-22T09:45:46.516Z"
   },
   {
    "duration": 302,
    "start_time": "2021-12-22T09:46:30.890Z"
   },
   {
    "duration": 301,
    "start_time": "2021-12-22T09:46:37.620Z"
   },
   {
    "duration": 386,
    "start_time": "2021-12-22T09:49:13.903Z"
   },
   {
    "duration": 396,
    "start_time": "2021-12-22T09:49:29.395Z"
   },
   {
    "duration": 488,
    "start_time": "2021-12-22T09:49:54.688Z"
   },
   {
    "duration": 303,
    "start_time": "2021-12-22T09:50:28.220Z"
   },
   {
    "duration": 381,
    "start_time": "2021-12-22T09:51:09.720Z"
   },
   {
    "duration": 384,
    "start_time": "2021-12-22T09:54:17.645Z"
   },
   {
    "duration": 486,
    "start_time": "2021-12-22T09:54:30.299Z"
   },
   {
    "duration": 362,
    "start_time": "2021-12-22T09:54:38.770Z"
   },
   {
    "duration": 380,
    "start_time": "2021-12-22T11:31:03.216Z"
   },
   {
    "duration": 309,
    "start_time": "2021-12-22T11:32:14.068Z"
   },
   {
    "duration": 463,
    "start_time": "2021-12-22T11:33:33.029Z"
   },
   {
    "duration": 343,
    "start_time": "2021-12-22T11:33:39.069Z"
   },
   {
    "duration": 271,
    "start_time": "2021-12-22T11:34:41.705Z"
   },
   {
    "duration": 301,
    "start_time": "2021-12-22T11:34:46.966Z"
   },
   {
    "duration": 331,
    "start_time": "2021-12-22T11:36:45.144Z"
   },
   {
    "duration": 312,
    "start_time": "2021-12-22T11:37:14.661Z"
   },
   {
    "duration": 620,
    "start_time": "2021-12-22T11:38:49.250Z"
   },
   {
    "duration": 449,
    "start_time": "2021-12-22T11:45:09.491Z"
   },
   {
    "duration": 653,
    "start_time": "2021-12-22T11:46:25.337Z"
   },
   {
    "duration": 639,
    "start_time": "2021-12-22T11:46:59.091Z"
   },
   {
    "duration": 547,
    "start_time": "2021-12-22T11:47:48.609Z"
   },
   {
    "duration": 10,
    "start_time": "2021-12-22T11:52:39.293Z"
   },
   {
    "duration": 86,
    "start_time": "2021-12-22T11:53:12.059Z"
   },
   {
    "duration": 96,
    "start_time": "2021-12-22T11:53:26.988Z"
   },
   {
    "duration": 81,
    "start_time": "2021-12-22T11:54:25.010Z"
   },
   {
    "duration": 13,
    "start_time": "2021-12-22T11:55:01.698Z"
   },
   {
    "duration": 9,
    "start_time": "2021-12-22T11:55:06.184Z"
   },
   {
    "duration": 15,
    "start_time": "2021-12-22T11:55:34.041Z"
   },
   {
    "duration": 634,
    "start_time": "2021-12-22T12:13:40.593Z"
   },
   {
    "duration": 754,
    "start_time": "2021-12-22T12:14:40.348Z"
   },
   {
    "duration": 85,
    "start_time": "2021-12-22T12:15:31.537Z"
   },
   {
    "duration": 665,
    "start_time": "2021-12-22T12:15:45.877Z"
   },
   {
    "duration": 675,
    "start_time": "2021-12-22T12:20:16.573Z"
   },
   {
    "duration": 527,
    "start_time": "2021-12-22T12:26:56.247Z"
   },
   {
    "duration": 681,
    "start_time": "2021-12-22T12:27:59.693Z"
   },
   {
    "duration": 510,
    "start_time": "2021-12-22T12:28:05.564Z"
   },
   {
    "duration": 523,
    "start_time": "2021-12-22T12:28:47.558Z"
   },
   {
    "duration": 324,
    "start_time": "2021-12-22T12:29:04.418Z"
   },
   {
    "duration": 128,
    "start_time": "2021-12-22T12:29:13.371Z"
   },
   {
    "duration": 531,
    "start_time": "2021-12-22T12:29:20.983Z"
   },
   {
    "duration": 614,
    "start_time": "2021-12-22T12:32:36.521Z"
   },
   {
    "duration": 540,
    "start_time": "2021-12-22T12:33:05.615Z"
   },
   {
    "duration": 525,
    "start_time": "2021-12-22T12:33:20.065Z"
   },
   {
    "duration": 1444,
    "start_time": "2021-12-22T12:34:32.193Z"
   },
   {
    "duration": 1493,
    "start_time": "2021-12-22T12:35:36.386Z"
   },
   {
    "duration": 81,
    "start_time": "2021-12-22T13:23:40.266Z"
   },
   {
    "duration": 19,
    "start_time": "2021-12-22T13:24:51.889Z"
   },
   {
    "duration": 85,
    "start_time": "2021-12-22T13:26:04.395Z"
   },
   {
    "duration": 85,
    "start_time": "2021-12-22T13:26:20.981Z"
   },
   {
    "duration": 16,
    "start_time": "2021-12-22T13:26:28.378Z"
   },
   {
    "duration": 570,
    "start_time": "2021-12-22T13:27:51.402Z"
   },
   {
    "duration": 147,
    "start_time": "2021-12-22T13:28:11.633Z"
   },
   {
    "duration": 200,
    "start_time": "2021-12-22T13:28:50.723Z"
   },
   {
    "duration": 272,
    "start_time": "2021-12-22T13:29:25.791Z"
   },
   {
    "duration": 319,
    "start_time": "2021-12-22T13:30:46.151Z"
   },
   {
    "duration": 252,
    "start_time": "2021-12-22T13:31:00.196Z"
   },
   {
    "duration": 95,
    "start_time": "2021-12-22T13:34:22.382Z"
   },
   {
    "duration": 96,
    "start_time": "2021-12-22T13:34:30.922Z"
   },
   {
    "duration": 270,
    "start_time": "2021-12-22T13:34:51.861Z"
   },
   {
    "duration": 367,
    "start_time": "2021-12-22T13:35:37.212Z"
   },
   {
    "duration": 260,
    "start_time": "2021-12-22T13:36:22.129Z"
   },
   {
    "duration": 496,
    "start_time": "2021-12-22T13:37:01.632Z"
   },
   {
    "duration": 261,
    "start_time": "2021-12-22T13:37:06.128Z"
   },
   {
    "duration": 261,
    "start_time": "2021-12-22T13:43:17.038Z"
   },
   {
    "duration": 264,
    "start_time": "2021-12-22T13:47:11.689Z"
   },
   {
    "duration": 266,
    "start_time": "2021-12-22T13:48:31.205Z"
   },
   {
    "duration": 281,
    "start_time": "2021-12-22T13:49:34.294Z"
   },
   {
    "duration": 295,
    "start_time": "2021-12-22T13:50:06.989Z"
   },
   {
    "duration": 260,
    "start_time": "2021-12-22T13:50:34.187Z"
   },
   {
    "duration": 323,
    "start_time": "2021-12-22T13:51:01.691Z"
   },
   {
    "duration": 278,
    "start_time": "2021-12-22T13:51:07.418Z"
   },
   {
    "duration": 306,
    "start_time": "2021-12-22T13:51:32.056Z"
   },
   {
    "duration": 274,
    "start_time": "2021-12-22T13:51:40.914Z"
   },
   {
    "duration": 457,
    "start_time": "2021-12-22T13:51:58.954Z"
   },
   {
    "duration": 289,
    "start_time": "2021-12-22T13:52:32.641Z"
   },
   {
    "duration": 341,
    "start_time": "2021-12-22T13:52:59.113Z"
   },
   {
    "duration": 544,
    "start_time": "2021-12-22T13:53:18.492Z"
   },
   {
    "duration": 279,
    "start_time": "2021-12-22T13:53:25.558Z"
   },
   {
    "duration": 14,
    "start_time": "2021-12-22T13:53:32.631Z"
   },
   {
    "duration": 14,
    "start_time": "2021-12-22T13:53:35.510Z"
   },
   {
    "duration": 692,
    "start_time": "2021-12-22T13:53:54.938Z"
   },
   {
    "duration": 88,
    "start_time": "2021-12-22T13:54:18.312Z"
   },
   {
    "duration": 268,
    "start_time": "2021-12-22T13:54:25.774Z"
   },
   {
    "duration": 277,
    "start_time": "2021-12-22T13:54:35.658Z"
   },
   {
    "duration": 266,
    "start_time": "2021-12-22T13:54:44.387Z"
   },
   {
    "duration": 13,
    "start_time": "2021-12-22T13:54:50.882Z"
   },
   {
    "duration": 13,
    "start_time": "2021-12-22T13:54:53.642Z"
   },
   {
    "duration": 14,
    "start_time": "2021-12-22T13:54:58.621Z"
   },
   {
    "duration": 14,
    "start_time": "2021-12-22T13:55:01.210Z"
   },
   {
    "duration": 256,
    "start_time": "2021-12-22T13:55:21.133Z"
   },
   {
    "duration": 14,
    "start_time": "2021-12-22T13:55:26.351Z"
   },
   {
    "duration": 255,
    "start_time": "2021-12-22T13:55:31.281Z"
   },
   {
    "duration": 13,
    "start_time": "2021-12-22T13:55:35.151Z"
   },
   {
    "duration": 261,
    "start_time": "2021-12-22T13:57:30.330Z"
   },
   {
    "duration": 514,
    "start_time": "2021-12-22T13:58:36.567Z"
   },
   {
    "duration": 383,
    "start_time": "2021-12-22T13:59:00.911Z"
   },
   {
    "duration": 555,
    "start_time": "2021-12-22T14:00:13.864Z"
   },
   {
    "duration": 349,
    "start_time": "2021-12-22T14:00:34.990Z"
   },
   {
    "duration": 366,
    "start_time": "2021-12-22T14:00:42.490Z"
   },
   {
    "duration": 339,
    "start_time": "2021-12-22T14:00:49.001Z"
   },
   {
    "duration": 97,
    "start_time": "2021-12-22T14:13:43.987Z"
   },
   {
    "duration": 339,
    "start_time": "2021-12-22T14:14:11.159Z"
   },
   {
    "duration": 436,
    "start_time": "2021-12-22T14:14:29.027Z"
   },
   {
    "duration": 347,
    "start_time": "2021-12-22T14:14:36.648Z"
   },
   {
    "duration": 14,
    "start_time": "2021-12-22T18:22:13.278Z"
   },
   {
    "duration": 285,
    "start_time": "2021-12-22T18:25:24.915Z"
   },
   {
    "duration": 14,
    "start_time": "2021-12-22T18:25:31.641Z"
   },
   {
    "duration": 11,
    "start_time": "2021-12-22T18:29:16.924Z"
   },
   {
    "duration": 10,
    "start_time": "2021-12-22T18:29:19.287Z"
   },
   {
    "duration": 15,
    "start_time": "2021-12-22T18:29:26.116Z"
   },
   {
    "duration": 16,
    "start_time": "2021-12-22T18:32:29.555Z"
   },
   {
    "duration": 6942,
    "start_time": "2021-12-22T18:35:14.245Z"
   },
   {
    "duration": 5985,
    "start_time": "2021-12-22T18:40:44.092Z"
   },
   {
    "duration": 385,
    "start_time": "2021-12-22T18:41:23.257Z"
   },
   {
    "duration": 69,
    "start_time": "2021-12-22T18:41:40.091Z"
   },
   {
    "duration": 96,
    "start_time": "2021-12-22T18:45:41.713Z"
   },
   {
    "duration": 5998,
    "start_time": "2021-12-22T18:45:46.689Z"
   },
   {
    "duration": 7539,
    "start_time": "2021-12-22T18:46:27.080Z"
   },
   {
    "duration": 378,
    "start_time": "2021-12-22T18:50:33.367Z"
   },
   {
    "duration": 368,
    "start_time": "2021-12-22T18:51:28.317Z"
   },
   {
    "duration": 383,
    "start_time": "2021-12-22T18:52:33.696Z"
   },
   {
    "duration": 71,
    "start_time": "2021-12-22T18:52:44.833Z"
   },
   {
    "duration": 370,
    "start_time": "2021-12-22T18:53:55.290Z"
   },
   {
    "duration": 364,
    "start_time": "2021-12-22T19:12:31.312Z"
   },
   {
    "duration": 85,
    "start_time": "2021-12-22T19:12:47.966Z"
   },
   {
    "duration": 896,
    "start_time": "2021-12-22T19:16:52.551Z"
   },
   {
    "duration": 127,
    "start_time": "2021-12-22T19:17:05.267Z"
   },
   {
    "duration": 136,
    "start_time": "2021-12-22T19:21:05.997Z"
   },
   {
    "duration": 87,
    "start_time": "2021-12-22T19:22:11.590Z"
   },
   {
    "duration": 441,
    "start_time": "2021-12-22T19:22:25.220Z"
   },
   {
    "duration": 137,
    "start_time": "2021-12-22T19:22:35.148Z"
   },
   {
    "duration": 153,
    "start_time": "2021-12-22T19:22:55.542Z"
   },
   {
    "duration": 141,
    "start_time": "2021-12-22T19:23:11.279Z"
   },
   {
    "duration": 2,
    "start_time": "2021-12-22T19:23:13.536Z"
   },
   {
    "duration": 143,
    "start_time": "2021-12-22T19:23:43.702Z"
   },
   {
    "duration": 8185,
    "start_time": "2021-12-22T19:39:13.097Z"
   },
   {
    "duration": 358,
    "start_time": "2021-12-22T19:39:45.229Z"
   },
   {
    "duration": 7184,
    "start_time": "2021-12-22T19:39:55.973Z"
   },
   {
    "duration": 234,
    "start_time": "2021-12-22T19:40:25.580Z"
   },
   {
    "duration": 280,
    "start_time": "2021-12-22T19:41:48.153Z"
   },
   {
    "duration": 137,
    "start_time": "2021-12-22T19:47:26.457Z"
   },
   {
    "duration": 3,
    "start_time": "2021-12-22T19:48:42.385Z"
   },
   {
    "duration": 136,
    "start_time": "2021-12-22T19:48:45.401Z"
   },
   {
    "duration": 144,
    "start_time": "2021-12-22T19:51:34.848Z"
   },
   {
    "duration": 3,
    "start_time": "2021-12-22T19:51:36.849Z"
   },
   {
    "duration": 121,
    "start_time": "2021-12-22T19:51:38.775Z"
   },
   {
    "duration": 1409,
    "start_time": "2021-12-22T19:52:36.455Z"
   },
   {
    "duration": 6030,
    "start_time": "2021-12-22T19:53:16.682Z"
   },
   {
    "duration": 7114,
    "start_time": "2021-12-22T19:53:59.501Z"
   },
   {
    "duration": 3745,
    "start_time": "2021-12-22T19:54:44.834Z"
   },
   {
    "duration": 65,
    "start_time": "2021-12-22T19:54:48.581Z"
   },
   {
    "duration": 6,
    "start_time": "2021-12-22T19:54:48.649Z"
   },
   {
    "duration": 8,
    "start_time": "2021-12-22T19:54:48.657Z"
   },
   {
    "duration": 8,
    "start_time": "2021-12-22T19:54:48.666Z"
   },
   {
    "duration": 9,
    "start_time": "2021-12-22T19:54:48.676Z"
   },
   {
    "duration": 12,
    "start_time": "2021-12-22T19:54:48.687Z"
   },
   {
    "duration": 8,
    "start_time": "2021-12-22T19:54:48.701Z"
   },
   {
    "duration": 8,
    "start_time": "2021-12-22T19:54:48.711Z"
   },
   {
    "duration": 11,
    "start_time": "2021-12-22T19:54:48.721Z"
   },
   {
    "duration": 10,
    "start_time": "2021-12-22T19:54:48.734Z"
   },
   {
    "duration": 28,
    "start_time": "2021-12-22T19:54:48.746Z"
   },
   {
    "duration": 5,
    "start_time": "2021-12-22T19:54:48.776Z"
   },
   {
    "duration": 19,
    "start_time": "2021-12-22T19:54:48.783Z"
   },
   {
    "duration": 7,
    "start_time": "2021-12-22T19:54:48.804Z"
   },
   {
    "duration": 459,
    "start_time": "2021-12-22T19:54:48.813Z"
   },
   {
    "duration": 467,
    "start_time": "2021-12-22T19:54:49.274Z"
   },
   {
    "duration": 25,
    "start_time": "2021-12-22T19:54:49.744Z"
   },
   {
    "duration": 302,
    "start_time": "2021-12-22T19:54:49.771Z"
   },
   {
    "duration": 459,
    "start_time": "2021-12-22T19:54:50.076Z"
   },
   {
    "duration": 1918,
    "start_time": "2021-12-22T19:54:50.537Z"
   },
   {
    "duration": 317,
    "start_time": "2021-12-22T19:54:52.460Z"
   },
   {
    "duration": 389,
    "start_time": "2021-12-22T19:54:52.781Z"
   },
   {
    "duration": 155,
    "start_time": "2021-12-22T19:54:53.172Z"
   },
   {
    "duration": 3,
    "start_time": "2021-12-22T19:54:53.329Z"
   },
   {
    "duration": 128,
    "start_time": "2021-12-22T19:54:53.334Z"
   },
   {
    "duration": 7388,
    "start_time": "2021-12-22T19:54:53.464Z"
   },
   {
    "duration": -325,
    "start_time": "2021-12-22T19:55:01.179Z"
   },
   {
    "duration": 21,
    "start_time": "2021-12-22T19:55:22.629Z"
   },
   {
    "duration": 7,
    "start_time": "2021-12-22T19:56:11.274Z"
   },
   {
    "duration": 6155,
    "start_time": "2021-12-22T19:57:01.546Z"
   },
   {
    "duration": 116,
    "start_time": "2021-12-22T19:57:46.771Z"
   },
   {
    "duration": 127,
    "start_time": "2021-12-22T19:59:59.275Z"
   },
   {
    "duration": 832,
    "start_time": "2021-12-22T20:09:04.157Z"
   },
   {
    "duration": 449,
    "start_time": "2021-12-22T20:09:45.904Z"
   },
   {
    "duration": 352,
    "start_time": "2021-12-22T20:10:24.384Z"
   },
   {
    "duration": 397,
    "start_time": "2021-12-22T20:10:45.727Z"
   },
   {
    "duration": 90,
    "start_time": "2021-12-22T20:12:09.150Z"
   },
   {
    "duration": 229,
    "start_time": "2021-12-22T20:12:56.797Z"
   },
   {
    "duration": 4,
    "start_time": "2021-12-22T20:13:24.442Z"
   },
   {
    "duration": 128,
    "start_time": "2021-12-22T20:14:16.414Z"
   },
   {
    "duration": 117,
    "start_time": "2021-12-22T20:15:40.730Z"
   },
   {
    "duration": 87,
    "start_time": "2021-12-22T20:15:57.208Z"
   },
   {
    "duration": 155,
    "start_time": "2021-12-22T20:16:16.452Z"
   },
   {
    "duration": 4,
    "start_time": "2021-12-22T20:17:26.556Z"
   },
   {
    "duration": 116,
    "start_time": "2021-12-22T20:17:29.882Z"
   },
   {
    "duration": 124,
    "start_time": "2021-12-22T20:19:13.708Z"
   },
   {
    "duration": 120,
    "start_time": "2021-12-22T20:19:16.209Z"
   },
   {
    "duration": 115,
    "start_time": "2021-12-22T20:19:19.034Z"
   },
   {
    "duration": 343,
    "start_time": "2021-12-22T20:22:23.828Z"
   },
   {
    "duration": 4,
    "start_time": "2021-12-22T20:22:39.554Z"
   },
   {
    "duration": 236,
    "start_time": "2021-12-22T20:22:42.514Z"
   },
   {
    "duration": 116,
    "start_time": "2021-12-22T20:23:14.283Z"
   },
   {
    "duration": 128,
    "start_time": "2021-12-22T20:26:02.062Z"
   },
   {
    "duration": 78,
    "start_time": "2021-12-22T20:26:29.275Z"
   },
   {
    "duration": 119,
    "start_time": "2021-12-22T20:26:45.886Z"
   },
   {
    "duration": 247,
    "start_time": "2021-12-22T20:37:50.109Z"
   },
   {
    "duration": 4,
    "start_time": "2021-12-22T20:37:57.359Z"
   },
   {
    "duration": 118,
    "start_time": "2021-12-22T20:37:59.586Z"
   },
   {
    "duration": 101,
    "start_time": "2021-12-22T20:40:29.341Z"
   },
   {
    "duration": 121,
    "start_time": "2021-12-22T20:41:45.527Z"
   },
   {
    "duration": 118,
    "start_time": "2021-12-22T20:42:36.130Z"
   },
   {
    "duration": 85,
    "start_time": "2021-12-23T08:30:47.378Z"
   },
   {
    "duration": 3894,
    "start_time": "2021-12-23T08:31:00.211Z"
   },
   {
    "duration": 60,
    "start_time": "2021-12-23T08:31:04.108Z"
   },
   {
    "duration": 4,
    "start_time": "2021-12-23T08:31:04.170Z"
   },
   {
    "duration": 32,
    "start_time": "2021-12-23T08:31:04.176Z"
   },
   {
    "duration": 38,
    "start_time": "2021-12-23T08:31:04.209Z"
   },
   {
    "duration": 28,
    "start_time": "2021-12-23T08:31:04.249Z"
   },
   {
    "duration": 37,
    "start_time": "2021-12-23T08:31:04.279Z"
   },
   {
    "duration": 46,
    "start_time": "2021-12-23T08:31:04.318Z"
   },
   {
    "duration": 46,
    "start_time": "2021-12-23T08:31:04.366Z"
   },
   {
    "duration": 30,
    "start_time": "2021-12-23T08:31:04.413Z"
   },
   {
    "duration": 46,
    "start_time": "2021-12-23T08:31:04.444Z"
   },
   {
    "duration": 40,
    "start_time": "2021-12-23T08:31:04.492Z"
   },
   {
    "duration": 13,
    "start_time": "2021-12-23T08:31:04.533Z"
   },
   {
    "duration": 45,
    "start_time": "2021-12-23T08:31:04.547Z"
   },
   {
    "duration": 28,
    "start_time": "2021-12-23T08:31:04.593Z"
   },
   {
    "duration": 357,
    "start_time": "2021-12-23T08:31:04.623Z"
   },
   {
    "duration": 323,
    "start_time": "2021-12-23T08:31:04.982Z"
   },
   {
    "duration": 16,
    "start_time": "2021-12-23T08:31:05.308Z"
   },
   {
    "duration": 294,
    "start_time": "2021-12-23T08:31:05.326Z"
   },
   {
    "duration": 388,
    "start_time": "2021-12-23T08:31:05.622Z"
   },
   {
    "duration": 1727,
    "start_time": "2021-12-23T08:31:06.012Z"
   },
   {
    "duration": 274,
    "start_time": "2021-12-23T08:31:07.740Z"
   },
   {
    "duration": 353,
    "start_time": "2021-12-23T08:31:08.016Z"
   },
   {
    "duration": 4,
    "start_time": "2021-12-23T08:31:08.372Z"
   },
   {
    "duration": 128,
    "start_time": "2021-12-23T08:31:08.378Z"
   },
   {
    "duration": 123,
    "start_time": "2021-12-23T08:31:08.507Z"
   },
   {
    "duration": 120,
    "start_time": "2021-12-23T08:31:08.632Z"
   },
   {
    "duration": 8,
    "start_time": "2021-12-23T08:31:08.753Z"
   },
   {
    "duration": 125,
    "start_time": "2021-12-23T08:31:08.763Z"
   },
   {
    "duration": 127,
    "start_time": "2021-12-23T08:31:08.890Z"
   },
   {
    "duration": 127,
    "start_time": "2021-12-23T08:31:09.019Z"
   },
   {
    "duration": 3,
    "start_time": "2021-12-23T08:31:09.148Z"
   },
   {
    "duration": 134,
    "start_time": "2021-12-23T08:31:09.160Z"
   },
   {
    "duration": 114,
    "start_time": "2021-12-23T08:31:09.295Z"
   },
   {
    "duration": 121,
    "start_time": "2021-12-23T08:31:09.411Z"
   },
   {
    "duration": 1792,
    "start_time": "2021-12-23T08:31:09.534Z"
   },
   {
    "duration": 47,
    "start_time": "2021-12-23T08:31:11.281Z"
   },
   {
    "duration": 9,
    "start_time": "2021-12-23T08:31:37.514Z"
   },
   {
    "duration": 9,
    "start_time": "2021-12-23T08:31:50.238Z"
   },
   {
    "duration": 8,
    "start_time": "2021-12-23T08:32:21.051Z"
   },
   {
    "duration": 9,
    "start_time": "2021-12-23T08:32:32.570Z"
   },
   {
    "duration": 11,
    "start_time": "2021-12-23T08:33:24.423Z"
   },
   {
    "duration": 376,
    "start_time": "2021-12-23T08:39:31.000Z"
   },
   {
    "duration": 2439,
    "start_time": "2021-12-23T08:40:08.570Z"
   },
   {
    "duration": 6,
    "start_time": "2021-12-23T08:40:15.250Z"
   },
   {
    "duration": 11,
    "start_time": "2021-12-23T08:52:18.854Z"
   },
   {
    "duration": 13,
    "start_time": "2021-12-23T08:52:45.085Z"
   },
   {
    "duration": 270,
    "start_time": "2021-12-23T08:53:44.321Z"
   },
   {
    "duration": 17,
    "start_time": "2021-12-23T08:53:57.708Z"
   },
   {
    "duration": 287,
    "start_time": "2021-12-23T08:55:12.066Z"
   },
   {
    "duration": 17,
    "start_time": "2021-12-23T08:57:08.559Z"
   },
   {
    "duration": 17,
    "start_time": "2021-12-23T08:57:32.577Z"
   },
   {
    "duration": 11,
    "start_time": "2021-12-23T09:03:41.923Z"
   },
   {
    "duration": 5,
    "start_time": "2021-12-23T09:06:53.295Z"
   },
   {
    "duration": 18,
    "start_time": "2021-12-23T09:11:00.087Z"
   },
   {
    "duration": 18,
    "start_time": "2021-12-23T09:11:17.240Z"
   },
   {
    "duration": 3782,
    "start_time": "2021-12-23T09:52:10.334Z"
   },
   {
    "duration": 48,
    "start_time": "2021-12-23T09:52:14.119Z"
   },
   {
    "duration": 5,
    "start_time": "2021-12-23T09:52:14.169Z"
   },
   {
    "duration": 16,
    "start_time": "2021-12-23T09:52:14.176Z"
   },
   {
    "duration": 43,
    "start_time": "2021-12-23T09:52:14.194Z"
   },
   {
    "duration": 8,
    "start_time": "2021-12-23T09:52:14.239Z"
   },
   {
    "duration": 14,
    "start_time": "2021-12-23T09:52:14.248Z"
   },
   {
    "duration": 14,
    "start_time": "2021-12-23T09:52:14.263Z"
   },
   {
    "duration": 7,
    "start_time": "2021-12-23T09:52:14.280Z"
   },
   {
    "duration": 15,
    "start_time": "2021-12-23T09:52:14.289Z"
   },
   {
    "duration": 7,
    "start_time": "2021-12-23T09:52:14.306Z"
   },
   {
    "duration": 14,
    "start_time": "2021-12-23T09:52:14.314Z"
   },
   {
    "duration": 6,
    "start_time": "2021-12-23T09:52:14.329Z"
   },
   {
    "duration": 31,
    "start_time": "2021-12-23T09:52:14.337Z"
   },
   {
    "duration": 7,
    "start_time": "2021-12-23T09:52:14.369Z"
   },
   {
    "duration": 349,
    "start_time": "2021-12-23T09:52:14.378Z"
   },
   {
    "duration": 325,
    "start_time": "2021-12-23T09:52:14.729Z"
   },
   {
    "duration": 17,
    "start_time": "2021-12-23T09:52:15.061Z"
   },
   {
    "duration": 285,
    "start_time": "2021-12-23T09:52:15.080Z"
   },
   {
    "duration": 398,
    "start_time": "2021-12-23T09:52:15.367Z"
   },
   {
    "duration": 1653,
    "start_time": "2021-12-23T09:52:15.767Z"
   },
   {
    "duration": 274,
    "start_time": "2021-12-23T09:52:17.422Z"
   },
   {
    "duration": 345,
    "start_time": "2021-12-23T09:52:17.698Z"
   },
   {
    "duration": 4,
    "start_time": "2021-12-23T09:52:18.045Z"
   },
   {
    "duration": 118,
    "start_time": "2021-12-23T09:52:18.060Z"
   },
   {
    "duration": 124,
    "start_time": "2021-12-23T09:52:18.180Z"
   },
   {
    "duration": 134,
    "start_time": "2021-12-23T09:52:18.308Z"
   },
   {
    "duration": 3,
    "start_time": "2021-12-23T09:52:18.444Z"
   },
   {
    "duration": 128,
    "start_time": "2021-12-23T09:52:18.449Z"
   },
   {
    "duration": 126,
    "start_time": "2021-12-23T09:52:18.579Z"
   },
   {
    "duration": 141,
    "start_time": "2021-12-23T09:52:18.707Z"
   },
   {
    "duration": 4,
    "start_time": "2021-12-23T09:52:18.849Z"
   },
   {
    "duration": 121,
    "start_time": "2021-12-23T09:52:18.854Z"
   },
   {
    "duration": 127,
    "start_time": "2021-12-23T09:52:18.976Z"
   },
   {
    "duration": 115,
    "start_time": "2021-12-23T09:52:19.105Z"
   },
   {
    "duration": 11,
    "start_time": "2021-12-23T09:52:19.222Z"
   },
   {
    "duration": 5,
    "start_time": "2021-12-23T09:52:19.235Z"
   },
   {
    "duration": 36,
    "start_time": "2021-12-23T09:52:19.242Z"
   },
   {
    "duration": 11,
    "start_time": "2021-12-23T09:52:19.280Z"
   },
   {
    "duration": 4,
    "start_time": "2021-12-23T09:52:19.292Z"
   },
   {
    "duration": 18,
    "start_time": "2021-12-23T09:52:19.298Z"
   },
   {
    "duration": 1115,
    "start_time": "2021-12-23T09:53:21.373Z"
   },
   {
    "duration": 50,
    "start_time": "2021-12-23T09:53:22.490Z"
   },
   {
    "duration": 4,
    "start_time": "2021-12-23T09:53:22.542Z"
   },
   {
    "duration": 8,
    "start_time": "2021-12-23T09:53:22.548Z"
   },
   {
    "duration": 5,
    "start_time": "2021-12-23T09:53:22.560Z"
   },
   {
    "duration": 7,
    "start_time": "2021-12-23T09:53:22.566Z"
   },
   {
    "duration": 11,
    "start_time": "2021-12-23T09:53:22.575Z"
   },
   {
    "duration": 9,
    "start_time": "2021-12-23T09:53:22.589Z"
   },
   {
    "duration": 5,
    "start_time": "2021-12-23T09:53:22.601Z"
   },
   {
    "duration": 10,
    "start_time": "2021-12-23T09:53:22.608Z"
   },
   {
    "duration": 41,
    "start_time": "2021-12-23T09:53:22.620Z"
   },
   {
    "duration": 15,
    "start_time": "2021-12-23T09:53:22.663Z"
   },
   {
    "duration": 7,
    "start_time": "2021-12-23T09:53:22.679Z"
   },
   {
    "duration": 26,
    "start_time": "2021-12-23T09:53:22.688Z"
   },
   {
    "duration": 7,
    "start_time": "2021-12-23T09:53:22.716Z"
   },
   {
    "duration": 457,
    "start_time": "2021-12-23T09:53:22.725Z"
   },
   {
    "duration": 322,
    "start_time": "2021-12-23T09:53:23.184Z"
   },
   {
    "duration": 16,
    "start_time": "2021-12-23T09:53:23.508Z"
   },
   {
    "duration": 285,
    "start_time": "2021-12-23T09:53:23.525Z"
   },
   {
    "duration": 376,
    "start_time": "2021-12-23T09:53:23.812Z"
   },
   {
    "duration": 1506,
    "start_time": "2021-12-23T09:53:24.190Z"
   },
   {
    "duration": 266,
    "start_time": "2021-12-23T09:53:25.697Z"
   },
   {
    "duration": 345,
    "start_time": "2021-12-23T09:53:25.966Z"
   },
   {
    "duration": 3,
    "start_time": "2021-12-23T09:53:26.313Z"
   },
   {
    "duration": 133,
    "start_time": "2021-12-23T09:53:26.317Z"
   },
   {
    "duration": 127,
    "start_time": "2021-12-23T09:53:26.452Z"
   },
   {
    "duration": 124,
    "start_time": "2021-12-23T09:53:26.581Z"
   },
   {
    "duration": 4,
    "start_time": "2021-12-23T09:53:26.707Z"
   },
   {
    "duration": 135,
    "start_time": "2021-12-23T09:53:26.713Z"
   },
   {
    "duration": 134,
    "start_time": "2021-12-23T09:53:26.850Z"
   },
   {
    "duration": 131,
    "start_time": "2021-12-23T09:53:26.986Z"
   },
   {
    "duration": 4,
    "start_time": "2021-12-23T09:53:27.118Z"
   },
   {
    "duration": 127,
    "start_time": "2021-12-23T09:53:27.123Z"
   },
   {
    "duration": 215,
    "start_time": "2021-12-23T09:53:27.251Z"
   },
   {
    "duration": 123,
    "start_time": "2021-12-23T09:53:27.467Z"
   },
   {
    "duration": 9,
    "start_time": "2021-12-23T09:53:27.592Z"
   },
   {
    "duration": 4,
    "start_time": "2021-12-23T09:53:27.603Z"
   },
   {
    "duration": 25,
    "start_time": "2021-12-23T09:53:27.609Z"
   },
   {
    "duration": 27,
    "start_time": "2021-12-23T09:53:27.636Z"
   },
   {
    "duration": 6,
    "start_time": "2021-12-23T09:53:27.665Z"
   },
   {
    "duration": 20,
    "start_time": "2021-12-23T09:53:27.672Z"
   },
   {
    "duration": 16,
    "start_time": "2021-12-23T10:06:35.849Z"
   },
   {
    "duration": 1154,
    "start_time": "2021-12-23T12:30:13.533Z"
   },
   {
    "duration": 50,
    "start_time": "2021-12-23T12:30:14.689Z"
   },
   {
    "duration": 4,
    "start_time": "2021-12-23T12:30:14.741Z"
   },
   {
    "duration": 10,
    "start_time": "2021-12-23T12:30:14.747Z"
   },
   {
    "duration": 6,
    "start_time": "2021-12-23T12:30:14.760Z"
   },
   {
    "duration": 8,
    "start_time": "2021-12-23T12:30:14.767Z"
   },
   {
    "duration": 13,
    "start_time": "2021-12-23T12:30:14.776Z"
   },
   {
    "duration": 10,
    "start_time": "2021-12-23T12:30:14.792Z"
   },
   {
    "duration": 8,
    "start_time": "2021-12-23T12:30:14.804Z"
   },
   {
    "duration": 11,
    "start_time": "2021-12-23T12:30:14.814Z"
   },
   {
    "duration": 9,
    "start_time": "2021-12-23T12:30:14.826Z"
   },
   {
    "duration": 16,
    "start_time": "2021-12-23T12:30:14.861Z"
   },
   {
    "duration": 6,
    "start_time": "2021-12-23T12:30:14.879Z"
   },
   {
    "duration": 21,
    "start_time": "2021-12-23T12:30:14.887Z"
   },
   {
    "duration": 5,
    "start_time": "2021-12-23T12:30:14.910Z"
   },
   {
    "duration": 354,
    "start_time": "2021-12-23T12:30:14.917Z"
   },
   {
    "duration": 317,
    "start_time": "2021-12-23T12:30:15.272Z"
   },
   {
    "duration": 16,
    "start_time": "2021-12-23T12:30:15.591Z"
   },
   {
    "duration": 285,
    "start_time": "2021-12-23T12:30:15.609Z"
   },
   {
    "duration": 490,
    "start_time": "2021-12-23T12:30:15.896Z"
   },
   {
    "duration": 1595,
    "start_time": "2021-12-23T12:30:16.388Z"
   },
   {
    "duration": 264,
    "start_time": "2021-12-23T12:30:17.985Z"
   },
   {
    "duration": 366,
    "start_time": "2021-12-23T12:30:18.261Z"
   },
   {
    "duration": 4,
    "start_time": "2021-12-23T12:30:18.629Z"
   },
   {
    "duration": 137,
    "start_time": "2021-12-23T12:30:18.634Z"
   },
   {
    "duration": 135,
    "start_time": "2021-12-23T12:30:18.774Z"
   },
   {
    "duration": 137,
    "start_time": "2021-12-23T12:30:18.911Z"
   },
   {
    "duration": 12,
    "start_time": "2021-12-23T12:30:19.050Z"
   },
   {
    "duration": 134,
    "start_time": "2021-12-23T12:30:19.064Z"
   },
   {
    "duration": 135,
    "start_time": "2021-12-23T12:30:19.200Z"
   },
   {
    "duration": 132,
    "start_time": "2021-12-23T12:30:19.336Z"
   },
   {
    "duration": 4,
    "start_time": "2021-12-23T12:30:19.470Z"
   },
   {
    "duration": 139,
    "start_time": "2021-12-23T12:30:19.476Z"
   },
   {
    "duration": 233,
    "start_time": "2021-12-23T12:30:19.617Z"
   },
   {
    "duration": 132,
    "start_time": "2021-12-23T12:30:19.852Z"
   },
   {
    "duration": 12,
    "start_time": "2021-12-23T12:30:19.986Z"
   },
   {
    "duration": 23,
    "start_time": "2021-12-23T12:30:20.000Z"
   },
   {
    "duration": 49,
    "start_time": "2021-12-23T12:30:20.025Z"
   },
   {
    "duration": 12,
    "start_time": "2021-12-23T12:30:20.076Z"
   },
   {
    "duration": 16,
    "start_time": "2021-12-23T12:30:20.090Z"
   },
   {
    "duration": 38,
    "start_time": "2021-12-23T12:30:20.108Z"
   },
   {
    "duration": 1077,
    "start_time": "2021-12-24T08:59:30.042Z"
   },
   {
    "duration": 51,
    "start_time": "2021-12-24T08:59:31.121Z"
   },
   {
    "duration": 5,
    "start_time": "2021-12-24T08:59:31.174Z"
   },
   {
    "duration": 11,
    "start_time": "2021-12-24T08:59:31.181Z"
   },
   {
    "duration": 10,
    "start_time": "2021-12-24T08:59:31.194Z"
   },
   {
    "duration": 9,
    "start_time": "2021-12-24T08:59:31.206Z"
   },
   {
    "duration": 19,
    "start_time": "2021-12-24T08:59:31.216Z"
   },
   {
    "duration": 12,
    "start_time": "2021-12-24T08:59:31.237Z"
   },
   {
    "duration": 7,
    "start_time": "2021-12-24T08:59:31.252Z"
   },
   {
    "duration": 13,
    "start_time": "2021-12-24T08:59:31.261Z"
   },
   {
    "duration": 18,
    "start_time": "2021-12-24T08:59:31.275Z"
   },
   {
    "duration": 6,
    "start_time": "2021-12-24T08:59:31.294Z"
   },
   {
    "duration": 15,
    "start_time": "2021-12-24T08:59:31.302Z"
   },
   {
    "duration": 6,
    "start_time": "2021-12-24T08:59:31.319Z"
   },
   {
    "duration": 25,
    "start_time": "2021-12-24T08:59:31.326Z"
   },
   {
    "duration": 6,
    "start_time": "2021-12-24T08:59:31.353Z"
   },
   {
    "duration": 382,
    "start_time": "2021-12-24T08:59:31.361Z"
   },
   {
    "duration": 332,
    "start_time": "2021-12-24T08:59:31.744Z"
   },
   {
    "duration": 24,
    "start_time": "2021-12-24T08:59:32.078Z"
   },
   {
    "duration": 293,
    "start_time": "2021-12-24T08:59:32.104Z"
   },
   {
    "duration": 406,
    "start_time": "2021-12-24T08:59:32.399Z"
   },
   {
    "duration": 1607,
    "start_time": "2021-12-24T08:59:32.807Z"
   },
   {
    "duration": 293,
    "start_time": "2021-12-24T08:59:34.415Z"
   },
   {
    "duration": 388,
    "start_time": "2021-12-24T08:59:34.710Z"
   },
   {
    "duration": 3,
    "start_time": "2021-12-24T08:59:35.100Z"
   },
   {
    "duration": 135,
    "start_time": "2021-12-24T08:59:35.105Z"
   },
   {
    "duration": 133,
    "start_time": "2021-12-24T08:59:35.243Z"
   },
   {
    "duration": 131,
    "start_time": "2021-12-24T08:59:35.378Z"
   },
   {
    "duration": 3,
    "start_time": "2021-12-24T08:59:35.511Z"
   },
   {
    "duration": 143,
    "start_time": "2021-12-24T08:59:35.516Z"
   },
   {
    "duration": 136,
    "start_time": "2021-12-24T08:59:35.660Z"
   },
   {
    "duration": 137,
    "start_time": "2021-12-24T08:59:35.797Z"
   },
   {
    "duration": 4,
    "start_time": "2021-12-24T08:59:35.936Z"
   },
   {
    "duration": 135,
    "start_time": "2021-12-24T08:59:35.941Z"
   },
   {
    "duration": 211,
    "start_time": "2021-12-24T08:59:36.077Z"
   },
   {
    "duration": 129,
    "start_time": "2021-12-24T08:59:36.291Z"
   },
   {
    "duration": 9,
    "start_time": "2021-12-24T08:59:36.422Z"
   },
   {
    "duration": 17,
    "start_time": "2021-12-24T08:59:36.433Z"
   },
   {
    "duration": 52,
    "start_time": "2021-12-24T08:59:36.452Z"
   },
   {
    "duration": 15,
    "start_time": "2021-12-24T08:59:36.506Z"
   },
   {
    "duration": 15,
    "start_time": "2021-12-24T08:59:36.523Z"
   },
   {
    "duration": 27,
    "start_time": "2021-12-24T08:59:36.540Z"
   },
   {
    "duration": 268,
    "start_time": "2021-12-24T09:08:32.609Z"
   },
   {
    "duration": 6,
    "start_time": "2021-12-24T09:12:22.415Z"
   },
   {
    "duration": 6,
    "start_time": "2021-12-24T09:12:44.893Z"
   },
   {
    "duration": 44,
    "start_time": "2021-12-24T09:12:54.965Z"
   },
   {
    "duration": 5,
    "start_time": "2021-12-24T09:12:59.773Z"
   },
   {
    "duration": 9,
    "start_time": "2021-12-24T09:13:01.249Z"
   },
   {
    "duration": 6,
    "start_time": "2021-12-24T09:13:03.514Z"
   },
   {
    "duration": 1082,
    "start_time": "2021-12-24T09:55:46.129Z"
   },
   {
    "duration": 50,
    "start_time": "2021-12-24T09:55:47.214Z"
   },
   {
    "duration": 5,
    "start_time": "2021-12-24T09:55:47.266Z"
   },
   {
    "duration": 8,
    "start_time": "2021-12-24T09:55:47.273Z"
   },
   {
    "duration": 11,
    "start_time": "2021-12-24T09:55:47.282Z"
   },
   {
    "duration": 6,
    "start_time": "2021-12-24T09:55:47.295Z"
   },
   {
    "duration": 12,
    "start_time": "2021-12-24T09:55:47.303Z"
   },
   {
    "duration": 8,
    "start_time": "2021-12-24T09:55:47.317Z"
   },
   {
    "duration": 5,
    "start_time": "2021-12-24T09:55:47.327Z"
   },
   {
    "duration": 9,
    "start_time": "2021-12-24T09:55:47.333Z"
   },
   {
    "duration": 7,
    "start_time": "2021-12-24T09:55:47.344Z"
   },
   {
    "duration": 51,
    "start_time": "2021-12-24T09:55:47.353Z"
   },
   {
    "duration": 6,
    "start_time": "2021-12-24T09:55:47.406Z"
   },
   {
    "duration": 17,
    "start_time": "2021-12-24T09:55:47.414Z"
   },
   {
    "duration": 7,
    "start_time": "2021-12-24T09:55:47.432Z"
   },
   {
    "duration": 389,
    "start_time": "2021-12-24T09:55:47.440Z"
   },
   {
    "duration": 331,
    "start_time": "2021-12-24T09:55:47.831Z"
   },
   {
    "duration": 28,
    "start_time": "2021-12-24T09:55:48.164Z"
   },
   {
    "duration": 300,
    "start_time": "2021-12-24T09:55:48.194Z"
   },
   {
    "duration": 410,
    "start_time": "2021-12-24T09:55:48.496Z"
   },
   {
    "duration": 1683,
    "start_time": "2021-12-24T09:55:48.908Z"
   },
   {
    "duration": 289,
    "start_time": "2021-12-24T09:55:50.593Z"
   },
   {
    "duration": 384,
    "start_time": "2021-12-24T09:55:50.886Z"
   },
   {
    "duration": 4,
    "start_time": "2021-12-24T09:55:51.272Z"
   },
   {
    "duration": 134,
    "start_time": "2021-12-24T09:55:51.277Z"
   },
   {
    "duration": 135,
    "start_time": "2021-12-24T09:55:51.413Z"
   },
   {
    "duration": 130,
    "start_time": "2021-12-24T09:55:51.549Z"
   },
   {
    "duration": 3,
    "start_time": "2021-12-24T09:55:51.681Z"
   },
   {
    "duration": 133,
    "start_time": "2021-12-24T09:55:51.691Z"
   },
   {
    "duration": 135,
    "start_time": "2021-12-24T09:55:51.826Z"
   },
   {
    "duration": 139,
    "start_time": "2021-12-24T09:55:51.963Z"
   },
   {
    "duration": 4,
    "start_time": "2021-12-24T09:55:52.104Z"
   },
   {
    "duration": 133,
    "start_time": "2021-12-24T09:55:52.109Z"
   },
   {
    "duration": 206,
    "start_time": "2021-12-24T09:55:52.244Z"
   },
   {
    "duration": 135,
    "start_time": "2021-12-24T09:55:52.452Z"
   },
   {
    "duration": 16,
    "start_time": "2021-12-24T09:55:52.589Z"
   },
   {
    "duration": 5,
    "start_time": "2021-12-24T09:55:52.607Z"
   },
   {
    "duration": 23,
    "start_time": "2021-12-24T09:55:52.614Z"
   },
   {
    "duration": 12,
    "start_time": "2021-12-24T09:55:52.639Z"
   },
   {
    "duration": 5,
    "start_time": "2021-12-24T09:55:52.653Z"
   },
   {
    "duration": 56,
    "start_time": "2021-12-24T09:55:52.660Z"
   },
   {
    "duration": 103,
    "start_time": "2021-12-24T13:45:27.341Z"
   },
   {
    "duration": 338,
    "start_time": "2021-12-24T19:33:08.990Z"
   },
   {
    "duration": 1452,
    "start_time": "2021-12-24T19:33:14.799Z"
   },
   {
    "duration": 69,
    "start_time": "2021-12-24T19:33:16.254Z"
   },
   {
    "duration": 6,
    "start_time": "2021-12-24T19:33:16.326Z"
   },
   {
    "duration": 9,
    "start_time": "2021-12-24T19:33:16.336Z"
   },
   {
    "duration": 9,
    "start_time": "2021-12-24T19:33:16.348Z"
   },
   {
    "duration": 8,
    "start_time": "2021-12-24T19:33:16.359Z"
   },
   {
    "duration": 54,
    "start_time": "2021-12-24T19:33:16.369Z"
   },
   {
    "duration": 12,
    "start_time": "2021-12-24T19:33:16.427Z"
   },
   {
    "duration": 7,
    "start_time": "2021-12-24T19:33:16.441Z"
   },
   {
    "duration": 11,
    "start_time": "2021-12-24T19:33:16.450Z"
   },
   {
    "duration": 10,
    "start_time": "2021-12-24T19:33:16.463Z"
   },
   {
    "duration": 64,
    "start_time": "2021-12-24T19:33:16.475Z"
   },
   {
    "duration": 8,
    "start_time": "2021-12-24T19:33:16.541Z"
   },
   {
    "duration": 26,
    "start_time": "2021-12-24T19:33:16.552Z"
   },
   {
    "duration": 9,
    "start_time": "2021-12-24T19:33:16.580Z"
   },
   {
    "duration": 582,
    "start_time": "2021-12-24T19:33:16.592Z"
   },
   {
    "duration": 486,
    "start_time": "2021-12-24T19:33:17.176Z"
   },
   {
    "duration": 24,
    "start_time": "2021-12-24T19:33:17.664Z"
   },
   {
    "duration": 452,
    "start_time": "2021-12-24T19:33:17.690Z"
   },
   {
    "duration": 646,
    "start_time": "2021-12-24T19:33:18.144Z"
   },
   {
    "duration": 2308,
    "start_time": "2021-12-24T19:33:18.792Z"
   },
   {
    "duration": 427,
    "start_time": "2021-12-24T19:33:21.103Z"
   },
   {
    "duration": 574,
    "start_time": "2021-12-24T19:33:21.535Z"
   },
   {
    "duration": 13,
    "start_time": "2021-12-24T19:33:22.112Z"
   },
   {
    "duration": 230,
    "start_time": "2021-12-24T19:33:22.128Z"
   },
   {
    "duration": 195,
    "start_time": "2021-12-24T19:33:22.361Z"
   },
   {
    "duration": 191,
    "start_time": "2021-12-24T19:33:22.559Z"
   },
   {
    "duration": 5,
    "start_time": "2021-12-24T19:33:22.753Z"
   },
   {
    "duration": 211,
    "start_time": "2021-12-24T19:33:22.760Z"
   },
   {
    "duration": 196,
    "start_time": "2021-12-24T19:33:22.974Z"
   },
   {
    "duration": 211,
    "start_time": "2021-12-24T19:33:23.172Z"
   },
   {
    "duration": 5,
    "start_time": "2021-12-24T19:33:23.385Z"
   },
   {
    "duration": 187,
    "start_time": "2021-12-24T19:33:23.393Z"
   },
   {
    "duration": 284,
    "start_time": "2021-12-24T19:33:23.583Z"
   },
   {
    "duration": 201,
    "start_time": "2021-12-24T19:33:23.869Z"
   },
   {
    "duration": 13,
    "start_time": "2021-12-24T19:33:24.072Z"
   },
   {
    "duration": 6,
    "start_time": "2021-12-24T19:33:24.088Z"
   },
   {
    "duration": 46,
    "start_time": "2021-12-24T19:33:24.096Z"
   },
   {
    "duration": 14,
    "start_time": "2021-12-24T19:33:24.144Z"
   },
   {
    "duration": 6,
    "start_time": "2021-12-24T19:33:24.160Z"
   },
   {
    "duration": 56,
    "start_time": "2021-12-24T19:33:24.169Z"
   },
   {
    "duration": 23,
    "start_time": "2021-12-24T19:34:02.399Z"
   },
   {
    "duration": 27,
    "start_time": "2021-12-24T19:34:08.735Z"
   },
   {
    "duration": 23,
    "start_time": "2021-12-24T19:35:45.775Z"
   },
   {
    "duration": 24,
    "start_time": "2021-12-24T19:35:56.131Z"
   },
   {
    "duration": 22,
    "start_time": "2021-12-24T19:36:00.656Z"
   },
   {
    "duration": 23,
    "start_time": "2021-12-24T19:36:10.051Z"
   },
   {
    "duration": 22,
    "start_time": "2021-12-24T19:36:12.816Z"
   },
   {
    "duration": 24,
    "start_time": "2021-12-24T19:36:34.398Z"
   },
   {
    "duration": 23,
    "start_time": "2021-12-24T19:36:38.180Z"
   },
   {
    "duration": 22,
    "start_time": "2021-12-24T19:36:41.582Z"
   },
   {
    "duration": 25,
    "start_time": "2021-12-24T19:37:22.262Z"
   },
   {
    "duration": 23,
    "start_time": "2021-12-24T19:37:26.670Z"
   },
   {
    "duration": 21,
    "start_time": "2021-12-24T19:38:45.721Z"
   },
   {
    "duration": 25,
    "start_time": "2021-12-24T19:38:50.139Z"
   },
   {
    "duration": 26,
    "start_time": "2021-12-24T19:38:55.309Z"
   },
   {
    "duration": 21,
    "start_time": "2021-12-24T19:38:58.437Z"
   },
   {
    "duration": 23,
    "start_time": "2021-12-24T19:39:01.754Z"
   },
   {
    "duration": 23,
    "start_time": "2021-12-24T19:39:06.613Z"
   },
   {
    "duration": 420,
    "start_time": "2021-12-24T19:57:06.803Z"
   },
   {
    "duration": 13,
    "start_time": "2021-12-24T19:58:42.633Z"
   },
   {
    "duration": 573,
    "start_time": "2021-12-24T20:01:34.845Z"
   },
   {
    "duration": 103,
    "start_time": "2021-12-24T20:04:37.157Z"
   },
   {
    "duration": 99,
    "start_time": "2021-12-24T20:14:28.050Z"
   },
   {
    "duration": 433,
    "start_time": "2021-12-24T20:14:43.645Z"
   },
   {
    "duration": 547,
    "start_time": "2021-12-24T20:16:40.189Z"
   },
   {
    "duration": 402,
    "start_time": "2021-12-24T20:17:02.079Z"
   },
   {
    "duration": 452,
    "start_time": "2021-12-24T20:17:30.891Z"
   },
   {
    "duration": 445,
    "start_time": "2021-12-24T20:18:08.557Z"
   },
   {
    "duration": 855,
    "start_time": "2021-12-24T20:19:22.892Z"
   },
   {
    "duration": 1430,
    "start_time": "2021-12-25T11:58:38.247Z"
   },
   {
    "duration": 66,
    "start_time": "2021-12-25T11:58:39.680Z"
   },
   {
    "duration": 6,
    "start_time": "2021-12-25T11:58:39.749Z"
   },
   {
    "duration": 9,
    "start_time": "2021-12-25T11:58:39.757Z"
   },
   {
    "duration": 8,
    "start_time": "2021-12-25T11:58:39.768Z"
   },
   {
    "duration": 8,
    "start_time": "2021-12-25T11:58:39.778Z"
   },
   {
    "duration": 15,
    "start_time": "2021-12-25T11:58:39.823Z"
   },
   {
    "duration": 12,
    "start_time": "2021-12-25T11:58:39.841Z"
   },
   {
    "duration": 6,
    "start_time": "2021-12-25T11:58:39.856Z"
   },
   {
    "duration": 12,
    "start_time": "2021-12-25T11:58:39.864Z"
   },
   {
    "duration": 45,
    "start_time": "2021-12-25T11:58:39.878Z"
   },
   {
    "duration": 17,
    "start_time": "2021-12-25T11:58:39.926Z"
   },
   {
    "duration": 8,
    "start_time": "2021-12-25T11:58:39.945Z"
   },
   {
    "duration": 25,
    "start_time": "2021-12-25T11:58:39.955Z"
   },
   {
    "duration": 41,
    "start_time": "2021-12-25T11:58:39.983Z"
   },
   {
    "duration": 551,
    "start_time": "2021-12-25T11:58:40.027Z"
   },
   {
    "duration": 491,
    "start_time": "2021-12-25T11:58:40.581Z"
   },
   {
    "duration": 23,
    "start_time": "2021-12-25T11:58:41.074Z"
   },
   {
    "duration": 463,
    "start_time": "2021-12-25T11:58:41.099Z"
   },
   {
    "duration": 4,
    "start_time": "2021-12-25T11:58:41.564Z"
   },
   {
    "duration": 791,
    "start_time": "2021-12-25T11:58:41.570Z"
   },
   {
    "duration": 2882,
    "start_time": "2021-12-25T11:58:42.363Z"
   },
   {
    "duration": 438,
    "start_time": "2021-12-25T11:58:45.250Z"
   },
   {
    "duration": 552,
    "start_time": "2021-12-25T11:58:45.691Z"
   },
   {
    "duration": 5,
    "start_time": "2021-12-25T11:58:46.245Z"
   },
   {
    "duration": 202,
    "start_time": "2021-12-25T11:58:46.252Z"
   },
   {
    "duration": 199,
    "start_time": "2021-12-25T11:58:46.456Z"
   },
   {
    "duration": 204,
    "start_time": "2021-12-25T11:58:46.658Z"
   },
   {
    "duration": 5,
    "start_time": "2021-12-25T11:58:46.864Z"
   },
   {
    "duration": 207,
    "start_time": "2021-12-25T11:58:46.871Z"
   },
   {
    "duration": 201,
    "start_time": "2021-12-25T11:58:47.080Z"
   },
   {
    "duration": 204,
    "start_time": "2021-12-25T11:58:47.283Z"
   },
   {
    "duration": 5,
    "start_time": "2021-12-25T11:58:47.490Z"
   },
   {
    "duration": 283,
    "start_time": "2021-12-25T11:58:47.497Z"
   },
   {
    "duration": 194,
    "start_time": "2021-12-25T11:58:47.782Z"
   },
   {
    "duration": 196,
    "start_time": "2021-12-25T11:58:47.978Z"
   },
   {
    "duration": 15,
    "start_time": "2021-12-25T11:58:48.176Z"
   },
   {
    "duration": 29,
    "start_time": "2021-12-25T11:58:48.194Z"
   },
   {
    "duration": 52,
    "start_time": "2021-12-25T11:58:48.225Z"
   },
   {
    "duration": 14,
    "start_time": "2021-12-25T11:58:48.280Z"
   },
   {
    "duration": 6,
    "start_time": "2021-12-25T11:58:48.297Z"
   },
   {
    "duration": 44,
    "start_time": "2021-12-25T11:58:48.306Z"
   },
   {
    "duration": 579,
    "start_time": "2021-12-25T11:59:24.462Z"
   },
   {
    "duration": 3996,
    "start_time": "2021-12-25T12:08:52.495Z"
   },
   {
    "duration": 680,
    "start_time": "2021-12-25T12:19:38.983Z"
   },
   {
    "duration": 460,
    "start_time": "2021-12-25T12:20:02.610Z"
   },
   {
    "duration": 645,
    "start_time": "2021-12-25T12:20:38.302Z"
   },
   {
    "duration": 7,
    "start_time": "2021-12-25T12:26:16.147Z"
   },
   {
    "duration": 181,
    "start_time": "2021-12-25T12:26:20.164Z"
   },
   {
    "duration": 177,
    "start_time": "2021-12-25T12:26:26.608Z"
   },
   {
    "duration": 186,
    "start_time": "2021-12-25T12:26:30.940Z"
   },
   {
    "duration": 5,
    "start_time": "2021-12-25T12:27:16.022Z"
   },
   {
    "duration": 189,
    "start_time": "2021-12-25T12:27:17.547Z"
   },
   {
    "duration": 203,
    "start_time": "2021-12-25T12:27:24.020Z"
   },
   {
    "duration": 187,
    "start_time": "2021-12-25T12:27:26.943Z"
   },
   {
    "duration": 163,
    "start_time": "2021-12-25T12:35:57.317Z"
   },
   {
    "duration": 5,
    "start_time": "2021-12-25T12:36:06.430Z"
   },
   {
    "duration": 186,
    "start_time": "2021-12-25T12:36:09.534Z"
   },
   {
    "duration": 195,
    "start_time": "2021-12-25T12:36:12.719Z"
   },
   {
    "duration": 230,
    "start_time": "2021-12-25T12:36:15.409Z"
   },
   {
    "duration": 16,
    "start_time": "2021-12-25T12:49:07.964Z"
   },
   {
    "duration": 6,
    "start_time": "2021-12-25T12:49:10.954Z"
   },
   {
    "duration": 37,
    "start_time": "2021-12-25T12:49:45.312Z"
   },
   {
    "duration": 107,
    "start_time": "2021-12-25T12:52:37.649Z"
   },
   {
    "duration": 17,
    "start_time": "2021-12-25T12:54:20.310Z"
   },
   {
    "duration": 6,
    "start_time": "2021-12-25T12:54:21.600Z"
   },
   {
    "duration": 122,
    "start_time": "2021-12-25T12:55:59.412Z"
   },
   {
    "duration": 104,
    "start_time": "2021-12-25T12:56:14.343Z"
   },
   {
    "duration": 8,
    "start_time": "2021-12-25T12:58:59.081Z"
   },
   {
    "duration": 7,
    "start_time": "2021-12-25T12:59:22.335Z"
   },
   {
    "duration": 1401,
    "start_time": "2021-12-25T13:02:31.347Z"
   },
   {
    "duration": 61,
    "start_time": "2021-12-25T13:02:32.751Z"
   },
   {
    "duration": 11,
    "start_time": "2021-12-25T13:02:32.815Z"
   },
   {
    "duration": 6,
    "start_time": "2021-12-25T13:02:32.829Z"
   },
   {
    "duration": 23,
    "start_time": "2021-12-25T13:02:32.838Z"
   },
   {
    "duration": 23,
    "start_time": "2021-12-25T13:02:32.864Z"
   },
   {
    "duration": 28,
    "start_time": "2021-12-25T13:02:32.889Z"
   },
   {
    "duration": 26,
    "start_time": "2021-12-25T13:02:32.920Z"
   },
   {
    "duration": 9,
    "start_time": "2021-12-25T13:02:32.949Z"
   },
   {
    "duration": 18,
    "start_time": "2021-12-25T13:02:32.960Z"
   },
   {
    "duration": 20,
    "start_time": "2021-12-25T13:02:32.980Z"
   },
   {
    "duration": 28,
    "start_time": "2021-12-25T13:02:33.003Z"
   },
   {
    "duration": 8,
    "start_time": "2021-12-25T13:02:33.033Z"
   },
   {
    "duration": 31,
    "start_time": "2021-12-25T13:02:33.043Z"
   },
   {
    "duration": 9,
    "start_time": "2021-12-25T13:02:33.076Z"
   },
   {
    "duration": 554,
    "start_time": "2021-12-25T13:02:33.087Z"
   },
   {
    "duration": 491,
    "start_time": "2021-12-25T13:02:33.643Z"
   },
   {
    "duration": 22,
    "start_time": "2021-12-25T13:02:34.136Z"
   },
   {
    "duration": 463,
    "start_time": "2021-12-25T13:02:34.160Z"
   },
   {
    "duration": 4,
    "start_time": "2021-12-25T13:02:34.626Z"
   },
   {
    "duration": 567,
    "start_time": "2021-12-25T13:02:34.632Z"
   },
   {
    "duration": 3980,
    "start_time": "2021-12-25T13:02:35.201Z"
   },
   {
    "duration": 481,
    "start_time": "2021-12-25T13:02:39.186Z"
   },
   {
    "duration": 792,
    "start_time": "2021-12-25T13:02:39.670Z"
   },
   {
    "duration": 5,
    "start_time": "2021-12-25T13:02:40.465Z"
   },
   {
    "duration": 199,
    "start_time": "2021-12-25T13:02:40.473Z"
   },
   {
    "duration": 203,
    "start_time": "2021-12-25T13:02:40.674Z"
   },
   {
    "duration": 208,
    "start_time": "2021-12-25T13:02:40.880Z"
   },
   {
    "duration": 5,
    "start_time": "2021-12-25T13:02:41.090Z"
   },
   {
    "duration": 206,
    "start_time": "2021-12-25T13:02:41.097Z"
   },
   {
    "duration": 208,
    "start_time": "2021-12-25T13:02:41.306Z"
   },
   {
    "duration": 288,
    "start_time": "2021-12-25T13:02:41.524Z"
   },
   {
    "duration": 9,
    "start_time": "2021-12-25T13:02:41.815Z"
   },
   {
    "duration": 202,
    "start_time": "2021-12-25T13:02:41.827Z"
   },
   {
    "duration": 200,
    "start_time": "2021-12-25T13:02:42.031Z"
   },
   {
    "duration": 196,
    "start_time": "2021-12-25T13:02:42.234Z"
   },
   {
    "duration": 16,
    "start_time": "2021-12-25T13:02:42.432Z"
   },
   {
    "duration": 5,
    "start_time": "2021-12-25T13:02:42.451Z"
   },
   {
    "duration": 27,
    "start_time": "2021-12-25T13:02:42.459Z"
   },
   {
    "duration": 50,
    "start_time": "2021-12-25T13:02:42.489Z"
   },
   {
    "duration": 7,
    "start_time": "2021-12-25T13:02:42.541Z"
   },
   {
    "duration": 26,
    "start_time": "2021-12-25T13:02:42.550Z"
   },
   {
    "duration": 1470,
    "start_time": "2021-12-25T14:01:17.376Z"
   },
   {
    "duration": 71,
    "start_time": "2021-12-25T14:01:18.849Z"
   },
   {
    "duration": 7,
    "start_time": "2021-12-25T14:01:18.928Z"
   },
   {
    "duration": 14,
    "start_time": "2021-12-25T14:01:18.939Z"
   },
   {
    "duration": 22,
    "start_time": "2021-12-25T14:01:18.956Z"
   },
   {
    "duration": 24,
    "start_time": "2021-12-25T14:01:18.981Z"
   },
   {
    "duration": 28,
    "start_time": "2021-12-25T14:01:19.008Z"
   },
   {
    "duration": 12,
    "start_time": "2021-12-25T14:01:19.039Z"
   },
   {
    "duration": 10,
    "start_time": "2021-12-25T14:01:19.054Z"
   },
   {
    "duration": 16,
    "start_time": "2021-12-25T14:01:19.067Z"
   },
   {
    "duration": 43,
    "start_time": "2021-12-25T14:01:19.086Z"
   },
   {
    "duration": 21,
    "start_time": "2021-12-25T14:01:19.131Z"
   },
   {
    "duration": 9,
    "start_time": "2021-12-25T14:01:19.155Z"
   },
   {
    "duration": 60,
    "start_time": "2021-12-25T14:01:19.167Z"
   },
   {
    "duration": 11,
    "start_time": "2021-12-25T14:01:19.230Z"
   },
   {
    "duration": 582,
    "start_time": "2021-12-25T14:01:19.244Z"
   },
   {
    "duration": 553,
    "start_time": "2021-12-25T14:01:19.828Z"
   },
   {
    "duration": 23,
    "start_time": "2021-12-25T14:01:20.383Z"
   },
   {
    "duration": 474,
    "start_time": "2021-12-25T14:01:20.424Z"
   },
   {
    "duration": 4,
    "start_time": "2021-12-25T14:01:20.900Z"
   },
   {
    "duration": 631,
    "start_time": "2021-12-25T14:01:20.907Z"
   },
   {
    "duration": 3945,
    "start_time": "2021-12-25T14:01:21.543Z"
   },
   {
    "duration": 456,
    "start_time": "2021-12-25T14:01:25.491Z"
   },
   {
    "duration": 594,
    "start_time": "2021-12-25T14:01:25.950Z"
   },
   {
    "duration": 6,
    "start_time": "2021-12-25T14:01:26.546Z"
   },
   {
    "duration": 213,
    "start_time": "2021-12-25T14:01:26.555Z"
   },
   {
    "duration": 204,
    "start_time": "2021-12-25T14:01:26.771Z"
   },
   {
    "duration": 203,
    "start_time": "2021-12-25T14:01:26.978Z"
   },
   {
    "duration": 6,
    "start_time": "2021-12-25T14:01:27.183Z"
   },
   {
    "duration": 210,
    "start_time": "2021-12-25T14:01:27.191Z"
   },
   {
    "duration": 216,
    "start_time": "2021-12-25T14:01:27.404Z"
   },
   {
    "duration": 303,
    "start_time": "2021-12-25T14:01:27.623Z"
   },
   {
    "duration": 6,
    "start_time": "2021-12-25T14:01:27.929Z"
   },
   {
    "duration": 223,
    "start_time": "2021-12-25T14:01:27.937Z"
   },
   {
    "duration": 267,
    "start_time": "2021-12-25T14:01:28.163Z"
   },
   {
    "duration": 213,
    "start_time": "2021-12-25T14:01:28.433Z"
   },
   {
    "duration": 16,
    "start_time": "2021-12-25T14:01:28.648Z"
   },
   {
    "duration": 6,
    "start_time": "2021-12-25T14:01:28.667Z"
   },
   {
    "duration": 53,
    "start_time": "2021-12-25T14:01:28.676Z"
   },
   {
    "duration": 15,
    "start_time": "2021-12-25T14:01:28.732Z"
   },
   {
    "duration": 6,
    "start_time": "2021-12-25T14:01:28.749Z"
   },
   {
    "duration": 31,
    "start_time": "2021-12-25T14:01:28.757Z"
   },
   {
    "duration": 1618,
    "start_time": "2021-12-26T08:33:44.247Z"
   },
   {
    "duration": 68,
    "start_time": "2021-12-26T08:33:45.868Z"
   },
   {
    "duration": 6,
    "start_time": "2021-12-26T08:33:45.939Z"
   },
   {
    "duration": 6,
    "start_time": "2021-12-26T08:33:45.959Z"
   },
   {
    "duration": 15,
    "start_time": "2021-12-26T08:33:45.967Z"
   },
   {
    "duration": 12,
    "start_time": "2021-12-26T08:33:45.985Z"
   },
   {
    "duration": 18,
    "start_time": "2021-12-26T08:33:46.000Z"
   },
   {
    "duration": 15,
    "start_time": "2021-12-26T08:33:46.061Z"
   },
   {
    "duration": 7,
    "start_time": "2021-12-26T08:33:46.082Z"
   },
   {
    "duration": 15,
    "start_time": "2021-12-26T08:33:46.093Z"
   },
   {
    "duration": 55,
    "start_time": "2021-12-26T08:33:46.111Z"
   },
   {
    "duration": 28,
    "start_time": "2021-12-26T08:33:46.169Z"
   },
   {
    "duration": 10,
    "start_time": "2021-12-26T08:33:46.200Z"
   },
   {
    "duration": 71,
    "start_time": "2021-12-26T08:33:46.213Z"
   },
   {
    "duration": 11,
    "start_time": "2021-12-26T08:33:46.288Z"
   },
   {
    "duration": 587,
    "start_time": "2021-12-26T08:33:46.302Z"
   },
   {
    "duration": 522,
    "start_time": "2021-12-26T08:33:46.892Z"
   },
   {
    "duration": 22,
    "start_time": "2021-12-26T08:33:47.423Z"
   },
   {
    "duration": 475,
    "start_time": "2021-12-26T08:33:47.460Z"
   },
   {
    "duration": 4,
    "start_time": "2021-12-26T08:33:47.937Z"
   },
   {
    "duration": 592,
    "start_time": "2021-12-26T08:33:47.943Z"
   },
   {
    "duration": 3956,
    "start_time": "2021-12-26T08:33:48.537Z"
   },
   {
    "duration": 673,
    "start_time": "2021-12-26T08:33:52.495Z"
   },
   {
    "duration": 864,
    "start_time": "2021-12-26T08:33:53.171Z"
   },
   {
    "duration": 6,
    "start_time": "2021-12-26T08:33:54.038Z"
   },
   {
    "duration": 301,
    "start_time": "2021-12-26T08:33:54.047Z"
   },
   {
    "duration": 290,
    "start_time": "2021-12-26T08:33:54.360Z"
   },
   {
    "duration": 292,
    "start_time": "2021-12-26T08:33:54.660Z"
   },
   {
    "duration": 7,
    "start_time": "2021-12-26T08:33:54.955Z"
   },
   {
    "duration": 302,
    "start_time": "2021-12-26T08:33:54.965Z"
   },
   {
    "duration": 305,
    "start_time": "2021-12-26T08:33:55.271Z"
   },
   {
    "duration": 420,
    "start_time": "2021-12-26T08:33:55.579Z"
   },
   {
    "duration": 7,
    "start_time": "2021-12-26T08:33:56.002Z"
   },
   {
    "duration": 303,
    "start_time": "2021-12-26T08:33:56.012Z"
   },
   {
    "duration": 295,
    "start_time": "2021-12-26T08:33:56.317Z"
   },
   {
    "duration": 286,
    "start_time": "2021-12-26T08:33:56.615Z"
   },
   {
    "duration": 23,
    "start_time": "2021-12-26T08:33:56.904Z"
   },
   {
    "duration": 8,
    "start_time": "2021-12-26T08:33:56.930Z"
   },
   {
    "duration": 37,
    "start_time": "2021-12-26T08:33:56.960Z"
   },
   {
    "duration": 22,
    "start_time": "2021-12-26T08:33:57.000Z"
   },
   {
    "duration": 33,
    "start_time": "2021-12-26T08:33:57.028Z"
   },
   {
    "duration": 39,
    "start_time": "2021-12-26T08:33:57.064Z"
   }
  ],
  "kernelspec": {
   "display_name": "Python 3",
   "language": "python",
   "name": "python3"
  },
  "language_info": {
   "codemirror_mode": {
    "name": "ipython",
    "version": 3
   },
   "file_extension": ".py",
   "mimetype": "text/x-python",
   "name": "python",
   "nbconvert_exporter": "python",
   "pygments_lexer": "ipython3",
   "version": "3.8.8"
  },
  "toc": {
   "base_numbering": 1,
   "nav_menu": {
    "height": "624px",
    "width": "425px"
   },
   "number_sections": false,
   "sideBar": true,
   "skip_h1_title": true,
   "title_cell": "Table of Contents",
   "title_sidebar": "Contents",
   "toc_cell": false,
   "toc_position": {},
   "toc_section_display": true,
   "toc_window_display": false
  }
 },
 "nbformat": 4,
 "nbformat_minor": 2
}
