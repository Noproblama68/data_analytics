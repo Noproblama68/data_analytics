{
 "cells": [
  {
   "cell_type": "markdown",
   "metadata": {},
   "source": [
    "# Проверка гипотез по увеличению выручки интернет-магазина\n",
    "_____"
   ]
  },
  {
   "cell_type": "markdown",
   "metadata": {},
   "source": [
    "**Описание проекта**\n",
    "_____\n",
    "Для интернет-магазина был подготовлен список гипотез для увеличения выручки.\n",
    "\n",
    "Нужно приоритизировать гипотезы, запустить A/B-тест и проанализировать результаты.\n",
    "_____\n",
    "**Цель проекта**\n",
    "В данном исследовании основной целью является определение наиболее перспективных гипотез, а также для анализа результатов А/В тестирования и принятия решения по его результатам.\n",
    "_____\n",
    "**Задачи проекта**\n",
    "\n",
    "Для достижения поставленной цели будет необходимо:\n",
    "1. Изучить общую информацию о данных, выявить проблемы\n",
    "2. Подготовить данные к анализу\n",
    "3. Приоритизировать гипотезы\n",
    "- *Применить фреймворк ICE;*\n",
    "- *Применить фреймворк RICE;*\n",
    "- *Выявить изменение приоритизации гипотез при применении RICE вместо ICE;*\n",
    "4. Анализ A/B-теста\n",
    "- *Построить график кумулятивной выручки по группам. Сделать выводы и предположения.;*\n",
    "- *Построить график кумулятивного среднего чека по группам. Сделать выводы и предположения.;*\n",
    "- *Построить график относительного изменения кумулятивного среднего чека группы B к группе A.Сделать выводы и предположения.;*\n",
    "- *Построить график кумулятивной конверсии по группам. Сделать выводы и предположения.;*\n",
    "- *Построить график относительного изменения кумулятивной конверсии группы B к группе A. Сделать выводы и предположения.;*\n",
    "- *Построить точечный график количества заказов по пользователям. Сделать выводы и предположения.;*\n",
    "- *Посчитать 95-й и 99-й перцентили количества заказов на пользователя. Выбрать границу для определения аномальных пользователей;*\n",
    "- *Построить точечный график стоимостей заказов. Сделать выводы и предположения.;*\n",
    "- *Посчитать 95-й и 99-й перцентили стоимости заказов. Выбрать границу для определения аномальных заказов.;*\n",
    "- *Посчитать статистическую значимость различий в конверсии между группами по «сырым» данным. Сделать выводы и предположения.;*\n",
    "- *Посчитать статистическую значимость различий в среднем чеке заказа между группами по «сырым» данным. Сделать выводы и предположения.;*\n",
    "- *Посчитать статистическую значимость различий в конверсии между группами по «очищенным» данным. Сделать выводы и предположения.;*\n",
    "- *Посчитать статистическую значимость различий в среднем чеке заказа между группами по «очищенным» данным. Сделать выводы и предположения.;*\n",
    "- *Принять решение по результатам теста;*\n",
    "_____"
   ]
  },
  {
   "cell_type": "markdown",
   "metadata": {},
   "source": [
    "**Исходные данные**"
   ]
  },
  {
   "cell_type": "markdown",
   "metadata": {},
   "source": [
    "1) *Файл /datasets/hypothesis.csv*\n",
    "\n",
    "- Hypothesis — краткое описание гипотезы;\n",
    "\n",
    "- Reach — охват пользователей по 10-балльной шкале;\n",
    "\n",
    "- Impact — влияние на пользователей по 10-балльной шкале;\n",
    "\n",
    "- Confidence — уверенность в гипотезе по 10-балльной шкале;\n",
    "\n",
    "- Efforts — затраты ресурсов на проверку гипотезы по 10-балльной шкале. Чем больше значение Efforts, тем дороже проверка гипотезы.\n",
    "\n",
    "2) *Файл /datasets/orders.csv*\n",
    "\n",
    "- transactionId — идентификатор заказа;\n",
    "\n",
    "- visitorId — идентификатор пользователя, совершившего заказ;\n",
    "\n",
    "- date — дата, когда был совершён заказ;\n",
    "\n",
    "- revenue — выручка заказа;\n",
    "\n",
    "- group — группа A/B-теста, в которую попал заказ.\n",
    "\n",
    "3) *Файл /datasets/visitors.csv*\n",
    "\n",
    "- date — дата;\n",
    "\n",
    "- group — группа A/B-теста;\n",
    "\n",
    "- visitors — количество пользователей в указанную дату в указанной группе A/B-теста"
   ]
  },
  {
   "cell_type": "markdown",
   "metadata": {},
   "source": [
    "**План проекта:**\n",
    "_____\n",
    "<a href='#section1'>1. Загрузка данных и подготовка к анализу</a>\n",
    "\n",
    "<a href='#section2'>2. Приоритезация гипотез</a>\n",
    "\n",
    "<a href='#section3'>2.1. Фреймворк ICE</a>\n",
    "\n",
    "<a href='#section4'>2.2. Фреймворк RICE</a>\n",
    "\n",
    "<a href='#section5'>2.3. Выявление изменений в приоритизации гипотез</a>\n",
    "\n",
    "<a href='#section6'>3. Анализ А/В теста</a>\n",
    "\n",
    "<a href='#section7'>3.1. Кумулятивная выручка по группам</a>\n",
    "\n",
    "<a href='#section8'>3.2. Кумулятивный средний чек по группам</a>\n",
    "\n",
    "<a href='#section9'>3.3. Относительное изменение кумулятивного среднего чека группы B к группе A</a>\n",
    "\n",
    "<a href='#section10'>3.4. Кумулятивная конверсия по группам</a>\n",
    "\n",
    "<a href='#section11'>3.5. Относительное изменение кумулятивной конверсии группы B к группе A</a>\n",
    "\n",
    "<a href='#section12'>3.6. Количество заказов по пользователям</a>\n",
    "\n",
    "<a href='#section13'>3.7. Граница для определения аномальных пользователей</a>\n",
    "\n",
    "<a href='#section14'>3.8. Стоимость заказов</a>\n",
    "\n",
    "<a href='#section15'>3.9. Границу для определения аномальных заказов</a>\n",
    "\n",
    "<a href='#section16'>3.10. Статистическая значимость различий в конверсии между группами по «сырым» данным</a>\n",
    "\n",
    "<a href='#section17'>3.11. Статистическая значимость различий в среднем чеке заказа между группами по «сырым» данным</a>\n",
    "\n",
    "<a href='#section18'>3.12. Статистическая значимость различий в конверсии между группами по «очищенным» данным</a>\n",
    "\n",
    "<a href='#section19'>3.13. Статистическая значимость различий в среднем чеке заказа между группами по «очищенным» данным</a>\n",
    "\n",
    "<a href='#section20'>3.14. Выводы по результатам теста</a>\n",
    "_____"
   ]
  },
  {
   "cell_type": "markdown",
   "metadata": {},
   "source": [
    "<a id='section1'></a>\n",
    "## 1. Загрузка данных и подготовка к анализу"
   ]
  },
  {
   "cell_type": "code",
   "execution_count": 1,
   "metadata": {},
   "outputs": [],
   "source": [
    "# импорт библиотек\n",
    "import pandas as pd\n",
    "import datetime as dt\n",
    "import numpy as np\n",
    "import matplotlib.pyplot as plt\n",
    "from pandas.plotting import register_matplotlib_converters\n",
    "import warnings\n",
    "import scipy.stats as stats\n",
    "from datetime import datetime, timedelta\n",
    "# конвертеры, которые позволяют использовать типы pandas в matplotlib  \n",
    "register_matplotlib_converters()\n",
    "\n"
   ]
  },
  {
   "cell_type": "code",
   "execution_count": 2,
   "metadata": {},
   "outputs": [
    {
     "data": {
      "text/html": [
       "<div>\n",
       "<style scoped>\n",
       "    .dataframe tbody tr th:only-of-type {\n",
       "        vertical-align: middle;\n",
       "    }\n",
       "\n",
       "    .dataframe tbody tr th {\n",
       "        vertical-align: top;\n",
       "    }\n",
       "\n",
       "    .dataframe thead th {\n",
       "        text-align: right;\n",
       "    }\n",
       "</style>\n",
       "<table border=\"1\" class=\"dataframe\">\n",
       "  <thead>\n",
       "    <tr style=\"text-align: right;\">\n",
       "      <th></th>\n",
       "      <th>Hypothesis</th>\n",
       "      <th>Reach</th>\n",
       "      <th>Impact</th>\n",
       "      <th>Confidence</th>\n",
       "      <th>Efforts</th>\n",
       "    </tr>\n",
       "  </thead>\n",
       "  <tbody>\n",
       "    <tr>\n",
       "      <th>0</th>\n",
       "      <td>Добавить два новых канала привлечения трафика, что позволит привлекать на 30% больше пользователей</td>\n",
       "      <td>3</td>\n",
       "      <td>10</td>\n",
       "      <td>8</td>\n",
       "      <td>6</td>\n",
       "    </tr>\n",
       "    <tr>\n",
       "      <th>1</th>\n",
       "      <td>Запустить собственную службу доставки, что сократит срок доставки заказов</td>\n",
       "      <td>2</td>\n",
       "      <td>5</td>\n",
       "      <td>4</td>\n",
       "      <td>10</td>\n",
       "    </tr>\n",
       "    <tr>\n",
       "      <th>2</th>\n",
       "      <td>Добавить блоки рекомендаций товаров на сайт интернет магазина, чтобы повысить конверсию и средний чек заказа</td>\n",
       "      <td>8</td>\n",
       "      <td>3</td>\n",
       "      <td>7</td>\n",
       "      <td>3</td>\n",
       "    </tr>\n",
       "    <tr>\n",
       "      <th>3</th>\n",
       "      <td>Изменить структура категорий, что увеличит конверсию, т.к. пользователи быстрее найдут нужный товар</td>\n",
       "      <td>8</td>\n",
       "      <td>3</td>\n",
       "      <td>3</td>\n",
       "      <td>8</td>\n",
       "    </tr>\n",
       "    <tr>\n",
       "      <th>4</th>\n",
       "      <td>Изменить цвет фона главной страницы, чтобы увеличить вовлеченность пользователей</td>\n",
       "      <td>3</td>\n",
       "      <td>1</td>\n",
       "      <td>1</td>\n",
       "      <td>1</td>\n",
       "    </tr>\n",
       "    <tr>\n",
       "      <th>5</th>\n",
       "      <td>Добавить страницу отзывов клиентов о магазине, что позволит увеличить количество заказов</td>\n",
       "      <td>3</td>\n",
       "      <td>2</td>\n",
       "      <td>2</td>\n",
       "      <td>3</td>\n",
       "    </tr>\n",
       "    <tr>\n",
       "      <th>6</th>\n",
       "      <td>Показать на главной странице баннеры с актуальными акциями и распродажами, чтобы увеличить конверсию</td>\n",
       "      <td>5</td>\n",
       "      <td>3</td>\n",
       "      <td>8</td>\n",
       "      <td>3</td>\n",
       "    </tr>\n",
       "    <tr>\n",
       "      <th>7</th>\n",
       "      <td>Добавить форму подписки на все основные страницы, чтобы собрать базу клиентов для email-рассылок</td>\n",
       "      <td>10</td>\n",
       "      <td>7</td>\n",
       "      <td>8</td>\n",
       "      <td>5</td>\n",
       "    </tr>\n",
       "    <tr>\n",
       "      <th>8</th>\n",
       "      <td>Запустить акцию, дающую скидку на товар в день рождения</td>\n",
       "      <td>1</td>\n",
       "      <td>9</td>\n",
       "      <td>9</td>\n",
       "      <td>5</td>\n",
       "    </tr>\n",
       "  </tbody>\n",
       "</table>\n",
       "</div>"
      ],
      "text/plain": [
       "                                                                                                     Hypothesis  \\\n",
       "0            Добавить два новых канала привлечения трафика, что позволит привлекать на 30% больше пользователей   \n",
       "1                                     Запустить собственную службу доставки, что сократит срок доставки заказов   \n",
       "2  Добавить блоки рекомендаций товаров на сайт интернет магазина, чтобы повысить конверсию и средний чек заказа   \n",
       "3           Изменить структура категорий, что увеличит конверсию, т.к. пользователи быстрее найдут нужный товар   \n",
       "4                              Изменить цвет фона главной страницы, чтобы увеличить вовлеченность пользователей   \n",
       "5                      Добавить страницу отзывов клиентов о магазине, что позволит увеличить количество заказов   \n",
       "6          Показать на главной странице баннеры с актуальными акциями и распродажами, чтобы увеличить конверсию   \n",
       "7              Добавить форму подписки на все основные страницы, чтобы собрать базу клиентов для email-рассылок   \n",
       "8                                                       Запустить акцию, дающую скидку на товар в день рождения   \n",
       "\n",
       "   Reach  Impact  Confidence  Efforts  \n",
       "0      3      10           8        6  \n",
       "1      2       5           4       10  \n",
       "2      8       3           7        3  \n",
       "3      8       3           3        8  \n",
       "4      3       1           1        1  \n",
       "5      3       2           2        3  \n",
       "6      5       3           8        3  \n",
       "7     10       7           8        5  \n",
       "8      1       9           9        5  "
      ]
     },
     "metadata": {},
     "output_type": "display_data"
    },
    {
     "data": {
      "text/html": [
       "<div>\n",
       "<style scoped>\n",
       "    .dataframe tbody tr th:only-of-type {\n",
       "        vertical-align: middle;\n",
       "    }\n",
       "\n",
       "    .dataframe tbody tr th {\n",
       "        vertical-align: top;\n",
       "    }\n",
       "\n",
       "    .dataframe thead th {\n",
       "        text-align: right;\n",
       "    }\n",
       "</style>\n",
       "<table border=\"1\" class=\"dataframe\">\n",
       "  <thead>\n",
       "    <tr style=\"text-align: right;\">\n",
       "      <th></th>\n",
       "      <th>transactionId</th>\n",
       "      <th>visitorId</th>\n",
       "      <th>date</th>\n",
       "      <th>revenue</th>\n",
       "      <th>group</th>\n",
       "    </tr>\n",
       "  </thead>\n",
       "  <tbody>\n",
       "    <tr>\n",
       "      <th>0</th>\n",
       "      <td>3667963787</td>\n",
       "      <td>3312258926</td>\n",
       "      <td>2019-08-15</td>\n",
       "      <td>1650</td>\n",
       "      <td>B</td>\n",
       "    </tr>\n",
       "    <tr>\n",
       "      <th>1</th>\n",
       "      <td>2804400009</td>\n",
       "      <td>3642806036</td>\n",
       "      <td>2019-08-15</td>\n",
       "      <td>730</td>\n",
       "      <td>B</td>\n",
       "    </tr>\n",
       "    <tr>\n",
       "      <th>2</th>\n",
       "      <td>2961555356</td>\n",
       "      <td>4069496402</td>\n",
       "      <td>2019-08-15</td>\n",
       "      <td>400</td>\n",
       "      <td>A</td>\n",
       "    </tr>\n",
       "    <tr>\n",
       "      <th>3</th>\n",
       "      <td>3797467345</td>\n",
       "      <td>1196621759</td>\n",
       "      <td>2019-08-15</td>\n",
       "      <td>9759</td>\n",
       "      <td>B</td>\n",
       "    </tr>\n",
       "    <tr>\n",
       "      <th>4</th>\n",
       "      <td>2282983706</td>\n",
       "      <td>2322279887</td>\n",
       "      <td>2019-08-15</td>\n",
       "      <td>2308</td>\n",
       "      <td>B</td>\n",
       "    </tr>\n",
       "  </tbody>\n",
       "</table>\n",
       "</div>"
      ],
      "text/plain": [
       "   transactionId   visitorId        date  revenue group\n",
       "0     3667963787  3312258926  2019-08-15     1650     B\n",
       "1     2804400009  3642806036  2019-08-15      730     B\n",
       "2     2961555356  4069496402  2019-08-15      400     A\n",
       "3     3797467345  1196621759  2019-08-15     9759     B\n",
       "4     2282983706  2322279887  2019-08-15     2308     B"
      ]
     },
     "metadata": {},
     "output_type": "display_data"
    },
    {
     "data": {
      "text/html": [
       "<div>\n",
       "<style scoped>\n",
       "    .dataframe tbody tr th:only-of-type {\n",
       "        vertical-align: middle;\n",
       "    }\n",
       "\n",
       "    .dataframe tbody tr th {\n",
       "        vertical-align: top;\n",
       "    }\n",
       "\n",
       "    .dataframe thead th {\n",
       "        text-align: right;\n",
       "    }\n",
       "</style>\n",
       "<table border=\"1\" class=\"dataframe\">\n",
       "  <thead>\n",
       "    <tr style=\"text-align: right;\">\n",
       "      <th></th>\n",
       "      <th>date</th>\n",
       "      <th>group</th>\n",
       "      <th>visitors</th>\n",
       "    </tr>\n",
       "  </thead>\n",
       "  <tbody>\n",
       "    <tr>\n",
       "      <th>0</th>\n",
       "      <td>2019-08-01</td>\n",
       "      <td>A</td>\n",
       "      <td>719</td>\n",
       "    </tr>\n",
       "    <tr>\n",
       "      <th>1</th>\n",
       "      <td>2019-08-02</td>\n",
       "      <td>A</td>\n",
       "      <td>619</td>\n",
       "    </tr>\n",
       "    <tr>\n",
       "      <th>2</th>\n",
       "      <td>2019-08-03</td>\n",
       "      <td>A</td>\n",
       "      <td>507</td>\n",
       "    </tr>\n",
       "    <tr>\n",
       "      <th>3</th>\n",
       "      <td>2019-08-04</td>\n",
       "      <td>A</td>\n",
       "      <td>717</td>\n",
       "    </tr>\n",
       "    <tr>\n",
       "      <th>4</th>\n",
       "      <td>2019-08-05</td>\n",
       "      <td>A</td>\n",
       "      <td>756</td>\n",
       "    </tr>\n",
       "  </tbody>\n",
       "</table>\n",
       "</div>"
      ],
      "text/plain": [
       "         date group  visitors\n",
       "0  2019-08-01     A       719\n",
       "1  2019-08-02     A       619\n",
       "2  2019-08-03     A       507\n",
       "3  2019-08-04     A       717\n",
       "4  2019-08-05     A       756"
      ]
     },
     "metadata": {},
     "output_type": "display_data"
    }
   ],
   "source": [
    "# чтение файлов с данными и запись в соответствующие переменные\n",
    "hypothesis, orders, visitors = (\n",
    "pd.read_csv('/datasets/hypothesis.csv'), \n",
    "pd.read_csv('/datasets/orders.csv'),\n",
    "pd.read_csv('/datasets/visitors.csv')\n",
    ")\n",
    "\n",
    "pd.set_option('display.max_colwidth', 1000)\n",
    "# выведем на экран датафреймы, чтобы познакомиться  сданными\n",
    "display(hypothesis, orders.head(5), visitors.head(5))"
   ]
  },
  {
   "cell_type": "code",
   "execution_count": 3,
   "metadata": {},
   "outputs": [
    {
     "name": "stdout",
     "output_type": "stream",
     "text": [
      "<class 'pandas.core.frame.DataFrame'>\n",
      "RangeIndex: 9 entries, 0 to 8\n",
      "Data columns (total 5 columns):\n",
      " #   Column      Non-Null Count  Dtype \n",
      "---  ------      --------------  ----- \n",
      " 0   Hypothesis  9 non-null      object\n",
      " 1   Reach       9 non-null      int64 \n",
      " 2   Impact      9 non-null      int64 \n",
      " 3   Confidence  9 non-null      int64 \n",
      " 4   Efforts     9 non-null      int64 \n",
      "dtypes: int64(4), object(1)\n",
      "memory usage: 488.0+ bytes\n",
      "<class 'pandas.core.frame.DataFrame'>\n",
      "RangeIndex: 1197 entries, 0 to 1196\n",
      "Data columns (total 5 columns):\n",
      " #   Column         Non-Null Count  Dtype \n",
      "---  ------         --------------  ----- \n",
      " 0   transactionId  1197 non-null   int64 \n",
      " 1   visitorId      1197 non-null   int64 \n",
      " 2   date           1197 non-null   object\n",
      " 3   revenue        1197 non-null   int64 \n",
      " 4   group          1197 non-null   object\n",
      "dtypes: int64(3), object(2)\n",
      "memory usage: 46.9+ KB\n",
      "<class 'pandas.core.frame.DataFrame'>\n",
      "RangeIndex: 62 entries, 0 to 61\n",
      "Data columns (total 3 columns):\n",
      " #   Column    Non-Null Count  Dtype \n",
      "---  ------    --------------  ----- \n",
      " 0   date      62 non-null     object\n",
      " 1   group     62 non-null     object\n",
      " 2   visitors  62 non-null     int64 \n",
      "dtypes: int64(1), object(2)\n",
      "memory usage: 1.6+ KB\n"
     ]
    },
    {
     "data": {
      "text/plain": [
       "[None, None, None]"
      ]
     },
     "execution_count": 3,
     "metadata": {},
     "output_type": "execute_result"
    }
   ],
   "source": [
    "# выведем общую информацию о данных, чтобы убедиться, что тип данных во всех колонках соотвествующий\n",
    "list_1 = [hypothesis, orders, visitors]\n",
    "[i.info() for i in list_1]"
   ]
  },
  {
   "cell_type": "markdown",
   "metadata": {},
   "source": [
    "Видно, что тип данных в столбцах с датами в каждом из фреймов \"object\" - потребуется преобразование в datetime.\n",
    "\n",
    "Также переименуем названия столбцов - приведем к нижнему регистру."
   ]
  },
  {
   "cell_type": "code",
   "execution_count": 4,
   "metadata": {},
   "outputs": [],
   "source": [
    "# приведем названия столбцов к нижнему регистру\n",
    "for j in list_1:\n",
    "    j.columns = j.columns.str.lower()\n"
   ]
  },
  {
   "cell_type": "code",
   "execution_count": 5,
   "metadata": {},
   "outputs": [],
   "source": [
    "# преобразование данных о времени\n",
    "orders['date'] = pd.to_datetime(orders['date'])\n",
    "visitors['date'] = pd.to_datetime(visitors['date'])"
   ]
  },
  {
   "cell_type": "markdown",
   "metadata": {},
   "source": [
    "Проверим наличие пропусков и дубликатов"
   ]
  },
  {
   "cell_type": "code",
   "execution_count": 6,
   "metadata": {},
   "outputs": [
    {
     "data": {
      "text/plain": [
       "[hypothesis    0\n",
       " reach         0\n",
       " impact        0\n",
       " confidence    0\n",
       " efforts       0\n",
       " dtype: int64,\n",
       " transactionid    0\n",
       " visitorid        0\n",
       " date             0\n",
       " revenue          0\n",
       " group            0\n",
       " dtype: int64,\n",
       " date        0\n",
       " group       0\n",
       " visitors    0\n",
       " dtype: int64]"
      ]
     },
     "execution_count": 6,
     "metadata": {},
     "output_type": "execute_result"
    }
   ],
   "source": [
    "# проверка пропусков методом isna()\n",
    "[i.isna().sum() for i in list_1]"
   ]
  },
  {
   "cell_type": "code",
   "execution_count": 7,
   "metadata": {},
   "outputs": [
    {
     "data": {
      "text/plain": [
       "[0, 0, 0]"
      ]
     },
     "execution_count": 7,
     "metadata": {},
     "output_type": "execute_result"
    }
   ],
   "source": [
    "# подсчет дубликатов\n",
    "[i.duplicated().sum() for i in list_1]"
   ]
  },
  {
   "cell_type": "markdown",
   "metadata": {},
   "source": [
    "Названия столбцов были приведены к нижнему регистру, даты переведы в формат datetime. Пропусков и дубликатов в данных не обнаружено.\n",
    "Таким образом, данные готовы к анализу."
   ]
  },
  {
   "cell_type": "markdown",
   "metadata": {},
   "source": [
    "<a id='section2'></a>\n",
    "## 2. Приоритизация гипотез"
   ]
  },
  {
   "cell_type": "markdown",
   "metadata": {},
   "source": [
    "В файле /datasets/hypothesis.csv 9 гипотез по увеличению выручки интернет-магазина с указанными параметрами Reach, Impact, Confidence, Effort.\n",
    "<a id='section3'></a>\n",
    "**2.1. Применим фреймворк ICE для приоритизации гипотез**\n",
    "\n"
   ]
  },
  {
   "cell_type": "code",
   "execution_count": 8,
   "metadata": {},
   "outputs": [
    {
     "data": {
      "text/html": [
       "<div>\n",
       "<style scoped>\n",
       "    .dataframe tbody tr th:only-of-type {\n",
       "        vertical-align: middle;\n",
       "    }\n",
       "\n",
       "    .dataframe tbody tr th {\n",
       "        vertical-align: top;\n",
       "    }\n",
       "\n",
       "    .dataframe thead th {\n",
       "        text-align: right;\n",
       "    }\n",
       "</style>\n",
       "<table border=\"1\" class=\"dataframe\">\n",
       "  <thead>\n",
       "    <tr style=\"text-align: right;\">\n",
       "      <th></th>\n",
       "      <th>hypothesis</th>\n",
       "      <th>ICE</th>\n",
       "    </tr>\n",
       "  </thead>\n",
       "  <tbody>\n",
       "    <tr>\n",
       "      <th>8</th>\n",
       "      <td>Запустить акцию, дающую скидку на товар в день рождения</td>\n",
       "      <td>16.200000</td>\n",
       "    </tr>\n",
       "    <tr>\n",
       "      <th>0</th>\n",
       "      <td>Добавить два новых канала привлечения трафика, что позволит привлекать на 30% больше пользователей</td>\n",
       "      <td>13.333333</td>\n",
       "    </tr>\n",
       "    <tr>\n",
       "      <th>7</th>\n",
       "      <td>Добавить форму подписки на все основные страницы, чтобы собрать базу клиентов для email-рассылок</td>\n",
       "      <td>11.200000</td>\n",
       "    </tr>\n",
       "    <tr>\n",
       "      <th>6</th>\n",
       "      <td>Показать на главной странице баннеры с актуальными акциями и распродажами, чтобы увеличить конверсию</td>\n",
       "      <td>8.000000</td>\n",
       "    </tr>\n",
       "    <tr>\n",
       "      <th>2</th>\n",
       "      <td>Добавить блоки рекомендаций товаров на сайт интернет магазина, чтобы повысить конверсию и средний чек заказа</td>\n",
       "      <td>7.000000</td>\n",
       "    </tr>\n",
       "    <tr>\n",
       "      <th>1</th>\n",
       "      <td>Запустить собственную службу доставки, что сократит срок доставки заказов</td>\n",
       "      <td>2.000000</td>\n",
       "    </tr>\n",
       "    <tr>\n",
       "      <th>5</th>\n",
       "      <td>Добавить страницу отзывов клиентов о магазине, что позволит увеличить количество заказов</td>\n",
       "      <td>1.333333</td>\n",
       "    </tr>\n",
       "    <tr>\n",
       "      <th>3</th>\n",
       "      <td>Изменить структура категорий, что увеличит конверсию, т.к. пользователи быстрее найдут нужный товар</td>\n",
       "      <td>1.125000</td>\n",
       "    </tr>\n",
       "    <tr>\n",
       "      <th>4</th>\n",
       "      <td>Изменить цвет фона главной страницы, чтобы увеличить вовлеченность пользователей</td>\n",
       "      <td>1.000000</td>\n",
       "    </tr>\n",
       "  </tbody>\n",
       "</table>\n",
       "</div>"
      ],
      "text/plain": [
       "                                                                                                     hypothesis  \\\n",
       "8                                                       Запустить акцию, дающую скидку на товар в день рождения   \n",
       "0            Добавить два новых канала привлечения трафика, что позволит привлекать на 30% больше пользователей   \n",
       "7              Добавить форму подписки на все основные страницы, чтобы собрать базу клиентов для email-рассылок   \n",
       "6          Показать на главной странице баннеры с актуальными акциями и распродажами, чтобы увеличить конверсию   \n",
       "2  Добавить блоки рекомендаций товаров на сайт интернет магазина, чтобы повысить конверсию и средний чек заказа   \n",
       "1                                     Запустить собственную службу доставки, что сократит срок доставки заказов   \n",
       "5                      Добавить страницу отзывов клиентов о магазине, что позволит увеличить количество заказов   \n",
       "3           Изменить структура категорий, что увеличит конверсию, т.к. пользователи быстрее найдут нужный товар   \n",
       "4                              Изменить цвет фона главной страницы, чтобы увеличить вовлеченность пользователей   \n",
       "\n",
       "         ICE  \n",
       "8  16.200000  \n",
       "0  13.333333  \n",
       "7  11.200000  \n",
       "6   8.000000  \n",
       "2   7.000000  \n",
       "1   2.000000  \n",
       "5   1.333333  \n",
       "3   1.125000  \n",
       "4   1.000000  "
      ]
     },
     "execution_count": 8,
     "metadata": {},
     "output_type": "execute_result"
    }
   ],
   "source": [
    "# посчитаем ice для гипотез\n",
    "hypothesis['ICE'] = (hypothesis['impact'] * hypothesis['confidence']) / hypothesis['efforts']\n",
    "\n",
    "# выведем на экран гипотезы, отсортированные по убыванию приоритета\n",
    "hypothesis.sort_values(by='ICE', ascending=False)[['hypothesis', 'ICE']]"
   ]
  },
  {
   "cell_type": "markdown",
   "metadata": {},
   "source": [
    "Пока гипотеза \"*Запустить акцию, дающую скидку на товар в день рождения*\" выглядит самой перспективной."
   ]
  },
  {
   "cell_type": "markdown",
   "metadata": {},
   "source": [
    "<a id='section4'></a>\n",
    "**2.2. Применим фреймворк RICE для приоритизации гипотез**"
   ]
  },
  {
   "cell_type": "code",
   "execution_count": 9,
   "metadata": {},
   "outputs": [
    {
     "data": {
      "text/html": [
       "<div>\n",
       "<style scoped>\n",
       "    .dataframe tbody tr th:only-of-type {\n",
       "        vertical-align: middle;\n",
       "    }\n",
       "\n",
       "    .dataframe tbody tr th {\n",
       "        vertical-align: top;\n",
       "    }\n",
       "\n",
       "    .dataframe thead th {\n",
       "        text-align: right;\n",
       "    }\n",
       "</style>\n",
       "<table border=\"1\" class=\"dataframe\">\n",
       "  <thead>\n",
       "    <tr style=\"text-align: right;\">\n",
       "      <th></th>\n",
       "      <th>hypothesis</th>\n",
       "      <th>RICE</th>\n",
       "    </tr>\n",
       "  </thead>\n",
       "  <tbody>\n",
       "    <tr>\n",
       "      <th>7</th>\n",
       "      <td>Добавить форму подписки на все основные страницы, чтобы собрать базу клиентов для email-рассылок</td>\n",
       "      <td>112.0</td>\n",
       "    </tr>\n",
       "    <tr>\n",
       "      <th>2</th>\n",
       "      <td>Добавить блоки рекомендаций товаров на сайт интернет магазина, чтобы повысить конверсию и средний чек заказа</td>\n",
       "      <td>56.0</td>\n",
       "    </tr>\n",
       "    <tr>\n",
       "      <th>0</th>\n",
       "      <td>Добавить два новых канала привлечения трафика, что позволит привлекать на 30% больше пользователей</td>\n",
       "      <td>40.0</td>\n",
       "    </tr>\n",
       "    <tr>\n",
       "      <th>6</th>\n",
       "      <td>Показать на главной странице баннеры с актуальными акциями и распродажами, чтобы увеличить конверсию</td>\n",
       "      <td>40.0</td>\n",
       "    </tr>\n",
       "    <tr>\n",
       "      <th>8</th>\n",
       "      <td>Запустить акцию, дающую скидку на товар в день рождения</td>\n",
       "      <td>16.2</td>\n",
       "    </tr>\n",
       "    <tr>\n",
       "      <th>3</th>\n",
       "      <td>Изменить структура категорий, что увеличит конверсию, т.к. пользователи быстрее найдут нужный товар</td>\n",
       "      <td>9.0</td>\n",
       "    </tr>\n",
       "    <tr>\n",
       "      <th>1</th>\n",
       "      <td>Запустить собственную службу доставки, что сократит срок доставки заказов</td>\n",
       "      <td>4.0</td>\n",
       "    </tr>\n",
       "    <tr>\n",
       "      <th>5</th>\n",
       "      <td>Добавить страницу отзывов клиентов о магазине, что позволит увеличить количество заказов</td>\n",
       "      <td>4.0</td>\n",
       "    </tr>\n",
       "    <tr>\n",
       "      <th>4</th>\n",
       "      <td>Изменить цвет фона главной страницы, чтобы увеличить вовлеченность пользователей</td>\n",
       "      <td>3.0</td>\n",
       "    </tr>\n",
       "  </tbody>\n",
       "</table>\n",
       "</div>"
      ],
      "text/plain": [
       "                                                                                                     hypothesis  \\\n",
       "7              Добавить форму подписки на все основные страницы, чтобы собрать базу клиентов для email-рассылок   \n",
       "2  Добавить блоки рекомендаций товаров на сайт интернет магазина, чтобы повысить конверсию и средний чек заказа   \n",
       "0            Добавить два новых канала привлечения трафика, что позволит привлекать на 30% больше пользователей   \n",
       "6          Показать на главной странице баннеры с актуальными акциями и распродажами, чтобы увеличить конверсию   \n",
       "8                                                       Запустить акцию, дающую скидку на товар в день рождения   \n",
       "3           Изменить структура категорий, что увеличит конверсию, т.к. пользователи быстрее найдут нужный товар   \n",
       "1                                     Запустить собственную службу доставки, что сократит срок доставки заказов   \n",
       "5                      Добавить страницу отзывов клиентов о магазине, что позволит увеличить количество заказов   \n",
       "4                              Изменить цвет фона главной страницы, чтобы увеличить вовлеченность пользователей   \n",
       "\n",
       "    RICE  \n",
       "7  112.0  \n",
       "2   56.0  \n",
       "0   40.0  \n",
       "6   40.0  \n",
       "8   16.2  \n",
       "3    9.0  \n",
       "1    4.0  \n",
       "5    4.0  \n",
       "4    3.0  "
      ]
     },
     "execution_count": 9,
     "metadata": {},
     "output_type": "execute_result"
    }
   ],
   "source": [
    "# посчитаем rice для гипотез\n",
    "hypothesis['RICE'] = (hypothesis['reach'] * hypothesis['impact'] * hypothesis['confidence']) / hypothesis['efforts']\n",
    "\n",
    "# выведем на экран гипотезы, отсортированные по убыванию приоритета\n",
    "hypothesis.sort_values(by='RICE', ascending=False)[['hypothesis', 'RICE']]"
   ]
  },
  {
   "cell_type": "markdown",
   "metadata": {},
   "source": [
    "<a id='section5'></a>\n",
    "**2.3. Выявление изменений в приоритизации гипотез**"
   ]
  },
  {
   "cell_type": "markdown",
   "metadata": {},
   "source": [
    "При применении фреймворка RICE приоритезация гипотез изменилась, теперь в приоритете гипотеза \"*Добавить форму подписки на все основные страницы, чтобы собрать базу клиентов для email-рассылок*\". Это связано с тем, что фреймворк RICE состоит из четырёх компонент, в отличие от ICE он учитывет еще и охват, т.е. скольких пользователей затронет изменение, которое мы хотим внести."
   ]
  },
  {
   "cell_type": "markdown",
   "metadata": {},
   "source": [
    "<a id='section6'></a>\n",
    "## 3. Анализ A/B-теста"
   ]
  },
  {
   "cell_type": "markdown",
   "metadata": {},
   "source": [
    "Был проведен A/B-тест и получены результаты, которые описаны в файлах /datasets/orders.csv и /datasets/visitors.csv.\n",
    "\n",
    "Перед анализом A/B-теста проверим корректность разбиения пользователей на группы:"
   ]
  },
  {
   "cell_type": "code",
   "execution_count": 10,
   "metadata": {},
   "outputs": [
    {
     "data": {
      "text/plain": [
       "array([   8300375,  199603092,  232979603,  237748145,  276558944,\n",
       "        351125977,  393266494,  457167155,  471551937,  477780734,\n",
       "        818047933,  963407295, 1230306981, 1294878855, 1316129916,\n",
       "       1333886533, 1404934699, 1602967004, 1614305549, 1648269707,\n",
       "       1668030113, 1738359350, 1801183820, 1959144690, 2038680547,\n",
       "       2044997962, 2378935119, 2458001652, 2579882178, 2587333274,\n",
       "       2600415354, 2654030115, 2686716486, 2712142231, 2716752286,\n",
       "       2780786433, 2927087541, 2949041841, 2954449915, 3062433592,\n",
       "       3202540741, 3234906277, 3656415546, 3717692402, 3766097110,\n",
       "       3803269165, 3891541246, 3941795274, 3951559397, 3957174400,\n",
       "       3963646447, 3972127743, 3984495233, 4069496402, 4120364173,\n",
       "       4186807279, 4256040402, 4266935830])"
      ]
     },
     "execution_count": 10,
     "metadata": {},
     "output_type": "execute_result"
    }
   ],
   "source": [
    "# передадим функции np.intersect1d 2 массива, она вернет те значения, которые встречаются в обоих массивах\n",
    "duplicate_visitor = np.intersect1d(orders.query('group == \"A\"')['visitorid'].unique(), orders.query('group == \"B\"')['visitorid'].unique())\n",
    "duplicate_visitor"
   ]
  },
  {
   "cell_type": "markdown",
   "metadata": {},
   "source": [
    "Мы обнаружили, пользователей, которые встречаются и в группе А и в группе В, посчитаем долю таких пользователей.\n"
   ]
  },
  {
   "cell_type": "code",
   "execution_count": 11,
   "metadata": {},
   "outputs": [
    {
     "data": {
      "text/plain": [
       "5.63"
      ]
     },
     "execution_count": 11,
     "metadata": {},
     "output_type": "execute_result"
    }
   ],
   "source": [
    "# посчитаем долю повторяющихся в обеих группах пользователей\n",
    "duplicate_visitor_ratio = (len(duplicate_visitor) / orders['visitorid'].nunique())*100\n",
    "round(duplicate_visitor_ratio,2)\n"
   ]
  },
  {
   "cell_type": "markdown",
   "metadata": {},
   "source": [
    "<a id='section7'></a>\n",
    "**3.1. Кумулятивная выручка по группам**\n",
    "\n",
    "Построим график кумулятивной выручки по группам."
   ]
  },
  {
   "cell_type": "code",
   "execution_count": 12,
   "metadata": {},
   "outputs": [],
   "source": [
    "# создаем массив уникальных пар значений дат и групп теста\n",
    "datesGroups  = orders[['date','group']].drop_duplicates() "
   ]
  },
  {
   "cell_type": "code",
   "execution_count": 13,
   "metadata": {},
   "outputs": [
    {
     "data": {
      "text/html": [
       "<div>\n",
       "<style scoped>\n",
       "    .dataframe tbody tr th:only-of-type {\n",
       "        vertical-align: middle;\n",
       "    }\n",
       "\n",
       "    .dataframe tbody tr th {\n",
       "        vertical-align: top;\n",
       "    }\n",
       "\n",
       "    .dataframe thead th {\n",
       "        text-align: right;\n",
       "    }\n",
       "</style>\n",
       "<table border=\"1\" class=\"dataframe\">\n",
       "  <thead>\n",
       "    <tr style=\"text-align: right;\">\n",
       "      <th></th>\n",
       "      <th>date</th>\n",
       "      <th>group</th>\n",
       "      <th>orders</th>\n",
       "      <th>buyers</th>\n",
       "      <th>revenue</th>\n",
       "      <th>visitors</th>\n",
       "    </tr>\n",
       "  </thead>\n",
       "  <tbody>\n",
       "    <tr>\n",
       "      <th>0</th>\n",
       "      <td>2019-08-01</td>\n",
       "      <td>A</td>\n",
       "      <td>24</td>\n",
       "      <td>20</td>\n",
       "      <td>148579</td>\n",
       "      <td>719</td>\n",
       "    </tr>\n",
       "    <tr>\n",
       "      <th>1</th>\n",
       "      <td>2019-08-01</td>\n",
       "      <td>B</td>\n",
       "      <td>21</td>\n",
       "      <td>20</td>\n",
       "      <td>101217</td>\n",
       "      <td>713</td>\n",
       "    </tr>\n",
       "    <tr>\n",
       "      <th>2</th>\n",
       "      <td>2019-08-02</td>\n",
       "      <td>A</td>\n",
       "      <td>44</td>\n",
       "      <td>38</td>\n",
       "      <td>242401</td>\n",
       "      <td>1338</td>\n",
       "    </tr>\n",
       "    <tr>\n",
       "      <th>3</th>\n",
       "      <td>2019-08-02</td>\n",
       "      <td>B</td>\n",
       "      <td>45</td>\n",
       "      <td>43</td>\n",
       "      <td>266748</td>\n",
       "      <td>1294</td>\n",
       "    </tr>\n",
       "    <tr>\n",
       "      <th>4</th>\n",
       "      <td>2019-08-03</td>\n",
       "      <td>A</td>\n",
       "      <td>68</td>\n",
       "      <td>62</td>\n",
       "      <td>354874</td>\n",
       "      <td>1845</td>\n",
       "    </tr>\n",
       "  </tbody>\n",
       "</table>\n",
       "</div>"
      ],
      "text/plain": [
       "        date group  orders  buyers  revenue  visitors\n",
       "0 2019-08-01     A      24      20   148579       719\n",
       "1 2019-08-01     B      21      20   101217       713\n",
       "2 2019-08-02     A      44      38   242401      1338\n",
       "3 2019-08-02     B      45      43   266748      1294\n",
       "4 2019-08-03     A      68      62   354874      1845"
      ]
     },
     "execution_count": 13,
     "metadata": {},
     "output_type": "execute_result"
    }
   ],
   "source": [
    "# cоберём агрегированные кумулятивные по дням данные о заказах\n",
    "ordersAggregated = datesGroups.apply(\n",
    "    lambda x: orders[\n",
    "        np.logical_and(\n",
    "            orders['date'] <= x['date'], orders['group'] == x['group']\n",
    "        )\n",
    "    ].agg(\n",
    "        {\n",
    "            'date': 'max',\n",
    "            'group': 'max',\n",
    "            'transactionid': pd.Series.nunique,\n",
    "            'visitorid': pd.Series.nunique,\n",
    "            'revenue': 'sum',\n",
    "        }\n",
    "    ),\n",
    "    axis=1,\n",
    ").sort_values(by=['date', 'group'])\n",
    "\n",
    "# получим агрегированные кумулятивные по дням данные о посетителях интернет-магазина:\n",
    "visitorsAggregated = datesGroups.apply(\n",
    "    lambda x: visitors[np.logical_and(visitors['date'] <= x['date'], visitors['group'] == x['group'])].agg({\n",
    "'date' : 'max',\n",
    "'group' : 'max',\n",
    "'visitors' : 'sum'}), axis=1).sort_values(by=['date','group']) \n",
    "\n",
    "# объединяем кумулятивные данные в одной таблице и присваиваем ее столбцам понятные названия\n",
    "cumulativeData = ordersAggregated.merge(visitorsAggregated, left_on=['date', 'group'], right_on=['date', 'group'])\n",
    "cumulativeData.columns = ['date', 'group', 'orders', 'buyers', 'revenue', 'visitors']\n",
    "cumulativeData.head()"
   ]
  },
  {
   "cell_type": "markdown",
   "metadata": {},
   "source": [
    "Построим графики кумулятивной выручки по дням и группам A/B-тестирования:"
   ]
  },
  {
   "cell_type": "code",
   "execution_count": 14,
   "metadata": {},
   "outputs": [
    {
     "data": {
      "image/png": "[encoded data removed]",
      "text/plain": [
       "<Figure size 1080x360 with 1 Axes>"
      ]
     },
     "metadata": {
      "needs_background": "light"
     },
     "output_type": "display_data"
    }
   ],
   "source": [
    "# датафрейм с кумулятивным количеством заказов и кумулятивной выручкой по дням в группе А\n",
    "cumulativeRevenueA = cumulativeData[cumulativeData['group']=='A'][['date','revenue', 'orders']]\n",
    "\n",
    "# датафрейм с кумулятивным количеством заказов и кумулятивной выручкой по дням в группе B\n",
    "cumulativeRevenueB = cumulativeData[cumulativeData['group']=='B'][['date','revenue', 'orders']]\n",
    "\n",
    "plt.figure(figsize=(15,5))\n",
    "# Строим график выручки группы А\n",
    "plt.plot(cumulativeRevenueA['date'], cumulativeRevenueA['revenue'], label='A')\n",
    "\n",
    "# Строим график выручки группы B\n",
    "plt.plot(cumulativeRevenueB['date'], cumulativeRevenueB['revenue'], label='B')\n",
    "plt.title('График куммулятивной выручки по группам')\n",
    "plt.xlabel('date')\n",
    "plt.ylabel('revenue')\n",
    "plt.grid()\n",
    "plt.legend(); "
   ]
  },
  {
   "cell_type": "markdown",
   "metadata": {},
   "source": [
    "Выручка в обоих группах равномерно увеличивается, но группа В все же лидирует, выручка в этой группе практически на протяжении всего теста выше."
   ]
  },
  {
   "cell_type": "markdown",
   "metadata": {},
   "source": [
    "<a id='section8'></a>\n",
    "**3.2. Кумулятивный средний чек по группам.**\n",
    "\n",
    "Построим график кумулятивного среднего чека по группам."
   ]
  },
  {
   "cell_type": "markdown",
   "metadata": {},
   "source": [
    "Чтобы построить графики среднего чека по группам — разделим кумулятивную выручку на кумулятивное число заказов:"
   ]
  },
  {
   "cell_type": "code",
   "execution_count": 15,
   "metadata": {},
   "outputs": [
    {
     "data": {
      "image/png": "[encoded data removed]",
      "text/plain": [
       "<Figure size 1080x360 with 1 Axes>"
      ]
     },
     "metadata": {
      "needs_background": "light"
     },
     "output_type": "display_data"
    }
   ],
   "source": [
    "plt.figure(figsize=(15,5))\n",
    "plt.plot(cumulativeRevenueA['date'], cumulativeRevenueA['revenue']/cumulativeRevenueA['orders'], label='A')\n",
    "plt.plot(cumulativeRevenueB['date'], cumulativeRevenueB['revenue']/cumulativeRevenueB['orders'], label='B')\n",
    "plt.title('График кумулятивного среднего чека по группам')\n",
    "plt.xlabel('date')\n",
    "plt.ylabel('avg_revenue')\n",
    "plt.grid()\n",
    "plt.legend(); "
   ]
  },
  {
   "cell_type": "markdown",
   "metadata": {},
   "source": [
    "Среедний чек в группе В также выше чем в группе А, а в середине теста наблюдается резкий скачок и значения в группе В уже значительно превышают значения в группе А. Возможно, в группу В попали крупные заказы (резкий всплеск на графике). "
   ]
  },
  {
   "cell_type": "markdown",
   "metadata": {},
   "source": [
    "<a id='section9'></a>\n",
    "**3.3. Относительное изменение кумулятивного среднего чека группы B к группе A.**\n",
    "\n",
    "Построим график относительного изменения кумулятивного среднего чека группы B к группе A.\n"
   ]
  },
  {
   "cell_type": "code",
   "execution_count": 16,
   "metadata": {},
   "outputs": [
    {
     "data": {
      "image/png": "[encoded data removed]",
      "text/plain": [
       "<Figure size 1080x360 with 1 Axes>"
      ]
     },
     "metadata": {
      "needs_background": "light"
     },
     "output_type": "display_data"
    }
   ],
   "source": [
    "# собираем данные в одном датафрейме\n",
    "mergedCumulativeRevenue = cumulativeRevenueA.merge(cumulativeRevenueB, left_on='date', right_on='date', how='left', suffixes=['A', 'B'])\n",
    "\n",
    "# cтроим отношение средних чеков\n",
    "plt.figure(figsize=(15,5))\n",
    "plt.plot(mergedCumulativeRevenue['date'], (mergedCumulativeRevenue['revenueB']/mergedCumulativeRevenue['ordersB'])/(mergedCumulativeRevenue['revenueA']/mergedCumulativeRevenue['ordersA'])-1)\n",
    "plt.title('График относительного изменения кумулятивного среднего чека группы B к группе A')\n",
    "plt.grid()\n",
    "# добавляем ось X\n",
    "plt.axhline(y=0, color='black', linestyle='--'); "
   ]
  },
  {
   "cell_type": "markdown",
   "metadata": {},
   "source": [
    "В нескольких точках можно наблюдать значительные скачки показателя прироста среднего чека по группе В по сравнению с группой А, похоже что в данных есть какие-то выбросы и крупные заказы."
   ]
  },
  {
   "cell_type": "markdown",
   "metadata": {},
   "source": [
    "<a id='section10'></a>\n",
    "**3.4. Кумулятивная конверсия по группам.**\n",
    "\n",
    "Построим график кумулятивной конверсии по группам."
   ]
  },
  {
   "cell_type": "code",
   "execution_count": 17,
   "metadata": {},
   "outputs": [
    {
     "data": {
      "image/png": "[encoded data removed]",
      "text/plain": [
       "<Figure size 1080x360 with 1 Axes>"
      ]
     },
     "metadata": {
      "needs_background": "light"
     },
     "output_type": "display_data"
    }
   ],
   "source": [
    "# считаем кумулятивную конверсию\n",
    "cumulativeData['conversion'] = cumulativeData['orders']/cumulativeData['visitors']\n",
    "\n",
    "# отделяем данные по группе A\n",
    "cumulativeDataA = cumulativeData[cumulativeData['group']=='A']\n",
    "\n",
    "# отделяем данные по группе B\n",
    "cumulativeDataB = cumulativeData[cumulativeData['group']=='B']\n",
    "\n",
    "# строим графики\n",
    "plt.figure(figsize=(15,5))\n",
    "plt.plot(cumulativeDataA['date'], cumulativeDataA['conversion'], label='A')\n",
    "plt.plot(cumulativeDataB['date'], cumulativeDataB['conversion'], label='B')\n",
    "plt.title('График кумулятивной конверсии по группам')\n",
    "plt.xlabel('date')\n",
    "plt.ylabel('conversion')\n",
    "plt.grid()\n",
    "plt.legend();\n",
    "\n"
   ]
  },
  {
   "cell_type": "markdown",
   "metadata": {},
   "source": [
    "В начале теста конверсия в группе В была заметно меньше, но затем видно, что конверсия группы А достаточно резко начала снижаться и уже с середины и до конца теста конверсия группы В была значительно выше."
   ]
  },
  {
   "cell_type": "markdown",
   "metadata": {},
   "source": [
    "<a id='section11'></a>\n",
    "**3.5. Относительное изменение кумулятивной конверсии группы B к группе A.**\n",
    "\n",
    "Построим график относительного изменения кумулятивной конверсии группы B к группе A."
   ]
  },
  {
   "cell_type": "code",
   "execution_count": 18,
   "metadata": {},
   "outputs": [
    {
     "data": {
      "image/png": "[encoded data removed]",
      "text/plain": [
       "<Figure size 1080x360 with 1 Axes>"
      ]
     },
     "metadata": {
      "needs_background": "light"
     },
     "output_type": "display_data"
    }
   ],
   "source": [
    "# объединяем данные в один фрейм\n",
    "mergedCumulativeConversions = cumulativeDataA[['date','conversion']].merge(cumulativeDataB[['date','conversion']], left_on='date', right_on='date', how='left', suffixes=['A', 'B'])\n",
    "\n",
    "# строим график\n",
    "plt.figure(figsize=(15,5))\n",
    "plt.plot(mergedCumulativeConversions['date'], mergedCumulativeConversions['conversionB']/mergedCumulativeConversions['conversionA']-1, label=\"Относительный прирост конверсии группы B относительно группы A\")\n",
    "plt.title('График относительного изменения кумулятивной конверсии группы B к группе A')\n",
    "plt.legend()\n",
    "\n",
    "plt.axhline(y=0, color='black', linestyle='--')\n",
    "plt.axhline(y=-0.1, color='grey', linestyle='--');"
   ]
  },
  {
   "cell_type": "markdown",
   "metadata": {},
   "source": [
    "Лишь в самом начале теста группа В проигрывала группе А, затем она продемонстрировала заметный рост и зафиксировалась около прироста в 20% относительно группы А и сохранила эти позиции до конца теста с небольшим снижением."
   ]
  },
  {
   "cell_type": "markdown",
   "metadata": {},
   "source": [
    "<a id='section12'></a>\n",
    "**3.6. Количество заказов по пользователям**\n",
    "\n",
    "Построим точечный график количества заказов по пользователям."
   ]
  },
  {
   "cell_type": "code",
   "execution_count": 19,
   "metadata": {},
   "outputs": [
    {
     "data": {
      "image/png": "[encoded data removed]",
      "text/plain": [
       "<Figure size 504x360 with 1 Axes>"
      ]
     },
     "metadata": {
      "needs_background": "light"
     },
     "output_type": "display_data"
    }
   ],
   "source": [
    "# сгруппируем данные по пользователям и подсчитаем количество заказов\n",
    "ordersByUsers = orders.groupby('visitorid', as_index=False).agg({'transactionid':pd.Series.nunique})\n",
    "ordersByUsers.columns = ['userId', 'orders']\n",
    "\n",
    "# серия из чисел от 0 до количества наблюдений в ordersByUsers\n",
    "x_values = pd.Series(range(0, len(ordersByUsers)))\n",
    "# построим диаграмму методом Scatter\n",
    "plt.figure(figsize=(7,5))\n",
    "plt.scatter(x_values, ordersByUsers['orders'])\n",
    "plt.title('График количества заказов по пользователям');"
   ]
  },
  {
   "cell_type": "markdown",
   "metadata": {},
   "source": [
    "В основном все пользователи делают по 1 заказу. Пользователей, заказавших более двух раз, слвсем мало. Они вполне могут быть аномальными. Далее, чтобы ответить на вопрос 2 заказа это нормально или много, посчитаем выборочные перцентили."
   ]
  },
  {
   "cell_type": "markdown",
   "metadata": {},
   "source": [
    "<a id='section13'></a>\n",
    "**3.7. Граница для определения аномальных пользователей.**\n",
    "\n",
    "Посчитаем 95-й и 99-й перцентили количества заказов на пользователя. Выберем границу для определения аномальных пользователей."
   ]
  },
  {
   "cell_type": "code",
   "execution_count": 20,
   "metadata": {},
   "outputs": [
    {
     "data": {
      "text/plain": [
       "array([2., 4.])"
      ]
     },
     "execution_count": 20,
     "metadata": {},
     "output_type": "execute_result"
    }
   ],
   "source": [
    "# посчитаем перцентили методом np.percentile()\n",
    "np.percentile(ordersByUsers['orders'], [95, 99])"
   ]
  },
  {
   "cell_type": "markdown",
   "metadata": {},
   "source": [
    "Видим, что не более 5% пользователей совершали больше двух заказов и не более 1% пользователей - больше 4-х заказов."
   ]
  },
  {
   "cell_type": "markdown",
   "metadata": {},
   "source": [
    "<a id='section14'></a>\n",
    "**3.8. Стоимость заказов.** \n",
    "\n",
    "Построим точечный график стоимостей заказов."
   ]
  },
  {
   "cell_type": "code",
   "execution_count": 21,
   "metadata": {},
   "outputs": [
    {
     "data": {
      "image/png": "[encoded data removed]",
      "text/plain": [
       "<Figure size 504x360 with 1 Axes>"
      ]
     },
     "metadata": {
      "needs_background": "light"
     },
     "output_type": "display_data"
    },
    {
     "data": {
      "image/png": "[encoded data removed]",
      "text/plain": [
       "<Figure size 504x360 with 1 Axes>"
      ]
     },
     "metadata": {
      "needs_background": "light"
     },
     "output_type": "display_data"
    }
   ],
   "source": [
    "# серия из чисел от 0 до количества наблюдений в ordersByUsers\n",
    "x_values = pd.Series(range(0, len(orders['revenue'])))\n",
    "# построим диаграмму методом Scatter\n",
    "plt.figure(figsize=(7,5))\n",
    "plt.scatter(x_values, orders['revenue'])\n",
    "plt.title('График стоимости заказов')\n",
    "plt.show()\n",
    "# исключим аномалии из графика\n",
    "new_orders = orders.query('revenue<200000')\n",
    "# построим диаграмму методом Scatter без аномалий\n",
    "plt.figure(figsize=(7,5))\n",
    "x_values = pd.Series(range(0, len(new_orders['revenue'])))\n",
    "plt.scatter(x_values, new_orders['revenue'])\n",
    "plt.title('График стоимости заказов без аномалий')\n",
    "plt.show()"
   ]
  },
  {
   "cell_type": "markdown",
   "metadata": {},
   "source": [
    "Теперь видно, что заказов стоимостью более 20 000 руб. не много. Есть выбросы в райное 30 000 - 80 000 рублей. Посмотрим на выборочные перцентили."
   ]
  },
  {
   "cell_type": "markdown",
   "metadata": {},
   "source": [
    "<a id='section15'></a>\n",
    "**3.9. Границу для определения аномальных заказов.**\n",
    "\n",
    "Посчитаем 95-й и 99-й перцентили стоимости заказов и выберем границу для определения аномальных заказов."
   ]
  },
  {
   "cell_type": "code",
   "execution_count": 22,
   "metadata": {},
   "outputs": [
    {
     "data": {
      "text/plain": [
       "array([28000. , 58233.2])"
      ]
     },
     "execution_count": 22,
     "metadata": {},
     "output_type": "execute_result"
    }
   ],
   "source": [
    "# посчитаем перцентили методом np.percentile()\n",
    "np.percentile(orders['revenue'], [95, 99])"
   ]
  },
  {
   "cell_type": "markdown",
   "metadata": {},
   "source": [
    "Не более, чем у 5% заказов чек дороже 28 000 руб. и не больше, чем у 1% заказов - дороже 58 233 руб. Значит можно считать аномально большими заказы дороже 28 000 руб."
   ]
  },
  {
   "cell_type": "markdown",
   "metadata": {},
   "source": [
    "<a id='section16'></a>\n",
    "**3.10. Статистическая значимость различий в конверсии между группами по «сырым» данным.**\n",
    "\n",
    "Посчтаем статистическую значимость различий в конверсии между группами по «сырым» данным."
   ]
  },
  {
   "cell_type": "markdown",
   "metadata": {},
   "source": [
    "Для анализа статистической значимости воспользуемся криетрием Манна-Уитни.\n",
    "\n",
    "Сформулируем нулевую гипотезу для проверки:\n",
    "\n",
    "*Но=группы статистически не различаются*\n",
    "\n",
    "Альтернативная гипотеза:\n",
    "\n",
    "*Н1 = есть статистически значимое различие между группами*\n",
    "\n",
    "Уровень стат.значимости примем за 0,05.\n",
    "\n"
   ]
  },
  {
   "cell_type": "code",
   "execution_count": 23,
   "metadata": {},
   "outputs": [
    {
     "name": "stdout",
     "output_type": "stream",
     "text": [
      "0.00896\n",
      "0.205\n"
     ]
    }
   ],
   "source": [
    "# подготовим выборки для проверки критерием Манна-Уитни\n",
    "visitorsADaily = visitors[visitors['group'] == 'A'][['date', 'visitors']]\n",
    "visitorsADaily.columns = ['date', 'visitorsPerDateA']\n",
    "\n",
    "visitorsACummulative = visitorsADaily.apply(\n",
    "    lambda x: visitorsADaily[visitorsADaily['date'] <= x['date']].agg(\n",
    "        {'date': 'max', 'visitorsPerDateA': 'sum'}\n",
    "    ),\n",
    "    axis=1,\n",
    ")\n",
    "visitorsACummulative.columns = ['date', 'visitorsCummulativeA']\n",
    "\n",
    "visitorsBDaily = visitors[visitors['group'] == 'B'][['date', 'visitors']]\n",
    "visitorsBDaily.columns = ['date', 'visitorsPerDateB']\n",
    "\n",
    "visitorsBCummulative = visitorsBDaily.apply(\n",
    "    lambda x: visitorsBDaily[visitorsBDaily['date'] <= x['date']].agg(\n",
    "        {'date': 'max', 'visitorsPerDateB': 'sum'}\n",
    "    ),\n",
    "    axis=1,\n",
    ")\n",
    "visitorsBCummulative.columns = ['date', 'visitorsCummulativeB']\n",
    "\n",
    "ordersADaily = (\n",
    "    orders[orders['group'] == 'A'][['date', 'transactionid', 'visitorid', 'revenue']]\n",
    "    .groupby('date', as_index=False)\n",
    "    .agg({'transactionid': pd.Series.nunique, 'revenue': 'sum'})\n",
    ")\n",
    "ordersADaily.columns = ['date', 'ordersPerDateA', 'revenuePerDateA']\n",
    "\n",
    "ordersACummulative = ordersADaily.apply(\n",
    "    lambda x: ordersADaily[ordersADaily['date'] <= x['date']].agg(\n",
    "        {'date': 'max', 'ordersPerDateA': 'sum', 'revenuePerDateA': 'sum'}\n",
    "    ),\n",
    "    axis=1,\n",
    ").sort_values(by=['date'])\n",
    "ordersACummulative.columns = [\n",
    "    'date',\n",
    "    'ordersCummulativeA',\n",
    "    'revenueCummulativeA',\n",
    "]\n",
    "\n",
    "ordersBDaily = (\n",
    "    orders[orders['group'] == 'B'][['date', 'transactionid', 'visitorid', 'revenue']]\n",
    "    .groupby('date', as_index=False)\n",
    "    .agg({'transactionid': pd.Series.nunique, 'revenue': 'sum'})\n",
    ")\n",
    "ordersBDaily.columns = ['date', 'ordersPerDateB', 'revenuePerDateB']\n",
    "\n",
    "ordersBCummulative = ordersBDaily.apply(\n",
    "    lambda x: ordersBDaily[ordersBDaily['date'] <= x['date']].agg(\n",
    "        {'date': 'max', 'ordersPerDateB': 'sum', 'revenuePerDateB': 'sum'}\n",
    "    ),\n",
    "    axis=1,\n",
    ").sort_values(by=['date'])\n",
    "ordersBCummulative.columns = [\n",
    "    'date',\n",
    "    'ordersCummulativeB',\n",
    "    'revenueCummulativeB',\n",
    "]\n",
    "\n",
    "data = (\n",
    "    ordersADaily.merge(\n",
    "        ordersBDaily, left_on='date', right_on='date', how='left'\n",
    "    )\n",
    "    .merge(ordersACummulative, left_on='date', right_on='date', how='left')\n",
    "    .merge(ordersBCummulative, left_on='date', right_on='date', how='left')\n",
    "    .merge(visitorsADaily, left_on='date', right_on='date', how='left')\n",
    "    .merge(visitorsBDaily, left_on='date', right_on='date', how='left')\n",
    "    .merge(visitorsACummulative, left_on='date', right_on='date', how='left')\n",
    "    .merge(visitorsBCummulative, left_on='date', right_on='date', how='left')\n",
    ")\n",
    "\n",
    "ordersByUsersA = (\n",
    "    orders[orders['group'] == 'A']\n",
    "    .groupby('visitorid', as_index=False)\n",
    "    .agg({'transactionid': pd.Series.nunique})\n",
    ")\n",
    "ordersByUsersA.columns = ['userId', 'orders']\n",
    "\n",
    "ordersByUsersB = (\n",
    "    orders[orders['group'] == 'B']\n",
    "    .groupby('visitorid', as_index=False)\n",
    "    .agg({'transactionid': pd.Series.nunique})\n",
    ")\n",
    "ordersByUsersB.columns = ['userId', 'orders']\n",
    "\n",
    "\n",
    "usersWithManyOrders = pd.concat(\n",
    "    [\n",
    "        ordersByUsersA[ordersByUsersA['orders'] > 2]['userId'],\n",
    "        ordersByUsersB[ordersByUsersB['orders'] > 2]['userId'],\n",
    "    ],\n",
    "    axis=0,\n",
    ")\n",
    "usersWithExpensiveOrders = orders[orders['revenue'] > 10000]['visitorid']\n",
    "abnormalUsers = (\n",
    "    pd.concat([usersWithManyOrders, usersWithExpensiveOrders], axis=0)\n",
    "    .drop_duplicates()\n",
    "    .sort_values()\n",
    ")\n",
    "sampleAFiltered = pd.concat(\n",
    "    [\n",
    "        ordersByUsersA[\n",
    "            np.logical_not(ordersByUsersA['userId'].isin(abnormalUsers))\n",
    "        ]['orders'],\n",
    "        pd.Series(\n",
    "            0,\n",
    "            index=np.arange(\n",
    "                data['visitorsPerDateA'].sum() - len(ordersByUsersA['orders'])\n",
    "            ),\n",
    "            name='orders',\n",
    "        ),\n",
    "    ],\n",
    "    axis=0,\n",
    ")\n",
    "\n",
    "sampleBFiltered = pd.concat(\n",
    "    [\n",
    "        ordersByUsersB[\n",
    "            np.logical_not(ordersByUsersB['userId'].isin(abnormalUsers))\n",
    "        ]['orders'],\n",
    "        pd.Series(\n",
    "            0,\n",
    "            index=np.arange(\n",
    "                data['visitorsPerDateB'].sum() - len(ordersByUsersB['orders'])\n",
    "            ),\n",
    "            name='orders',\n",
    "        ),\n",
    "    ],\n",
    "    axis=0,\n",
    ")\n",
    "# применим критерий Манна-Уитни и отформатируем p-value, округлив его до трёх знаков после запятой\n",
    "print('{0:.5f}'.format(stats.mannwhitneyu(sampleAFiltered, sampleBFiltered)[1]))\n",
    "# выведем относительный прирост конверсии группы B\n",
    "print('{0:.3f}'.format(sampleBFiltered.mean()/sampleAFiltered.mean()-1)) "
   ]
  },
  {
   "cell_type": "markdown",
   "metadata": {},
   "source": [
    "P-value меньше 0.05, а значит конверсия между группами различается,т.е.мы принимаем альтернативную гипотезу, также видим, что относительный прирост конверсии группы В составил 20,5%."
   ]
  },
  {
   "cell_type": "markdown",
   "metadata": {},
   "source": [
    "<a id='section17'></a>\n",
    "**3.11. Статистическая значимость различий в среднем чеке заказа между группами по «сырым» данным.**\n",
    "\n",
    "Посчитаем статистическую значимость различий в среднем чеке заказа между группами по «сырым» данным."
   ]
  },
  {
   "cell_type": "code",
   "execution_count": 24,
   "metadata": {},
   "outputs": [
    {
     "name": "stdout",
     "output_type": "stream",
     "text": [
      "0.729\n",
      "0.259\n"
     ]
    }
   ],
   "source": [
    "# передадим критерию mannwhitneyu() данные о выручке с заказов\n",
    "print('{0:.3f}'.format(stats.mannwhitneyu(orders[orders['group']=='A']['revenue'], orders[orders['group']=='B']['revenue'])[1]))\n",
    "# найдём относительные различия в среднем чеке между группами\n",
    "print('{0:.3f}'.format(orders[orders['group']=='B']['revenue'].mean()/orders[orders['group']=='A']['revenue'].mean()-1)) "
   ]
  },
  {
   "cell_type": "markdown",
   "metadata": {},
   "source": [
    "P-value больше уровня значимости,значит нулевую гипотезу мы принимаем, никаких отличий между группами нет. Наблюдаемое различие -выигрыш группы В - 25,9% не является статистически значимым."
   ]
  },
  {
   "cell_type": "markdown",
   "metadata": {},
   "source": [
    "<a id='section18'></a>\n",
    "**3.12. Статистическую значимость различий в конверсии между группами по «очищенным» данным.**\n",
    "\n",
    "Посчитаем статистическую значимость различий в конверсии между группами по «очищенным» данным. "
   ]
  },
  {
   "cell_type": "markdown",
   "metadata": {},
   "source": [
    "Ранее,рассчитав 95 и 99 перцентили, мы выяснили, что  не более 5% пользователей совершали больше 2-х заказов и не более 1% пользователей - больше 4-х заказов и не более, чем у 5% заказов чек дороже 28 000 руб. и не больше, чем у 1% заказов - дороже 58 233 руб. \n",
    "\n",
    "Возьмем границу в 95% - примем за аномальных пользователей, которые совершили больше 2 заказов или заказали на сумму выше 28 000 руб."
   ]
  },
  {
   "cell_type": "code",
   "execution_count": 25,
   "metadata": {},
   "outputs": [
    {
     "name": "stdout",
     "output_type": "stream",
     "text": [
      "(74,)\n"
     ]
    }
   ],
   "source": [
    "# cделаем срезы пользователей с числом заказов больше 2 — usersWithManyOrders\n",
    "# и пользователей, совершивших заказы дороже 28 000 — usersWithExpensiveOrders. Объединим их в таблице abnormalUsers\n",
    "usersWithManyOrders = pd.concat(\n",
    "    [\n",
    "        ordersByUsersA[ordersByUsersA['orders'] > 2]['userId'],\n",
    "        ordersByUsersB[ordersByUsersB['orders'] > 2]['userId'],\n",
    "    ],\n",
    "    axis=0,\n",
    ")\n",
    "usersWithExpensiveOrders = orders[orders['revenue'] > 28000]['visitorid']\n",
    "abnormalUsers = (\n",
    "    pd.concat([usersWithManyOrders, usersWithExpensiveOrders], axis=0)\n",
    "    .drop_duplicates()\n",
    "    .sort_values()\n",
    ")\n",
    "\n",
    "# посчитаем количество аномальных пользователей\n",
    "print(abnormalUsers.shape) \n"
   ]
  },
  {
   "cell_type": "markdown",
   "metadata": {},
   "source": [
    "Всего аномальных пользователей 74.\n",
    "\n",
    "Чтобы узнать, как их действия повлияли на результат посчитаем различие в конверсии между группами по очищенным данным."
   ]
  },
  {
   "cell_type": "code",
   "execution_count": 26,
   "metadata": {},
   "outputs": [
    {
     "name": "stdout",
     "output_type": "stream",
     "text": [
      "0.013\n",
      "0.173\n"
     ]
    }
   ],
   "source": [
    "# подготовим выборки количества заказов по пользователям по группам теста\n",
    "sampleAFiltered = pd.concat(\n",
    "    [\n",
    "        ordersByUsersA[\n",
    "            np.logical_not(ordersByUsersA['userId'].isin(abnormalUsers))\n",
    "        ]['orders'],\n",
    "        pd.Series(\n",
    "            0,\n",
    "            index=np.arange(\n",
    "                data['visitorsPerDateA'].sum() - len(ordersByUsersA['orders'])\n",
    "            ),\n",
    "            name='orders',\n",
    "        ),\n",
    "    ],\n",
    "    axis=0,\n",
    ")\n",
    "\n",
    "sampleBFiltered = pd.concat(\n",
    "    [\n",
    "        ordersByUsersB[\n",
    "            np.logical_not(ordersByUsersB['userId'].isin(abnormalUsers))\n",
    "        ]['orders'],\n",
    "        pd.Series(\n",
    "            0,\n",
    "            index=np.arange(\n",
    "                data['visitorsPerDateB'].sum() - len(ordersByUsersB['orders'])\n",
    "            ),\n",
    "            name='orders',\n",
    "        ),\n",
    "    ],\n",
    "    axis=0,\n",
    ") \n",
    "# применим статистический критерий Манна-Уитни к полученным выборкам\n",
    "print('{0:.3f}'.format(stats.mannwhitneyu(sampleAFiltered, sampleBFiltered)[1]))\n",
    "print('{0:.3f}'.format(sampleBFiltered.mean()/sampleAFiltered.mean()-1)) "
   ]
  },
  {
   "cell_type": "markdown",
   "metadata": {},
   "source": [
    "Результат не сильно отличается от того, что был по сырым данным, полученное значение p-value говорит о том, что есть статистичски значимое различия в конверсиях в группах А и В, т.е. нулевую гипотезу мы отвергаем и принимаем альтернативную . Разница между группами снизилась с 20,5% до 17,3%."
   ]
  },
  {
   "cell_type": "markdown",
   "metadata": {},
   "source": [
    "<a id='section19'></a>\n",
    "**3.13. Статистическая значимость различий в среднем чеке заказа между группами по «очищенным» данным.**\n",
    "\n",
    "Посчитаем статистическую значимость различий в среднем чеке заказа между группами по «очищенным» данным."
   ]
  },
  {
   "cell_type": "code",
   "execution_count": 27,
   "metadata": {},
   "outputs": [
    {
     "name": "stdout",
     "output_type": "stream",
     "text": [
      "0.738\n",
      "-0.020\n"
     ]
    }
   ],
   "source": [
    "# передадим критерию Манна-Уитни значения выручки\n",
    "print(\n",
    "    '{0:.3f}'.format(\n",
    "        stats.mannwhitneyu(\n",
    "            orders[\n",
    "                np.logical_and(\n",
    "                    orders['group'] == 'A',\n",
    "                    np.logical_not(orders['visitorid'].isin(abnormalUsers)),\n",
    "                )\n",
    "            ]['revenue'],\n",
    "            orders[\n",
    "                np.logical_and(\n",
    "                    orders['group'] == 'B',\n",
    "                    np.logical_not(orders['visitorid'].isin(abnormalUsers)),\n",
    "                )\n",
    "            ]['revenue'],\n",
    "        )[1]\n",
    "    )\n",
    ")\n",
    "\n",
    "print(\n",
    "    \"{0:.3f}\".format(\n",
    "        orders[\n",
    "            np.logical_and(\n",
    "                orders['group'] == 'B',\n",
    "                np.logical_not(orders['visitorid'].isin(abnormalUsers)),\n",
    "            )\n",
    "        ]['revenue'].mean()\n",
    "        / orders[\n",
    "            np.logical_and(\n",
    "                orders['group'] == 'A',\n",
    "                np.logical_not(orders['visitorid'].isin(abnormalUsers)),\n",
    "            )\n",
    "        ]['revenue'].mean()\n",
    "        - 1\n",
    "    )\n",
    ") "
   ]
  },
  {
   "cell_type": "markdown",
   "metadata": {},
   "source": [
    "P-value практически не изменился, статистическая значимость достигнута - различий в группах нет, а вот значение прироста среднего чека по группе В стало гораздо хуже после очистки данных от выбросов.\n"
   ]
  },
  {
   "cell_type": "markdown",
   "metadata": {},
   "source": [
    "<a id='section20'></a>\n",
    "**3.14. Выводы по результатам теста**"
   ]
  },
  {
   "cell_type": "markdown",
   "metadata": {},
   "source": [
    "- Конверсия группы В как по \"сырым\", так и по \"очищенным\" данным превышает конверсию группы А, причем это различие статистически значимо, т.е. обнаруженный прирост группы В - не случайность.\n",
    "\n",
    "- Статистически значимой разницы в среднем чеке по ни по \"сырым\", ни по \"очищенным\" данным нет, можем также сделать вывод, что обнаруженный прирост по группе В в 25,9% был связан с аномальными значениями в данных, возможно, это были какие-то разовые крупные заказы, как только из данных убрали выбросы, прирост среднего чека в группе В срузу стал отрицательным.\n",
    "\n",
    "- График различия конверсии между группами сообщает, что результаты группы B лучше группы A и уже после 5 дня теста это стабильная тенденция - прирост конверсии группы В на 10-20%.\n",
    "\n",
    "- График различия среднего чека колеблется, выводы определенные сделать по нему сложно, но видно, что есть наличие аномалий в данных.\n",
    "\n",
    "На основании полученных результатов можно признать тест успешным и остановить его, т.к. он выявил, что внедренное изменение не привело к увеличению среднего чека, а вот конверсия явно увеличилась. Поэтому в качестве рекомендации для бизнеса, можно сказать о том, что стоит посмотреть на другие метрики, например, на изменение количества заказов,возможно там можно будет увидеть причины по которым конверсия стала выше, а вот средний чек не поменялся."
   ]
  }
 ],
 "metadata": {
  "ExecuteTimeLog": [
   {
    "duration": 133,
    "start_time": "2022-02-28T19:22:12.238Z"
   },
   {
    "duration": 90,
    "start_time": "2022-02-28T19:24:13.130Z"
   },
   {
    "duration": 1246,
    "start_time": "2022-02-28T19:40:36.176Z"
   },
   {
    "duration": 69,
    "start_time": "2022-02-28T19:58:02.785Z"
   },
   {
    "duration": 68,
    "start_time": "2022-02-28T19:58:11.916Z"
   },
   {
    "duration": 66,
    "start_time": "2022-02-28T19:58:26.324Z"
   },
   {
    "duration": 71,
    "start_time": "2022-02-28T19:59:05.385Z"
   },
   {
    "duration": 73,
    "start_time": "2022-02-28T19:59:23.912Z"
   },
   {
    "duration": 143,
    "start_time": "2022-02-28T20:01:09.780Z"
   },
   {
    "duration": 11,
    "start_time": "2022-02-28T20:02:18.242Z"
   },
   {
    "duration": 1062,
    "start_time": "2022-03-01T12:35:48.778Z"
   },
   {
    "duration": 57,
    "start_time": "2022-03-01T12:35:49.841Z"
   },
   {
    "duration": 12,
    "start_time": "2022-03-01T12:35:49.900Z"
   },
   {
    "duration": 61,
    "start_time": "2022-03-01T12:41:29.871Z"
   },
   {
    "duration": 6,
    "start_time": "2022-03-01T12:41:43.720Z"
   },
   {
    "duration": 9,
    "start_time": "2022-03-01T12:41:59.332Z"
   },
   {
    "duration": 250,
    "start_time": "2022-03-01T12:42:22.576Z"
   },
   {
    "duration": 5,
    "start_time": "2022-03-01T12:44:58.697Z"
   },
   {
    "duration": 3,
    "start_time": "2022-03-01T12:45:18.238Z"
   },
   {
    "duration": 7,
    "start_time": "2022-03-01T12:45:21.370Z"
   },
   {
    "duration": 183,
    "start_time": "2022-03-01T12:46:04.884Z"
   },
   {
    "duration": 57,
    "start_time": "2022-03-01T12:46:15.038Z"
   },
   {
    "duration": 4,
    "start_time": "2022-03-01T12:47:09.653Z"
   },
   {
    "duration": 8,
    "start_time": "2022-03-01T12:47:12.167Z"
   },
   {
    "duration": 12,
    "start_time": "2022-03-01T12:47:21.614Z"
   },
   {
    "duration": 6,
    "start_time": "2022-03-01T13:08:04.741Z"
   },
   {
    "duration": 172,
    "start_time": "2022-03-01T13:08:13.854Z"
   },
   {
    "duration": 7,
    "start_time": "2022-03-01T13:08:17.544Z"
   },
   {
    "duration": 14,
    "start_time": "2022-03-01T13:11:47.725Z"
   },
   {
    "duration": 7,
    "start_time": "2022-03-01T13:12:03.959Z"
   },
   {
    "duration": 12,
    "start_time": "2022-03-01T13:13:33.556Z"
   },
   {
    "duration": 13,
    "start_time": "2022-03-01T13:13:49.866Z"
   },
   {
    "duration": 9,
    "start_time": "2022-03-01T13:14:04.528Z"
   },
   {
    "duration": 52,
    "start_time": "2022-03-01T13:15:39.670Z"
   },
   {
    "duration": 50,
    "start_time": "2022-03-01T13:23:03.528Z"
   },
   {
    "duration": 8,
    "start_time": "2022-03-01T14:31:13.800Z"
   },
   {
    "duration": 999,
    "start_time": "2022-03-01T14:31:27.976Z"
   },
   {
    "duration": 51,
    "start_time": "2022-03-01T14:31:28.977Z"
   },
   {
    "duration": 12,
    "start_time": "2022-03-01T14:31:29.029Z"
   },
   {
    "duration": 5,
    "start_time": "2022-03-01T14:31:29.043Z"
   },
   {
    "duration": 11,
    "start_time": "2022-03-01T14:31:29.049Z"
   },
   {
    "duration": 15,
    "start_time": "2022-03-01T14:31:29.062Z"
   },
   {
    "duration": 10,
    "start_time": "2022-03-01T14:31:29.078Z"
   },
   {
    "duration": 7,
    "start_time": "2022-03-01T14:31:29.090Z"
   },
   {
    "duration": 4,
    "start_time": "2022-03-01T14:31:29.098Z"
   },
   {
    "duration": 11,
    "start_time": "2022-03-01T16:14:38.217Z"
   },
   {
    "duration": 13,
    "start_time": "2022-03-01T16:23:26.763Z"
   },
   {
    "duration": 12,
    "start_time": "2022-03-01T16:45:37.252Z"
   },
   {
    "duration": 9,
    "start_time": "2022-03-01T16:46:07.941Z"
   },
   {
    "duration": 6,
    "start_time": "2022-03-01T18:15:38.380Z"
   },
   {
    "duration": 4584,
    "start_time": "2022-03-01T18:28:01.624Z"
   },
   {
    "duration": 4431,
    "start_time": "2022-03-01T18:29:40.361Z"
   },
   {
    "duration": 620,
    "start_time": "2022-03-01T18:31:05.044Z"
   },
   {
    "duration": 51,
    "start_time": "2022-03-01T18:31:05.666Z"
   },
   {
    "duration": 13,
    "start_time": "2022-03-01T18:31:05.719Z"
   },
   {
    "duration": 22,
    "start_time": "2022-03-01T18:31:05.734Z"
   },
   {
    "duration": 13,
    "start_time": "2022-03-01T18:31:05.758Z"
   },
   {
    "duration": 9,
    "start_time": "2022-03-01T18:31:05.773Z"
   },
   {
    "duration": 11,
    "start_time": "2022-03-01T18:31:05.783Z"
   },
   {
    "duration": 10,
    "start_time": "2022-03-01T18:31:05.796Z"
   },
   {
    "duration": 9,
    "start_time": "2022-03-01T18:31:05.808Z"
   },
   {
    "duration": 13,
    "start_time": "2022-03-01T18:31:05.819Z"
   },
   {
    "duration": 4592,
    "start_time": "2022-03-01T18:31:05.834Z"
   },
   {
    "duration": 59,
    "start_time": "2022-03-01T18:39:32.695Z"
   },
   {
    "duration": 4536,
    "start_time": "2022-03-01T18:39:43.494Z"
   },
   {
    "duration": 2492,
    "start_time": "2022-03-01T18:40:01.928Z"
   },
   {
    "duration": 4548,
    "start_time": "2022-03-01T18:46:24.728Z"
   },
   {
    "duration": 153,
    "start_time": "2022-03-01T19:01:33.755Z"
   },
   {
    "duration": 159,
    "start_time": "2022-03-01T19:02:30.774Z"
   },
   {
    "duration": 152,
    "start_time": "2022-03-01T19:02:44.519Z"
   },
   {
    "duration": 156,
    "start_time": "2022-03-01T19:03:01.212Z"
   },
   {
    "duration": 58,
    "start_time": "2022-03-01T19:04:20.317Z"
   },
   {
    "duration": 84,
    "start_time": "2022-03-01T19:05:15.416Z"
   },
   {
    "duration": 346,
    "start_time": "2022-03-01T19:05:38.109Z"
   },
   {
    "duration": 339,
    "start_time": "2022-03-01T19:05:53.546Z"
   },
   {
    "duration": 195,
    "start_time": "2022-03-01T19:06:56.019Z"
   },
   {
    "duration": 180,
    "start_time": "2022-03-01T19:07:10.850Z"
   },
   {
    "duration": 229,
    "start_time": "2022-03-01T19:07:19.953Z"
   },
   {
    "duration": 267,
    "start_time": "2022-03-01T19:09:04.378Z"
   },
   {
    "duration": 364,
    "start_time": "2022-03-01T19:10:12.684Z"
   },
   {
    "duration": 195,
    "start_time": "2022-03-01T19:10:22.928Z"
   },
   {
    "duration": 369,
    "start_time": "2022-03-01T19:11:11.213Z"
   },
   {
    "duration": 333,
    "start_time": "2022-03-01T19:11:59.130Z"
   },
   {
    "duration": 191,
    "start_time": "2022-03-01T19:12:19.734Z"
   },
   {
    "duration": 378,
    "start_time": "2022-03-01T19:13:14.802Z"
   },
   {
    "duration": 249,
    "start_time": "2022-03-01T19:14:16.728Z"
   },
   {
    "duration": 276,
    "start_time": "2022-03-01T19:14:42.521Z"
   },
   {
    "duration": 247,
    "start_time": "2022-03-01T19:25:45.545Z"
   },
   {
    "duration": 317,
    "start_time": "2022-03-01T19:26:07.347Z"
   },
   {
    "duration": 53,
    "start_time": "2022-03-01T19:52:50.226Z"
   },
   {
    "duration": 175,
    "start_time": "2022-03-01T19:54:36.442Z"
   },
   {
    "duration": 165,
    "start_time": "2022-03-01T19:54:43.826Z"
   },
   {
    "duration": 218,
    "start_time": "2022-03-01T19:55:22.324Z"
   },
   {
    "duration": 230,
    "start_time": "2022-03-01T19:55:45.196Z"
   },
   {
    "duration": 281,
    "start_time": "2022-03-01T20:08:55.962Z"
   },
   {
    "duration": 312,
    "start_time": "2022-03-01T20:09:08.312Z"
   },
   {
    "duration": 334,
    "start_time": "2022-03-01T20:09:25.349Z"
   },
   {
    "duration": 236,
    "start_time": "2022-03-01T20:10:05.110Z"
   },
   {
    "duration": 333,
    "start_time": "2022-03-01T20:10:40.086Z"
   },
   {
    "duration": 182,
    "start_time": "2022-03-01T20:17:51.236Z"
   },
   {
    "duration": 254,
    "start_time": "2022-03-01T20:18:18.199Z"
   },
   {
    "duration": 240,
    "start_time": "2022-03-01T20:18:39.776Z"
   },
   {
    "duration": 228,
    "start_time": "2022-03-01T20:18:45.417Z"
   },
   {
    "duration": 253,
    "start_time": "2022-03-01T20:19:24.725Z"
   },
   {
    "duration": 244,
    "start_time": "2022-03-01T20:26:05.247Z"
   },
   {
    "duration": 360,
    "start_time": "2022-03-01T20:26:11.531Z"
   },
   {
    "duration": 252,
    "start_time": "2022-03-01T20:26:18.434Z"
   },
   {
    "duration": 246,
    "start_time": "2022-03-02T11:13:02.773Z"
   },
   {
    "duration": 620,
    "start_time": "2022-03-02T11:13:08.499Z"
   },
   {
    "duration": 60,
    "start_time": "2022-03-02T11:13:09.121Z"
   },
   {
    "duration": 12,
    "start_time": "2022-03-02T11:13:09.183Z"
   },
   {
    "duration": 3,
    "start_time": "2022-03-02T11:13:09.198Z"
   },
   {
    "duration": 9,
    "start_time": "2022-03-02T11:13:09.203Z"
   },
   {
    "duration": 10,
    "start_time": "2022-03-02T11:13:09.214Z"
   },
   {
    "duration": 10,
    "start_time": "2022-03-02T11:13:09.225Z"
   },
   {
    "duration": 12,
    "start_time": "2022-03-02T11:13:09.238Z"
   },
   {
    "duration": 11,
    "start_time": "2022-03-02T11:13:09.252Z"
   },
   {
    "duration": 8,
    "start_time": "2022-03-02T11:13:09.265Z"
   },
   {
    "duration": 356,
    "start_time": "2022-03-02T11:13:09.274Z"
   },
   {
    "duration": 290,
    "start_time": "2022-03-02T11:13:09.632Z"
   },
   {
    "duration": 272,
    "start_time": "2022-03-02T11:13:09.924Z"
   },
   {
    "duration": 362,
    "start_time": "2022-03-02T11:13:10.198Z"
   },
   {
    "duration": 338,
    "start_time": "2022-03-02T11:13:10.562Z"
   },
   {
    "duration": 360,
    "start_time": "2022-03-02T11:13:10.902Z"
   },
   {
    "duration": 365,
    "start_time": "2022-03-02T11:13:55.267Z"
   },
   {
    "duration": 400,
    "start_time": "2022-03-02T11:14:01.216Z"
   },
   {
    "duration": 364,
    "start_time": "2022-03-02T11:16:03.792Z"
   },
   {
    "duration": 359,
    "start_time": "2022-03-02T11:16:12.900Z"
   },
   {
    "duration": 355,
    "start_time": "2022-03-02T11:16:19.064Z"
   },
   {
    "duration": 8,
    "start_time": "2022-03-02T11:24:56.474Z"
   },
   {
    "duration": 111,
    "start_time": "2022-03-02T11:28:29.549Z"
   },
   {
    "duration": 375,
    "start_time": "2022-03-02T11:29:54.664Z"
   },
   {
    "duration": 389,
    "start_time": "2022-03-02T11:29:58.823Z"
   },
   {
    "duration": 442,
    "start_time": "2022-03-02T11:30:12.727Z"
   },
   {
    "duration": 409,
    "start_time": "2022-03-02T11:30:59.482Z"
   },
   {
    "duration": 483,
    "start_time": "2022-03-02T11:33:05.219Z"
   },
   {
    "duration": 391,
    "start_time": "2022-03-02T11:33:16.328Z"
   },
   {
    "duration": 402,
    "start_time": "2022-03-02T11:33:24.966Z"
   },
   {
    "duration": 4,
    "start_time": "2022-03-02T11:51:00.895Z"
   },
   {
    "duration": 242,
    "start_time": "2022-03-02T11:58:39.141Z"
   },
   {
    "duration": 277,
    "start_time": "2022-03-02T11:58:51.076Z"
   },
   {
    "duration": 336,
    "start_time": "2022-03-02T12:01:19.415Z"
   },
   {
    "duration": 613,
    "start_time": "2022-03-02T12:01:37.617Z"
   },
   {
    "duration": 83,
    "start_time": "2022-03-02T12:05:31.266Z"
   },
   {
    "duration": 371,
    "start_time": "2022-03-02T12:05:36.464Z"
   },
   {
    "duration": 361,
    "start_time": "2022-03-02T12:06:07.914Z"
   },
   {
    "duration": 404,
    "start_time": "2022-03-02T12:08:35.319Z"
   },
   {
    "duration": 380,
    "start_time": "2022-03-02T12:09:24.260Z"
   },
   {
    "duration": 341,
    "start_time": "2022-03-02T12:09:43.772Z"
   },
   {
    "duration": 425,
    "start_time": "2022-03-02T12:11:31.641Z"
   },
   {
    "duration": 1217,
    "start_time": "2022-03-02T12:12:56.224Z"
   },
   {
    "duration": 367,
    "start_time": "2022-03-02T12:13:14.517Z"
   },
   {
    "duration": 548,
    "start_time": "2022-03-02T12:13:30.692Z"
   },
   {
    "duration": 11693,
    "start_time": "2022-03-02T12:13:51.834Z"
   },
   {
    "duration": 23120,
    "start_time": "2022-03-02T12:14:33.185Z"
   },
   {
    "duration": 528,
    "start_time": "2022-03-02T12:15:20.981Z"
   },
   {
    "duration": 514,
    "start_time": "2022-03-02T12:15:47.111Z"
   },
   {
    "duration": 573,
    "start_time": "2022-03-02T12:16:07.811Z"
   },
   {
    "duration": 576,
    "start_time": "2022-03-02T12:16:29.593Z"
   },
   {
    "duration": 6,
    "start_time": "2022-03-02T12:20:32.662Z"
   },
   {
    "duration": 213,
    "start_time": "2022-03-02T19:57:00.098Z"
   },
   {
    "duration": 4214,
    "start_time": "2022-03-02T19:57:46.956Z"
   },
   {
    "duration": 302,
    "start_time": "2022-03-02T19:58:31.214Z"
   },
   {
    "duration": 855,
    "start_time": "2022-03-04T10:28:34.829Z"
   },
   {
    "duration": 63,
    "start_time": "2022-03-04T10:28:35.686Z"
   },
   {
    "duration": 19,
    "start_time": "2022-03-04T10:28:35.756Z"
   },
   {
    "duration": 5,
    "start_time": "2022-03-04T10:28:35.777Z"
   },
   {
    "duration": 15,
    "start_time": "2022-03-04T10:28:35.784Z"
   },
   {
    "duration": 17,
    "start_time": "2022-03-04T10:28:35.801Z"
   },
   {
    "duration": 17,
    "start_time": "2022-03-04T10:28:35.822Z"
   },
   {
    "duration": 23,
    "start_time": "2022-03-04T10:28:35.875Z"
   },
   {
    "duration": 16,
    "start_time": "2022-03-04T10:28:35.901Z"
   },
   {
    "duration": 16,
    "start_time": "2022-03-04T10:28:35.919Z"
   },
   {
    "duration": 611,
    "start_time": "2022-03-04T10:28:35.938Z"
   },
   {
    "duration": 473,
    "start_time": "2022-03-04T10:28:36.551Z"
   },
   {
    "duration": 445,
    "start_time": "2022-03-04T10:28:37.028Z"
   },
   {
    "duration": 533,
    "start_time": "2022-03-04T10:28:37.476Z"
   },
   {
    "duration": 531,
    "start_time": "2022-03-04T10:28:38.013Z"
   },
   {
    "duration": 549,
    "start_time": "2022-03-04T10:28:38.547Z"
   },
   {
    "duration": 13,
    "start_time": "2022-03-04T10:28:39.099Z"
   },
   {
    "duration": 582,
    "start_time": "2022-03-04T10:28:39.115Z"
   },
   {
    "duration": 6,
    "start_time": "2022-03-04T10:28:39.699Z"
   },
   {
    "duration": 835,
    "start_time": "2022-03-04T10:28:39.708Z"
   },
   {
    "duration": 6,
    "start_time": "2022-03-04T10:28:40.545Z"
   },
   {
    "duration": 674,
    "start_time": "2022-03-04T10:28:40.556Z"
   },
   {
    "duration": 19,
    "start_time": "2022-03-04T10:32:29.176Z"
   },
   {
    "duration": 7040,
    "start_time": "2022-03-04T10:33:42.680Z"
   },
   {
    "duration": 842,
    "start_time": "2022-03-04T10:35:02.166Z"
   },
   {
    "duration": 495,
    "start_time": "2022-03-04T10:36:03.790Z"
   },
   {
    "duration": 531,
    "start_time": "2022-03-04T10:36:08.976Z"
   },
   {
    "duration": 1048,
    "start_time": "2022-03-05T18:07:48.448Z"
   },
   {
    "duration": 55,
    "start_time": "2022-03-05T18:07:49.498Z"
   },
   {
    "duration": 12,
    "start_time": "2022-03-05T18:07:49.555Z"
   },
   {
    "duration": 5,
    "start_time": "2022-03-05T18:07:49.569Z"
   },
   {
    "duration": 12,
    "start_time": "2022-03-05T18:07:49.575Z"
   },
   {
    "duration": 14,
    "start_time": "2022-03-05T18:07:49.588Z"
   },
   {
    "duration": 12,
    "start_time": "2022-03-05T18:07:49.603Z"
   },
   {
    "duration": 13,
    "start_time": "2022-03-05T18:07:49.619Z"
   },
   {
    "duration": 13,
    "start_time": "2022-03-05T18:07:49.635Z"
   },
   {
    "duration": 10,
    "start_time": "2022-03-05T18:07:49.649Z"
   },
   {
    "duration": 410,
    "start_time": "2022-03-05T18:07:49.661Z"
   },
   {
    "duration": 402,
    "start_time": "2022-03-05T18:07:50.073Z"
   },
   {
    "duration": 277,
    "start_time": "2022-03-05T18:07:50.477Z"
   },
   {
    "duration": 373,
    "start_time": "2022-03-05T18:07:50.755Z"
   },
   {
    "duration": 306,
    "start_time": "2022-03-05T18:07:51.130Z"
   },
   {
    "duration": 367,
    "start_time": "2022-03-05T18:07:51.438Z"
   },
   {
    "duration": 9,
    "start_time": "2022-03-05T18:07:51.807Z"
   },
   {
    "duration": 486,
    "start_time": "2022-03-05T18:07:51.817Z"
   },
   {
    "duration": 5,
    "start_time": "2022-03-05T18:07:52.305Z"
   },
   {
    "duration": 606,
    "start_time": "2022-03-05T18:07:52.311Z"
   },
   {
    "duration": 5,
    "start_time": "2022-03-05T18:07:52.919Z"
   },
   {
    "duration": 15,
    "start_time": "2022-03-05T18:07:52.925Z"
   },
   {
    "duration": 644,
    "start_time": "2022-03-05T18:07:52.943Z"
   },
   {
    "duration": 5704,
    "start_time": "2022-03-05T18:14:33.484Z"
   },
   {
    "duration": 479,
    "start_time": "2022-03-05T18:18:03.526Z"
   },
   {
    "duration": 424,
    "start_time": "2022-03-05T18:27:23.110Z"
   },
   {
    "duration": 414,
    "start_time": "2022-03-05T18:27:30.242Z"
   },
   {
    "duration": 11,
    "start_time": "2022-03-05T18:40:50.592Z"
   },
   {
    "duration": 5274,
    "start_time": "2022-03-05T19:11:37.769Z"
   },
   {
    "duration": 16,
    "start_time": "2022-03-05T19:12:01.877Z"
   },
   {
    "duration": 13,
    "start_time": "2022-03-05T19:13:05.284Z"
   },
   {
    "duration": 9,
    "start_time": "2022-03-05T19:17:01.641Z"
   },
   {
    "duration": 13,
    "start_time": "2022-03-05T19:17:34.660Z"
   },
   {
    "duration": 11,
    "start_time": "2022-03-05T19:20:31.003Z"
   },
   {
    "duration": 14,
    "start_time": "2022-03-05T19:20:51.064Z"
   },
   {
    "duration": 15,
    "start_time": "2022-03-05T19:25:09.810Z"
   },
   {
    "duration": 96,
    "start_time": "2022-03-05T19:52:35.556Z"
   },
   {
    "duration": 1254,
    "start_time": "2022-03-20T15:12:20.954Z"
   },
   {
    "duration": 57,
    "start_time": "2022-03-20T15:12:22.210Z"
   },
   {
    "duration": 25,
    "start_time": "2022-03-20T15:12:22.268Z"
   },
   {
    "duration": 12,
    "start_time": "2022-03-20T15:12:22.295Z"
   },
   {
    "duration": 18,
    "start_time": "2022-03-20T15:12:22.309Z"
   },
   {
    "duration": 14,
    "start_time": "2022-03-20T15:12:22.329Z"
   },
   {
    "duration": 11,
    "start_time": "2022-03-20T15:12:22.345Z"
   },
   {
    "duration": 15,
    "start_time": "2022-03-20T15:12:22.357Z"
   },
   {
    "duration": 11,
    "start_time": "2022-03-20T15:12:22.373Z"
   },
   {
    "duration": 15,
    "start_time": "2022-03-20T15:12:22.387Z"
   },
   {
    "duration": 316,
    "start_time": "2022-03-20T15:12:22.404Z"
   },
   {
    "duration": 303,
    "start_time": "2022-03-20T15:12:22.722Z"
   },
   {
    "duration": 232,
    "start_time": "2022-03-20T15:12:23.027Z"
   },
   {
    "duration": 342,
    "start_time": "2022-03-20T15:12:23.261Z"
   },
   {
    "duration": 240,
    "start_time": "2022-03-20T15:12:23.605Z"
   },
   {
    "duration": 324,
    "start_time": "2022-03-20T15:12:23.847Z"
   },
   {
    "duration": 9,
    "start_time": "2022-03-20T15:12:24.173Z"
   },
   {
    "duration": 251,
    "start_time": "2022-03-20T15:12:24.184Z"
   },
   {
    "duration": 4,
    "start_time": "2022-03-20T15:12:24.437Z"
   },
   {
    "duration": 279,
    "start_time": "2022-03-20T15:12:24.443Z"
   },
   {
    "duration": 6,
    "start_time": "2022-03-20T15:12:24.723Z"
   },
   {
    "duration": 18,
    "start_time": "2022-03-20T15:12:24.738Z"
   },
   {
    "duration": 375,
    "start_time": "2022-03-20T15:12:24.758Z"
   },
   {
    "duration": 10,
    "start_time": "2022-03-20T15:12:25.138Z"
   },
   {
    "duration": 17,
    "start_time": "2022-03-20T15:12:25.150Z"
   },
   {
    "duration": 49,
    "start_time": "2022-03-20T15:12:25.169Z"
   },
   {
    "duration": 13,
    "start_time": "2022-03-20T15:12:25.220Z"
   },
   {
    "duration": 97,
    "start_time": "2022-03-20T15:13:41.678Z"
   },
   {
    "duration": 13,
    "start_time": "2022-03-20T15:14:25.159Z"
   },
   {
    "duration": 14,
    "start_time": "2022-03-20T15:14:34.654Z"
   },
   {
    "duration": 17,
    "start_time": "2022-03-20T15:15:20.957Z"
   },
   {
    "duration": 11,
    "start_time": "2022-03-20T15:16:05.902Z"
   },
   {
    "duration": 1107,
    "start_time": "2022-03-20T20:58:44.018Z"
   },
   {
    "duration": 54,
    "start_time": "2022-03-20T20:58:45.126Z"
   },
   {
    "duration": 24,
    "start_time": "2022-03-20T20:58:45.182Z"
   },
   {
    "duration": 24,
    "start_time": "2022-03-20T20:58:45.208Z"
   },
   {
    "duration": 23,
    "start_time": "2022-03-20T20:58:45.233Z"
   },
   {
    "duration": 16,
    "start_time": "2022-03-20T20:58:45.257Z"
   },
   {
    "duration": 21,
    "start_time": "2022-03-20T20:58:45.275Z"
   },
   {
    "duration": 19,
    "start_time": "2022-03-20T20:58:45.298Z"
   },
   {
    "duration": 19,
    "start_time": "2022-03-20T20:58:45.320Z"
   },
   {
    "duration": 31,
    "start_time": "2022-03-20T20:58:45.341Z"
   },
   {
    "duration": 303,
    "start_time": "2022-03-20T20:58:45.374Z"
   },
   {
    "duration": 277,
    "start_time": "2022-03-20T20:58:45.678Z"
   },
   {
    "duration": 210,
    "start_time": "2022-03-20T20:58:45.957Z"
   },
   {
    "duration": 287,
    "start_time": "2022-03-20T20:58:46.169Z"
   },
   {
    "duration": 214,
    "start_time": "2022-03-20T20:58:46.458Z"
   },
   {
    "duration": 301,
    "start_time": "2022-03-20T20:58:46.674Z"
   },
   {
    "duration": 230,
    "start_time": "2022-03-20T20:58:46.977Z"
   },
   {
    "duration": 5,
    "start_time": "2022-03-20T20:58:47.208Z"
   },
   {
    "duration": 256,
    "start_time": "2022-03-20T20:58:47.214Z"
   },
   {
    "duration": 5,
    "start_time": "2022-03-20T20:58:47.472Z"
   },
   {
    "duration": 348,
    "start_time": "2022-03-20T20:58:47.478Z"
   },
   {
    "duration": 14,
    "start_time": "2022-03-20T20:58:47.828Z"
   },
   {
    "duration": 7,
    "start_time": "2022-03-20T20:58:47.843Z"
   },
   {
    "duration": 28,
    "start_time": "2022-03-20T20:58:47.851Z"
   },
   {
    "duration": 12,
    "start_time": "2022-03-20T20:58:47.880Z"
   },
   {
    "duration": 1482,
    "start_time": "2022-03-21T12:04:14.460Z"
   },
   {
    "duration": 77,
    "start_time": "2022-03-21T12:04:15.945Z"
   },
   {
    "duration": 57,
    "start_time": "2022-03-21T12:04:16.025Z"
   },
   {
    "duration": 12,
    "start_time": "2022-03-21T12:04:16.086Z"
   },
   {
    "duration": 29,
    "start_time": "2022-03-21T12:04:16.101Z"
   },
   {
    "duration": 47,
    "start_time": "2022-03-21T12:04:16.133Z"
   },
   {
    "duration": 34,
    "start_time": "2022-03-21T12:04:16.183Z"
   },
   {
    "duration": 28,
    "start_time": "2022-03-21T12:04:16.219Z"
   },
   {
    "duration": 31,
    "start_time": "2022-03-21T12:04:16.251Z"
   },
   {
    "duration": 29,
    "start_time": "2022-03-21T12:04:16.289Z"
   },
   {
    "duration": 532,
    "start_time": "2022-03-21T12:04:16.322Z"
   },
   {
    "duration": 520,
    "start_time": "2022-03-21T12:04:16.857Z"
   },
   {
    "duration": 376,
    "start_time": "2022-03-21T12:04:17.383Z"
   },
   {
    "duration": 458,
    "start_time": "2022-03-21T12:04:17.761Z"
   },
   {
    "duration": 386,
    "start_time": "2022-03-21T12:04:18.223Z"
   },
   {
    "duration": 522,
    "start_time": "2022-03-21T12:04:18.612Z"
   },
   {
    "duration": 724,
    "start_time": "2022-03-21T12:04:19.136Z"
   },
   {
    "duration": 21,
    "start_time": "2022-03-21T12:04:19.863Z"
   },
   {
    "duration": 454,
    "start_time": "2022-03-21T12:04:19.887Z"
   },
   {
    "duration": 10,
    "start_time": "2022-03-21T12:04:20.344Z"
   },
   {
    "duration": 1071,
    "start_time": "2022-03-21T12:04:20.356Z"
   },
   {
    "duration": 15,
    "start_time": "2022-03-21T12:04:21.430Z"
   },
   {
    "duration": 13,
    "start_time": "2022-03-21T12:04:21.447Z"
   },
   {
    "duration": 55,
    "start_time": "2022-03-21T12:04:21.484Z"
   },
   {
    "duration": 59,
    "start_time": "2022-03-21T12:04:21.542Z"
   },
   {
    "duration": 8,
    "start_time": "2022-03-21T19:34:41.570Z"
   },
   {
    "duration": 44,
    "start_time": "2022-03-21T19:50:11.601Z"
   },
   {
    "duration": 1211,
    "start_time": "2022-03-21T19:50:27.157Z"
   },
   {
    "duration": 123,
    "start_time": "2022-03-21T19:50:28.370Z"
   },
   {
    "duration": 24,
    "start_time": "2022-03-21T19:50:28.495Z"
   },
   {
    "duration": 5,
    "start_time": "2022-03-21T19:50:28.522Z"
   },
   {
    "duration": 7,
    "start_time": "2022-03-21T19:50:28.529Z"
   },
   {
    "duration": 8,
    "start_time": "2022-03-21T19:50:28.538Z"
   },
   {
    "duration": 10,
    "start_time": "2022-03-21T19:50:28.548Z"
   },
   {
    "duration": 50,
    "start_time": "2022-03-21T19:50:28.560Z"
   },
   {
    "duration": 13,
    "start_time": "2022-03-21T19:50:28.612Z"
   },
   {
    "duration": 1226,
    "start_time": "2022-03-21T19:50:28.629Z"
   },
   {
    "duration": 0,
    "start_time": "2022-03-21T19:50:29.857Z"
   },
   {
    "duration": 0,
    "start_time": "2022-03-21T19:50:29.858Z"
   },
   {
    "duration": 0,
    "start_time": "2022-03-21T19:50:29.859Z"
   },
   {
    "duration": 0,
    "start_time": "2022-03-21T19:50:29.860Z"
   },
   {
    "duration": 0,
    "start_time": "2022-03-21T19:50:29.862Z"
   },
   {
    "duration": 0,
    "start_time": "2022-03-21T19:50:29.863Z"
   },
   {
    "duration": 0,
    "start_time": "2022-03-21T19:50:29.864Z"
   },
   {
    "duration": 0,
    "start_time": "2022-03-21T19:50:29.865Z"
   },
   {
    "duration": 0,
    "start_time": "2022-03-21T19:50:29.866Z"
   },
   {
    "duration": 0,
    "start_time": "2022-03-21T19:50:29.867Z"
   },
   {
    "duration": 0,
    "start_time": "2022-03-21T19:50:29.868Z"
   },
   {
    "duration": 0,
    "start_time": "2022-03-21T19:50:29.869Z"
   },
   {
    "duration": 0,
    "start_time": "2022-03-21T19:50:29.870Z"
   },
   {
    "duration": 0,
    "start_time": "2022-03-21T19:50:29.870Z"
   },
   {
    "duration": 0,
    "start_time": "2022-03-21T19:50:29.871Z"
   },
   {
    "duration": 0,
    "start_time": "2022-03-21T19:50:29.872Z"
   },
   {
    "duration": 9,
    "start_time": "2022-03-21T19:51:18.605Z"
   },
   {
    "duration": 9,
    "start_time": "2022-03-21T19:52:46.468Z"
   },
   {
    "duration": 1241,
    "start_time": "2022-03-22T18:24:43.421Z"
   },
   {
    "duration": 128,
    "start_time": "2022-03-22T18:24:44.664Z"
   },
   {
    "duration": 27,
    "start_time": "2022-03-22T18:24:44.796Z"
   },
   {
    "duration": 4,
    "start_time": "2022-03-22T18:24:44.825Z"
   },
   {
    "duration": 9,
    "start_time": "2022-03-22T18:24:44.832Z"
   },
   {
    "duration": 13,
    "start_time": "2022-03-22T18:24:44.844Z"
   },
   {
    "duration": 13,
    "start_time": "2022-03-22T18:24:44.860Z"
   },
   {
    "duration": 18,
    "start_time": "2022-03-22T18:24:44.909Z"
   },
   {
    "duration": 17,
    "start_time": "2022-03-22T18:24:44.932Z"
   },
   {
    "duration": 12,
    "start_time": "2022-03-22T18:24:44.952Z"
   },
   {
    "duration": 5,
    "start_time": "2022-03-22T18:24:44.966Z"
   },
   {
    "duration": 347,
    "start_time": "2022-03-22T18:24:44.973Z"
   },
   {
    "duration": 327,
    "start_time": "2022-03-22T18:24:45.321Z"
   },
   {
    "duration": 234,
    "start_time": "2022-03-22T18:24:45.649Z"
   },
   {
    "duration": 388,
    "start_time": "2022-03-22T18:24:45.885Z"
   },
   {
    "duration": 253,
    "start_time": "2022-03-22T18:24:46.275Z"
   },
   {
    "duration": 328,
    "start_time": "2022-03-22T18:24:46.530Z"
   },
   {
    "duration": 251,
    "start_time": "2022-03-22T18:24:46.859Z"
   },
   {
    "duration": 5,
    "start_time": "2022-03-22T18:24:47.112Z"
   },
   {
    "duration": 303,
    "start_time": "2022-03-22T18:24:47.119Z"
   },
   {
    "duration": 5,
    "start_time": "2022-03-22T18:24:47.424Z"
   },
   {
    "duration": 406,
    "start_time": "2022-03-22T18:24:47.431Z"
   },
   {
    "duration": 9,
    "start_time": "2022-03-22T18:24:47.839Z"
   },
   {
    "duration": 7,
    "start_time": "2022-03-22T18:24:47.850Z"
   },
   {
    "duration": 35,
    "start_time": "2022-03-22T18:24:47.859Z"
   },
   {
    "duration": 21,
    "start_time": "2022-03-22T18:24:47.909Z"
   },
   {
    "duration": 9,
    "start_time": "2022-03-22T18:34:08.794Z"
   },
   {
    "duration": 5,
    "start_time": "2022-03-22T18:37:04.346Z"
   },
   {
    "duration": 5,
    "start_time": "2022-03-22T18:37:25.549Z"
   },
   {
    "duration": 4,
    "start_time": "2022-03-22T18:38:08.184Z"
   },
   {
    "duration": 5,
    "start_time": "2022-03-22T18:38:16.250Z"
   },
   {
    "duration": 5,
    "start_time": "2022-03-22T18:38:33.324Z"
   },
   {
    "duration": 5,
    "start_time": "2022-03-22T18:38:50.796Z"
   },
   {
    "duration": 5,
    "start_time": "2022-03-22T18:39:03.524Z"
   },
   {
    "duration": 5,
    "start_time": "2022-03-22T18:39:26.344Z"
   },
   {
    "duration": 1124,
    "start_time": "2022-03-22T19:05:31.532Z"
   },
   {
    "duration": 75,
    "start_time": "2022-03-22T19:05:32.658Z"
   },
   {
    "duration": 30,
    "start_time": "2022-03-22T19:05:32.735Z"
   },
   {
    "duration": 5,
    "start_time": "2022-03-22T19:05:32.767Z"
   },
   {
    "duration": 11,
    "start_time": "2022-03-22T19:05:32.774Z"
   },
   {
    "duration": 12,
    "start_time": "2022-03-22T19:05:32.809Z"
   },
   {
    "duration": 9,
    "start_time": "2022-03-22T19:05:32.822Z"
   },
   {
    "duration": 19,
    "start_time": "2022-03-22T19:05:32.833Z"
   },
   {
    "duration": 14,
    "start_time": "2022-03-22T19:05:32.855Z"
   },
   {
    "duration": 39,
    "start_time": "2022-03-22T19:05:32.873Z"
   },
   {
    "duration": 5,
    "start_time": "2022-03-22T19:05:32.914Z"
   },
   {
    "duration": 6,
    "start_time": "2022-03-22T19:05:32.921Z"
   },
   {
    "duration": 355,
    "start_time": "2022-03-22T19:05:32.928Z"
   },
   {
    "duration": 317,
    "start_time": "2022-03-22T19:05:33.285Z"
   },
   {
    "duration": 247,
    "start_time": "2022-03-22T19:05:33.608Z"
   },
   {
    "duration": 302,
    "start_time": "2022-03-22T19:05:33.856Z"
   },
   {
    "duration": 246,
    "start_time": "2022-03-22T19:05:34.160Z"
   },
   {
    "duration": 380,
    "start_time": "2022-03-22T19:05:34.409Z"
   },
   {
    "duration": 317,
    "start_time": "2022-03-22T19:05:34.792Z"
   },
   {
    "duration": 5,
    "start_time": "2022-03-22T19:05:35.110Z"
   },
   {
    "duration": 286,
    "start_time": "2022-03-22T19:05:35.117Z"
   },
   {
    "duration": 8,
    "start_time": "2022-03-22T19:05:35.404Z"
   },
   {
    "duration": 402,
    "start_time": "2022-03-22T19:05:35.413Z"
   },
   {
    "duration": 11,
    "start_time": "2022-03-22T19:05:35.817Z"
   },
   {
    "duration": 8,
    "start_time": "2022-03-22T19:05:35.829Z"
   },
   {
    "duration": 27,
    "start_time": "2022-03-22T19:05:35.839Z"
   },
   {
    "duration": 48,
    "start_time": "2022-03-22T19:05:35.868Z"
   }
  ],
  "kernelspec": {
   "display_name": "Python 3",
   "language": "python",
   "name": "python3"
  },
  "language_info": {
   "codemirror_mode": {
    "name": "ipython",
    "version": 3
   },
   "file_extension": ".py",
   "mimetype": "text/x-python",
   "name": "python",
   "nbconvert_exporter": "python",
   "pygments_lexer": "ipython3",
   "version": "3.8.8"
  },
  "toc": {
   "base_numbering": 1,
   "nav_menu": {},
   "number_sections": false,
   "sideBar": true,
   "skip_h1_title": true,
   "title_cell": "Table of Contents",
   "title_sidebar": "Contents",
   "toc_cell": false,
   "toc_position": {},
   "toc_section_display": true,
   "toc_window_display": false
  }
 },
 "nbformat": 4,
 "nbformat_minor": 2
}
