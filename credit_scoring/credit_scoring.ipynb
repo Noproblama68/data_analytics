{
 "cells": [
  {
   "cell_type": "markdown",
   "metadata": {},
   "source": [
    "# Исследование надёжности заёмщиков\n",
    "\n",
    "Заказчик — кредитный отдел банка. Нужно разобраться, влияет ли семейное положение и количество детей клиента на факт погашения кредита в срок. Входные данные от банка — статистика о платёжеспособности клиентов.\n",
    "\n",
    "Результаты исследования будут учтены при построении модели **кредитного скоринга** — специальной системы, которая оценивает способность потенциального заёмщика вернуть кредит банку."
   ]
  },
  {
   "cell_type": "markdown",
   "metadata": {},
   "source": [
    "## Шаг 1. Откроем файл с данными и изучим общую информацию"
   ]
  },
  {
   "cell_type": "code",
   "execution_count": 1,
   "metadata": {
    "scrolled": false
   },
   "outputs": [
    {
     "data": {
      "text/html": [
       "<div>\n",
       "<style scoped>\n",
       "    .dataframe tbody tr th:only-of-type {\n",
       "        vertical-align: middle;\n",
       "    }\n",
       "\n",
       "    .dataframe tbody tr th {\n",
       "        vertical-align: top;\n",
       "    }\n",
       "\n",
       "    .dataframe thead th {\n",
       "        text-align: right;\n",
       "    }\n",
       "</style>\n",
       "<table border=\"1\" class=\"dataframe\">\n",
       "  <thead>\n",
       "    <tr style=\"text-align: right;\">\n",
       "      <th></th>\n",
       "      <th>children</th>\n",
       "      <th>days_employed</th>\n",
       "      <th>dob_years</th>\n",
       "      <th>education</th>\n",
       "      <th>education_id</th>\n",
       "      <th>family_status</th>\n",
       "      <th>family_status_id</th>\n",
       "      <th>gender</th>\n",
       "      <th>income_type</th>\n",
       "      <th>debt</th>\n",
       "      <th>total_income</th>\n",
       "      <th>purpose</th>\n",
       "    </tr>\n",
       "  </thead>\n",
       "  <tbody>\n",
       "    <tr>\n",
       "      <td>0</td>\n",
       "      <td>1</td>\n",
       "      <td>-8437.673028</td>\n",
       "      <td>42</td>\n",
       "      <td>высшее</td>\n",
       "      <td>0</td>\n",
       "      <td>женат / замужем</td>\n",
       "      <td>0</td>\n",
       "      <td>F</td>\n",
       "      <td>сотрудник</td>\n",
       "      <td>0</td>\n",
       "      <td>253875.639453</td>\n",
       "      <td>покупка жилья</td>\n",
       "    </tr>\n",
       "    <tr>\n",
       "      <td>1</td>\n",
       "      <td>1</td>\n",
       "      <td>-4024.803754</td>\n",
       "      <td>36</td>\n",
       "      <td>среднее</td>\n",
       "      <td>1</td>\n",
       "      <td>женат / замужем</td>\n",
       "      <td>0</td>\n",
       "      <td>F</td>\n",
       "      <td>сотрудник</td>\n",
       "      <td>0</td>\n",
       "      <td>112080.014102</td>\n",
       "      <td>приобретение автомобиля</td>\n",
       "    </tr>\n",
       "    <tr>\n",
       "      <td>2</td>\n",
       "      <td>0</td>\n",
       "      <td>-5623.422610</td>\n",
       "      <td>33</td>\n",
       "      <td>Среднее</td>\n",
       "      <td>1</td>\n",
       "      <td>женат / замужем</td>\n",
       "      <td>0</td>\n",
       "      <td>M</td>\n",
       "      <td>сотрудник</td>\n",
       "      <td>0</td>\n",
       "      <td>145885.952297</td>\n",
       "      <td>покупка жилья</td>\n",
       "    </tr>\n",
       "    <tr>\n",
       "      <td>3</td>\n",
       "      <td>3</td>\n",
       "      <td>-4124.747207</td>\n",
       "      <td>32</td>\n",
       "      <td>среднее</td>\n",
       "      <td>1</td>\n",
       "      <td>женат / замужем</td>\n",
       "      <td>0</td>\n",
       "      <td>M</td>\n",
       "      <td>сотрудник</td>\n",
       "      <td>0</td>\n",
       "      <td>267628.550329</td>\n",
       "      <td>дополнительное образование</td>\n",
       "    </tr>\n",
       "    <tr>\n",
       "      <td>4</td>\n",
       "      <td>0</td>\n",
       "      <td>340266.072047</td>\n",
       "      <td>53</td>\n",
       "      <td>среднее</td>\n",
       "      <td>1</td>\n",
       "      <td>гражданский брак</td>\n",
       "      <td>1</td>\n",
       "      <td>F</td>\n",
       "      <td>пенсионер</td>\n",
       "      <td>0</td>\n",
       "      <td>158616.077870</td>\n",
       "      <td>сыграть свадьбу</td>\n",
       "    </tr>\n",
       "    <tr>\n",
       "      <td>5</td>\n",
       "      <td>0</td>\n",
       "      <td>-926.185831</td>\n",
       "      <td>27</td>\n",
       "      <td>высшее</td>\n",
       "      <td>0</td>\n",
       "      <td>гражданский брак</td>\n",
       "      <td>1</td>\n",
       "      <td>M</td>\n",
       "      <td>компаньон</td>\n",
       "      <td>0</td>\n",
       "      <td>255763.565419</td>\n",
       "      <td>покупка жилья</td>\n",
       "    </tr>\n",
       "    <tr>\n",
       "      <td>6</td>\n",
       "      <td>0</td>\n",
       "      <td>-2879.202052</td>\n",
       "      <td>43</td>\n",
       "      <td>высшее</td>\n",
       "      <td>0</td>\n",
       "      <td>женат / замужем</td>\n",
       "      <td>0</td>\n",
       "      <td>F</td>\n",
       "      <td>компаньон</td>\n",
       "      <td>0</td>\n",
       "      <td>240525.971920</td>\n",
       "      <td>операции с жильем</td>\n",
       "    </tr>\n",
       "    <tr>\n",
       "      <td>7</td>\n",
       "      <td>0</td>\n",
       "      <td>-152.779569</td>\n",
       "      <td>50</td>\n",
       "      <td>СРЕДНЕЕ</td>\n",
       "      <td>1</td>\n",
       "      <td>женат / замужем</td>\n",
       "      <td>0</td>\n",
       "      <td>M</td>\n",
       "      <td>сотрудник</td>\n",
       "      <td>0</td>\n",
       "      <td>135823.934197</td>\n",
       "      <td>образование</td>\n",
       "    </tr>\n",
       "    <tr>\n",
       "      <td>8</td>\n",
       "      <td>2</td>\n",
       "      <td>-6929.865299</td>\n",
       "      <td>35</td>\n",
       "      <td>ВЫСШЕЕ</td>\n",
       "      <td>0</td>\n",
       "      <td>гражданский брак</td>\n",
       "      <td>1</td>\n",
       "      <td>F</td>\n",
       "      <td>сотрудник</td>\n",
       "      <td>0</td>\n",
       "      <td>95856.832424</td>\n",
       "      <td>на проведение свадьбы</td>\n",
       "    </tr>\n",
       "    <tr>\n",
       "      <td>9</td>\n",
       "      <td>0</td>\n",
       "      <td>-2188.756445</td>\n",
       "      <td>41</td>\n",
       "      <td>среднее</td>\n",
       "      <td>1</td>\n",
       "      <td>женат / замужем</td>\n",
       "      <td>0</td>\n",
       "      <td>M</td>\n",
       "      <td>сотрудник</td>\n",
       "      <td>0</td>\n",
       "      <td>144425.938277</td>\n",
       "      <td>покупка жилья для семьи</td>\n",
       "    </tr>\n",
       "  </tbody>\n",
       "</table>\n",
       "</div>"
      ],
      "text/plain": [
       "   children  days_employed  dob_years education  education_id  \\\n",
       "0         1   -8437.673028         42    высшее             0   \n",
       "1         1   -4024.803754         36   среднее             1   \n",
       "2         0   -5623.422610         33   Среднее             1   \n",
       "3         3   -4124.747207         32   среднее             1   \n",
       "4         0  340266.072047         53   среднее             1   \n",
       "5         0    -926.185831         27    высшее             0   \n",
       "6         0   -2879.202052         43    высшее             0   \n",
       "7         0    -152.779569         50   СРЕДНЕЕ             1   \n",
       "8         2   -6929.865299         35    ВЫСШЕЕ             0   \n",
       "9         0   -2188.756445         41   среднее             1   \n",
       "\n",
       "      family_status  family_status_id gender income_type  debt   total_income  \\\n",
       "0   женат / замужем                 0      F   сотрудник     0  253875.639453   \n",
       "1   женат / замужем                 0      F   сотрудник     0  112080.014102   \n",
       "2   женат / замужем                 0      M   сотрудник     0  145885.952297   \n",
       "3   женат / замужем                 0      M   сотрудник     0  267628.550329   \n",
       "4  гражданский брак                 1      F   пенсионер     0  158616.077870   \n",
       "5  гражданский брак                 1      M   компаньон     0  255763.565419   \n",
       "6   женат / замужем                 0      F   компаньон     0  240525.971920   \n",
       "7   женат / замужем                 0      M   сотрудник     0  135823.934197   \n",
       "8  гражданский брак                 1      F   сотрудник     0   95856.832424   \n",
       "9   женат / замужем                 0      M   сотрудник     0  144425.938277   \n",
       "\n",
       "                      purpose  \n",
       "0               покупка жилья  \n",
       "1     приобретение автомобиля  \n",
       "2               покупка жилья  \n",
       "3  дополнительное образование  \n",
       "4             сыграть свадьбу  \n",
       "5               покупка жилья  \n",
       "6           операции с жильем  \n",
       "7                 образование  \n",
       "8       на проведение свадьбы  \n",
       "9     покупка жилья для семьи  "
      ]
     },
     "execution_count": 1,
     "metadata": {},
     "output_type": "execute_result"
    }
   ],
   "source": [
    "# импорт библиотеки Pandas и открытие файла 'data.csv'\n",
    "import pandas as pd\n",
    "data = pd.read_csv('/datasets/data.csv')\n",
    "data.head(10)\n",
    "\n",
    "\n"
   ]
  },
  {
   "cell_type": "code",
   "execution_count": 2,
   "metadata": {},
   "outputs": [
    {
     "name": "stdout",
     "output_type": "stream",
     "text": [
      "<class 'pandas.core.frame.DataFrame'>\n",
      "RangeIndex: 21525 entries, 0 to 21524\n",
      "Data columns (total 12 columns):\n",
      "children            21525 non-null int64\n",
      "days_employed       19351 non-null float64\n",
      "dob_years           21525 non-null int64\n",
      "education           21525 non-null object\n",
      "education_id        21525 non-null int64\n",
      "family_status       21525 non-null object\n",
      "family_status_id    21525 non-null int64\n",
      "gender              21525 non-null object\n",
      "income_type         21525 non-null object\n",
      "debt                21525 non-null int64\n",
      "total_income        19351 non-null float64\n",
      "purpose             21525 non-null object\n",
      "dtypes: float64(2), int64(5), object(5)\n",
      "memory usage: 2.0+ MB\n"
     ]
    }
   ],
   "source": [
    "# просмотр общей информации о файле\n",
    "data.info()\n",
    "\n"
   ]
  },
  {
   "cell_type": "code",
   "execution_count": 3,
   "metadata": {},
   "outputs": [
    {
     "data": {
      "text/plain": [
       "children               0\n",
       "days_employed       2174\n",
       "dob_years              0\n",
       "education              0\n",
       "education_id           0\n",
       "family_status          0\n",
       "family_status_id       0\n",
       "gender                 0\n",
       "income_type            0\n",
       "debt                   0\n",
       "total_income        2174\n",
       "purpose                0\n",
       "dtype: int64"
      ]
     },
     "execution_count": 3,
     "metadata": {},
     "output_type": "execute_result"
    }
   ],
   "source": [
    "# подсчет пропусков\n",
    "data.isna().sum()"
   ]
  },
  {
   "cell_type": "code",
   "execution_count": 4,
   "metadata": {},
   "outputs": [
    {
     "data": {
      "text/plain": [
       "54"
      ]
     },
     "execution_count": 4,
     "metadata": {},
     "output_type": "execute_result"
    }
   ],
   "source": [
    "# подсчет дубликатов\n",
    "data.duplicated().sum()\n"
   ]
  },
  {
   "cell_type": "markdown",
   "metadata": {},
   "source": [
    "**Вывод**"
   ]
  },
  {
   "cell_type": "markdown",
   "metadata": {},
   "source": [
    "В ходе изучения общей информации о файле были выявлены следующие проблемы в данных:\n",
    "- Отрицательные значения трудового стажа в столбце 'days_employed';\n",
    "- Пропущенные значения в столбцах 'days_employed' и 'total_income';\n",
    "- Дубликаты."
   ]
  },
  {
   "cell_type": "markdown",
   "metadata": {},
   "source": [
    "## Шаг 2. Предобработка данных"
   ]
  },
  {
   "cell_type": "markdown",
   "metadata": {},
   "source": [
    "### Обработка пропусков"
   ]
  },
  {
   "cell_type": "code",
   "execution_count": 5,
   "metadata": {},
   "outputs": [
    {
     "data": {
      "text/plain": [
       "0"
      ]
     },
     "execution_count": 5,
     "metadata": {},
     "output_type": "execute_result"
    }
   ],
   "source": [
    "# приведение данных в столбце 'days_employed' к значениям по модулю\n",
    "data['days_employed'] = data['days_employed'].abs()\n",
    "\n",
    "# замена пропусков в столбце 'days_employed'\n",
    "data.loc[data['days_employed'].isna(),'days_employed']  = data['days_employed'].median()\n",
    "\n",
    "# проверка столбца\n",
    "data['days_employed'].isna().sum()\n",
    "\n",
    "#замена пропусков в столбце 'total_income'\n",
    "data.loc[data['total_income'].isna(),'total_income']  = data['total_income'].median()\n",
    "\n",
    "# проверка столбца\n",
    "data['total_income'].isna().sum()\n"
   ]
  },
  {
   "cell_type": "markdown",
   "metadata": {},
   "source": [
    "**Вывод**"
   ]
  },
  {
   "cell_type": "markdown",
   "metadata": {},
   "source": [
    "Пропущенные значения в столбцах 'days_employed' и 'total_income'т.е. общий трудовой стаж и ежемесячный доход, вероятно, возникли по причине отсутствия у клиентов трудового стажа и соответственно дохода, либо эти данные просто не были указаны при заполнении анкет, также не исключена техническая ошибка.\n",
    "Данные пропуски были заполнены медианными значениями трудового стажа для столбца 'days_employed' и ежемесячного дохода для столбца 'total_income' с помощью метода isna()."
   ]
  },
  {
   "cell_type": "markdown",
   "metadata": {},
   "source": [
    "### Замена типа данных"
   ]
  },
  {
   "cell_type": "code",
   "execution_count": 6,
   "metadata": {},
   "outputs": [],
   "source": [
    "# замена типа данных с float на int методом astype\n",
    "data['days_employed'] = data['days_employed'].astype('int')\n",
    "data['total_income'] = data['total_income'].astype('int')\n"
   ]
  },
  {
   "cell_type": "markdown",
   "metadata": {},
   "source": [
    "**Вывод**"
   ]
  },
  {
   "cell_type": "markdown",
   "metadata": {},
   "source": [
    "Согласно документации к данным: \n",
    "- 'days_employed'  - общий трудовой стаж в днях;\n",
    "- 'total_income' - ежемесячный доход.\n",
    "\n",
    "Значения в этих столбцах должны быть целыми, поэтому тип данных был преобразован из вещественного в целочисленный."
   ]
  },
  {
   "cell_type": "markdown",
   "metadata": {},
   "source": [
    "### Обработка дубликатов"
   ]
  },
  {
   "cell_type": "code",
   "execution_count": 7,
   "metadata": {},
   "outputs": [
    {
     "data": {
      "text/plain": [
       "0"
      ]
     },
     "execution_count": 7,
     "metadata": {},
     "output_type": "execute_result"
    }
   ],
   "source": [
    "# удаление дубликатов методом drop_duplicates(), аргумент drop со значением True,\n",
    "# чтобы не создавать столбец со старыми значениями индексов\n",
    "data = data.drop_duplicates().reset_index(drop=True)\n",
    "\n",
    "# проверка таблицы\n",
    "data.duplicated().sum()"
   ]
  },
  {
   "cell_type": "markdown",
   "metadata": {},
   "source": [
    "**Вывод**"
   ]
  },
  {
   "cell_type": "markdown",
   "metadata": {},
   "source": [
    "Явные дубликаты, которые могли возникнуть по причине влияния человеческого фактора, например, при копировании данных, удалены и не будут влиять на результаты анализа."
   ]
  },
  {
   "cell_type": "markdown",
   "metadata": {},
   "source": [
    "### Лемматизация"
   ]
  },
  {
   "cell_type": "code",
   "execution_count": 8,
   "metadata": {},
   "outputs": [
    {
     "name": "stdout",
     "output_type": "stream",
     "text": [
      "Counter({' ': 96, 'покупка': 10, 'недвижимость': 10, 'автомобиль': 9, 'образование': 9, 'жилье': 7, 'с': 5, 'операция': 4, 'на': 4, 'свой': 4, 'свадьба': 3, 'строительство': 3, 'получение': 3, 'высокий': 3, 'дополнительный': 2, 'для': 2, 'коммерческий': 2, 'жилой': 2, 'подержать': 2, 'заниматься': 2, 'сделка': 2, 'приобретение': 1, 'сыграть': 1, 'проведение': 1, 'семья': 1, 'собственный': 1, 'со': 1, 'профильный': 1, 'сдача': 1, 'ремонт': 1, '\\n': 1})\n"
     ]
    },
    {
     "data": {
      "text/html": [
       "<div>\n",
       "<style scoped>\n",
       "    .dataframe tbody tr th:only-of-type {\n",
       "        vertical-align: middle;\n",
       "    }\n",
       "\n",
       "    .dataframe tbody tr th {\n",
       "        vertical-align: top;\n",
       "    }\n",
       "\n",
       "    .dataframe thead th {\n",
       "        text-align: right;\n",
       "    }\n",
       "</style>\n",
       "<table border=\"1\" class=\"dataframe\">\n",
       "  <thead>\n",
       "    <tr style=\"text-align: right;\">\n",
       "      <th></th>\n",
       "      <th>purpose</th>\n",
       "      <th>purpose_total</th>\n",
       "    </tr>\n",
       "  </thead>\n",
       "  <tbody>\n",
       "    <tr>\n",
       "      <td>0</td>\n",
       "      <td>покупка жилья</td>\n",
       "      <td>прочее</td>\n",
       "    </tr>\n",
       "    <tr>\n",
       "      <td>1</td>\n",
       "      <td>приобретение автомобиля</td>\n",
       "      <td>автомобиль</td>\n",
       "    </tr>\n",
       "    <tr>\n",
       "      <td>2</td>\n",
       "      <td>покупка жилья</td>\n",
       "      <td>прочее</td>\n",
       "    </tr>\n",
       "    <tr>\n",
       "      <td>3</td>\n",
       "      <td>дополнительное образование</td>\n",
       "      <td>образование</td>\n",
       "    </tr>\n",
       "    <tr>\n",
       "      <td>4</td>\n",
       "      <td>сыграть свадьбу</td>\n",
       "      <td>свадьба</td>\n",
       "    </tr>\n",
       "    <tr>\n",
       "      <td>5</td>\n",
       "      <td>покупка жилья</td>\n",
       "      <td>прочее</td>\n",
       "    </tr>\n",
       "    <tr>\n",
       "      <td>6</td>\n",
       "      <td>операции с жильем</td>\n",
       "      <td>прочее</td>\n",
       "    </tr>\n",
       "    <tr>\n",
       "      <td>7</td>\n",
       "      <td>образование</td>\n",
       "      <td>образование</td>\n",
       "    </tr>\n",
       "    <tr>\n",
       "      <td>8</td>\n",
       "      <td>на проведение свадьбы</td>\n",
       "      <td>свадьба</td>\n",
       "    </tr>\n",
       "    <tr>\n",
       "      <td>9</td>\n",
       "      <td>покупка жилья для семьи</td>\n",
       "      <td>прочее</td>\n",
       "    </tr>\n",
       "  </tbody>\n",
       "</table>\n",
       "</div>"
      ],
      "text/plain": [
       "                      purpose purpose_total\n",
       "0               покупка жилья        прочее\n",
       "1     приобретение автомобиля    автомобиль\n",
       "2               покупка жилья        прочее\n",
       "3  дополнительное образование   образование\n",
       "4             сыграть свадьбу       свадьба\n",
       "5               покупка жилья        прочее\n",
       "6           операции с жильем        прочее\n",
       "7                 образование   образование\n",
       "8       на проведение свадьбы       свадьба\n",
       "9     покупка жилья для семьи        прочее"
      ]
     },
     "execution_count": 8,
     "metadata": {},
     "output_type": "execute_result"
    }
   ],
   "source": [
    "# импорт pymystem3\n",
    "from pymystem3 import Mystem\n",
    "m = Mystem() \n",
    "\n",
    "# получение уникальных значений столбца 'purpose'\n",
    "purpose_unique = data['purpose'].unique()\n",
    "\n",
    "# объдеинение в строку\n",
    "purpose_str = ' '.join(purpose_unique)\n",
    "\n",
    "# лемматизация\n",
    "purpose_lem = m.lemmatize(purpose_str)\n",
    "\n",
    "# подсчет значений в списке\n",
    "from collections import Counter\n",
    "\n",
    "# вывод на экран количества каждой леммы\n",
    "print(Counter(purpose_lem))\n",
    "\n",
    "# проходимся по каждой строке, лемматизируем и на основе полученных лемм создаем столбец с новыми категориями\n",
    "def purpose_funс(cell):\n",
    "    categories = ['недвижимость', 'автомобиль', 'образование', 'свадьба', 'строительство', 'ремонт']\n",
    "    cell_lem = m.lemmatize(cell['purpose'])\n",
    "    \n",
    "    for category in categories:\n",
    "        if category in cell_lem:\n",
    "            return category\n",
    "    return 'прочее'    \n",
    "\n",
    "# создание столбца с новыми категориями\n",
    "data['purpose_total'] = data.apply(purpose_funс, axis=1)\n",
    "\n",
    "# вывод на экран столбцов 'purpose','purpose_total'\n",
    "data[['purpose','purpose_total']].head(10)"
   ]
  },
  {
   "cell_type": "markdown",
   "metadata": {},
   "source": [
    "**Вывод**"
   ]
  },
  {
   "cell_type": "markdown",
   "metadata": {},
   "source": [
    "В ходе проведенных преобразований - поиск уникальных значений столбца 'purpose', лемматизация, определение количества каждой из лемм, стало возможным выделить 7 основных целей получения кредита."
   ]
  },
  {
   "cell_type": "markdown",
   "metadata": {},
   "source": [
    "### Категоризация данных"
   ]
  },
  {
   "cell_type": "markdown",
   "metadata": {},
   "source": [
    "Для целей анализа, чтобы проследить зависимость возврата кредита в срок, нам необходимо выделить в файле категории в зависимости от:\n",
    "- количества детей;\n",
    "- семейного положения;\n",
    "- уровня дохода.\n",
    " \n",
    " Для того, чтобы оптимально хранить информацию о категориях, создадим отдельные файлы-словари."
   ]
  },
  {
   "cell_type": "markdown",
   "metadata": {},
   "source": [
    "#### Количество детей"
   ]
  },
  {
   "cell_type": "code",
   "execution_count": 9,
   "metadata": {},
   "outputs": [
    {
     "data": {
      "text/plain": [
       "0        1\n",
       "2        0\n",
       "3        3\n",
       "8        2\n",
       "291     -1\n",
       "294      4\n",
       "606     20\n",
       "3978     5\n",
       "Name: children, dtype: int64"
      ]
     },
     "execution_count": 9,
     "metadata": {},
     "output_type": "execute_result"
    }
   ],
   "source": [
    "# создание словаря с данными по количеству детей\n",
    "children = data['children']\n",
    "children = children.drop_duplicates()\n",
    "children\n"
   ]
  },
  {
   "cell_type": "markdown",
   "metadata": {},
   "source": [
    "Обработаем артефакты, которые встретились в столбце 'children', а именно:\n",
    "- отрицательное количество детей,для этого применим метод 'abs';\n",
    "- количество детей равное 20 заменим на 2, т.к. на num pad цифры о и 2 рядом, скорее всего произошла опечатка. "
   ]
  },
  {
   "cell_type": "code",
   "execution_count": 10,
   "metadata": {},
   "outputs": [
    {
     "data": {
      "text/plain": [
       "0       1\n",
       "2       0\n",
       "3       3\n",
       "8       2\n",
       "294     4\n",
       "3978    5\n",
       "Name: children, dtype: int64"
      ]
     },
     "execution_count": 10,
     "metadata": {},
     "output_type": "execute_result"
    }
   ],
   "source": [
    "# избавимся от отрицательных значений и заменим количество 20 на 2\n",
    "data['children'] = data['children'].abs().replace(20, 2)\n",
    "\n",
    "# удаление дубликатов \n",
    "children = data['children'].drop_duplicates()\n",
    "children"
   ]
  },
  {
   "cell_type": "markdown",
   "metadata": {},
   "source": [
    "Теперь создаем категории по количеству детей:\n",
    "- нет детей;\n",
    "- 1-2 ребенка;\n",
    "- много детей."
   ]
  },
  {
   "cell_type": "code",
   "execution_count": 11,
   "metadata": {},
   "outputs": [
    {
     "data": {
      "text/html": [
       "<div>\n",
       "<style scoped>\n",
       "    .dataframe tbody tr th:only-of-type {\n",
       "        vertical-align: middle;\n",
       "    }\n",
       "\n",
       "    .dataframe tbody tr th {\n",
       "        vertical-align: top;\n",
       "    }\n",
       "\n",
       "    .dataframe thead th {\n",
       "        text-align: right;\n",
       "    }\n",
       "</style>\n",
       "<table border=\"1\" class=\"dataframe\">\n",
       "  <thead>\n",
       "    <tr style=\"text-align: right;\">\n",
       "      <th></th>\n",
       "      <th>children</th>\n",
       "      <th>children_group</th>\n",
       "    </tr>\n",
       "  </thead>\n",
       "  <tbody>\n",
       "    <tr>\n",
       "      <td>0</td>\n",
       "      <td>1</td>\n",
       "      <td>1-2 ребенка</td>\n",
       "    </tr>\n",
       "    <tr>\n",
       "      <td>1</td>\n",
       "      <td>1</td>\n",
       "      <td>1-2 ребенка</td>\n",
       "    </tr>\n",
       "    <tr>\n",
       "      <td>2</td>\n",
       "      <td>0</td>\n",
       "      <td>нет детей</td>\n",
       "    </tr>\n",
       "    <tr>\n",
       "      <td>3</td>\n",
       "      <td>3</td>\n",
       "      <td>много детей</td>\n",
       "    </tr>\n",
       "    <tr>\n",
       "      <td>4</td>\n",
       "      <td>0</td>\n",
       "      <td>нет детей</td>\n",
       "    </tr>\n",
       "  </tbody>\n",
       "</table>\n",
       "</div>"
      ],
      "text/plain": [
       "   children children_group\n",
       "0         1    1-2 ребенка\n",
       "1         1    1-2 ребенка\n",
       "2         0      нет детей\n",
       "3         3    много детей\n",
       "4         0      нет детей"
      ]
     },
     "execution_count": 11,
     "metadata": {},
     "output_type": "execute_result"
    }
   ],
   "source": [
    "# создаем функцию, которая будет проходиться по всем строкам исходной таблицы и проверять значения из столбца 'children' \n",
    "# на соответствие выделенным категориям\n",
    "def children_func(children):\n",
    "    if children==0:\n",
    "        return 'нет детей'\n",
    "    elif 1 >= children <= 2:\n",
    "        return '1-2 ребенка'\n",
    "    return 'много детей'\n",
    "\n",
    "# создаем столбец с категорями по количеству детей\n",
    "data['children_group'] = data['children'].apply(children_func)\n",
    "data[['children','children_group']].head()"
   ]
  },
  {
   "cell_type": "markdown",
   "metadata": {},
   "source": [
    "#### Семейное положение"
   ]
  },
  {
   "cell_type": "code",
   "execution_count": 12,
   "metadata": {},
   "outputs": [
    {
     "data": {
      "text/html": [
       "<div>\n",
       "<style scoped>\n",
       "    .dataframe tbody tr th:only-of-type {\n",
       "        vertical-align: middle;\n",
       "    }\n",
       "\n",
       "    .dataframe tbody tr th {\n",
       "        vertical-align: top;\n",
       "    }\n",
       "\n",
       "    .dataframe thead th {\n",
       "        text-align: right;\n",
       "    }\n",
       "</style>\n",
       "<table border=\"1\" class=\"dataframe\">\n",
       "  <thead>\n",
       "    <tr style=\"text-align: right;\">\n",
       "      <th></th>\n",
       "      <th>family_status_id</th>\n",
       "      <th>family_status</th>\n",
       "    </tr>\n",
       "  </thead>\n",
       "  <tbody>\n",
       "    <tr>\n",
       "      <td>0</td>\n",
       "      <td>0</td>\n",
       "      <td>женат / замужем</td>\n",
       "    </tr>\n",
       "    <tr>\n",
       "      <td>1</td>\n",
       "      <td>1</td>\n",
       "      <td>гражданский брак</td>\n",
       "    </tr>\n",
       "    <tr>\n",
       "      <td>2</td>\n",
       "      <td>2</td>\n",
       "      <td>вдовец / вдова</td>\n",
       "    </tr>\n",
       "    <tr>\n",
       "      <td>3</td>\n",
       "      <td>3</td>\n",
       "      <td>в разводе</td>\n",
       "    </tr>\n",
       "    <tr>\n",
       "      <td>4</td>\n",
       "      <td>4</td>\n",
       "      <td>Не женат / не замужем</td>\n",
       "    </tr>\n",
       "  </tbody>\n",
       "</table>\n",
       "</div>"
      ],
      "text/plain": [
       "   family_status_id          family_status\n",
       "0                 0        женат / замужем\n",
       "1                 1       гражданский брак\n",
       "2                 2         вдовец / вдова\n",
       "3                 3              в разводе\n",
       "4                 4  Не женат / не замужем"
      ]
     },
     "execution_count": 12,
     "metadata": {},
     "output_type": "execute_result"
    }
   ],
   "source": [
    "# создание словаря с данными категорий семейного положения\n",
    "family = data[['family_status_id', 'family_status']].drop_duplicates().reset_index(drop=True) \n",
    "family"
   ]
  },
  {
   "cell_type": "markdown",
   "metadata": {},
   "source": [
    "#### Уровень дохода"
   ]
  },
  {
   "cell_type": "code",
   "execution_count": 13,
   "metadata": {},
   "outputs": [],
   "source": [
    "# создание списка критериев уровня дохода\n",
    "labels=['низкий', 'средний', 'высокий']\n",
    "\n",
    "# разбивка дохода на группы и создание нового столбца с этими группами с помощью метода qcut\n",
    "data['income_group'] = pd.qcut(data['total_income'], 3, labels=labels)\n"
   ]
  },
  {
   "cell_type": "markdown",
   "metadata": {},
   "source": [
    "**Вывод**"
   ]
  },
  {
   "cell_type": "markdown",
   "metadata": {},
   "source": [
    "Мы разбили основные показатели, влияющие на возврат кредита в срок, на категории и далее можно группировать данные по этим категорям, чтобы ответить на основные вопросы исследования."
   ]
  },
  {
   "cell_type": "markdown",
   "metadata": {},
   "source": [
    "## Шаг 3. Ответим на вопросы"
   ]
  },
  {
   "cell_type": "markdown",
   "metadata": {},
   "source": [
    "- Есть ли зависимость между наличием детей и возвратом кредита в срок?"
   ]
  },
  {
   "cell_type": "code",
   "execution_count": 14,
   "metadata": {},
   "outputs": [
    {
     "data": {
      "text/html": [
       "<div>\n",
       "<style scoped>\n",
       "    .dataframe tbody tr th:only-of-type {\n",
       "        vertical-align: middle;\n",
       "    }\n",
       "\n",
       "    .dataframe tbody tr th {\n",
       "        vertical-align: top;\n",
       "    }\n",
       "\n",
       "    .dataframe thead tr th {\n",
       "        text-align: left;\n",
       "    }\n",
       "\n",
       "    .dataframe thead tr:last-of-type th {\n",
       "        text-align: right;\n",
       "    }\n",
       "</style>\n",
       "<table border=\"1\" class=\"dataframe\">\n",
       "  <thead>\n",
       "    <tr>\n",
       "      <th></th>\n",
       "      <th colspan=\"2\" halign=\"left\">debt</th>\n",
       "    </tr>\n",
       "    <tr>\n",
       "      <th></th>\n",
       "      <th>mean</th>\n",
       "      <th>count</th>\n",
       "    </tr>\n",
       "    <tr>\n",
       "      <th>children_group</th>\n",
       "      <th></th>\n",
       "      <th></th>\n",
       "    </tr>\n",
       "  </thead>\n",
       "  <tbody>\n",
       "    <tr>\n",
       "      <td>1-2 ребенка</td>\n",
       "      <td>0.091639</td>\n",
       "      <td>4856</td>\n",
       "    </tr>\n",
       "    <tr>\n",
       "      <td>много детей</td>\n",
       "      <td>0.092903</td>\n",
       "      <td>2508</td>\n",
       "    </tr>\n",
       "    <tr>\n",
       "      <td>нет детей</td>\n",
       "      <td>0.075353</td>\n",
       "      <td>14107</td>\n",
       "    </tr>\n",
       "  </tbody>\n",
       "</table>\n",
       "</div>"
      ],
      "text/plain": [
       "                    debt       \n",
       "                    mean  count\n",
       "children_group                 \n",
       "1-2 ребенка     0.091639   4856\n",
       "много детей     0.092903   2508\n",
       "нет детей       0.075353  14107"
      ]
     },
     "execution_count": 14,
     "metadata": {},
     "output_type": "execute_result"
    }
   ],
   "source": [
    "# группировка данных по категориям количества детей и \n",
    "# подсчет коэффициента невозврата кредита(как среднего значения по столбцу 'debt') и кол-ва невозвратов\n",
    "report_1 = data.groupby('children_group').agg({'debt':['mean', 'count']})\n",
    "report_1"
   ]
  },
  {
   "cell_type": "markdown",
   "metadata": {},
   "source": [
    "**Вывод**"
   ]
  },
  {
   "cell_type": "markdown",
   "metadata": {},
   "source": [
    "На основании созданного отчета можно сделать вывод, что самая большая доля невозвратов среди категории людей, у которых много детей (больше 2-х), наименьшая доля невозвратов среди бездетных клиентов."
   ]
  },
  {
   "cell_type": "markdown",
   "metadata": {},
   "source": [
    "- Есть ли зависимость между семейным положением и возвратом кредита в срок?"
   ]
  },
  {
   "cell_type": "code",
   "execution_count": 15,
   "metadata": {},
   "outputs": [
    {
     "data": {
      "text/html": [
       "<div>\n",
       "<style scoped>\n",
       "    .dataframe tbody tr th:only-of-type {\n",
       "        vertical-align: middle;\n",
       "    }\n",
       "\n",
       "    .dataframe tbody tr th {\n",
       "        vertical-align: top;\n",
       "    }\n",
       "\n",
       "    .dataframe thead tr th {\n",
       "        text-align: left;\n",
       "    }\n",
       "\n",
       "    .dataframe thead tr:last-of-type th {\n",
       "        text-align: right;\n",
       "    }\n",
       "</style>\n",
       "<table border=\"1\" class=\"dataframe\">\n",
       "  <thead>\n",
       "    <tr>\n",
       "      <th></th>\n",
       "      <th colspan=\"2\" halign=\"left\">debt</th>\n",
       "    </tr>\n",
       "    <tr>\n",
       "      <th></th>\n",
       "      <th>mean</th>\n",
       "      <th>count</th>\n",
       "    </tr>\n",
       "    <tr>\n",
       "      <th>family_status</th>\n",
       "      <th></th>\n",
       "      <th></th>\n",
       "    </tr>\n",
       "  </thead>\n",
       "  <tbody>\n",
       "    <tr>\n",
       "      <td>Не женат / не замужем</td>\n",
       "      <td>0.097509</td>\n",
       "      <td>2810</td>\n",
       "    </tr>\n",
       "    <tr>\n",
       "      <td>в разводе</td>\n",
       "      <td>0.071130</td>\n",
       "      <td>1195</td>\n",
       "    </tr>\n",
       "    <tr>\n",
       "      <td>вдовец / вдова</td>\n",
       "      <td>0.065693</td>\n",
       "      <td>959</td>\n",
       "    </tr>\n",
       "    <tr>\n",
       "      <td>гражданский брак</td>\n",
       "      <td>0.093202</td>\n",
       "      <td>4163</td>\n",
       "    </tr>\n",
       "    <tr>\n",
       "      <td>женат / замужем</td>\n",
       "      <td>0.075421</td>\n",
       "      <td>12344</td>\n",
       "    </tr>\n",
       "  </tbody>\n",
       "</table>\n",
       "</div>"
      ],
      "text/plain": [
       "                           debt       \n",
       "                           mean  count\n",
       "family_status                         \n",
       "Не женат / не замужем  0.097509   2810\n",
       "в разводе              0.071130   1195\n",
       "вдовец / вдова         0.065693    959\n",
       "гражданский брак       0.093202   4163\n",
       "женат / замужем        0.075421  12344"
      ]
     },
     "execution_count": 15,
     "metadata": {},
     "output_type": "execute_result"
    }
   ],
   "source": [
    "# группировка данных по категориям семейного положения\n",
    "report_2 = data.groupby('family_status').agg({'debt':['mean', 'count']})\n",
    "report_2"
   ]
  },
  {
   "cell_type": "markdown",
   "metadata": {},
   "source": [
    "**Вывод**"
   ]
  },
  {
   "cell_type": "markdown",
   "metadata": {},
   "source": [
    "\n",
    "Самая большая доля невозвратов среди не женатых/не замужних людей, а самые ответственные заемщики - вдовцы."
   ]
  },
  {
   "cell_type": "markdown",
   "metadata": {},
   "source": [
    "- Есть ли зависимость между уровнем дохода и возвратом кредита в срок?"
   ]
  },
  {
   "cell_type": "code",
   "execution_count": 16,
   "metadata": {},
   "outputs": [
    {
     "data": {
      "text/html": [
       "<div>\n",
       "<style scoped>\n",
       "    .dataframe tbody tr th:only-of-type {\n",
       "        vertical-align: middle;\n",
       "    }\n",
       "\n",
       "    .dataframe tbody tr th {\n",
       "        vertical-align: top;\n",
       "    }\n",
       "\n",
       "    .dataframe thead tr th {\n",
       "        text-align: left;\n",
       "    }\n",
       "\n",
       "    .dataframe thead tr:last-of-type th {\n",
       "        text-align: right;\n",
       "    }\n",
       "</style>\n",
       "<table border=\"1\" class=\"dataframe\">\n",
       "  <thead>\n",
       "    <tr>\n",
       "      <th></th>\n",
       "      <th colspan=\"2\" halign=\"left\">debt</th>\n",
       "    </tr>\n",
       "    <tr>\n",
       "      <th></th>\n",
       "      <th>mean</th>\n",
       "      <th>count</th>\n",
       "    </tr>\n",
       "    <tr>\n",
       "      <th>income_group</th>\n",
       "      <th></th>\n",
       "      <th></th>\n",
       "    </tr>\n",
       "  </thead>\n",
       "  <tbody>\n",
       "    <tr>\n",
       "      <td>низкий</td>\n",
       "      <td>0.081179</td>\n",
       "      <td>7157</td>\n",
       "    </tr>\n",
       "    <tr>\n",
       "      <td>средний</td>\n",
       "      <td>0.086349</td>\n",
       "      <td>7157</td>\n",
       "    </tr>\n",
       "    <tr>\n",
       "      <td>высокий</td>\n",
       "      <td>0.075730</td>\n",
       "      <td>7157</td>\n",
       "    </tr>\n",
       "  </tbody>\n",
       "</table>\n",
       "</div>"
      ],
      "text/plain": [
       "                  debt      \n",
       "                  mean count\n",
       "income_group                \n",
       "низкий        0.081179  7157\n",
       "средний       0.086349  7157\n",
       "высокий       0.075730  7157"
      ]
     },
     "execution_count": 16,
     "metadata": {},
     "output_type": "execute_result"
    }
   ],
   "source": [
    "# группировка данных по категориям уровня дохода\n",
    "report_3 = data.groupby('income_group').agg({'debt':['mean', 'count']})\n",
    "report_3"
   ]
  },
  {
   "cell_type": "markdown",
   "metadata": {},
   "source": [
    "**Вывод**"
   ]
  },
  {
   "cell_type": "markdown",
   "metadata": {},
   "source": [
    "Люди с высоким уровнем дохода чаще возвращают кредиты, доля невозврата по ним самая маленькая, а вот люди со средним доходом невозвращают кредиты даже чаще, чем люди с низким доходом."
   ]
  },
  {
   "cell_type": "markdown",
   "metadata": {},
   "source": [
    "- Как разные цели кредита влияют на его возврат в срок?"
   ]
  },
  {
   "cell_type": "code",
   "execution_count": 17,
   "metadata": {},
   "outputs": [
    {
     "data": {
      "text/html": [
       "<div>\n",
       "<style scoped>\n",
       "    .dataframe tbody tr th:only-of-type {\n",
       "        vertical-align: middle;\n",
       "    }\n",
       "\n",
       "    .dataframe tbody tr th {\n",
       "        vertical-align: top;\n",
       "    }\n",
       "\n",
       "    .dataframe thead tr th {\n",
       "        text-align: left;\n",
       "    }\n",
       "\n",
       "    .dataframe thead tr:last-of-type th {\n",
       "        text-align: right;\n",
       "    }\n",
       "</style>\n",
       "<table border=\"1\" class=\"dataframe\">\n",
       "  <thead>\n",
       "    <tr>\n",
       "      <th></th>\n",
       "      <th colspan=\"2\" halign=\"left\">debt</th>\n",
       "    </tr>\n",
       "    <tr>\n",
       "      <th></th>\n",
       "      <th>mean</th>\n",
       "      <th>count</th>\n",
       "    </tr>\n",
       "    <tr>\n",
       "      <th>purpose_total</th>\n",
       "      <th></th>\n",
       "      <th></th>\n",
       "    </tr>\n",
       "  </thead>\n",
       "  <tbody>\n",
       "    <tr>\n",
       "      <td>автомобиль</td>\n",
       "      <td>0.093547</td>\n",
       "      <td>4308</td>\n",
       "    </tr>\n",
       "    <tr>\n",
       "      <td>недвижимость</td>\n",
       "      <td>0.074610</td>\n",
       "      <td>6353</td>\n",
       "    </tr>\n",
       "    <tr>\n",
       "      <td>образование</td>\n",
       "      <td>0.092177</td>\n",
       "      <td>4014</td>\n",
       "    </tr>\n",
       "    <tr>\n",
       "      <td>прочее</td>\n",
       "      <td>0.070835</td>\n",
       "      <td>3854</td>\n",
       "    </tr>\n",
       "    <tr>\n",
       "      <td>ремонт</td>\n",
       "      <td>0.057661</td>\n",
       "      <td>607</td>\n",
       "    </tr>\n",
       "    <tr>\n",
       "      <td>свадьба</td>\n",
       "      <td>0.079657</td>\n",
       "      <td>2335</td>\n",
       "    </tr>\n",
       "  </tbody>\n",
       "</table>\n",
       "</div>"
      ],
      "text/plain": [
       "                   debt      \n",
       "                   mean count\n",
       "purpose_total                \n",
       "автомобиль     0.093547  4308\n",
       "недвижимость   0.074610  6353\n",
       "образование    0.092177  4014\n",
       "прочее         0.070835  3854\n",
       "ремонт         0.057661   607\n",
       "свадьба        0.079657  2335"
      ]
     },
     "execution_count": 17,
     "metadata": {},
     "output_type": "execute_result"
    }
   ],
   "source": [
    "# группировка данных по целям кредита\n",
    "report_4 = data.groupby('purpose_total').agg({'debt':['mean', 'count']})\n",
    "report_4\n"
   ]
  },
  {
   "cell_type": "markdown",
   "metadata": {},
   "source": [
    "**Вывод**"
   ]
  },
  {
   "cell_type": "markdown",
   "metadata": {},
   "source": [
    "Самая большая доля невозвратов среди людей, взявших кредит на приобретение автомобиля и образование, а вот люди, взвшие кредит на ремонт, возвращают деньги чаще."
   ]
  },
  {
   "cell_type": "markdown",
   "metadata": {},
   "source": [
    "## Шаг 4. Общий вывод"
   ]
  },
  {
   "cell_type": "markdown",
   "metadata": {},
   "source": [
    "\n",
    "    \n",
    "В исходных данных были выявлены проблемы, перед исследованием была осуществлена предобработка:\n",
    "- пропущенные значения дней трудового стажа и ежемесячного дохода были заменены на медианные значения;\n",
    "- был преобразован тип данных из вещественного в целочисленный;\n",
    "- были удалены дубликаты.\n",
    "\n",
    "Данные о заемщиках были объединены в категории и было выявлено, что на факт погашения кредита в срок влияет:\n",
    "- количество детей;\n",
    "- семейное положение;\n",
    "- уровень дохода;\n",
    "- цель кредита.\n",
    "    \n",
    "Таким образом в ходе исследования было установлено:\n",
    "    \n",
    "1. На многодетных заемщиков (больше 2-х детей) приходится самая большая доля невозвратов, а заемщики, у которых нет детей ведут себя более ответственно, доля невозвратов по ним наименьшая. \n",
    " \n",
    "    \n",
    "2. В зависимотси от семейного положения самая большая доля невозвратов среди не женатых/не замужних людей, а самые ответственные заемщики - вдовцы.    \n",
    "     \n",
    "    \n",
    "3. В зависимости от уровня дохода было установлено, что люди с высоким уровнем дохода чаще возвращают кредиты, доля невозвратов по ним самая маленькая, а вот люди со средним доходом невозвращают кредиты даже чаще, чем люди с низким доходом.\n",
    "    \n",
    "    \n",
    "4. Зависимость от целей кредита (всего их было выделено 7: автомобиль, недвижимость, образование, ремонт, свадьба и прочее) следующая: самая большая доля невозвратов среди людей, взявших кредит на приобретение автомобиля и образование, а вот люди, взвшие кредит на ремонт, возвращают деньги чаще.\n",
    "    "
   ]
  }
 ],
 "metadata": {
  "ExecuteTimeLog": [
   {
    "duration": 704,
    "start_time": "2021-11-08T19:20:25.452Z"
   },
   {
    "duration": 55,
    "start_time": "2021-11-08T19:21:39.690Z"
   },
   {
    "duration": 85,
    "start_time": "2021-11-08T19:21:53.934Z"
   },
   {
    "duration": 64,
    "start_time": "2021-11-08T19:22:17.057Z"
   },
   {
    "duration": 74,
    "start_time": "2021-11-08T19:23:14.305Z"
   },
   {
    "duration": 70,
    "start_time": "2021-11-08T19:23:26.834Z"
   },
   {
    "duration": 77,
    "start_time": "2021-11-08T19:23:31.347Z"
   },
   {
    "duration": 63,
    "start_time": "2021-11-08T19:23:41.674Z"
   },
   {
    "duration": 75,
    "start_time": "2021-11-08T19:26:52.820Z"
   },
   {
    "duration": 75,
    "start_time": "2021-11-08T19:28:36.450Z"
   },
   {
    "duration": 93,
    "start_time": "2021-11-08T19:28:51.190Z"
   },
   {
    "duration": 914,
    "start_time": "2021-11-09T11:31:20.590Z"
   },
   {
    "duration": 79,
    "start_time": "2021-11-09T11:31:44.239Z"
   },
   {
    "duration": 108,
    "start_time": "2021-11-09T11:47:23.563Z"
   },
   {
    "duration": 86,
    "start_time": "2021-11-09T11:48:42.624Z"
   },
   {
    "duration": 24,
    "start_time": "2021-11-09T11:49:20.696Z"
   },
   {
    "duration": 88,
    "start_time": "2021-11-09T11:49:26.330Z"
   },
   {
    "duration": 616,
    "start_time": "2021-11-09T11:49:52.147Z"
   },
   {
    "duration": 102,
    "start_time": "2021-11-09T11:50:06.780Z"
   },
   {
    "duration": 91,
    "start_time": "2021-11-09T11:50:28.284Z"
   },
   {
    "duration": 26,
    "start_time": "2021-11-09T11:54:47.574Z"
   },
   {
    "duration": 23,
    "start_time": "2021-11-09T11:55:02.316Z"
   },
   {
    "duration": 14,
    "start_time": "2021-11-09T11:59:03.129Z"
   },
   {
    "duration": 14,
    "start_time": "2021-11-09T11:59:42.356Z"
   },
   {
    "duration": 409,
    "start_time": "2021-11-09T12:09:53.141Z"
   },
   {
    "duration": 435,
    "start_time": "2021-11-09T12:10:13.645Z"
   },
   {
    "duration": 23,
    "start_time": "2021-11-09T12:12:42.366Z"
   },
   {
    "duration": 403,
    "start_time": "2021-11-09T12:22:00.369Z"
   },
   {
    "duration": 14,
    "start_time": "2021-11-09T12:22:08.855Z"
   },
   {
    "duration": 12,
    "start_time": "2021-11-09T12:22:45.297Z"
   },
   {
    "duration": 12,
    "start_time": "2021-11-09T12:22:50.663Z"
   },
   {
    "duration": 34,
    "start_time": "2021-11-09T12:25:55.893Z"
   },
   {
    "duration": 411,
    "start_time": "2021-11-09T12:28:18.348Z"
   },
   {
    "duration": 22,
    "start_time": "2021-11-09T12:28:45.295Z"
   },
   {
    "duration": 6,
    "start_time": "2021-11-09T12:33:09.315Z"
   },
   {
    "duration": 5,
    "start_time": "2021-11-09T12:33:11.423Z"
   },
   {
    "duration": 6,
    "start_time": "2021-11-09T12:33:27.631Z"
   },
   {
    "duration": 164,
    "start_time": "2021-11-09T12:34:16.707Z"
   },
   {
    "duration": 18,
    "start_time": "2021-11-09T12:34:25.478Z"
   },
   {
    "duration": 465,
    "start_time": "2021-11-09T12:44:43.679Z"
   },
   {
    "duration": 546,
    "start_time": "2021-11-09T12:45:14.208Z"
   },
   {
    "duration": 17,
    "start_time": "2021-11-09T12:45:23.887Z"
   },
   {
    "duration": 13,
    "start_time": "2021-11-09T12:46:45.936Z"
   },
   {
    "duration": 12,
    "start_time": "2021-11-09T12:46:58.632Z"
   },
   {
    "duration": 12,
    "start_time": "2021-11-09T12:47:09.416Z"
   },
   {
    "duration": 93,
    "start_time": "2021-11-09T12:47:25.149Z"
   },
   {
    "duration": 883,
    "start_time": "2021-11-09T12:47:33.416Z"
   },
   {
    "duration": 17,
    "start_time": "2021-11-09T12:47:37.696Z"
   },
   {
    "duration": 14,
    "start_time": "2021-11-09T12:47:40.531Z"
   },
   {
    "duration": 24,
    "start_time": "2021-11-09T12:47:43.300Z"
   },
   {
    "duration": 519,
    "start_time": "2021-11-09T12:48:07.097Z"
   },
   {
    "duration": 19,
    "start_time": "2021-11-09T12:48:42.626Z"
   },
   {
    "duration": 18,
    "start_time": "2021-11-09T12:49:55.985Z"
   },
   {
    "duration": 12,
    "start_time": "2021-11-09T12:57:41.847Z"
   },
   {
    "duration": 12,
    "start_time": "2021-11-09T12:57:45.092Z"
   },
   {
    "duration": 141,
    "start_time": "2021-11-09T13:00:18.088Z"
   },
   {
    "duration": 13,
    "start_time": "2021-11-09T13:00:43.907Z"
   },
   {
    "duration": 16,
    "start_time": "2021-11-09T13:02:30.055Z"
   },
   {
    "duration": 12,
    "start_time": "2021-11-09T13:02:53.335Z"
   },
   {
    "duration": 11,
    "start_time": "2021-11-09T13:02:58.336Z"
   },
   {
    "duration": 20,
    "start_time": "2021-11-09T13:03:32.707Z"
   },
   {
    "duration": 22,
    "start_time": "2021-11-09T13:04:56.244Z"
   },
   {
    "duration": 23,
    "start_time": "2021-11-09T13:05:25.027Z"
   },
   {
    "duration": 15,
    "start_time": "2021-11-09T13:05:42.804Z"
   },
   {
    "duration": 16,
    "start_time": "2021-11-09T13:06:00.317Z"
   },
   {
    "duration": 10,
    "start_time": "2021-11-09T17:07:54.204Z"
   },
   {
    "duration": 9,
    "start_time": "2021-11-09T17:08:40.629Z"
   },
   {
    "duration": 7,
    "start_time": "2021-11-09T17:09:12.059Z"
   },
   {
    "duration": 19,
    "start_time": "2021-11-09T17:09:28.346Z"
   },
   {
    "duration": 6,
    "start_time": "2021-11-09T17:09:39.670Z"
   },
   {
    "duration": 75,
    "start_time": "2021-11-09T17:26:05.804Z"
   },
   {
    "duration": 42,
    "start_time": "2021-11-09T17:27:09.262Z"
   },
   {
    "duration": 43,
    "start_time": "2021-11-09T17:27:44.824Z"
   },
   {
    "duration": 44,
    "start_time": "2021-11-09T17:27:49.085Z"
   },
   {
    "duration": 441,
    "start_time": "2021-11-10T11:32:24.517Z"
   },
   {
    "duration": 844,
    "start_time": "2021-11-10T11:32:43.778Z"
   },
   {
    "duration": 15,
    "start_time": "2021-11-10T11:32:44.624Z"
   },
   {
    "duration": 13,
    "start_time": "2021-11-10T11:32:44.641Z"
   },
   {
    "duration": 44,
    "start_time": "2021-11-10T11:32:44.656Z"
   },
   {
    "duration": 20,
    "start_time": "2021-11-10T11:32:44.702Z"
   },
   {
    "duration": 6,
    "start_time": "2021-11-10T11:32:44.724Z"
   },
   {
    "duration": 84,
    "start_time": "2021-11-10T11:32:44.733Z"
   },
   {
    "duration": 413,
    "start_time": "2021-11-10T11:32:44.820Z"
   },
   {
    "duration": 327,
    "start_time": "2021-11-10T11:37:32.189Z"
   },
   {
    "duration": 6,
    "start_time": "2021-11-10T11:38:45.982Z"
   },
   {
    "duration": 6,
    "start_time": "2021-11-10T11:38:48.874Z"
   },
   {
    "duration": 27,
    "start_time": "2021-11-10T11:39:00.558Z"
   },
   {
    "duration": 550,
    "start_time": "2021-11-10T11:40:00.093Z"
   },
   {
    "duration": 3305,
    "start_time": "2021-11-10T11:49:46.097Z"
   },
   {
    "duration": 3520,
    "start_time": "2021-11-10T11:49:57.684Z"
   },
   {
    "duration": 3207,
    "start_time": "2021-11-10T12:09:11.624Z"
   },
   {
    "duration": 3307,
    "start_time": "2021-11-10T12:09:22.266Z"
   },
   {
    "duration": 47,
    "start_time": "2021-11-10T12:13:16.445Z"
   },
   {
    "duration": 8,
    "start_time": "2021-11-10T12:13:29.449Z"
   },
   {
    "duration": 28,
    "start_time": "2021-11-10T12:22:18.899Z"
   },
   {
    "duration": 9,
    "start_time": "2021-11-10T12:22:52.032Z"
   },
   {
    "duration": 939,
    "start_time": "2021-11-10T12:27:22.462Z"
   },
   {
    "duration": 1017,
    "start_time": "2021-11-10T12:28:44.443Z"
   },
   {
    "duration": 6390,
    "start_time": "2021-11-10T18:48:40.605Z"
   },
   {
    "duration": 6927,
    "start_time": "2021-11-10T18:49:01.439Z"
   },
   {
    "duration": 6704,
    "start_time": "2021-11-10T18:49:16.589Z"
   },
   {
    "duration": 6134,
    "start_time": "2021-11-10T18:49:23.999Z"
   },
   {
    "duration": 6772,
    "start_time": "2021-11-10T18:49:30.770Z"
   },
   {
    "duration": 6043,
    "start_time": "2021-11-10T18:50:39.946Z"
   },
   {
    "duration": 6263,
    "start_time": "2021-11-10T18:55:29.648Z"
   },
   {
    "duration": 9843,
    "start_time": "2021-11-10T18:58:10.475Z"
   },
   {
    "duration": 6027,
    "start_time": "2021-11-10T19:11:51.699Z"
   },
   {
    "duration": 5683,
    "start_time": "2021-11-10T19:15:09.261Z"
   },
   {
    "duration": 13597,
    "start_time": "2021-11-10T19:20:03.770Z"
   },
   {
    "duration": 9502,
    "start_time": "2021-11-10T19:21:00.126Z"
   },
   {
    "duration": 6299,
    "start_time": "2021-11-10T19:22:35.527Z"
   },
   {
    "duration": 5752,
    "start_time": "2021-11-10T19:39:52.204Z"
   },
   {
    "duration": 389,
    "start_time": "2021-11-11T11:19:27.972Z"
   },
   {
    "duration": 741,
    "start_time": "2021-11-11T11:19:50.035Z"
   },
   {
    "duration": 13,
    "start_time": "2021-11-11T11:19:50.779Z"
   },
   {
    "duration": 12,
    "start_time": "2021-11-11T11:19:50.808Z"
   },
   {
    "duration": 36,
    "start_time": "2021-11-11T11:19:50.822Z"
   },
   {
    "duration": 13,
    "start_time": "2021-11-11T11:19:50.861Z"
   },
   {
    "duration": 29,
    "start_time": "2021-11-11T11:19:50.876Z"
   },
   {
    "duration": 62,
    "start_time": "2021-11-11T11:19:50.907Z"
   },
   {
    "duration": 5414,
    "start_time": "2021-11-11T11:19:50.971Z"
   },
   {
    "duration": 433,
    "start_time": "2021-11-11T11:19:56.387Z"
   },
   {
    "duration": 150,
    "start_time": "2021-11-11T11:26:40.406Z"
   },
   {
    "duration": 3,
    "start_time": "2021-11-11T11:26:47.350Z"
   },
   {
    "duration": 3,
    "start_time": "2021-11-11T11:26:54.962Z"
   },
   {
    "duration": 5,
    "start_time": "2021-11-11T11:27:02.383Z"
   },
   {
    "duration": 403,
    "start_time": "2021-11-11T11:28:37.525Z"
   },
   {
    "duration": 364,
    "start_time": "2021-11-11T11:29:00.358Z"
   },
   {
    "duration": 3,
    "start_time": "2021-11-11T11:29:14.778Z"
   },
   {
    "duration": 5,
    "start_time": "2021-11-11T11:29:26.619Z"
   },
   {
    "duration": 6,
    "start_time": "2021-11-11T11:29:39.794Z"
   },
   {
    "duration": 6,
    "start_time": "2021-11-11T11:33:13.407Z"
   },
   {
    "duration": 5,
    "start_time": "2021-11-11T11:33:30.822Z"
   },
   {
    "duration": 4,
    "start_time": "2021-11-11T11:38:23.490Z"
   },
   {
    "duration": 356,
    "start_time": "2021-11-11T11:38:53.265Z"
   },
   {
    "duration": 5,
    "start_time": "2021-11-11T11:38:58.486Z"
   },
   {
    "duration": 13,
    "start_time": "2021-11-11T11:41:13.355Z"
   },
   {
    "duration": 16,
    "start_time": "2021-11-11T11:41:18.606Z"
   },
   {
    "duration": 11,
    "start_time": "2021-11-11T11:42:01.087Z"
   },
   {
    "duration": 15,
    "start_time": "2021-11-11T11:42:03.740Z"
   },
   {
    "duration": 721,
    "start_time": "2021-11-11T11:42:45.093Z"
   },
   {
    "duration": 11,
    "start_time": "2021-11-11T11:42:45.816Z"
   },
   {
    "duration": 12,
    "start_time": "2021-11-11T11:42:45.829Z"
   },
   {
    "duration": 18,
    "start_time": "2021-11-11T11:42:45.843Z"
   },
   {
    "duration": 12,
    "start_time": "2021-11-11T11:42:45.863Z"
   },
   {
    "duration": 30,
    "start_time": "2021-11-11T11:42:45.877Z"
   },
   {
    "duration": 31,
    "start_time": "2021-11-11T11:42:45.909Z"
   },
   {
    "duration": 4542,
    "start_time": "2021-11-11T11:42:45.942Z"
   },
   {
    "duration": 20,
    "start_time": "2021-11-11T11:42:50.487Z"
   },
   {
    "duration": 11,
    "start_time": "2021-11-11T11:42:50.509Z"
   },
   {
    "duration": 7,
    "start_time": "2021-11-11T11:43:50.984Z"
   },
   {
    "duration": 6,
    "start_time": "2021-11-11T11:46:07.770Z"
   },
   {
    "duration": 8,
    "start_time": "2021-11-11T11:46:13.593Z"
   },
   {
    "duration": 4785,
    "start_time": "2021-11-11T11:53:31.566Z"
   },
   {
    "duration": 11,
    "start_time": "2021-11-11T11:58:57.800Z"
   },
   {
    "duration": 1746,
    "start_time": "2021-11-11T11:59:14.128Z"
   },
   {
    "duration": 601,
    "start_time": "2021-11-11T12:01:50.277Z"
   },
   {
    "duration": 1689,
    "start_time": "2021-11-11T12:02:03.687Z"
   },
   {
    "duration": 1712,
    "start_time": "2021-11-11T12:02:34.930Z"
   },
   {
    "duration": 117,
    "start_time": "2021-11-11T12:03:42.618Z"
   },
   {
    "duration": 1710,
    "start_time": "2021-11-11T12:05:11.638Z"
   },
   {
    "duration": 1716,
    "start_time": "2021-11-11T12:05:27.059Z"
   },
   {
    "duration": 130,
    "start_time": "2021-11-11T12:05:36.415Z"
   },
   {
    "duration": 19,
    "start_time": "2021-11-11T12:05:43.536Z"
   },
   {
    "duration": 19,
    "start_time": "2021-11-11T12:05:57.105Z"
   },
   {
    "duration": 18,
    "start_time": "2021-11-11T12:06:16.486Z"
   },
   {
    "duration": 19,
    "start_time": "2021-11-11T12:06:20.429Z"
   },
   {
    "duration": 700,
    "start_time": "2021-11-11T12:06:31.442Z"
   },
   {
    "duration": 11,
    "start_time": "2021-11-11T12:06:32.144Z"
   },
   {
    "duration": 26,
    "start_time": "2021-11-11T12:06:32.159Z"
   },
   {
    "duration": 25,
    "start_time": "2021-11-11T12:06:32.187Z"
   },
   {
    "duration": 14,
    "start_time": "2021-11-11T12:06:32.213Z"
   },
   {
    "duration": 5,
    "start_time": "2021-11-11T12:06:32.228Z"
   },
   {
    "duration": 36,
    "start_time": "2021-11-11T12:06:32.234Z"
   },
   {
    "duration": 4669,
    "start_time": "2021-11-11T12:06:32.273Z"
   },
   {
    "duration": 6,
    "start_time": "2021-11-11T12:06:36.944Z"
   },
   {
    "duration": 17,
    "start_time": "2021-11-11T12:06:36.951Z"
   },
   {
    "duration": 36,
    "start_time": "2021-11-11T12:06:36.996Z"
   },
   {
    "duration": 17,
    "start_time": "2021-11-11T12:07:10.607Z"
   },
   {
    "duration": 17,
    "start_time": "2021-11-11T12:07:51.008Z"
   },
   {
    "duration": 18,
    "start_time": "2021-11-11T12:08:09.709Z"
   },
   {
    "duration": 421,
    "start_time": "2021-11-11T18:40:13.009Z"
   },
   {
    "duration": 833,
    "start_time": "2021-11-11T18:40:32.980Z"
   },
   {
    "duration": 14,
    "start_time": "2021-11-11T18:40:33.815Z"
   },
   {
    "duration": 36,
    "start_time": "2021-11-11T18:40:33.831Z"
   },
   {
    "duration": 23,
    "start_time": "2021-11-11T18:40:33.871Z"
   },
   {
    "duration": 17,
    "start_time": "2021-11-11T18:40:33.896Z"
   },
   {
    "duration": 6,
    "start_time": "2021-11-11T18:40:33.915Z"
   },
   {
    "duration": 76,
    "start_time": "2021-11-11T18:40:33.923Z"
   },
   {
    "duration": 7463,
    "start_time": "2021-11-11T18:40:34.002Z"
   },
   {
    "duration": 10,
    "start_time": "2021-11-11T18:40:41.469Z"
   },
   {
    "duration": 16,
    "start_time": "2021-11-11T18:40:41.482Z"
   },
   {
    "duration": 30,
    "start_time": "2021-11-11T18:40:41.501Z"
   },
   {
    "duration": 14,
    "start_time": "2021-11-11T18:45:45.162Z"
   },
   {
    "duration": 15,
    "start_time": "2021-11-11T18:46:25.298Z"
   },
   {
    "duration": 15,
    "start_time": "2021-11-11T18:46:52.375Z"
   },
   {
    "duration": 747,
    "start_time": "2021-11-11T18:47:37.111Z"
   },
   {
    "duration": 462,
    "start_time": "2021-11-11T18:48:00.180Z"
   },
   {
    "duration": 395,
    "start_time": "2021-11-11T18:48:27.519Z"
   },
   {
    "duration": 357,
    "start_time": "2021-11-11T18:49:16.799Z"
   },
   {
    "duration": 16,
    "start_time": "2021-11-11T18:49:25.094Z"
   },
   {
    "duration": 13,
    "start_time": "2021-11-11T19:58:05.614Z"
   },
   {
    "duration": 43,
    "start_time": "2021-11-11T19:58:09.892Z"
   },
   {
    "duration": 40,
    "start_time": "2021-11-11T20:03:21.666Z"
   },
   {
    "duration": 24,
    "start_time": "2021-11-11T20:04:45.088Z"
   },
   {
    "duration": 18,
    "start_time": "2021-11-11T20:04:58.588Z"
   },
   {
    "duration": 570,
    "start_time": "2021-11-12T09:13:45.118Z"
   },
   {
    "duration": 710,
    "start_time": "2021-11-12T09:13:59.076Z"
   },
   {
    "duration": 14,
    "start_time": "2021-11-12T09:13:59.788Z"
   },
   {
    "duration": 13,
    "start_time": "2021-11-12T09:13:59.804Z"
   },
   {
    "duration": 16,
    "start_time": "2021-11-12T09:13:59.819Z"
   },
   {
    "duration": 39,
    "start_time": "2021-11-12T09:13:59.837Z"
   },
   {
    "duration": 4,
    "start_time": "2021-11-12T09:13:59.878Z"
   },
   {
    "duration": 36,
    "start_time": "2021-11-12T09:13:59.884Z"
   },
   {
    "duration": 4892,
    "start_time": "2021-11-12T09:13:59.922Z"
   },
   {
    "duration": 6,
    "start_time": "2021-11-12T09:14:04.816Z"
   },
   {
    "duration": 11,
    "start_time": "2021-11-12T09:14:04.824Z"
   },
   {
    "duration": 38,
    "start_time": "2021-11-12T09:14:04.837Z"
   },
   {
    "duration": 17,
    "start_time": "2021-11-12T09:14:04.876Z"
   },
   {
    "duration": 33,
    "start_time": "2021-11-12T09:14:04.895Z"
   },
   {
    "duration": 32,
    "start_time": "2021-11-12T09:15:19.680Z"
   },
   {
    "duration": 22,
    "start_time": "2021-11-12T09:16:03.639Z"
   },
   {
    "duration": 30,
    "start_time": "2021-11-12T09:16:46.965Z"
   },
   {
    "duration": 9,
    "start_time": "2021-11-12T09:26:08.263Z"
   },
   {
    "duration": 6,
    "start_time": "2021-11-12T09:34:31.310Z"
   },
   {
    "duration": 6,
    "start_time": "2021-11-12T09:34:46.886Z"
   },
   {
    "duration": 8,
    "start_time": "2021-11-12T09:36:38.566Z"
   },
   {
    "duration": 10,
    "start_time": "2021-11-12T09:36:50.850Z"
   },
   {
    "duration": 6,
    "start_time": "2021-11-12T09:37:46.228Z"
   },
   {
    "duration": 321,
    "start_time": "2021-11-12T09:38:31.595Z"
   },
   {
    "duration": 7,
    "start_time": "2021-11-12T09:39:00.050Z"
   },
   {
    "duration": 656,
    "start_time": "2021-11-12T09:39:15.191Z"
   },
   {
    "duration": 10,
    "start_time": "2021-11-12T09:39:15.849Z"
   },
   {
    "duration": 17,
    "start_time": "2021-11-12T09:39:15.861Z"
   },
   {
    "duration": 19,
    "start_time": "2021-11-12T09:39:15.880Z"
   },
   {
    "duration": 14,
    "start_time": "2021-11-12T09:39:15.901Z"
   },
   {
    "duration": 5,
    "start_time": "2021-11-12T09:39:15.916Z"
   },
   {
    "duration": 44,
    "start_time": "2021-11-12T09:39:15.922Z"
   },
   {
    "duration": 4316,
    "start_time": "2021-11-12T09:39:15.968Z"
   },
   {
    "duration": 5,
    "start_time": "2021-11-12T09:39:20.287Z"
   },
   {
    "duration": 26,
    "start_time": "2021-11-12T09:39:20.294Z"
   },
   {
    "duration": 20,
    "start_time": "2021-11-12T09:39:20.322Z"
   },
   {
    "duration": 20,
    "start_time": "2021-11-12T09:39:20.344Z"
   },
   {
    "duration": 10,
    "start_time": "2021-11-12T09:39:20.366Z"
   },
   {
    "duration": 10,
    "start_time": "2021-11-12T09:39:20.377Z"
   },
   {
    "duration": 19,
    "start_time": "2021-11-12T10:09:24.191Z"
   },
   {
    "duration": 499,
    "start_time": "2021-11-12T10:44:22.069Z"
   },
   {
    "duration": 269,
    "start_time": "2021-11-12T10:45:18.297Z"
   },
   {
    "duration": 18,
    "start_time": "2021-11-12T10:46:32.331Z"
   },
   {
    "duration": 15,
    "start_time": "2021-11-12T10:52:52.527Z"
   },
   {
    "duration": 13,
    "start_time": "2021-11-12T11:17:05.114Z"
   },
   {
    "duration": 263,
    "start_time": "2021-11-12T11:17:47.951Z"
   },
   {
    "duration": 290,
    "start_time": "2021-11-12T11:18:07.136Z"
   },
   {
    "duration": 15,
    "start_time": "2021-11-12T11:18:13.487Z"
   },
   {
    "duration": 14,
    "start_time": "2021-11-12T11:24:27.271Z"
   },
   {
    "duration": 15,
    "start_time": "2021-11-12T11:28:08.859Z"
   },
   {
    "duration": 63,
    "start_time": "2021-11-12T13:48:40.285Z"
   },
   {
    "duration": 702,
    "start_time": "2021-11-12T14:01:41.690Z"
   },
   {
    "duration": 11,
    "start_time": "2021-11-12T14:01:42.395Z"
   },
   {
    "duration": 11,
    "start_time": "2021-11-12T14:01:42.409Z"
   },
   {
    "duration": 22,
    "start_time": "2021-11-12T14:01:42.422Z"
   },
   {
    "duration": 28,
    "start_time": "2021-11-12T14:01:42.446Z"
   },
   {
    "duration": 5,
    "start_time": "2021-11-12T14:01:42.476Z"
   },
   {
    "duration": 62,
    "start_time": "2021-11-12T14:01:42.482Z"
   },
   {
    "duration": 4553,
    "start_time": "2021-11-12T14:01:42.546Z"
   },
   {
    "duration": 6,
    "start_time": "2021-11-12T14:01:47.101Z"
   },
   {
    "duration": 10,
    "start_time": "2021-11-12T14:01:47.109Z"
   },
   {
    "duration": 19,
    "start_time": "2021-11-12T14:01:47.120Z"
   },
   {
    "duration": 21,
    "start_time": "2021-11-12T14:01:47.141Z"
   },
   {
    "duration": 15,
    "start_time": "2021-11-12T14:01:47.163Z"
   },
   {
    "duration": 21,
    "start_time": "2021-11-12T14:01:47.180Z"
   },
   {
    "duration": 15,
    "start_time": "2021-11-12T14:01:47.203Z"
   },
   {
    "duration": 18,
    "start_time": "2021-11-12T14:01:47.220Z"
   },
   {
    "duration": 13,
    "start_time": "2021-11-12T14:01:47.240Z"
   },
   {
    "duration": 638,
    "start_time": "2021-11-13T03:10:44.847Z"
   },
   {
    "duration": 10,
    "start_time": "2021-11-13T03:10:45.487Z"
   },
   {
    "duration": 10,
    "start_time": "2021-11-13T03:10:45.499Z"
   },
   {
    "duration": 15,
    "start_time": "2021-11-13T03:10:45.510Z"
   },
   {
    "duration": 20,
    "start_time": "2021-11-13T03:10:45.526Z"
   },
   {
    "duration": 4,
    "start_time": "2021-11-13T03:10:45.547Z"
   },
   {
    "duration": 41,
    "start_time": "2021-11-13T03:10:45.553Z"
   },
   {
    "duration": 4153,
    "start_time": "2021-11-13T03:10:45.597Z"
   },
   {
    "duration": 6,
    "start_time": "2021-11-13T03:10:49.752Z"
   },
   {
    "duration": 10,
    "start_time": "2021-11-13T03:10:49.760Z"
   },
   {
    "duration": 16,
    "start_time": "2021-11-13T03:10:49.772Z"
   },
   {
    "duration": 10,
    "start_time": "2021-11-13T03:10:49.790Z"
   },
   {
    "duration": 7,
    "start_time": "2021-11-13T03:10:49.802Z"
   },
   {
    "duration": 41,
    "start_time": "2021-11-13T03:10:49.811Z"
   },
   {
    "duration": 11,
    "start_time": "2021-11-13T03:10:49.854Z"
   },
   {
    "duration": 12,
    "start_time": "2021-11-13T03:10:49.867Z"
   },
   {
    "duration": 11,
    "start_time": "2021-11-13T03:10:49.880Z"
   },
   {
    "duration": 663,
    "start_time": "2021-11-13T04:40:50.043Z"
   },
   {
    "duration": 11,
    "start_time": "2021-11-13T04:40:50.707Z"
   },
   {
    "duration": 9,
    "start_time": "2021-11-13T04:40:50.720Z"
   },
   {
    "duration": 23,
    "start_time": "2021-11-13T04:40:50.731Z"
   },
   {
    "duration": 11,
    "start_time": "2021-11-13T04:40:50.756Z"
   },
   {
    "duration": 4,
    "start_time": "2021-11-13T04:40:50.769Z"
   },
   {
    "duration": 30,
    "start_time": "2021-11-13T04:40:50.775Z"
   },
   {
    "duration": 3960,
    "start_time": "2021-11-13T04:40:50.807Z"
   },
   {
    "duration": 5,
    "start_time": "2021-11-13T04:40:54.770Z"
   },
   {
    "duration": 13,
    "start_time": "2021-11-13T04:40:54.777Z"
   },
   {
    "duration": 14,
    "start_time": "2021-11-13T04:40:54.791Z"
   },
   {
    "duration": 12,
    "start_time": "2021-11-13T04:40:54.807Z"
   },
   {
    "duration": 28,
    "start_time": "2021-11-13T04:40:54.821Z"
   },
   {
    "duration": 13,
    "start_time": "2021-11-13T04:40:54.851Z"
   },
   {
    "duration": 12,
    "start_time": "2021-11-13T04:40:54.866Z"
   },
   {
    "duration": 12,
    "start_time": "2021-11-13T04:40:54.880Z"
   },
   {
    "duration": 12,
    "start_time": "2021-11-13T04:40:54.893Z"
   },
   {
    "duration": 929,
    "start_time": "2021-11-15T17:49:02.972Z"
   },
   {
    "duration": 14,
    "start_time": "2021-11-15T17:49:03.904Z"
   },
   {
    "duration": 12,
    "start_time": "2021-11-15T17:49:03.921Z"
   },
   {
    "duration": 50,
    "start_time": "2021-11-15T17:49:03.937Z"
   },
   {
    "duration": 18,
    "start_time": "2021-11-15T17:49:03.989Z"
   },
   {
    "duration": 5,
    "start_time": "2021-11-15T17:49:04.010Z"
   },
   {
    "duration": 77,
    "start_time": "2021-11-15T17:49:04.018Z"
   },
   {
    "duration": 5879,
    "start_time": "2021-11-15T17:49:04.099Z"
   },
   {
    "duration": 11,
    "start_time": "2021-11-15T17:49:09.982Z"
   },
   {
    "duration": 12,
    "start_time": "2021-11-15T17:49:09.996Z"
   },
   {
    "duration": 62,
    "start_time": "2021-11-15T17:49:10.011Z"
   },
   {
    "duration": 18,
    "start_time": "2021-11-15T17:49:10.076Z"
   },
   {
    "duration": 13,
    "start_time": "2021-11-15T17:49:10.097Z"
   },
   {
    "duration": 59,
    "start_time": "2021-11-15T17:49:10.113Z"
   },
   {
    "duration": 21,
    "start_time": "2021-11-15T17:49:10.175Z"
   },
   {
    "duration": 17,
    "start_time": "2021-11-15T17:49:10.199Z"
   },
   {
    "duration": 51,
    "start_time": "2021-11-15T17:49:10.218Z"
   },
   {
    "duration": 128,
    "start_time": "2021-11-16T06:33:39.230Z"
   }
  ],
  "kernelspec": {
   "display_name": "Python 3",
   "language": "python",
   "name": "python3"
  },
  "language_info": {
   "codemirror_mode": {
    "name": "ipython",
    "version": 3
   },
   "file_extension": ".py",
   "mimetype": "text/x-python",
   "name": "python",
   "nbconvert_exporter": "python",
   "pygments_lexer": "ipython3",
   "version": "3.8.8"
  },
  "toc": {
   "base_numbering": 1,
   "nav_menu": {},
   "number_sections": true,
   "sideBar": true,
   "skip_h1_title": true,
   "title_cell": "Table of Contents",
   "title_sidebar": "Contents",
   "toc_cell": false,
   "toc_position": {},
   "toc_section_display": true,
   "toc_window_display": true
  }
 },
 "nbformat": 4,
 "nbformat_minor": 2
}
