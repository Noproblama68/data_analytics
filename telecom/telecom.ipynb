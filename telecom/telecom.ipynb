{
 "cells": [
  {
   "cell_type": "markdown",
   "metadata": {},
   "source": [
    "# Определение перспективного тарифа для телеком-компании"
   ]
  },
  {
   "cell_type": "markdown",
   "metadata": {},
   "source": [
    "Нам предоставлены данные 500 пользователей федерального оператора сотовой связи. \n",
    "\n",
    "Клиентам предлагают два тарифных плана: «Смарт» и «Ультра». Чтобы скорректировать рекламный бюджет, коммерческий департамент хочет понять, какой тариф приносит больше денег.\n",
    "Нужно проанализировать поведение пользователей и сделать вывод, какой из тарифов лучше.\n",
    "\n",
    "### Описание тарифов\n",
    "\n",
    "**Тариф «Смарт»**\n",
    "\n",
    "- Ежемесячная плата: 550 рублей\n",
    "- Включено 500 минут разговора, 50 сообщений и 15 Гб интернет-трафика\n",
    "- Стоимость услуг сверх тарифного пакета:\n",
    "    минута разговора: 3 рубля\n",
    "    сообщение: 3 рубля\n",
    "    1 Гб интернет-трафика: 200 рублей\n",
    "\n",
    "**Тариф «Ультра»**\n",
    "\n",
    "- Ежемесячная плата: 1950 рублей\n",
    "- Включено 3000 минут разговора, 1000 сообщений и 30 Гб интернет-трафика\n",
    "- Стоимость услуг сверх тарифного пакета:\n",
    "    минута разговора: 1 рубль\n",
    "    сообщение: 1 рубль\n",
    "    1 Гб интернет-трафика: 150 рублей\n",
    "    \n",
    "**Примечание**\n",
    "\n",
    "Оператор всегда округляет секунды до минут, а мегабайты — до гигабайт. Каждый звонок округляется отдельно: даже если он длился всего 1 секунду, будет засчитан как 1 минута.\n",
    "\n",
    "Для веб-трафика отдельные сессии не считаются. Вместо этого общая сумма за месяц округляется в бо́льшую сторону. Если абонент использует 1025 мегабайт в этом месяце, с него возьмут плату за 2 гигабайта. Неиспользованные за предыдущий месяц звонки, смс, интернет на следующий месяц не переносятся.    "
   ]
  },
  {
   "cell_type": "markdown",
   "metadata": {},
   "source": [
    "## Изучение общей информации"
   ]
  },
  {
   "cell_type": "code",
   "execution_count": 1,
   "metadata": {},
   "outputs": [
    {
     "data": {
      "text/html": [
       "<div>\n",
       "<style scoped>\n",
       "    .dataframe tbody tr th:only-of-type {\n",
       "        vertical-align: middle;\n",
       "    }\n",
       "\n",
       "    .dataframe tbody tr th {\n",
       "        vertical-align: top;\n",
       "    }\n",
       "\n",
       "    .dataframe thead th {\n",
       "        text-align: right;\n",
       "    }\n",
       "</style>\n",
       "<table border=\"1\" class=\"dataframe\">\n",
       "  <thead>\n",
       "    <tr style=\"text-align: right;\">\n",
       "      <th></th>\n",
       "      <th>id</th>\n",
       "      <th>call_date</th>\n",
       "      <th>duration</th>\n",
       "      <th>user_id</th>\n",
       "    </tr>\n",
       "  </thead>\n",
       "  <tbody>\n",
       "    <tr>\n",
       "      <td>0</td>\n",
       "      <td>1000_0</td>\n",
       "      <td>2018-07-25</td>\n",
       "      <td>0.00</td>\n",
       "      <td>1000</td>\n",
       "    </tr>\n",
       "    <tr>\n",
       "      <td>1</td>\n",
       "      <td>1000_1</td>\n",
       "      <td>2018-08-17</td>\n",
       "      <td>0.00</td>\n",
       "      <td>1000</td>\n",
       "    </tr>\n",
       "    <tr>\n",
       "      <td>2</td>\n",
       "      <td>1000_2</td>\n",
       "      <td>2018-06-11</td>\n",
       "      <td>2.85</td>\n",
       "      <td>1000</td>\n",
       "    </tr>\n",
       "    <tr>\n",
       "      <td>3</td>\n",
       "      <td>1000_3</td>\n",
       "      <td>2018-09-21</td>\n",
       "      <td>13.80</td>\n",
       "      <td>1000</td>\n",
       "    </tr>\n",
       "    <tr>\n",
       "      <td>4</td>\n",
       "      <td>1000_4</td>\n",
       "      <td>2018-12-15</td>\n",
       "      <td>5.18</td>\n",
       "      <td>1000</td>\n",
       "    </tr>\n",
       "  </tbody>\n",
       "</table>\n",
       "</div>"
      ],
      "text/plain": [
       "       id   call_date  duration  user_id\n",
       "0  1000_0  2018-07-25      0.00     1000\n",
       "1  1000_1  2018-08-17      0.00     1000\n",
       "2  1000_2  2018-06-11      2.85     1000\n",
       "3  1000_3  2018-09-21     13.80     1000\n",
       "4  1000_4  2018-12-15      5.18     1000"
      ]
     },
     "execution_count": 1,
     "metadata": {},
     "output_type": "execute_result"
    }
   ],
   "source": [
    "# Импорт библиотек\n",
    "import pandas as pd\n",
    "import seaborn as sns\n",
    "from matplotlib import pyplot as plt\n",
    "import math\n",
    "from scipy import stats as st\n",
    "import numpy as np\n",
    "\n",
    "# чтение файла со звонками\n",
    "calls = pd.read_csv('/datasets/calls.csv')\n",
    "calls.head(5)\n"
   ]
  },
  {
   "cell_type": "code",
   "execution_count": 2,
   "metadata": {},
   "outputs": [
    {
     "name": "stdout",
     "output_type": "stream",
     "text": [
      "<class 'pandas.core.frame.DataFrame'>\n",
      "RangeIndex: 202607 entries, 0 to 202606\n",
      "Data columns (total 4 columns):\n",
      "id           202607 non-null object\n",
      "call_date    202607 non-null object\n",
      "duration     202607 non-null float64\n",
      "user_id      202607 non-null int64\n",
      "dtypes: float64(1), int64(1), object(2)\n",
      "memory usage: 6.2+ MB\n"
     ]
    }
   ],
   "source": [
    "# просмотр общей информации о файле\n",
    "calls.info()"
   ]
  },
  {
   "cell_type": "code",
   "execution_count": 3,
   "metadata": {},
   "outputs": [
    {
     "data": {
      "text/html": [
       "<div>\n",
       "<style scoped>\n",
       "    .dataframe tbody tr th:only-of-type {\n",
       "        vertical-align: middle;\n",
       "    }\n",
       "\n",
       "    .dataframe tbody tr th {\n",
       "        vertical-align: top;\n",
       "    }\n",
       "\n",
       "    .dataframe thead th {\n",
       "        text-align: right;\n",
       "    }\n",
       "</style>\n",
       "<table border=\"1\" class=\"dataframe\">\n",
       "  <thead>\n",
       "    <tr style=\"text-align: right;\">\n",
       "      <th></th>\n",
       "      <th>id</th>\n",
       "      <th>mb_used</th>\n",
       "      <th>session_date</th>\n",
       "      <th>user_id</th>\n",
       "    </tr>\n",
       "  </thead>\n",
       "  <tbody>\n",
       "    <tr>\n",
       "      <td>0</td>\n",
       "      <td>1000_0</td>\n",
       "      <td>112.95</td>\n",
       "      <td>2018-11-25</td>\n",
       "      <td>1000</td>\n",
       "    </tr>\n",
       "    <tr>\n",
       "      <td>1</td>\n",
       "      <td>1000_1</td>\n",
       "      <td>1052.81</td>\n",
       "      <td>2018-09-07</td>\n",
       "      <td>1000</td>\n",
       "    </tr>\n",
       "    <tr>\n",
       "      <td>2</td>\n",
       "      <td>1000_2</td>\n",
       "      <td>1197.26</td>\n",
       "      <td>2018-06-25</td>\n",
       "      <td>1000</td>\n",
       "    </tr>\n",
       "    <tr>\n",
       "      <td>3</td>\n",
       "      <td>1000_3</td>\n",
       "      <td>550.27</td>\n",
       "      <td>2018-08-22</td>\n",
       "      <td>1000</td>\n",
       "    </tr>\n",
       "    <tr>\n",
       "      <td>4</td>\n",
       "      <td>1000_4</td>\n",
       "      <td>302.56</td>\n",
       "      <td>2018-09-24</td>\n",
       "      <td>1000</td>\n",
       "    </tr>\n",
       "  </tbody>\n",
       "</table>\n",
       "</div>"
      ],
      "text/plain": [
       "       id  mb_used session_date  user_id\n",
       "0  1000_0   112.95   2018-11-25     1000\n",
       "1  1000_1  1052.81   2018-09-07     1000\n",
       "2  1000_2  1197.26   2018-06-25     1000\n",
       "3  1000_3   550.27   2018-08-22     1000\n",
       "4  1000_4   302.56   2018-09-24     1000"
      ]
     },
     "execution_count": 3,
     "metadata": {},
     "output_type": "execute_result"
    }
   ],
   "source": [
    "# чтение файла с информацией об интернет-сессиях\n",
    "internet = pd.read_csv('/datasets/internet.csv', index_col=0)\n",
    "internet.head(5)"
   ]
  },
  {
   "cell_type": "code",
   "execution_count": 4,
   "metadata": {},
   "outputs": [
    {
     "name": "stdout",
     "output_type": "stream",
     "text": [
      "<class 'pandas.core.frame.DataFrame'>\n",
      "Int64Index: 149396 entries, 0 to 149395\n",
      "Data columns (total 4 columns):\n",
      "id              149396 non-null object\n",
      "mb_used         149396 non-null float64\n",
      "session_date    149396 non-null object\n",
      "user_id         149396 non-null int64\n",
      "dtypes: float64(1), int64(1), object(2)\n",
      "memory usage: 5.7+ MB\n"
     ]
    }
   ],
   "source": [
    "# просмотр общей информации о файле\n",
    "internet.info()"
   ]
  },
  {
   "cell_type": "code",
   "execution_count": 5,
   "metadata": {},
   "outputs": [
    {
     "data": {
      "text/html": [
       "<div>\n",
       "<style scoped>\n",
       "    .dataframe tbody tr th:only-of-type {\n",
       "        vertical-align: middle;\n",
       "    }\n",
       "\n",
       "    .dataframe tbody tr th {\n",
       "        vertical-align: top;\n",
       "    }\n",
       "\n",
       "    .dataframe thead th {\n",
       "        text-align: right;\n",
       "    }\n",
       "</style>\n",
       "<table border=\"1\" class=\"dataframe\">\n",
       "  <thead>\n",
       "    <tr style=\"text-align: right;\">\n",
       "      <th></th>\n",
       "      <th>id</th>\n",
       "      <th>message_date</th>\n",
       "      <th>user_id</th>\n",
       "    </tr>\n",
       "  </thead>\n",
       "  <tbody>\n",
       "    <tr>\n",
       "      <td>0</td>\n",
       "      <td>1000_0</td>\n",
       "      <td>2018-06-27</td>\n",
       "      <td>1000</td>\n",
       "    </tr>\n",
       "    <tr>\n",
       "      <td>1</td>\n",
       "      <td>1000_1</td>\n",
       "      <td>2018-10-08</td>\n",
       "      <td>1000</td>\n",
       "    </tr>\n",
       "    <tr>\n",
       "      <td>2</td>\n",
       "      <td>1000_2</td>\n",
       "      <td>2018-08-04</td>\n",
       "      <td>1000</td>\n",
       "    </tr>\n",
       "    <tr>\n",
       "      <td>3</td>\n",
       "      <td>1000_3</td>\n",
       "      <td>2018-06-16</td>\n",
       "      <td>1000</td>\n",
       "    </tr>\n",
       "    <tr>\n",
       "      <td>4</td>\n",
       "      <td>1000_4</td>\n",
       "      <td>2018-12-05</td>\n",
       "      <td>1000</td>\n",
       "    </tr>\n",
       "  </tbody>\n",
       "</table>\n",
       "</div>"
      ],
      "text/plain": [
       "       id message_date  user_id\n",
       "0  1000_0   2018-06-27     1000\n",
       "1  1000_1   2018-10-08     1000\n",
       "2  1000_2   2018-08-04     1000\n",
       "3  1000_3   2018-06-16     1000\n",
       "4  1000_4   2018-12-05     1000"
      ]
     },
     "execution_count": 5,
     "metadata": {},
     "output_type": "execute_result"
    }
   ],
   "source": [
    "# чтение файла с информацией о сообщениях\n",
    "messages = pd.read_csv('/datasets/messages.csv')\n",
    "messages.head(5)"
   ]
  },
  {
   "cell_type": "code",
   "execution_count": 6,
   "metadata": {},
   "outputs": [
    {
     "name": "stdout",
     "output_type": "stream",
     "text": [
      "<class 'pandas.core.frame.DataFrame'>\n",
      "RangeIndex: 123036 entries, 0 to 123035\n",
      "Data columns (total 3 columns):\n",
      "id              123036 non-null object\n",
      "message_date    123036 non-null object\n",
      "user_id         123036 non-null int64\n",
      "dtypes: int64(1), object(2)\n",
      "memory usage: 2.8+ MB\n"
     ]
    }
   ],
   "source": [
    "# просмотр общей информации о файле\n",
    "messages.info()"
   ]
  },
  {
   "cell_type": "code",
   "execution_count": 7,
   "metadata": {},
   "outputs": [
    {
     "data": {
      "text/html": [
       "<div>\n",
       "<style scoped>\n",
       "    .dataframe tbody tr th:only-of-type {\n",
       "        vertical-align: middle;\n",
       "    }\n",
       "\n",
       "    .dataframe tbody tr th {\n",
       "        vertical-align: top;\n",
       "    }\n",
       "\n",
       "    .dataframe thead th {\n",
       "        text-align: right;\n",
       "    }\n",
       "</style>\n",
       "<table border=\"1\" class=\"dataframe\">\n",
       "  <thead>\n",
       "    <tr style=\"text-align: right;\">\n",
       "      <th></th>\n",
       "      <th>messages_included</th>\n",
       "      <th>mb_per_month_included</th>\n",
       "      <th>minutes_included</th>\n",
       "      <th>rub_monthly_fee</th>\n",
       "      <th>rub_per_gb</th>\n",
       "      <th>rub_per_message</th>\n",
       "      <th>rub_per_minute</th>\n",
       "      <th>tariff_name</th>\n",
       "    </tr>\n",
       "  </thead>\n",
       "  <tbody>\n",
       "    <tr>\n",
       "      <td>0</td>\n",
       "      <td>50</td>\n",
       "      <td>15360</td>\n",
       "      <td>500</td>\n",
       "      <td>550</td>\n",
       "      <td>200</td>\n",
       "      <td>3</td>\n",
       "      <td>3</td>\n",
       "      <td>smart</td>\n",
       "    </tr>\n",
       "    <tr>\n",
       "      <td>1</td>\n",
       "      <td>1000</td>\n",
       "      <td>30720</td>\n",
       "      <td>3000</td>\n",
       "      <td>1950</td>\n",
       "      <td>150</td>\n",
       "      <td>1</td>\n",
       "      <td>1</td>\n",
       "      <td>ultra</td>\n",
       "    </tr>\n",
       "  </tbody>\n",
       "</table>\n",
       "</div>"
      ],
      "text/plain": [
       "   messages_included  mb_per_month_included  minutes_included  \\\n",
       "0                 50                  15360               500   \n",
       "1               1000                  30720              3000   \n",
       "\n",
       "   rub_monthly_fee  rub_per_gb  rub_per_message  rub_per_minute tariff_name  \n",
       "0              550         200                3               3       smart  \n",
       "1             1950         150                1               1       ultra  "
      ]
     },
     "execution_count": 7,
     "metadata": {},
     "output_type": "execute_result"
    }
   ],
   "source": [
    "# чтение файла с информацией о тарифах\n",
    "tariffs = pd.read_csv('/datasets/tariffs.csv')\n",
    "tariffs.head(5)"
   ]
  },
  {
   "cell_type": "code",
   "execution_count": 8,
   "metadata": {},
   "outputs": [
    {
     "data": {
      "text/html": [
       "<div>\n",
       "<style scoped>\n",
       "    .dataframe tbody tr th:only-of-type {\n",
       "        vertical-align: middle;\n",
       "    }\n",
       "\n",
       "    .dataframe tbody tr th {\n",
       "        vertical-align: top;\n",
       "    }\n",
       "\n",
       "    .dataframe thead th {\n",
       "        text-align: right;\n",
       "    }\n",
       "</style>\n",
       "<table border=\"1\" class=\"dataframe\">\n",
       "  <thead>\n",
       "    <tr style=\"text-align: right;\">\n",
       "      <th></th>\n",
       "      <th>user_id</th>\n",
       "      <th>age</th>\n",
       "      <th>churn_date</th>\n",
       "      <th>city</th>\n",
       "      <th>first_name</th>\n",
       "      <th>last_name</th>\n",
       "      <th>reg_date</th>\n",
       "      <th>tariff</th>\n",
       "    </tr>\n",
       "  </thead>\n",
       "  <tbody>\n",
       "    <tr>\n",
       "      <td>0</td>\n",
       "      <td>1000</td>\n",
       "      <td>52</td>\n",
       "      <td>NaN</td>\n",
       "      <td>Краснодар</td>\n",
       "      <td>Рафаил</td>\n",
       "      <td>Верещагин</td>\n",
       "      <td>2018-05-25</td>\n",
       "      <td>ultra</td>\n",
       "    </tr>\n",
       "    <tr>\n",
       "      <td>1</td>\n",
       "      <td>1001</td>\n",
       "      <td>41</td>\n",
       "      <td>NaN</td>\n",
       "      <td>Москва</td>\n",
       "      <td>Иван</td>\n",
       "      <td>Ежов</td>\n",
       "      <td>2018-11-01</td>\n",
       "      <td>smart</td>\n",
       "    </tr>\n",
       "    <tr>\n",
       "      <td>2</td>\n",
       "      <td>1002</td>\n",
       "      <td>59</td>\n",
       "      <td>NaN</td>\n",
       "      <td>Стерлитамак</td>\n",
       "      <td>Евгений</td>\n",
       "      <td>Абрамович</td>\n",
       "      <td>2018-06-17</td>\n",
       "      <td>smart</td>\n",
       "    </tr>\n",
       "    <tr>\n",
       "      <td>3</td>\n",
       "      <td>1003</td>\n",
       "      <td>23</td>\n",
       "      <td>NaN</td>\n",
       "      <td>Москва</td>\n",
       "      <td>Белла</td>\n",
       "      <td>Белякова</td>\n",
       "      <td>2018-08-17</td>\n",
       "      <td>ultra</td>\n",
       "    </tr>\n",
       "    <tr>\n",
       "      <td>4</td>\n",
       "      <td>1004</td>\n",
       "      <td>68</td>\n",
       "      <td>NaN</td>\n",
       "      <td>Новокузнецк</td>\n",
       "      <td>Татьяна</td>\n",
       "      <td>Авдеенко</td>\n",
       "      <td>2018-05-14</td>\n",
       "      <td>ultra</td>\n",
       "    </tr>\n",
       "  </tbody>\n",
       "</table>\n",
       "</div>"
      ],
      "text/plain": [
       "   user_id  age churn_date         city first_name  last_name    reg_date  \\\n",
       "0     1000   52        NaN    Краснодар     Рафаил  Верещагин  2018-05-25   \n",
       "1     1001   41        NaN       Москва       Иван       Ежов  2018-11-01   \n",
       "2     1002   59        NaN  Стерлитамак    Евгений  Абрамович  2018-06-17   \n",
       "3     1003   23        NaN       Москва      Белла   Белякова  2018-08-17   \n",
       "4     1004   68        NaN  Новокузнецк    Татьяна   Авдеенко  2018-05-14   \n",
       "\n",
       "  tariff  \n",
       "0  ultra  \n",
       "1  smart  \n",
       "2  smart  \n",
       "3  ultra  \n",
       "4  ultra  "
      ]
     },
     "execution_count": 8,
     "metadata": {},
     "output_type": "execute_result"
    }
   ],
   "source": [
    "# чтение файла с информацией о пользователях\n",
    "users = pd.read_csv('/datasets/users.csv')\n",
    "users.head(5)"
   ]
  },
  {
   "cell_type": "code",
   "execution_count": 9,
   "metadata": {},
   "outputs": [
    {
     "name": "stdout",
     "output_type": "stream",
     "text": [
      "<class 'pandas.core.frame.DataFrame'>\n",
      "RangeIndex: 500 entries, 0 to 499\n",
      "Data columns (total 8 columns):\n",
      "user_id       500 non-null int64\n",
      "age           500 non-null int64\n",
      "churn_date    38 non-null object\n",
      "city          500 non-null object\n",
      "first_name    500 non-null object\n",
      "last_name     500 non-null object\n",
      "reg_date      500 non-null object\n",
      "tariff        500 non-null object\n",
      "dtypes: int64(2), object(6)\n",
      "memory usage: 31.4+ KB\n"
     ]
    }
   ],
   "source": [
    "# просмотр общей информации о файле\n",
    "users.info()"
   ]
  },
  {
   "cell_type": "markdown",
   "metadata": {},
   "source": [
    "В ходе изучения общей информации были выявлены проблемы - не подходящие типы данных, поэтому необходимо:\n",
    "\n",
    "В таблице calls:\n",
    "- изменить тип данных в столбце call_date на datetime\n",
    "\n",
    "В таблице internet:\n",
    "- изменить тип данных в столбце session_date на datetime\n",
    "\n",
    "В таблице messages:\n",
    "- изменить тип данных в столбце message_date на datetime\n"
   ]
  },
  {
   "cell_type": "markdown",
   "metadata": {},
   "source": [
    "## Подготовка данных"
   ]
  },
  {
   "cell_type": "markdown",
   "metadata": {},
   "source": [
    "### Замена типов данных"
   ]
  },
  {
   "cell_type": "code",
   "execution_count": 10,
   "metadata": {},
   "outputs": [],
   "source": [
    "# перевод данных в формат дат\n",
    "# создаем список столбцов для преобразования\n",
    "data_list = [calls, internet, messages]\n",
    "column_list = ['call_date', 'session_date', 'message_date']\n",
    "# циклом меняем формат на datetime и создаем столбец с месяцем\n",
    "for i in data_list:\n",
    "    for a in column_list:\n",
    "        if a in i.columns:\n",
    "            i[a] = pd.to_datetime(i[a], format='%Y-%m-%d %H:%M')\n",
    "            i['month'] = i[a].dt.month\n",
    "   \n",
    "  "
   ]
  },
  {
   "cell_type": "code",
   "execution_count": 11,
   "metadata": {},
   "outputs": [],
   "source": [
    "# переименование столбца с названиями тарифов в таблице tariff, чтобы можно было в дальнейшем мерджить еe с общим фреймом\n",
    "tariffs = tariffs.rename(columns={'tariff_name':'tariff'})"
   ]
  },
  {
   "cell_type": "code",
   "execution_count": 12,
   "metadata": {},
   "outputs": [
    {
     "name": "stdout",
     "output_type": "stream",
     "text": [
      "0.0\n",
      "38.0\n"
     ]
    }
   ],
   "source": [
    "# посмотрим на диапазон продолжительности звонков\n",
    "print(calls['duration'].min())\n",
    "print(calls['duration'].max())"
   ]
  },
  {
   "cell_type": "code",
   "execution_count": 13,
   "metadata": {},
   "outputs": [
    {
     "data": {
      "text/plain": [
       "39613"
      ]
     },
     "execution_count": 13,
     "metadata": {},
     "output_type": "execute_result"
    }
   ],
   "source": [
    "# подсчет количества нулевых звонков\n",
    "calls.query('duration ==0')['duration'].count()"
   ]
  },
  {
   "cell_type": "code",
   "execution_count": 14,
   "metadata": {},
   "outputs": [
    {
     "name": "stdout",
     "output_type": "stream",
     "text": [
      "0.0\n",
      "1724.83\n"
     ]
    }
   ],
   "source": [
    "# посмотрим на диапазон объема интернет-трафика\n",
    "print(internet['mb_used'].min())\n",
    "print(internet['mb_used'].max())"
   ]
  },
  {
   "cell_type": "code",
   "execution_count": 15,
   "metadata": {},
   "outputs": [
    {
     "data": {
      "text/plain": [
       "19598"
      ]
     },
     "execution_count": 15,
     "metadata": {},
     "output_type": "execute_result"
    }
   ],
   "source": [
    "# подсчет количества сессий с нулевым трафиком\n",
    "internet.query('mb_used ==0')['mb_used'].count()"
   ]
  },
  {
   "cell_type": "code",
   "execution_count": 16,
   "metadata": {},
   "outputs": [],
   "source": [
    "calls['duration'] = np.ceil(calls['duration'])\n"
   ]
  },
  {
   "cell_type": "markdown",
   "metadata": {},
   "source": [
    "### Подготовка пользовательских данных"
   ]
  },
  {
   "cell_type": "code",
   "execution_count": 17,
   "metadata": {
    "scrolled": true
   },
   "outputs": [
    {
     "data": {
      "text/html": [
       "<div>\n",
       "<style scoped>\n",
       "    .dataframe tbody tr th:only-of-type {\n",
       "        vertical-align: middle;\n",
       "    }\n",
       "\n",
       "    .dataframe tbody tr th {\n",
       "        vertical-align: top;\n",
       "    }\n",
       "\n",
       "    .dataframe thead th {\n",
       "        text-align: right;\n",
       "    }\n",
       "</style>\n",
       "<table border=\"1\" class=\"dataframe\">\n",
       "  <thead>\n",
       "    <tr style=\"text-align: right;\">\n",
       "      <th></th>\n",
       "      <th>user_id</th>\n",
       "      <th>month</th>\n",
       "      <th>calls</th>\n",
       "      <th>duration</th>\n",
       "    </tr>\n",
       "  </thead>\n",
       "  <tbody>\n",
       "    <tr>\n",
       "      <td>0</td>\n",
       "      <td>1000</td>\n",
       "      <td>5</td>\n",
       "      <td>22</td>\n",
       "      <td>159.0</td>\n",
       "    </tr>\n",
       "    <tr>\n",
       "      <td>1</td>\n",
       "      <td>1000</td>\n",
       "      <td>6</td>\n",
       "      <td>43</td>\n",
       "      <td>172.0</td>\n",
       "    </tr>\n",
       "    <tr>\n",
       "      <td>2</td>\n",
       "      <td>1000</td>\n",
       "      <td>7</td>\n",
       "      <td>47</td>\n",
       "      <td>340.0</td>\n",
       "    </tr>\n",
       "    <tr>\n",
       "      <td>3</td>\n",
       "      <td>1000</td>\n",
       "      <td>8</td>\n",
       "      <td>52</td>\n",
       "      <td>408.0</td>\n",
       "    </tr>\n",
       "    <tr>\n",
       "      <td>4</td>\n",
       "      <td>1000</td>\n",
       "      <td>9</td>\n",
       "      <td>58</td>\n",
       "      <td>466.0</td>\n",
       "    </tr>\n",
       "  </tbody>\n",
       "</table>\n",
       "</div>"
      ],
      "text/plain": [
       "   user_id  month  calls  duration\n",
       "0     1000      5     22     159.0\n",
       "1     1000      6     43     172.0\n",
       "2     1000      7     47     340.0\n",
       "3     1000      8     52     408.0\n",
       "4     1000      9     58     466.0"
      ]
     },
     "execution_count": 17,
     "metadata": {},
     "output_type": "execute_result"
    }
   ],
   "source": [
    "# расчет количества сделанных звонков и израсходованных минут разговора по месяцам\n",
    "calls_grouped = calls.groupby(['user_id', 'month']).agg({'user_id': 'count','duration': 'sum'}).rename(columns = {'user_id': 'calls'}).reset_index()\n",
    "calls_grouped.head(5)"
   ]
  },
  {
   "cell_type": "code",
   "execution_count": 18,
   "metadata": {},
   "outputs": [
    {
     "data": {
      "text/html": [
       "<div>\n",
       "<style scoped>\n",
       "    .dataframe tbody tr th:only-of-type {\n",
       "        vertical-align: middle;\n",
       "    }\n",
       "\n",
       "    .dataframe tbody tr th {\n",
       "        vertical-align: top;\n",
       "    }\n",
       "\n",
       "    .dataframe thead th {\n",
       "        text-align: right;\n",
       "    }\n",
       "</style>\n",
       "<table border=\"1\" class=\"dataframe\">\n",
       "  <thead>\n",
       "    <tr style=\"text-align: right;\">\n",
       "      <th></th>\n",
       "      <th>user_id</th>\n",
       "      <th>month</th>\n",
       "      <th>messages</th>\n",
       "    </tr>\n",
       "  </thead>\n",
       "  <tbody>\n",
       "    <tr>\n",
       "      <td>0</td>\n",
       "      <td>1000</td>\n",
       "      <td>5</td>\n",
       "      <td>22</td>\n",
       "    </tr>\n",
       "    <tr>\n",
       "      <td>1</td>\n",
       "      <td>1000</td>\n",
       "      <td>6</td>\n",
       "      <td>60</td>\n",
       "    </tr>\n",
       "    <tr>\n",
       "      <td>2</td>\n",
       "      <td>1000</td>\n",
       "      <td>7</td>\n",
       "      <td>75</td>\n",
       "    </tr>\n",
       "    <tr>\n",
       "      <td>3</td>\n",
       "      <td>1000</td>\n",
       "      <td>8</td>\n",
       "      <td>81</td>\n",
       "    </tr>\n",
       "    <tr>\n",
       "      <td>4</td>\n",
       "      <td>1000</td>\n",
       "      <td>9</td>\n",
       "      <td>57</td>\n",
       "    </tr>\n",
       "  </tbody>\n",
       "</table>\n",
       "</div>"
      ],
      "text/plain": [
       "   user_id  month  messages\n",
       "0     1000      5        22\n",
       "1     1000      6        60\n",
       "2     1000      7        75\n",
       "3     1000      8        81\n",
       "4     1000      9        57"
      ]
     },
     "execution_count": 18,
     "metadata": {},
     "output_type": "execute_result"
    }
   ],
   "source": [
    "# расчет количества отправленных сообщений по месяцам\n",
    "messages_grouped = messages.groupby(['user_id', 'month']).agg({'id':'count'}).rename(columns={'id':'messages'}).reset_index()\n",
    "messages_grouped.head(5)"
   ]
  },
  {
   "cell_type": "code",
   "execution_count": 19,
   "metadata": {},
   "outputs": [
    {
     "data": {
      "text/html": [
       "<div>\n",
       "<style scoped>\n",
       "    .dataframe tbody tr th:only-of-type {\n",
       "        vertical-align: middle;\n",
       "    }\n",
       "\n",
       "    .dataframe tbody tr th {\n",
       "        vertical-align: top;\n",
       "    }\n",
       "\n",
       "    .dataframe thead th {\n",
       "        text-align: right;\n",
       "    }\n",
       "</style>\n",
       "<table border=\"1\" class=\"dataframe\">\n",
       "  <thead>\n",
       "    <tr style=\"text-align: right;\">\n",
       "      <th></th>\n",
       "      <th>user_id</th>\n",
       "      <th>month</th>\n",
       "      <th>mb_used</th>\n",
       "    </tr>\n",
       "  </thead>\n",
       "  <tbody>\n",
       "    <tr>\n",
       "      <td>0</td>\n",
       "      <td>1000</td>\n",
       "      <td>5</td>\n",
       "      <td>2253.49</td>\n",
       "    </tr>\n",
       "    <tr>\n",
       "      <td>1</td>\n",
       "      <td>1000</td>\n",
       "      <td>6</td>\n",
       "      <td>23233.77</td>\n",
       "    </tr>\n",
       "    <tr>\n",
       "      <td>2</td>\n",
       "      <td>1000</td>\n",
       "      <td>7</td>\n",
       "      <td>14003.64</td>\n",
       "    </tr>\n",
       "    <tr>\n",
       "      <td>3</td>\n",
       "      <td>1000</td>\n",
       "      <td>8</td>\n",
       "      <td>14055.93</td>\n",
       "    </tr>\n",
       "    <tr>\n",
       "      <td>4</td>\n",
       "      <td>1000</td>\n",
       "      <td>9</td>\n",
       "      <td>14568.91</td>\n",
       "    </tr>\n",
       "  </tbody>\n",
       "</table>\n",
       "</div>"
      ],
      "text/plain": [
       "   user_id  month   mb_used\n",
       "0     1000      5   2253.49\n",
       "1     1000      6  23233.77\n",
       "2     1000      7  14003.64\n",
       "3     1000      8  14055.93\n",
       "4     1000      9  14568.91"
      ]
     },
     "execution_count": 19,
     "metadata": {},
     "output_type": "execute_result"
    }
   ],
   "source": [
    "# расчет объема израсходованного интернет-трафика по месяцам\n",
    "internet_grouped = internet.groupby(['user_id', 'month']).agg({'mb_used': 'sum'}).reset_index()\n",
    "internet_grouped.head(5)"
   ]
  },
  {
   "cell_type": "code",
   "execution_count": 20,
   "metadata": {},
   "outputs": [
    {
     "data": {
      "text/html": [
       "<div>\n",
       "<style scoped>\n",
       "    .dataframe tbody tr th:only-of-type {\n",
       "        vertical-align: middle;\n",
       "    }\n",
       "\n",
       "    .dataframe tbody tr th {\n",
       "        vertical-align: top;\n",
       "    }\n",
       "\n",
       "    .dataframe thead th {\n",
       "        text-align: right;\n",
       "    }\n",
       "</style>\n",
       "<table border=\"1\" class=\"dataframe\">\n",
       "  <thead>\n",
       "    <tr style=\"text-align: right;\">\n",
       "      <th></th>\n",
       "      <th>user_id</th>\n",
       "      <th>month</th>\n",
       "      <th>calls</th>\n",
       "      <th>duration</th>\n",
       "      <th>messages</th>\n",
       "      <th>mb_used</th>\n",
       "      <th>age</th>\n",
       "      <th>churn_date</th>\n",
       "      <th>city</th>\n",
       "      <th>first_name</th>\n",
       "      <th>last_name</th>\n",
       "      <th>reg_date</th>\n",
       "      <th>tariff</th>\n",
       "      <th>messages_included</th>\n",
       "      <th>mb_per_month_included</th>\n",
       "      <th>minutes_included</th>\n",
       "      <th>rub_monthly_fee</th>\n",
       "      <th>rub_per_gb</th>\n",
       "      <th>rub_per_message</th>\n",
       "      <th>rub_per_minute</th>\n",
       "    </tr>\n",
       "  </thead>\n",
       "  <tbody>\n",
       "    <tr>\n",
       "      <td>0</td>\n",
       "      <td>1000</td>\n",
       "      <td>5.0</td>\n",
       "      <td>22.0</td>\n",
       "      <td>159.0</td>\n",
       "      <td>22.0</td>\n",
       "      <td>2253.49</td>\n",
       "      <td>52</td>\n",
       "      <td>NaN</td>\n",
       "      <td>Краснодар</td>\n",
       "      <td>Рафаил</td>\n",
       "      <td>Верещагин</td>\n",
       "      <td>2018-05-25</td>\n",
       "      <td>ultra</td>\n",
       "      <td>1000</td>\n",
       "      <td>30720</td>\n",
       "      <td>3000</td>\n",
       "      <td>1950</td>\n",
       "      <td>150</td>\n",
       "      <td>1</td>\n",
       "      <td>1</td>\n",
       "    </tr>\n",
       "    <tr>\n",
       "      <td>1</td>\n",
       "      <td>1000</td>\n",
       "      <td>6.0</td>\n",
       "      <td>43.0</td>\n",
       "      <td>172.0</td>\n",
       "      <td>60.0</td>\n",
       "      <td>23233.77</td>\n",
       "      <td>52</td>\n",
       "      <td>NaN</td>\n",
       "      <td>Краснодар</td>\n",
       "      <td>Рафаил</td>\n",
       "      <td>Верещагин</td>\n",
       "      <td>2018-05-25</td>\n",
       "      <td>ultra</td>\n",
       "      <td>1000</td>\n",
       "      <td>30720</td>\n",
       "      <td>3000</td>\n",
       "      <td>1950</td>\n",
       "      <td>150</td>\n",
       "      <td>1</td>\n",
       "      <td>1</td>\n",
       "    </tr>\n",
       "    <tr>\n",
       "      <td>2</td>\n",
       "      <td>1000</td>\n",
       "      <td>7.0</td>\n",
       "      <td>47.0</td>\n",
       "      <td>340.0</td>\n",
       "      <td>75.0</td>\n",
       "      <td>14003.64</td>\n",
       "      <td>52</td>\n",
       "      <td>NaN</td>\n",
       "      <td>Краснодар</td>\n",
       "      <td>Рафаил</td>\n",
       "      <td>Верещагин</td>\n",
       "      <td>2018-05-25</td>\n",
       "      <td>ultra</td>\n",
       "      <td>1000</td>\n",
       "      <td>30720</td>\n",
       "      <td>3000</td>\n",
       "      <td>1950</td>\n",
       "      <td>150</td>\n",
       "      <td>1</td>\n",
       "      <td>1</td>\n",
       "    </tr>\n",
       "    <tr>\n",
       "      <td>3</td>\n",
       "      <td>1000</td>\n",
       "      <td>8.0</td>\n",
       "      <td>52.0</td>\n",
       "      <td>408.0</td>\n",
       "      <td>81.0</td>\n",
       "      <td>14055.93</td>\n",
       "      <td>52</td>\n",
       "      <td>NaN</td>\n",
       "      <td>Краснодар</td>\n",
       "      <td>Рафаил</td>\n",
       "      <td>Верещагин</td>\n",
       "      <td>2018-05-25</td>\n",
       "      <td>ultra</td>\n",
       "      <td>1000</td>\n",
       "      <td>30720</td>\n",
       "      <td>3000</td>\n",
       "      <td>1950</td>\n",
       "      <td>150</td>\n",
       "      <td>1</td>\n",
       "      <td>1</td>\n",
       "    </tr>\n",
       "    <tr>\n",
       "      <td>4</td>\n",
       "      <td>1000</td>\n",
       "      <td>9.0</td>\n",
       "      <td>58.0</td>\n",
       "      <td>466.0</td>\n",
       "      <td>57.0</td>\n",
       "      <td>14568.91</td>\n",
       "      <td>52</td>\n",
       "      <td>NaN</td>\n",
       "      <td>Краснодар</td>\n",
       "      <td>Рафаил</td>\n",
       "      <td>Верещагин</td>\n",
       "      <td>2018-05-25</td>\n",
       "      <td>ultra</td>\n",
       "      <td>1000</td>\n",
       "      <td>30720</td>\n",
       "      <td>3000</td>\n",
       "      <td>1950</td>\n",
       "      <td>150</td>\n",
       "      <td>1</td>\n",
       "      <td>1</td>\n",
       "    </tr>\n",
       "  </tbody>\n",
       "</table>\n",
       "</div>"
      ],
      "text/plain": [
       "   user_id  month  calls  duration  messages   mb_used  age churn_date  \\\n",
       "0     1000    5.0   22.0     159.0      22.0   2253.49   52        NaN   \n",
       "1     1000    6.0   43.0     172.0      60.0  23233.77   52        NaN   \n",
       "2     1000    7.0   47.0     340.0      75.0  14003.64   52        NaN   \n",
       "3     1000    8.0   52.0     408.0      81.0  14055.93   52        NaN   \n",
       "4     1000    9.0   58.0     466.0      57.0  14568.91   52        NaN   \n",
       "\n",
       "        city first_name  last_name    reg_date tariff  messages_included  \\\n",
       "0  Краснодар     Рафаил  Верещагин  2018-05-25  ultra               1000   \n",
       "1  Краснодар     Рафаил  Верещагин  2018-05-25  ultra               1000   \n",
       "2  Краснодар     Рафаил  Верещагин  2018-05-25  ultra               1000   \n",
       "3  Краснодар     Рафаил  Верещагин  2018-05-25  ultra               1000   \n",
       "4  Краснодар     Рафаил  Верещагин  2018-05-25  ultra               1000   \n",
       "\n",
       "   mb_per_month_included  minutes_included  rub_monthly_fee  rub_per_gb  \\\n",
       "0                  30720              3000             1950         150   \n",
       "1                  30720              3000             1950         150   \n",
       "2                  30720              3000             1950         150   \n",
       "3                  30720              3000             1950         150   \n",
       "4                  30720              3000             1950         150   \n",
       "\n",
       "   rub_per_message  rub_per_minute  \n",
       "0                1               1  \n",
       "1                1               1  \n",
       "2                1               1  \n",
       "3                1               1  \n",
       "4                1               1  "
      ]
     },
     "execution_count": 20,
     "metadata": {},
     "output_type": "execute_result"
    }
   ],
   "source": [
    "# объединим таблицы для дальнейших вычислений\n",
    "data = calls_grouped.merge(messages_grouped, on=['user_id','month'], how='outer')\n",
    "data = data.merge(internet_grouped, on=['user_id','month'], how='outer')\n",
    "data = data.merge(users, on = 'user_id', how = 'outer')\n",
    "data = data.merge(tariffs, on = 'tariff', how = 'outer')\n",
    "data.head(5)"
   ]
  },
  {
   "cell_type": "code",
   "execution_count": 21,
   "metadata": {},
   "outputs": [
    {
     "data": {
      "text/plain": [
       "user_id                     0\n",
       "month                       2\n",
       "calls                      42\n",
       "duration                   42\n",
       "messages                  499\n",
       "mb_used                    13\n",
       "age                         0\n",
       "churn_date               3027\n",
       "city                        0\n",
       "first_name                  0\n",
       "last_name                   0\n",
       "reg_date                    0\n",
       "tariff                      0\n",
       "messages_included           0\n",
       "mb_per_month_included       0\n",
       "minutes_included            0\n",
       "rub_monthly_fee             0\n",
       "rub_per_gb                  0\n",
       "rub_per_message             0\n",
       "rub_per_minute              0\n",
       "dtype: int64"
      ]
     },
     "execution_count": 21,
     "metadata": {},
     "output_type": "execute_result"
    }
   ],
   "source": [
    "# проверка полученных данных на пропуски\n",
    "data.isna().sum()"
   ]
  },
  {
   "cell_type": "code",
   "execution_count": 22,
   "metadata": {},
   "outputs": [],
   "source": [
    "# заменим образовавшиеся пропуски в данных на 0 т.к. это те пользователи, у которых были либо только звонки, либо смс или трафик\n",
    "list_1 = ['duration', 'messages', 'mb_used']\n",
    "for n in list_1:\n",
    "    data.loc[data[n].isna(), n] = 0    "
   ]
  },
  {
   "cell_type": "code",
   "execution_count": 23,
   "metadata": {
    "scrolled": true
   },
   "outputs": [
    {
     "data": {
      "text/html": [
       "<div>\n",
       "<style scoped>\n",
       "    .dataframe tbody tr th:only-of-type {\n",
       "        vertical-align: middle;\n",
       "    }\n",
       "\n",
       "    .dataframe tbody tr th {\n",
       "        vertical-align: top;\n",
       "    }\n",
       "\n",
       "    .dataframe thead th {\n",
       "        text-align: right;\n",
       "    }\n",
       "</style>\n",
       "<table border=\"1\" class=\"dataframe\">\n",
       "  <thead>\n",
       "    <tr style=\"text-align: right;\">\n",
       "      <th></th>\n",
       "      <th>user_id</th>\n",
       "      <th>month</th>\n",
       "      <th>calls</th>\n",
       "      <th>duration</th>\n",
       "      <th>messages</th>\n",
       "      <th>mb_used</th>\n",
       "      <th>age</th>\n",
       "      <th>churn_date</th>\n",
       "      <th>city</th>\n",
       "      <th>first_name</th>\n",
       "      <th>...</th>\n",
       "      <th>mb_per_month_included</th>\n",
       "      <th>minutes_included</th>\n",
       "      <th>rub_monthly_fee</th>\n",
       "      <th>rub_per_gb</th>\n",
       "      <th>rub_per_message</th>\n",
       "      <th>rub_per_minute</th>\n",
       "      <th>dur_over</th>\n",
       "      <th>int_over</th>\n",
       "      <th>mes_over</th>\n",
       "      <th>revenue</th>\n",
       "    </tr>\n",
       "  </thead>\n",
       "  <tbody>\n",
       "    <tr>\n",
       "      <td>0</td>\n",
       "      <td>1000</td>\n",
       "      <td>5.0</td>\n",
       "      <td>22.0</td>\n",
       "      <td>159.0</td>\n",
       "      <td>22.0</td>\n",
       "      <td>2253.49</td>\n",
       "      <td>52</td>\n",
       "      <td>NaN</td>\n",
       "      <td>Краснодар</td>\n",
       "      <td>Рафаил</td>\n",
       "      <td>...</td>\n",
       "      <td>30720</td>\n",
       "      <td>3000</td>\n",
       "      <td>1950</td>\n",
       "      <td>150</td>\n",
       "      <td>1</td>\n",
       "      <td>1</td>\n",
       "      <td>0.0</td>\n",
       "      <td>0.0</td>\n",
       "      <td>0.0</td>\n",
       "      <td>1950.0</td>\n",
       "    </tr>\n",
       "    <tr>\n",
       "      <td>1</td>\n",
       "      <td>1000</td>\n",
       "      <td>6.0</td>\n",
       "      <td>43.0</td>\n",
       "      <td>172.0</td>\n",
       "      <td>60.0</td>\n",
       "      <td>23233.77</td>\n",
       "      <td>52</td>\n",
       "      <td>NaN</td>\n",
       "      <td>Краснодар</td>\n",
       "      <td>Рафаил</td>\n",
       "      <td>...</td>\n",
       "      <td>30720</td>\n",
       "      <td>3000</td>\n",
       "      <td>1950</td>\n",
       "      <td>150</td>\n",
       "      <td>1</td>\n",
       "      <td>1</td>\n",
       "      <td>0.0</td>\n",
       "      <td>0.0</td>\n",
       "      <td>0.0</td>\n",
       "      <td>1950.0</td>\n",
       "    </tr>\n",
       "    <tr>\n",
       "      <td>2</td>\n",
       "      <td>1000</td>\n",
       "      <td>7.0</td>\n",
       "      <td>47.0</td>\n",
       "      <td>340.0</td>\n",
       "      <td>75.0</td>\n",
       "      <td>14003.64</td>\n",
       "      <td>52</td>\n",
       "      <td>NaN</td>\n",
       "      <td>Краснодар</td>\n",
       "      <td>Рафаил</td>\n",
       "      <td>...</td>\n",
       "      <td>30720</td>\n",
       "      <td>3000</td>\n",
       "      <td>1950</td>\n",
       "      <td>150</td>\n",
       "      <td>1</td>\n",
       "      <td>1</td>\n",
       "      <td>0.0</td>\n",
       "      <td>0.0</td>\n",
       "      <td>0.0</td>\n",
       "      <td>1950.0</td>\n",
       "    </tr>\n",
       "    <tr>\n",
       "      <td>3</td>\n",
       "      <td>1000</td>\n",
       "      <td>8.0</td>\n",
       "      <td>52.0</td>\n",
       "      <td>408.0</td>\n",
       "      <td>81.0</td>\n",
       "      <td>14055.93</td>\n",
       "      <td>52</td>\n",
       "      <td>NaN</td>\n",
       "      <td>Краснодар</td>\n",
       "      <td>Рафаил</td>\n",
       "      <td>...</td>\n",
       "      <td>30720</td>\n",
       "      <td>3000</td>\n",
       "      <td>1950</td>\n",
       "      <td>150</td>\n",
       "      <td>1</td>\n",
       "      <td>1</td>\n",
       "      <td>0.0</td>\n",
       "      <td>0.0</td>\n",
       "      <td>0.0</td>\n",
       "      <td>1950.0</td>\n",
       "    </tr>\n",
       "    <tr>\n",
       "      <td>4</td>\n",
       "      <td>1000</td>\n",
       "      <td>9.0</td>\n",
       "      <td>58.0</td>\n",
       "      <td>466.0</td>\n",
       "      <td>57.0</td>\n",
       "      <td>14568.91</td>\n",
       "      <td>52</td>\n",
       "      <td>NaN</td>\n",
       "      <td>Краснодар</td>\n",
       "      <td>Рафаил</td>\n",
       "      <td>...</td>\n",
       "      <td>30720</td>\n",
       "      <td>3000</td>\n",
       "      <td>1950</td>\n",
       "      <td>150</td>\n",
       "      <td>1</td>\n",
       "      <td>1</td>\n",
       "      <td>0.0</td>\n",
       "      <td>0.0</td>\n",
       "      <td>0.0</td>\n",
       "      <td>1950.0</td>\n",
       "    </tr>\n",
       "  </tbody>\n",
       "</table>\n",
       "<p>5 rows × 24 columns</p>\n",
       "</div>"
      ],
      "text/plain": [
       "   user_id  month  calls  duration  messages   mb_used  age churn_date  \\\n",
       "0     1000    5.0   22.0     159.0      22.0   2253.49   52        NaN   \n",
       "1     1000    6.0   43.0     172.0      60.0  23233.77   52        NaN   \n",
       "2     1000    7.0   47.0     340.0      75.0  14003.64   52        NaN   \n",
       "3     1000    8.0   52.0     408.0      81.0  14055.93   52        NaN   \n",
       "4     1000    9.0   58.0     466.0      57.0  14568.91   52        NaN   \n",
       "\n",
       "        city first_name  ... mb_per_month_included minutes_included  \\\n",
       "0  Краснодар     Рафаил  ...                 30720             3000   \n",
       "1  Краснодар     Рафаил  ...                 30720             3000   \n",
       "2  Краснодар     Рафаил  ...                 30720             3000   \n",
       "3  Краснодар     Рафаил  ...                 30720             3000   \n",
       "4  Краснодар     Рафаил  ...                 30720             3000   \n",
       "\n",
       "  rub_monthly_fee  rub_per_gb  rub_per_message  rub_per_minute  dur_over  \\\n",
       "0            1950         150                1               1       0.0   \n",
       "1            1950         150                1               1       0.0   \n",
       "2            1950         150                1               1       0.0   \n",
       "3            1950         150                1               1       0.0   \n",
       "4            1950         150                1               1       0.0   \n",
       "\n",
       "   int_over  mes_over  revenue  \n",
       "0       0.0       0.0   1950.0  \n",
       "1       0.0       0.0   1950.0  \n",
       "2       0.0       0.0   1950.0  \n",
       "3       0.0       0.0   1950.0  \n",
       "4       0.0       0.0   1950.0  \n",
       "\n",
       "[5 rows x 24 columns]"
      ]
     },
     "execution_count": 23,
     "metadata": {},
     "output_type": "execute_result"
    }
   ],
   "source": [
    "# рассчитаем помесячную выручку с каждого пользователя\n",
    "# для этого: вычислим звонки, трафик и сообщения сверх лимита\n",
    "# результаты запишем в отдельных столбцах\n",
    "data['dur_over'] = data['duration'] - data['minutes_included']\n",
    "data['int_over'] = data['mb_used'] - data['mb_per_month_included']\n",
    "data['mes_over'] = data['messages'] - data['messages_included']\n",
    "\n",
    "# циклом заменим отрицательное значение перерасхода на 0\n",
    "# потому что отрицательный перерасход означает, что пользователь не исчерпал лимиты тарифа\n",
    "# и не должен платить ничего сверх цены подписки на тариф\n",
    "list = ['dur_over', 'int_over', 'mes_over']\n",
    "for i in list:\n",
    "    data.loc[data[i]<0,i]=0\n",
    "\n",
    "# переведем трафик сверх лимита в гигабайты и округлим минуты и гигабайты в большую сторону до целого числа\n",
    "data['int_over'] = (data['int_over'] / 1024).apply(np.ceil)\n",
    "\n",
    "# рассчитаем выручку и добавим результат в отдельный столбец\n",
    "data['revenue'] = ((data['dur_over']*data['rub_per_minute']) + (data['int_over']*data['rub_per_gb'])+(data['mes_over']*data['rub_per_message']))+data['rub_monthly_fee']\n",
    "data.head(5)"
   ]
  },
  {
   "cell_type": "code",
   "execution_count": 24,
   "metadata": {},
   "outputs": [
    {
     "data": {
      "text/plain": [
       "500"
      ]
     },
     "execution_count": 24,
     "metadata": {},
     "output_type": "execute_result"
    }
   ],
   "source": [
    "len(data['user_id'].unique())"
   ]
  },
  {
   "cell_type": "markdown",
   "metadata": {},
   "source": [
    "## Анализ и описание данных"
   ]
  },
  {
   "cell_type": "markdown",
   "metadata": {},
   "source": [
    "Опишем поведение клиентов оператора, исходя из выборки."
   ]
  },
  {
   "cell_type": "code",
   "execution_count": 25,
   "metadata": {
    "scrolled": true
   },
   "outputs": [
    {
     "data": {
      "text/html": [
       "<style  type=\"text/css\" >\n",
       "</style><table id=\"T_ac6dcc74_616e_11ec_871b_02420a395fa5\" ><thead>    <tr>        <th class=\"blank level0\" ></th>        <th class=\"col_heading level0 col0\" >count</th>        <th class=\"col_heading level0 col1\" >mean</th>        <th class=\"col_heading level0 col2\" >std</th>        <th class=\"col_heading level0 col3\" >min</th>        <th class=\"col_heading level0 col4\" >25%</th>        <th class=\"col_heading level0 col5\" >50%</th>        <th class=\"col_heading level0 col6\" >75%</th>        <th class=\"col_heading level0 col7\" >max</th>        <th class=\"col_heading level0 col8\" >var</th>    </tr></thead><tbody>\n",
       "                <tr>\n",
       "                        <th id=\"T_ac6dcc74_616e_11ec_871b_02420a395fa5level0_row0\" class=\"row_heading level0 row0\" >duration</th>\n",
       "                        <td id=\"T_ac6dcc74_616e_11ec_871b_02420a395fa5row0_col0\" class=\"data row0 col0\" >986.00</td>\n",
       "                        <td id=\"T_ac6dcc74_616e_11ec_871b_02420a395fa5row0_col1\" class=\"data row0 col1\" >526.09</td>\n",
       "                        <td id=\"T_ac6dcc74_616e_11ec_871b_02420a395fa5row0_col2\" class=\"data row0 col2\" >317.89</td>\n",
       "                        <td id=\"T_ac6dcc74_616e_11ec_871b_02420a395fa5row0_col3\" class=\"data row0 col3\" >0.00</td>\n",
       "                        <td id=\"T_ac6dcc74_616e_11ec_871b_02420a395fa5row0_col4\" class=\"data row0 col4\" >282.50</td>\n",
       "                        <td id=\"T_ac6dcc74_616e_11ec_871b_02420a395fa5row0_col5\" class=\"data row0 col5\" >518.00</td>\n",
       "                        <td id=\"T_ac6dcc74_616e_11ec_871b_02420a395fa5row0_col6\" class=\"data row0 col6\" >751.75</td>\n",
       "                        <td id=\"T_ac6dcc74_616e_11ec_871b_02420a395fa5row0_col7\" class=\"data row0 col7\" >1673.00</td>\n",
       "                        <td id=\"T_ac6dcc74_616e_11ec_871b_02420a395fa5row0_col8\" class=\"data row0 col8\" >101052.49</td>\n",
       "            </tr>\n",
       "            <tr>\n",
       "                        <th id=\"T_ac6dcc74_616e_11ec_871b_02420a395fa5level0_row1\" class=\"row_heading level0 row1\" >mb_used</th>\n",
       "                        <td id=\"T_ac6dcc74_616e_11ec_871b_02420a395fa5row1_col0\" class=\"data row1 col0\" >986.00</td>\n",
       "                        <td id=\"T_ac6dcc74_616e_11ec_871b_02420a395fa5row1_col1\" class=\"data row1 col1\" >19449.06</td>\n",
       "                        <td id=\"T_ac6dcc74_616e_11ec_871b_02420a395fa5row1_col2\" class=\"data row1 col2\" >10101.10</td>\n",
       "                        <td id=\"T_ac6dcc74_616e_11ec_871b_02420a395fa5row1_col3\" class=\"data row1 col3\" >0.00</td>\n",
       "                        <td id=\"T_ac6dcc74_616e_11ec_871b_02420a395fa5row1_col4\" class=\"data row1 col4\" >11748.59</td>\n",
       "                        <td id=\"T_ac6dcc74_616e_11ec_871b_02420a395fa5row1_col5\" class=\"data row1 col5\" >19304.02</td>\n",
       "                        <td id=\"T_ac6dcc74_616e_11ec_871b_02420a395fa5row1_col6\" class=\"data row1 col6\" >26835.89</td>\n",
       "                        <td id=\"T_ac6dcc74_616e_11ec_871b_02420a395fa5row1_col7\" class=\"data row1 col7\" >49745.69</td>\n",
       "                        <td id=\"T_ac6dcc74_616e_11ec_871b_02420a395fa5row1_col8\" class=\"data row1 col8\" >102032129.46</td>\n",
       "            </tr>\n",
       "            <tr>\n",
       "                        <th id=\"T_ac6dcc74_616e_11ec_871b_02420a395fa5level0_row2\" class=\"row_heading level0 row2\" >messages</th>\n",
       "                        <td id=\"T_ac6dcc74_616e_11ec_871b_02420a395fa5row2_col0\" class=\"data row2 col0\" >986.00</td>\n",
       "                        <td id=\"T_ac6dcc74_616e_11ec_871b_02420a395fa5row2_col1\" class=\"data row2 col1\" >49.31</td>\n",
       "                        <td id=\"T_ac6dcc74_616e_11ec_871b_02420a395fa5row2_col2\" class=\"data row2 col2\" >47.81</td>\n",
       "                        <td id=\"T_ac6dcc74_616e_11ec_871b_02420a395fa5row2_col3\" class=\"data row2 col3\" >0.00</td>\n",
       "                        <td id=\"T_ac6dcc74_616e_11ec_871b_02420a395fa5row2_col4\" class=\"data row2 col4\" >6.00</td>\n",
       "                        <td id=\"T_ac6dcc74_616e_11ec_871b_02420a395fa5row2_col5\" class=\"data row2 col5\" >38.00</td>\n",
       "                        <td id=\"T_ac6dcc74_616e_11ec_871b_02420a395fa5row2_col6\" class=\"data row2 col6\" >78.75</td>\n",
       "                        <td id=\"T_ac6dcc74_616e_11ec_871b_02420a395fa5row2_col7\" class=\"data row2 col7\" >224.00</td>\n",
       "                        <td id=\"T_ac6dcc74_616e_11ec_871b_02420a395fa5row2_col8\" class=\"data row2 col8\" >2285.42</td>\n",
       "            </tr>\n",
       "    </tbody></table>"
      ],
      "text/plain": [
       "<pandas.io.formats.style.Styler at 0x7ff9f444fc50>"
      ]
     },
     "metadata": {},
     "output_type": "display_data"
    },
    {
     "data": {
      "text/html": [
       "<style  type=\"text/css\" >\n",
       "</style><table id=\"T_ac7b261c_616e_11ec_871b_02420a395fa5\" ><thead>    <tr>        <th class=\"blank level0\" ></th>        <th class=\"col_heading level0 col0\" >count</th>        <th class=\"col_heading level0 col1\" >mean</th>        <th class=\"col_heading level0 col2\" >std</th>        <th class=\"col_heading level0 col3\" >min</th>        <th class=\"col_heading level0 col4\" >25%</th>        <th class=\"col_heading level0 col5\" >50%</th>        <th class=\"col_heading level0 col6\" >75%</th>        <th class=\"col_heading level0 col7\" >max</th>        <th class=\"col_heading level0 col8\" >var</th>    </tr></thead><tbody>\n",
       "                <tr>\n",
       "                        <th id=\"T_ac7b261c_616e_11ec_871b_02420a395fa5level0_row0\" class=\"row_heading level0 row0\" >duration</th>\n",
       "                        <td id=\"T_ac7b261c_616e_11ec_871b_02420a395fa5row0_col0\" class=\"data row0 col0\" >2230.00</td>\n",
       "                        <td id=\"T_ac7b261c_616e_11ec_871b_02420a395fa5row0_col1\" class=\"data row0 col1\" >417.75</td>\n",
       "                        <td id=\"T_ac7b261c_616e_11ec_871b_02420a395fa5row0_col2\" class=\"data row0 col2\" >190.48</td>\n",
       "                        <td id=\"T_ac7b261c_616e_11ec_871b_02420a395fa5row0_col3\" class=\"data row0 col3\" >0.00</td>\n",
       "                        <td id=\"T_ac7b261c_616e_11ec_871b_02420a395fa5row0_col4\" class=\"data row0 col4\" >282.00</td>\n",
       "                        <td id=\"T_ac7b261c_616e_11ec_871b_02420a395fa5row0_col5\" class=\"data row0 col5\" >421.50</td>\n",
       "                        <td id=\"T_ac7b261c_616e_11ec_871b_02420a395fa5row0_col6\" class=\"data row0 col6\" >545.00</td>\n",
       "                        <td id=\"T_ac7b261c_616e_11ec_871b_02420a395fa5row0_col7\" class=\"data row0 col7\" >1435.00</td>\n",
       "                        <td id=\"T_ac7b261c_616e_11ec_871b_02420a395fa5row0_col8\" class=\"data row0 col8\" >36281.39</td>\n",
       "            </tr>\n",
       "            <tr>\n",
       "                        <th id=\"T_ac7b261c_616e_11ec_871b_02420a395fa5level0_row1\" class=\"row_heading level0 row1\" >mb_used</th>\n",
       "                        <td id=\"T_ac7b261c_616e_11ec_871b_02420a395fa5row1_col0\" class=\"data row1 col0\" >2230.00</td>\n",
       "                        <td id=\"T_ac7b261c_616e_11ec_871b_02420a395fa5row1_col1\" class=\"data row1 col1\" >16201.12</td>\n",
       "                        <td id=\"T_ac7b261c_616e_11ec_871b_02420a395fa5row1_col2\" class=\"data row1 col2\" >5879.19</td>\n",
       "                        <td id=\"T_ac7b261c_616e_11ec_871b_02420a395fa5row1_col3\" class=\"data row1 col3\" >0.00</td>\n",
       "                        <td id=\"T_ac7b261c_616e_11ec_871b_02420a395fa5row1_col4\" class=\"data row1 col4\" >12630.03</td>\n",
       "                        <td id=\"T_ac7b261c_616e_11ec_871b_02420a395fa5row1_col5\" class=\"data row1 col5\" >16505.47</td>\n",
       "                        <td id=\"T_ac7b261c_616e_11ec_871b_02420a395fa5row1_col6\" class=\"data row1 col6\" >20042.11</td>\n",
       "                        <td id=\"T_ac7b261c_616e_11ec_871b_02420a395fa5row1_col7\" class=\"data row1 col7\" >38552.45</td>\n",
       "                        <td id=\"T_ac7b261c_616e_11ec_871b_02420a395fa5row1_col8\" class=\"data row1 col8\" >34564843.48</td>\n",
       "            </tr>\n",
       "            <tr>\n",
       "                        <th id=\"T_ac7b261c_616e_11ec_871b_02420a395fa5level0_row2\" class=\"row_heading level0 row2\" >messages</th>\n",
       "                        <td id=\"T_ac7b261c_616e_11ec_871b_02420a395fa5row2_col0\" class=\"data row2 col0\" >2230.00</td>\n",
       "                        <td id=\"T_ac7b261c_616e_11ec_871b_02420a395fa5row2_col1\" class=\"data row2 col1\" >33.37</td>\n",
       "                        <td id=\"T_ac7b261c_616e_11ec_871b_02420a395fa5row2_col2\" class=\"data row2 col2\" >28.23</td>\n",
       "                        <td id=\"T_ac7b261c_616e_11ec_871b_02420a395fa5row2_col3\" class=\"data row2 col3\" >0.00</td>\n",
       "                        <td id=\"T_ac7b261c_616e_11ec_871b_02420a395fa5row2_col4\" class=\"data row2 col4\" >10.00</td>\n",
       "                        <td id=\"T_ac7b261c_616e_11ec_871b_02420a395fa5row2_col5\" class=\"data row2 col5\" >28.00</td>\n",
       "                        <td id=\"T_ac7b261c_616e_11ec_871b_02420a395fa5row2_col6\" class=\"data row2 col6\" >51.00</td>\n",
       "                        <td id=\"T_ac7b261c_616e_11ec_871b_02420a395fa5row2_col7\" class=\"data row2 col7\" >143.00</td>\n",
       "                        <td id=\"T_ac7b261c_616e_11ec_871b_02420a395fa5row2_col8\" class=\"data row2 col8\" >796.96</td>\n",
       "            </tr>\n",
       "    </tbody></table>"
      ],
      "text/plain": [
       "<pandas.io.formats.style.Styler at 0x7ff9f44b7390>"
      ]
     },
     "metadata": {},
     "output_type": "display_data"
    },
    {
     "data": {
      "image/png": "[encoded data removed]",
      "text/plain": [
       "<Figure size 432x288 with 1 Axes>"
      ]
     },
     "metadata": {
      "needs_background": "light"
     },
     "output_type": "display_data"
    }
   ],
   "source": [
    "# вывод таблицы с показателями среднего, дисперсии и стандартного отклонения\n",
    "for tariff in data['tariff'].unique():\n",
    "    # вытащим из таблицы все пары пользователь+месяц для указанного тарифа\n",
    "    report = data.query('tariff == @tariff')\n",
    "    # для указанных параметров рассчитаем статистики методом describe(), дисперсию вычислим как квадрат стандартоно отклонения\n",
    "    report_1 = report[['duration', 'mb_used', 'messages']].describe().T\n",
    "    report_1['var'] = report_1['std']**2\n",
    "    display(report_1.style.format('{:.2f}'))\n",
    "    # вывод гистограммы по длительности звонков по тарифам smart и ультра\n",
    "    sns.distplot(report['duration'], label = tariff)\n",
    "    plt.legend();\n",
    "    "
   ]
  },
  {
   "cell_type": "code",
   "execution_count": 26,
   "metadata": {},
   "outputs": [
    {
     "data": {
      "image/png": "[encoded data removed]",
      "text/plain": [
       "<Figure size 432x288 with 1 Axes>"
      ]
     },
     "metadata": {
      "needs_background": "light"
     },
     "output_type": "display_data"
    }
   ],
   "source": [
    "# вывод гистограммы по интернет-трафику\n",
    "for tariff in data['tariff'].unique():\n",
    "    report = data.query('tariff == @tariff')\n",
    "    sns.distplot(report['mb_used'], label = tariff)\n",
    "    plt.legend();"
   ]
  },
  {
   "cell_type": "code",
   "execution_count": 27,
   "metadata": {},
   "outputs": [
    {
     "data": {
      "image/png": "[encoded data removed]",
      "text/plain": [
       "<Figure size 432x288 with 1 Axes>"
      ]
     },
     "metadata": {
      "needs_background": "light"
     },
     "output_type": "display_data"
    }
   ],
   "source": [
    "# вывод гистограммы по отправленным сообщениям\n",
    "for tariff in data['tariff'].unique():\n",
    "    report = data.query('tariff == @tariff')\n",
    "    sns.distplot(report['messages'], label = tariff)\n",
    "    plt.legend();"
   ]
  },
  {
   "cell_type": "markdown",
   "metadata": {},
   "source": [
    "Проведя анализ, мы увидели, что пользователи тарифа \"Ультра\" в среднем используют 497 минут разговоров в месяц, почти 19 Гб интернета и отпрвляют в среднем 49 сообщений в месяц.\n",
    "Пользователи тарифа \"Смарт\" в среднем говорят чуть меньше - 394 минуты, интернет-трафик также чуть меньше - 16 Гб и количество сообщений в месяц также немного меньше - 33 смс.\n",
    "Показатели дисперсии для каждого из параметров (длительность звонков, трафик и сообщения) для тарифа \"Ультра\" выше, чем для тарифа \"Смарт\", это означает, что эти данные сильнее \"размазаны\" вокруг среднего значения, более вариативны, т.е. некоторые пользователи тарифа \"Ультра\"склонны дольше разговаривать, использовать больше интернет-трафика и слать больше смс.\n",
    "Значения данных параметров для тарифа \"Смарт\" более плотно распределены вокруг средних зачений, т.е. не много пользователей склонно использовать больше звонков, трафика и смс."
   ]
  },
  {
   "cell_type": "markdown",
   "metadata": {},
   "source": [
    "## Проверка гипотез"
   ]
  },
  {
   "cell_type": "markdown",
   "metadata": {},
   "source": [
    "Нам нужно выяснить различается ли средняя выручка пользователей тарифов «Ультра» и «Смарт» и средняя выручка пользователей из Москвы отличается ли от выручки пользователей из других регионов. Сформулируем гипотезы:\n",
    "\n",
    "Для средней выручки в зависимости от тарифа\n",
    "\n",
    "**Нулевая гипотеза** - средняя выручка пользователей тарифа «Ультра» равна средней выручке пользователей тарифа «Смарт»;\n",
    "\n",
    "**Альтернативная гипотеза** - средняя выручка пользователей тарифов «Ультра» и «Смарт» различаются.\n",
    "\n",
    "Также для выручки пользователей по городам.\n",
    "\n",
    "**Нулевая гипотеза** - средняя выручка пользователей из Москвы равна выручке пользователей из других регионов;\n",
    "\n",
    "**Альтернативная гипотеза** - средняя выручка пользователей из Москвы отличается от выручки пользователей из других регионов.\n",
    "\n",
    "Для проверки гипотез проведем t-тесты, полученные значения p-value позволят сделать выводы о том, верны ли наши гипотезы."
   ]
  },
  {
   "cell_type": "code",
   "execution_count": 28,
   "metadata": {},
   "outputs": [
    {
     "name": "stdout",
     "output_type": "stream",
     "text": [
      "p-значение:  8.081909555489933e-161\n",
      "Отвергаем нулевую гипотезу\n"
     ]
    }
   ],
   "source": [
    "# выделяем данные по выручке только по тарифу smart и отдельно по тарифу ultra\n",
    "revenue_smart = data.query('tariff == \"smart\"')['revenue']\n",
    "revenue_ultra = data.query('tariff == \"ultra\"')['revenue']\n",
    "# критический уровень статистической значимости возьмем равным 5%\n",
    "alpha = 0.05\n",
    "# запуск t-теста\n",
    "results = st.ttest_ind(revenue_smart, revenue_ultra, equal_var = True)\n",
    "print('p-значение: ', results.pvalue)\n",
    "if results.pvalue < alpha:\n",
    "    print('Отвергаем нулевую гипотезу')\n",
    "else:\n",
    "    print('Нулевую гипотезу не отвергаем')"
   ]
  },
  {
   "cell_type": "code",
   "execution_count": 29,
   "metadata": {},
   "outputs": [
    {
     "data": {
      "text/plain": [
       "1289.6417040358745"
      ]
     },
     "execution_count": 29,
     "metadata": {},
     "output_type": "execute_result"
    }
   ],
   "source": [
    "# вывод среднего значения выручки для тарифа smart\n",
    "revenue_smart.mean()"
   ]
  },
  {
   "cell_type": "code",
   "execution_count": 30,
   "metadata": {},
   "outputs": [
    {
     "data": {
      "text/plain": [
       "2070.030425963489"
      ]
     },
     "execution_count": 30,
     "metadata": {},
     "output_type": "execute_result"
    }
   ],
   "source": [
    "# вывод среднего значения выручки для тарифа ultra\n",
    "revenue_ultra.mean()"
   ]
  },
  {
   "cell_type": "markdown",
   "metadata": {},
   "source": [
    "**В результате выполнения t-теста мы получили значение p-value меньше, чем выбранный уровень статистической значимости, поэтому нулевую гипотезу мы отвергаем и принимаем альтернативную гипотезу, что средние зачения выручки для тарифов «Ультра» и «Смарт» различаются.**"
   ]
  },
  {
   "cell_type": "code",
   "execution_count": 31,
   "metadata": {},
   "outputs": [
    {
     "name": "stdout",
     "output_type": "stream",
     "text": [
      "p-значение:  0.5400751614511182\n",
      "Нулевую гипотезу не отвергаем\n"
     ]
    }
   ],
   "source": [
    "# вытаскиваем данные по Москве и отдельно по всем остальным регионам\n",
    "rev_msk = data.query('city == \"Москва\"')['revenue']\n",
    "rev_other = data.query('city != \"Москва\"')['revenue']\n",
    "# критический уровень статистической значимости возьмем равным 5%\n",
    "alpha = 0.05\n",
    "# запуск t-теста\n",
    "results = st.ttest_ind(rev_msk, rev_other, equal_var = True)\n",
    "print('p-значение: ', results.pvalue)\n",
    "if results.pvalue < alpha:\n",
    "    print('Отвергаем нулевую гипотезу')\n",
    "else:\n",
    "    print('Нулевую гипотезу не отвергаем')\n"
   ]
  },
  {
   "cell_type": "markdown",
   "metadata": {},
   "source": [
    "**В результате выполнения t-теста мы получили значение p-value больше, чем выбранный уровень статистической значимости, поэтому нулевую гипотезу мы оставляем и можем говорить, что средние выручки по нашим тарифам по Москве и другим регионам не различаются.**"
   ]
  },
  {
   "cell_type": "code",
   "execution_count": 32,
   "metadata": {},
   "outputs": [
    {
     "data": {
      "text/plain": [
       "1546.7135842880523"
      ]
     },
     "execution_count": 32,
     "metadata": {},
     "output_type": "execute_result"
    }
   ],
   "source": [
    "# вывод среднего значения выручки по Москве\n",
    "rev_msk.mean()"
   ]
  },
  {
   "cell_type": "code",
   "execution_count": 33,
   "metadata": {},
   "outputs": [
    {
     "data": {
      "text/plain": [
       "1524.7251439539348"
      ]
     },
     "execution_count": 33,
     "metadata": {},
     "output_type": "execute_result"
    }
   ],
   "source": [
    "# вывод среднего значения выручки по другим регионам\n",
    "rev_other.mean()\n"
   ]
  },
  {
   "cell_type": "markdown",
   "metadata": {},
   "source": [
    "## Общий вывод"
   ]
  },
  {
   "cell_type": "markdown",
   "metadata": {},
   "source": [
    "Перед проведением исследования тарифов для телеком-компании потребовалась предобработка имеющихся данных - был преобразован тип данных.\n",
    "\n",
    "Были рассчитаны и изучены следующие параметры для каждого пользователя:\n",
    "- количество сделанных звонков и израсходованных минут разговора по месяцам;\n",
    "- количество отправленных сообщений по месяцам;\n",
    "- объем израсходованного интернет-трафика по месяцам;\n",
    "- помесячную выручку с каждого пользователя.\n",
    "\n",
    "Анализ показал:\n",
    "- Пользователи тарифа **\"Ультра\"** в среднем используют 497 минут разговоров в месяц, почти 19 Гб интернета и отпрвляют в среднем 49 сообщений в месяц;\n",
    "- Пользователи тарифа **\"Смарт\"** в среднем говорят чуть меньше - 394 минуты, интернет-трафик также чуть меньше - 16 Гб и количество сообщений в месяц также немного меньше - 33 смс.\n",
    "- Показатели дисперсии для каждого из параметров (длительность звонков, трафик и сообщения) для тарифа \"Ультра\" выше, чем для тарифа \"Смарт\", это означает, что эти данные сильнее \"размазаны\" вокруг среднего значения и более вариативны, т.е. некоторые пользователи тарифа \"Ультра\"склонны дольше разговаривать, использовать больше интернет-трафика и слать больше смс. Значения данных параметров для тарифа \"Смарт\" более плотно распределены вокруг средних зачений, т.е. не много пользователей склонно использовать больше звонков, трафика и смс.\n",
    "\n",
    "Были проверены 2 гипотезы:\n",
    "1) Средняя выручка пользователей тарифа «Ультра» равна средней выручке пользователей тарифа «Смарт»;\n",
    "\n",
    "2) Средняя выручка пользователей из Москвы равна выручке пользователей из других регионов.\n",
    "\n",
    "Первая гипотеза не подтвердилась, выручка пользователей тарифа «Ультра» отличается от средней выручки пользователей тарифа «Смарт» и рассчет среднего значения показал, что средняя выручка по тарифу \"Ультра\" выше на 65% и составляет 2070 руб.\n",
    "А вот вторая гипотеза подтвердилась, средняя выручка пользователей из Москвы не отличается от выручки пользователей из других регионов.\n",
    "\n",
    "Таким образом, тариф \"Ультра\" выглядит как более перспективный, т.к. средняя выручка на 1 пользователя в нем выше, чем в тарифе \"Смарт\" и пользователи используют больше минут разговора, больше расходуют интернет-трафик и больше смс, чем в тарифе \"Смарт\"."
   ]
  }
 ],
 "metadata": {
  "ExecuteTimeLog": [
   {
    "duration": 1476,
    "start_time": "2021-12-09T14:55:06.694Z"
   },
   {
    "duration": 188,
    "start_time": "2021-12-09T14:56:03.790Z"
   },
   {
    "duration": 131,
    "start_time": "2021-12-09T14:57:47.488Z"
   },
   {
    "duration": 26,
    "start_time": "2021-12-09T14:58:36.710Z"
   },
   {
    "duration": 66,
    "start_time": "2021-12-09T15:00:29.837Z"
   },
   {
    "duration": 1009,
    "start_time": "2021-12-09T16:30:00.380Z"
   },
   {
    "duration": 208,
    "start_time": "2021-12-09T16:31:25.343Z"
   },
   {
    "duration": 26,
    "start_time": "2021-12-09T16:31:27.680Z"
   },
   {
    "duration": 26,
    "start_time": "2021-12-09T16:53:11.927Z"
   },
   {
    "duration": 135,
    "start_time": "2021-12-09T16:53:40.758Z"
   },
   {
    "duration": 25,
    "start_time": "2021-12-09T16:54:03.148Z"
   },
   {
    "duration": 27,
    "start_time": "2021-12-09T17:00:16.811Z"
   },
   {
    "duration": 572,
    "start_time": "2021-12-09T17:00:44.947Z"
   },
   {
    "duration": 26,
    "start_time": "2021-12-09T17:00:48.176Z"
   },
   {
    "duration": 24,
    "start_time": "2021-12-09T17:03:14.771Z"
   },
   {
    "duration": 138,
    "start_time": "2021-12-09T17:06:15.943Z"
   },
   {
    "duration": 21,
    "start_time": "2021-12-09T17:08:02.993Z"
   },
   {
    "duration": 21,
    "start_time": "2021-12-09T17:09:11.885Z"
   },
   {
    "duration": 55,
    "start_time": "2021-12-09T17:10:35.773Z"
   },
   {
    "duration": 10,
    "start_time": "2021-12-09T17:11:47.980Z"
   },
   {
    "duration": 8,
    "start_time": "2021-12-09T17:16:26.003Z"
   },
   {
    "duration": 100,
    "start_time": "2021-12-09T17:49:31.339Z"
   },
   {
    "duration": 11500,
    "start_time": "2021-12-09T18:06:40.468Z"
   },
   {
    "duration": 1086,
    "start_time": "2021-12-09T18:07:22.934Z"
   },
   {
    "duration": 52,
    "start_time": "2021-12-09T18:07:24.024Z"
   },
   {
    "duration": 38,
    "start_time": "2021-12-09T18:07:24.081Z"
   },
   {
    "duration": 221,
    "start_time": "2021-12-09T18:07:24.123Z"
   },
   {
    "duration": 33,
    "start_time": "2021-12-09T18:07:24.347Z"
   },
   {
    "duration": 23,
    "start_time": "2021-12-09T18:07:24.383Z"
   },
   {
    "duration": 152,
    "start_time": "2021-12-09T18:07:24.409Z"
   },
   {
    "duration": 20,
    "start_time": "2021-12-09T18:07:24.564Z"
   },
   {
    "duration": 18,
    "start_time": "2021-12-09T18:07:24.587Z"
   },
   {
    "duration": 64,
    "start_time": "2021-12-09T18:07:24.608Z"
   },
   {
    "duration": 44,
    "start_time": "2021-12-09T18:07:24.675Z"
   },
   {
    "duration": 8,
    "start_time": "2021-12-09T18:07:24.722Z"
   },
   {
    "duration": 30,
    "start_time": "2021-12-09T18:07:24.733Z"
   },
   {
    "duration": 10201,
    "start_time": "2021-12-09T18:07:24.765Z"
   },
   {
    "duration": 111,
    "start_time": "2021-12-09T18:10:04.418Z"
   },
   {
    "duration": 688,
    "start_time": "2021-12-09T18:10:22.202Z"
   },
   {
    "duration": 48,
    "start_time": "2021-12-09T18:10:30.074Z"
   },
   {
    "duration": 56,
    "start_time": "2021-12-09T18:10:36.779Z"
   },
   {
    "duration": 34,
    "start_time": "2021-12-09T18:10:45.991Z"
   },
   {
    "duration": 31,
    "start_time": "2021-12-09T18:10:57.826Z"
   },
   {
    "duration": 903,
    "start_time": "2021-12-13T14:52:38.840Z"
   },
   {
    "duration": 29,
    "start_time": "2021-12-13T14:52:39.746Z"
   },
   {
    "duration": 46,
    "start_time": "2021-12-13T14:52:39.778Z"
   },
   {
    "duration": 169,
    "start_time": "2021-12-13T14:52:39.827Z"
   },
   {
    "duration": 30,
    "start_time": "2021-12-13T14:52:39.999Z"
   },
   {
    "duration": 19,
    "start_time": "2021-12-13T14:52:40.031Z"
   },
   {
    "duration": 124,
    "start_time": "2021-12-13T14:52:40.053Z"
   },
   {
    "duration": 18,
    "start_time": "2021-12-13T14:52:40.180Z"
   },
   {
    "duration": 38,
    "start_time": "2021-12-13T14:52:40.200Z"
   },
   {
    "duration": 23,
    "start_time": "2021-12-13T14:52:40.240Z"
   },
   {
    "duration": 36,
    "start_time": "2021-12-13T14:52:40.266Z"
   },
   {
    "duration": 8,
    "start_time": "2021-12-13T14:52:40.305Z"
   },
   {
    "duration": 16,
    "start_time": "2021-12-13T14:52:40.323Z"
   },
   {
    "duration": 169,
    "start_time": "2021-12-13T14:52:40.342Z"
   },
   {
    "duration": 122,
    "start_time": "2021-12-13T14:52:48.921Z"
   },
   {
    "duration": 94,
    "start_time": "2021-12-13T15:12:31.829Z"
   },
   {
    "duration": 482,
    "start_time": "2021-12-15T12:52:31.652Z"
   },
   {
    "duration": 935,
    "start_time": "2021-12-15T12:53:08.488Z"
   },
   {
    "duration": 26,
    "start_time": "2021-12-15T12:53:09.427Z"
   },
   {
    "duration": 32,
    "start_time": "2021-12-15T12:53:09.456Z"
   },
   {
    "duration": 175,
    "start_time": "2021-12-15T12:53:09.491Z"
   },
   {
    "duration": 21,
    "start_time": "2021-12-15T12:53:09.668Z"
   },
   {
    "duration": 37,
    "start_time": "2021-12-15T12:53:09.692Z"
   },
   {
    "duration": 113,
    "start_time": "2021-12-15T12:53:09.731Z"
   },
   {
    "duration": 19,
    "start_time": "2021-12-15T12:53:09.848Z"
   },
   {
    "duration": 20,
    "start_time": "2021-12-15T12:53:09.869Z"
   },
   {
    "duration": 37,
    "start_time": "2021-12-15T12:53:09.891Z"
   },
   {
    "duration": 52,
    "start_time": "2021-12-15T12:53:09.930Z"
   },
   {
    "duration": 8,
    "start_time": "2021-12-15T12:53:09.984Z"
   },
   {
    "duration": 8,
    "start_time": "2021-12-15T12:53:09.994Z"
   },
   {
    "duration": 171,
    "start_time": "2021-12-15T12:53:10.004Z"
   },
   {
    "duration": 46,
    "start_time": "2021-12-15T12:53:10.177Z"
   },
   {
    "duration": 385,
    "start_time": "2021-12-15T14:21:33.835Z"
   },
   {
    "duration": 36,
    "start_time": "2021-12-15T14:21:54.344Z"
   },
   {
    "duration": 90,
    "start_time": "2021-12-15T14:25:02.009Z"
   },
   {
    "duration": 33,
    "start_time": "2021-12-15T14:25:07.468Z"
   },
   {
    "duration": 34,
    "start_time": "2021-12-15T14:28:18.344Z"
   },
   {
    "duration": 35,
    "start_time": "2021-12-15T14:28:26.020Z"
   },
   {
    "duration": 35,
    "start_time": "2021-12-15T14:28:49.916Z"
   },
   {
    "duration": 39,
    "start_time": "2021-12-15T14:29:03.511Z"
   },
   {
    "duration": 34,
    "start_time": "2021-12-15T14:29:30.877Z"
   },
   {
    "duration": 38,
    "start_time": "2021-12-15T14:33:42.952Z"
   },
   {
    "duration": 28,
    "start_time": "2021-12-15T14:42:19.562Z"
   },
   {
    "duration": 29,
    "start_time": "2021-12-15T14:43:40.655Z"
   },
   {
    "duration": 26,
    "start_time": "2021-12-15T20:08:09.059Z"
   },
   {
    "duration": 35,
    "start_time": "2021-12-15T20:11:04.595Z"
   },
   {
    "duration": 36,
    "start_time": "2021-12-15T20:11:15.722Z"
   },
   {
    "duration": 63,
    "start_time": "2021-12-15T20:14:22.132Z"
   },
   {
    "duration": 63,
    "start_time": "2021-12-15T20:14:33.407Z"
   },
   {
    "duration": 8042,
    "start_time": "2021-12-15T20:19:28.237Z"
   },
   {
    "duration": 29,
    "start_time": "2021-12-15T20:20:49.952Z"
   },
   {
    "duration": 29,
    "start_time": "2021-12-15T20:20:59.427Z"
   },
   {
    "duration": 29,
    "start_time": "2021-12-15T20:21:10.210Z"
   },
   {
    "duration": 29,
    "start_time": "2021-12-15T20:22:18.973Z"
   },
   {
    "duration": 31,
    "start_time": "2021-12-15T20:22:28.257Z"
   },
   {
    "duration": 2525,
    "start_time": "2021-12-15T20:23:29.184Z"
   },
   {
    "duration": 7228,
    "start_time": "2021-12-15T20:26:48.440Z"
   },
   {
    "duration": 33,
    "start_time": "2021-12-15T20:27:39.661Z"
   },
   {
    "duration": 293,
    "start_time": "2021-12-15T20:32:28.874Z"
   },
   {
    "duration": 43,
    "start_time": "2021-12-15T20:32:58.136Z"
   },
   {
    "duration": 309,
    "start_time": "2021-12-15T20:33:41.880Z"
   },
   {
    "duration": 34,
    "start_time": "2021-12-15T20:33:49.008Z"
   },
   {
    "duration": 77,
    "start_time": "2021-12-15T20:36:07.706Z"
   },
   {
    "duration": 35,
    "start_time": "2021-12-15T20:36:12.814Z"
   },
   {
    "duration": 35,
    "start_time": "2021-12-15T20:36:19.809Z"
   },
   {
    "duration": 929,
    "start_time": "2021-12-15T20:36:30.306Z"
   },
   {
    "duration": 25,
    "start_time": "2021-12-15T20:36:31.238Z"
   },
   {
    "duration": 31,
    "start_time": "2021-12-15T20:36:31.266Z"
   },
   {
    "duration": 177,
    "start_time": "2021-12-15T20:36:31.300Z"
   },
   {
    "duration": 21,
    "start_time": "2021-12-15T20:36:31.480Z"
   },
   {
    "duration": 35,
    "start_time": "2021-12-15T20:36:31.504Z"
   },
   {
    "duration": 140,
    "start_time": "2021-12-15T20:36:31.541Z"
   },
   {
    "duration": 30,
    "start_time": "2021-12-15T20:36:31.686Z"
   },
   {
    "duration": 29,
    "start_time": "2021-12-15T20:36:31.738Z"
   },
   {
    "duration": 26,
    "start_time": "2021-12-15T20:36:31.770Z"
   },
   {
    "duration": 38,
    "start_time": "2021-12-15T20:36:31.799Z"
   },
   {
    "duration": 8,
    "start_time": "2021-12-15T20:36:31.840Z"
   },
   {
    "duration": 12,
    "start_time": "2021-12-15T20:36:31.850Z"
   },
   {
    "duration": 171,
    "start_time": "2021-12-15T20:36:31.865Z"
   },
   {
    "duration": 43,
    "start_time": "2021-12-15T20:36:32.039Z"
   },
   {
    "duration": 50,
    "start_time": "2021-12-15T20:36:32.084Z"
   },
   {
    "duration": 29,
    "start_time": "2021-12-15T20:36:32.136Z"
   },
   {
    "duration": 32,
    "start_time": "2021-12-15T20:36:32.167Z"
   },
   {
    "duration": 29,
    "start_time": "2021-12-15T20:36:57.476Z"
   },
   {
    "duration": 29,
    "start_time": "2021-12-15T20:37:07.051Z"
   },
   {
    "duration": 42,
    "start_time": "2021-12-15T20:37:35.228Z"
   },
   {
    "duration": 454,
    "start_time": "2021-12-15T20:48:12.568Z"
   },
   {
    "duration": 13,
    "start_time": "2021-12-15T20:50:11.796Z"
   },
   {
    "duration": 322,
    "start_time": "2021-12-15T20:50:19.565Z"
   },
   {
    "duration": 921,
    "start_time": "2021-12-15T20:50:35.519Z"
   },
   {
    "duration": 30,
    "start_time": "2021-12-15T20:50:36.443Z"
   },
   {
    "duration": 49,
    "start_time": "2021-12-15T20:50:36.477Z"
   },
   {
    "duration": 172,
    "start_time": "2021-12-15T20:50:36.529Z"
   },
   {
    "duration": 30,
    "start_time": "2021-12-15T20:50:36.703Z"
   },
   {
    "duration": 34,
    "start_time": "2021-12-15T20:50:36.736Z"
   },
   {
    "duration": 124,
    "start_time": "2021-12-15T20:50:36.773Z"
   },
   {
    "duration": 28,
    "start_time": "2021-12-15T20:50:36.901Z"
   },
   {
    "duration": 22,
    "start_time": "2021-12-15T20:50:36.933Z"
   },
   {
    "duration": 28,
    "start_time": "2021-12-15T20:50:36.958Z"
   },
   {
    "duration": 66,
    "start_time": "2021-12-15T20:50:36.989Z"
   },
   {
    "duration": 19,
    "start_time": "2021-12-15T20:50:37.057Z"
   },
   {
    "duration": 13,
    "start_time": "2021-12-15T20:50:37.079Z"
   },
   {
    "duration": 163,
    "start_time": "2021-12-15T20:50:37.094Z"
   },
   {
    "duration": 13,
    "start_time": "2021-12-15T20:50:37.260Z"
   },
   {
    "duration": 61,
    "start_time": "2021-12-15T20:50:37.275Z"
   },
   {
    "duration": 32,
    "start_time": "2021-12-15T20:50:37.339Z"
   },
   {
    "duration": 52,
    "start_time": "2021-12-15T20:50:37.374Z"
   },
   {
    "duration": 382,
    "start_time": "2021-12-15T20:50:37.429Z"
   },
   {
    "duration": 357,
    "start_time": "2021-12-15T20:50:37.457Z"
   },
   {
    "duration": 5,
    "start_time": "2021-12-15T20:50:57.112Z"
   },
   {
    "duration": 52,
    "start_time": "2021-12-15T20:51:03.601Z"
   },
   {
    "duration": 64,
    "start_time": "2021-12-15T21:07:48.511Z"
   },
   {
    "duration": 110,
    "start_time": "2021-12-15T21:11:47.108Z"
   },
   {
    "duration": 116,
    "start_time": "2021-12-15T21:12:00.983Z"
   },
   {
    "duration": 324,
    "start_time": "2021-12-15T21:13:44.896Z"
   },
   {
    "duration": 58,
    "start_time": "2021-12-15T21:14:41.638Z"
   },
   {
    "duration": 41,
    "start_time": "2021-12-15T21:15:29.743Z"
   },
   {
    "duration": 388,
    "start_time": "2021-12-16T14:03:57.511Z"
   },
   {
    "duration": 800,
    "start_time": "2021-12-16T14:04:03.567Z"
   },
   {
    "duration": 21,
    "start_time": "2021-12-16T14:04:04.369Z"
   },
   {
    "duration": 30,
    "start_time": "2021-12-16T14:04:04.395Z"
   },
   {
    "duration": 138,
    "start_time": "2021-12-16T14:04:04.427Z"
   },
   {
    "duration": 17,
    "start_time": "2021-12-16T14:04:04.567Z"
   },
   {
    "duration": 29,
    "start_time": "2021-12-16T14:04:04.586Z"
   },
   {
    "duration": 91,
    "start_time": "2021-12-16T14:04:04.618Z"
   },
   {
    "duration": 15,
    "start_time": "2021-12-16T14:04:04.711Z"
   },
   {
    "duration": 15,
    "start_time": "2021-12-16T14:04:04.727Z"
   },
   {
    "duration": 23,
    "start_time": "2021-12-16T14:04:04.744Z"
   },
   {
    "duration": 63,
    "start_time": "2021-12-16T14:04:04.769Z"
   },
   {
    "duration": 6,
    "start_time": "2021-12-16T14:04:04.834Z"
   },
   {
    "duration": 7,
    "start_time": "2021-12-16T14:04:04.842Z"
   },
   {
    "duration": 131,
    "start_time": "2021-12-16T14:04:04.851Z"
   },
   {
    "duration": 4,
    "start_time": "2021-12-16T14:04:04.984Z"
   },
   {
    "duration": 43,
    "start_time": "2021-12-16T14:04:04.990Z"
   },
   {
    "duration": 24,
    "start_time": "2021-12-16T14:04:05.035Z"
   },
   {
    "duration": 22,
    "start_time": "2021-12-16T14:04:05.061Z"
   },
   {
    "duration": 56,
    "start_time": "2021-12-16T14:04:05.084Z"
   },
   {
    "duration": 36,
    "start_time": "2021-12-16T14:04:05.142Z"
   },
   {
    "duration": 538,
    "start_time": "2021-12-16T14:04:05.180Z"
   },
   {
    "duration": 1040,
    "start_time": "2021-12-16T14:04:44.783Z"
   },
   {
    "duration": 666,
    "start_time": "2021-12-16T14:06:22.806Z"
   },
   {
    "duration": 1309,
    "start_time": "2021-12-16T14:06:29.485Z"
   },
   {
    "duration": 21,
    "start_time": "2021-12-16T14:06:30.795Z"
   },
   {
    "duration": 50,
    "start_time": "2021-12-16T14:06:30.818Z"
   },
   {
    "duration": 185,
    "start_time": "2021-12-16T14:06:30.870Z"
   },
   {
    "duration": 16,
    "start_time": "2021-12-16T14:06:31.057Z"
   },
   {
    "duration": 32,
    "start_time": "2021-12-16T14:06:31.075Z"
   },
   {
    "duration": 93,
    "start_time": "2021-12-16T14:06:31.109Z"
   },
   {
    "duration": 13,
    "start_time": "2021-12-16T14:06:31.204Z"
   },
   {
    "duration": 18,
    "start_time": "2021-12-16T14:06:31.220Z"
   },
   {
    "duration": 26,
    "start_time": "2021-12-16T14:06:31.241Z"
   },
   {
    "duration": 49,
    "start_time": "2021-12-16T14:06:31.269Z"
   },
   {
    "duration": 7,
    "start_time": "2021-12-16T14:06:31.320Z"
   },
   {
    "duration": 14,
    "start_time": "2021-12-16T14:06:31.329Z"
   },
   {
    "duration": 130,
    "start_time": "2021-12-16T14:06:31.345Z"
   },
   {
    "duration": 5,
    "start_time": "2021-12-16T14:06:31.477Z"
   },
   {
    "duration": 44,
    "start_time": "2021-12-16T14:06:31.484Z"
   },
   {
    "duration": 23,
    "start_time": "2021-12-16T14:06:31.530Z"
   },
   {
    "duration": 22,
    "start_time": "2021-12-16T14:06:31.555Z"
   },
   {
    "duration": 58,
    "start_time": "2021-12-16T14:06:31.580Z"
   },
   {
    "duration": 39,
    "start_time": "2021-12-16T14:06:31.640Z"
   },
   {
    "duration": 552,
    "start_time": "2021-12-16T14:06:31.680Z"
   },
   {
    "duration": 918,
    "start_time": "2021-12-16T14:36:07.312Z"
   },
   {
    "duration": 621,
    "start_time": "2021-12-16T14:36:23.388Z"
   },
   {
    "duration": 10,
    "start_time": "2021-12-16T14:37:10.499Z"
   },
   {
    "duration": 28,
    "start_time": "2021-12-16T14:56:27.578Z"
   },
   {
    "duration": 9,
    "start_time": "2021-12-16T15:05:13.412Z"
   },
   {
    "duration": 13,
    "start_time": "2021-12-16T15:05:27.067Z"
   },
   {
    "duration": 7,
    "start_time": "2021-12-16T15:06:58.015Z"
   },
   {
    "duration": 31,
    "start_time": "2021-12-16T15:07:12.617Z"
   },
   {
    "duration": 1262,
    "start_time": "2021-12-16T15:12:37.340Z"
   },
   {
    "duration": 23,
    "start_time": "2021-12-16T15:12:38.604Z"
   },
   {
    "duration": 20,
    "start_time": "2021-12-16T15:12:38.630Z"
   },
   {
    "duration": 148,
    "start_time": "2021-12-16T15:12:38.652Z"
   },
   {
    "duration": 20,
    "start_time": "2021-12-16T15:12:38.802Z"
   },
   {
    "duration": 15,
    "start_time": "2021-12-16T15:12:38.824Z"
   },
   {
    "duration": 103,
    "start_time": "2021-12-16T15:12:38.841Z"
   },
   {
    "duration": 14,
    "start_time": "2021-12-16T15:12:38.945Z"
   },
   {
    "duration": 13,
    "start_time": "2021-12-16T15:12:38.962Z"
   },
   {
    "duration": 30,
    "start_time": "2021-12-16T15:12:38.977Z"
   },
   {
    "duration": 63,
    "start_time": "2021-12-16T15:12:39.009Z"
   },
   {
    "duration": 6,
    "start_time": "2021-12-16T15:12:39.074Z"
   },
   {
    "duration": 8,
    "start_time": "2021-12-16T15:12:39.082Z"
   },
   {
    "duration": 115,
    "start_time": "2021-12-16T15:12:39.091Z"
   },
   {
    "duration": 3,
    "start_time": "2021-12-16T15:12:39.208Z"
   },
   {
    "duration": 34,
    "start_time": "2021-12-16T15:12:39.213Z"
   },
   {
    "duration": 23,
    "start_time": "2021-12-16T15:12:39.249Z"
   },
   {
    "duration": 43,
    "start_time": "2021-12-16T15:12:39.274Z"
   },
   {
    "duration": 34,
    "start_time": "2021-12-16T15:12:39.319Z"
   },
   {
    "duration": 51,
    "start_time": "2021-12-16T15:12:39.355Z"
   },
   {
    "duration": 7,
    "start_time": "2021-12-16T15:12:39.408Z"
   },
   {
    "duration": 2,
    "start_time": "2021-12-16T15:12:39.417Z"
   },
   {
    "duration": 34,
    "start_time": "2021-12-16T15:12:39.421Z"
   },
   {
    "duration": 965,
    "start_time": "2021-12-16T15:12:39.457Z"
   },
   {
    "duration": 1459,
    "start_time": "2021-12-16T15:14:05.946Z"
   },
   {
    "duration": 23,
    "start_time": "2021-12-16T15:14:07.408Z"
   },
   {
    "duration": 22,
    "start_time": "2021-12-16T15:14:07.434Z"
   },
   {
    "duration": 176,
    "start_time": "2021-12-16T15:14:07.459Z"
   },
   {
    "duration": 17,
    "start_time": "2021-12-16T15:14:07.638Z"
   },
   {
    "duration": 19,
    "start_time": "2021-12-16T15:14:07.657Z"
   },
   {
    "duration": 118,
    "start_time": "2021-12-16T15:14:07.678Z"
   },
   {
    "duration": 20,
    "start_time": "2021-12-16T15:14:07.799Z"
   },
   {
    "duration": 17,
    "start_time": "2021-12-16T15:14:07.822Z"
   },
   {
    "duration": 27,
    "start_time": "2021-12-16T15:14:07.840Z"
   },
   {
    "duration": 52,
    "start_time": "2021-12-16T15:14:07.869Z"
   },
   {
    "duration": 6,
    "start_time": "2021-12-16T15:14:07.923Z"
   },
   {
    "duration": 14,
    "start_time": "2021-12-16T15:14:07.931Z"
   },
   {
    "duration": 129,
    "start_time": "2021-12-16T15:14:07.946Z"
   },
   {
    "duration": 4,
    "start_time": "2021-12-16T15:14:08.077Z"
   },
   {
    "duration": 48,
    "start_time": "2021-12-16T15:14:08.083Z"
   },
   {
    "duration": 26,
    "start_time": "2021-12-16T15:14:08.132Z"
   },
   {
    "duration": 26,
    "start_time": "2021-12-16T15:14:08.160Z"
   },
   {
    "duration": 52,
    "start_time": "2021-12-16T15:14:08.188Z"
   },
   {
    "duration": 9,
    "start_time": "2021-12-16T15:14:08.242Z"
   },
   {
    "duration": 35,
    "start_time": "2021-12-16T15:14:08.252Z"
   },
   {
    "duration": 8,
    "start_time": "2021-12-16T15:14:08.307Z"
   },
   {
    "duration": 2,
    "start_time": "2021-12-16T15:14:08.318Z"
   },
   {
    "duration": 19,
    "start_time": "2021-12-16T15:14:08.321Z"
   },
   {
    "duration": 901,
    "start_time": "2021-12-16T15:14:08.341Z"
   },
   {
    "duration": 628,
    "start_time": "2021-12-16T18:13:07.066Z"
   },
   {
    "duration": 1418,
    "start_time": "2021-12-16T18:13:34.952Z"
   },
   {
    "duration": 1728,
    "start_time": "2021-12-16T18:14:23.420Z"
   },
   {
    "duration": 1444,
    "start_time": "2021-12-16T18:14:44.882Z"
   },
   {
    "duration": 1582,
    "start_time": "2021-12-16T18:18:29.333Z"
   },
   {
    "duration": 613,
    "start_time": "2021-12-16T18:19:12.120Z"
   },
   {
    "duration": 293,
    "start_time": "2021-12-16T18:19:44.223Z"
   },
   {
    "duration": 377,
    "start_time": "2021-12-16T18:20:09.253Z"
   },
   {
    "duration": 313,
    "start_time": "2021-12-16T18:20:26.275Z"
   },
   {
    "duration": 744,
    "start_time": "2021-12-16T18:20:39.189Z"
   },
   {
    "duration": 332,
    "start_time": "2021-12-16T18:20:50.076Z"
   },
   {
    "duration": 453,
    "start_time": "2021-12-16T18:21:09.845Z"
   },
   {
    "duration": 297,
    "start_time": "2021-12-16T18:22:27.927Z"
   },
   {
    "duration": 108,
    "start_time": "2021-12-16T18:30:19.347Z"
   },
   {
    "duration": 478,
    "start_time": "2021-12-16T18:30:31.655Z"
   },
   {
    "duration": 304,
    "start_time": "2021-12-16T18:31:31.352Z"
   },
   {
    "duration": 540,
    "start_time": "2021-12-16T18:33:08.055Z"
   },
   {
    "duration": 1606,
    "start_time": "2021-12-16T18:33:30.814Z"
   },
   {
    "duration": 116,
    "start_time": "2021-12-16T18:34:21.453Z"
   },
   {
    "duration": 434,
    "start_time": "2021-12-16T18:34:27.003Z"
   },
   {
    "duration": 304,
    "start_time": "2021-12-16T18:34:46.863Z"
   },
   {
    "duration": 305,
    "start_time": "2021-12-16T18:37:04.569Z"
   },
   {
    "duration": 459,
    "start_time": "2021-12-16T18:37:19.414Z"
   },
   {
    "duration": 398,
    "start_time": "2021-12-16T18:37:32.248Z"
   },
   {
    "duration": 115,
    "start_time": "2021-12-16T18:38:15.630Z"
   },
   {
    "duration": 735,
    "start_time": "2021-12-16T18:38:27.675Z"
   },
   {
    "duration": 105,
    "start_time": "2021-12-16T18:39:16.042Z"
   },
   {
    "duration": 795,
    "start_time": "2021-12-16T18:42:12.103Z"
   },
   {
    "duration": 689,
    "start_time": "2021-12-16T18:42:38.503Z"
   },
   {
    "duration": 596,
    "start_time": "2021-12-16T18:45:30.101Z"
   },
   {
    "duration": 915,
    "start_time": "2021-12-16T18:45:51.687Z"
   },
   {
    "duration": 301,
    "start_time": "2021-12-16T18:46:34.528Z"
   },
   {
    "duration": 704,
    "start_time": "2021-12-16T18:47:49.098Z"
   },
   {
    "duration": 319,
    "start_time": "2021-12-16T18:48:02.081Z"
   },
   {
    "duration": 304,
    "start_time": "2021-12-16T18:50:34.638Z"
   },
   {
    "duration": 121,
    "start_time": "2021-12-16T18:50:58.722Z"
   },
   {
    "duration": 803,
    "start_time": "2021-12-16T18:51:25.503Z"
   },
   {
    "duration": 703,
    "start_time": "2021-12-16T18:52:12.524Z"
   },
   {
    "duration": 317,
    "start_time": "2021-12-16T18:52:27.366Z"
   },
   {
    "duration": 526,
    "start_time": "2021-12-16T19:07:24.706Z"
   },
   {
    "duration": 1413,
    "start_time": "2021-12-16T19:07:49.160Z"
   },
   {
    "duration": 319,
    "start_time": "2021-12-16T19:09:09.404Z"
   },
   {
    "duration": 306,
    "start_time": "2021-12-16T19:09:51.396Z"
   },
   {
    "duration": 269,
    "start_time": "2021-12-16T19:10:12.923Z"
   },
   {
    "duration": 455,
    "start_time": "2021-12-16T19:15:22.974Z"
   },
   {
    "duration": 354,
    "start_time": "2021-12-16T19:15:46.880Z"
   },
   {
    "duration": 1393,
    "start_time": "2021-12-16T19:16:56.900Z"
   },
   {
    "duration": 20,
    "start_time": "2021-12-16T19:16:58.295Z"
   },
   {
    "duration": 18,
    "start_time": "2021-12-16T19:16:58.318Z"
   },
   {
    "duration": 147,
    "start_time": "2021-12-16T19:16:58.338Z"
   },
   {
    "duration": 25,
    "start_time": "2021-12-16T19:16:58.486Z"
   },
   {
    "duration": 16,
    "start_time": "2021-12-16T19:16:58.513Z"
   },
   {
    "duration": 99,
    "start_time": "2021-12-16T19:16:58.531Z"
   },
   {
    "duration": 14,
    "start_time": "2021-12-16T19:16:58.632Z"
   },
   {
    "duration": 14,
    "start_time": "2021-12-16T19:16:58.648Z"
   },
   {
    "duration": 29,
    "start_time": "2021-12-16T19:16:58.664Z"
   },
   {
    "duration": 56,
    "start_time": "2021-12-16T19:16:58.694Z"
   },
   {
    "duration": 18,
    "start_time": "2021-12-16T19:16:58.752Z"
   },
   {
    "duration": 8,
    "start_time": "2021-12-16T19:16:58.772Z"
   },
   {
    "duration": 114,
    "start_time": "2021-12-16T19:16:58.782Z"
   },
   {
    "duration": 9,
    "start_time": "2021-12-16T19:16:58.898Z"
   },
   {
    "duration": 36,
    "start_time": "2021-12-16T19:16:58.909Z"
   },
   {
    "duration": 26,
    "start_time": "2021-12-16T19:16:58.947Z"
   },
   {
    "duration": 45,
    "start_time": "2021-12-16T19:16:58.974Z"
   },
   {
    "duration": 33,
    "start_time": "2021-12-16T19:16:59.020Z"
   },
   {
    "duration": 8,
    "start_time": "2021-12-16T19:16:59.054Z"
   },
   {
    "duration": 49,
    "start_time": "2021-12-16T19:16:59.064Z"
   },
   {
    "duration": 8,
    "start_time": "2021-12-16T19:16:59.116Z"
   },
   {
    "duration": 1138,
    "start_time": "2021-12-16T19:16:59.126Z"
   },
   {
    "duration": 957,
    "start_time": "2021-12-16T19:16:59.310Z"
   },
   {
    "duration": 956,
    "start_time": "2021-12-16T19:16:59.312Z"
   },
   {
    "duration": 324,
    "start_time": "2021-12-16T19:17:15.624Z"
   },
   {
    "duration": 331,
    "start_time": "2021-12-16T19:17:42.779Z"
   },
   {
    "duration": 424,
    "start_time": "2021-12-16T19:18:18.045Z"
   },
   {
    "duration": 1375,
    "start_time": "2021-12-16T19:19:23.094Z"
   },
   {
    "duration": 20,
    "start_time": "2021-12-16T19:19:24.471Z"
   },
   {
    "duration": 24,
    "start_time": "2021-12-16T19:19:24.493Z"
   },
   {
    "duration": 133,
    "start_time": "2021-12-16T19:19:24.519Z"
   },
   {
    "duration": 16,
    "start_time": "2021-12-16T19:19:24.654Z"
   },
   {
    "duration": 15,
    "start_time": "2021-12-16T19:19:24.672Z"
   },
   {
    "duration": 99,
    "start_time": "2021-12-16T19:19:24.689Z"
   },
   {
    "duration": 21,
    "start_time": "2021-12-16T19:19:24.790Z"
   },
   {
    "duration": 14,
    "start_time": "2021-12-16T19:19:24.813Z"
   },
   {
    "duration": 23,
    "start_time": "2021-12-16T19:19:24.828Z"
   },
   {
    "duration": 48,
    "start_time": "2021-12-16T19:19:24.853Z"
   },
   {
    "duration": 5,
    "start_time": "2021-12-16T19:19:24.903Z"
   },
   {
    "duration": 7,
    "start_time": "2021-12-16T19:19:24.910Z"
   },
   {
    "duration": 127,
    "start_time": "2021-12-16T19:19:24.919Z"
   },
   {
    "duration": 3,
    "start_time": "2021-12-16T19:19:25.048Z"
   },
   {
    "duration": 35,
    "start_time": "2021-12-16T19:19:25.053Z"
   },
   {
    "duration": 36,
    "start_time": "2021-12-16T19:19:25.090Z"
   },
   {
    "duration": 24,
    "start_time": "2021-12-16T19:19:25.128Z"
   },
   {
    "duration": 55,
    "start_time": "2021-12-16T19:19:25.153Z"
   },
   {
    "duration": 9,
    "start_time": "2021-12-16T19:19:25.209Z"
   },
   {
    "duration": 46,
    "start_time": "2021-12-16T19:19:25.220Z"
   },
   {
    "duration": 6,
    "start_time": "2021-12-16T19:19:25.268Z"
   },
   {
    "duration": 1040,
    "start_time": "2021-12-16T19:19:25.276Z"
   },
   {
    "duration": 961,
    "start_time": "2021-12-16T19:19:25.356Z"
   },
   {
    "duration": 960,
    "start_time": "2021-12-16T19:19:25.358Z"
   },
   {
    "duration": 375,
    "start_time": "2021-12-16T19:27:12.185Z"
   },
   {
    "duration": 355,
    "start_time": "2021-12-16T19:29:21.454Z"
   },
   {
    "duration": 948,
    "start_time": "2021-12-16T19:30:28.349Z"
   },
   {
    "duration": 343,
    "start_time": "2021-12-16T19:33:16.634Z"
   },
   {
    "duration": 19,
    "start_time": "2021-12-16T19:34:41.696Z"
   },
   {
    "duration": 18,
    "start_time": "2021-12-16T19:34:45.611Z"
   },
   {
    "duration": 97,
    "start_time": "2021-12-16T19:35:21.571Z"
   },
   {
    "duration": 376,
    "start_time": "2021-12-16T19:35:58.582Z"
   },
   {
    "duration": 366,
    "start_time": "2021-12-16T19:37:20.156Z"
   },
   {
    "duration": 356,
    "start_time": "2021-12-16T19:37:49.274Z"
   },
   {
    "duration": 352,
    "start_time": "2021-12-16T19:38:25.436Z"
   },
   {
    "duration": 363,
    "start_time": "2021-12-16T19:40:34.910Z"
   },
   {
    "duration": 953,
    "start_time": "2021-12-16T19:42:08.720Z"
   },
   {
    "duration": 8804,
    "start_time": "2021-12-16T19:42:49.330Z"
   },
   {
    "duration": 368,
    "start_time": "2021-12-16T19:43:45.773Z"
   },
   {
    "duration": 37,
    "start_time": "2021-12-16T19:44:03.807Z"
   },
   {
    "duration": 325,
    "start_time": "2021-12-16T19:45:36.239Z"
   },
   {
    "duration": 308,
    "start_time": "2021-12-16T19:47:15.662Z"
   },
   {
    "duration": 306,
    "start_time": "2021-12-16T19:47:47.590Z"
   },
   {
    "duration": 289,
    "start_time": "2021-12-16T19:47:50.023Z"
   },
   {
    "duration": 569,
    "start_time": "2021-12-16T19:57:42.193Z"
   },
   {
    "duration": 378,
    "start_time": "2021-12-16T20:16:24.329Z"
   },
   {
    "duration": 128,
    "start_time": "2021-12-16T20:16:36.074Z"
   },
   {
    "duration": 107,
    "start_time": "2021-12-16T20:18:10.129Z"
   },
   {
    "duration": 353,
    "start_time": "2021-12-16T20:18:19.426Z"
   },
   {
    "duration": 360,
    "start_time": "2021-12-16T20:18:29.012Z"
   },
   {
    "duration": 109,
    "start_time": "2021-12-16T20:21:25.247Z"
   },
   {
    "duration": 127,
    "start_time": "2021-12-16T20:21:34.571Z"
   },
   {
    "duration": 30,
    "start_time": "2021-12-16T20:21:41.437Z"
   },
   {
    "duration": 34,
    "start_time": "2021-12-16T20:22:04.911Z"
   },
   {
    "duration": 10,
    "start_time": "2021-12-16T20:22:32.937Z"
   },
   {
    "duration": 9,
    "start_time": "2021-12-16T20:23:17.674Z"
   },
   {
    "duration": 12,
    "start_time": "2021-12-16T20:24:34.231Z"
   },
   {
    "duration": 11,
    "start_time": "2021-12-16T20:24:47.554Z"
   },
   {
    "duration": 399,
    "start_time": "2021-12-16T20:25:53.466Z"
   },
   {
    "duration": 1357,
    "start_time": "2021-12-16T20:26:14.771Z"
   },
   {
    "duration": 29,
    "start_time": "2021-12-16T20:26:16.130Z"
   },
   {
    "duration": 30,
    "start_time": "2021-12-16T20:26:16.162Z"
   },
   {
    "duration": 147,
    "start_time": "2021-12-16T20:26:16.207Z"
   },
   {
    "duration": 17,
    "start_time": "2021-12-16T20:26:16.356Z"
   },
   {
    "duration": 21,
    "start_time": "2021-12-16T20:26:16.375Z"
   },
   {
    "duration": 99,
    "start_time": "2021-12-16T20:26:16.398Z"
   },
   {
    "duration": 14,
    "start_time": "2021-12-16T20:26:16.499Z"
   },
   {
    "duration": 14,
    "start_time": "2021-12-16T20:26:16.516Z"
   },
   {
    "duration": 23,
    "start_time": "2021-12-16T20:26:16.531Z"
   },
   {
    "duration": 40,
    "start_time": "2021-12-16T20:26:16.556Z"
   },
   {
    "duration": 7,
    "start_time": "2021-12-16T20:26:16.597Z"
   },
   {
    "duration": 9,
    "start_time": "2021-12-16T20:26:16.605Z"
   },
   {
    "duration": 127,
    "start_time": "2021-12-16T20:26:16.615Z"
   },
   {
    "duration": 4,
    "start_time": "2021-12-16T20:26:16.744Z"
   },
   {
    "duration": 36,
    "start_time": "2021-12-16T20:26:16.750Z"
   },
   {
    "duration": 41,
    "start_time": "2021-12-16T20:26:16.788Z"
   },
   {
    "duration": 22,
    "start_time": "2021-12-16T20:26:16.831Z"
   },
   {
    "duration": 55,
    "start_time": "2021-12-16T20:26:16.855Z"
   },
   {
    "duration": 9,
    "start_time": "2021-12-16T20:26:16.912Z"
   },
   {
    "duration": 33,
    "start_time": "2021-12-16T20:26:16.923Z"
   },
   {
    "duration": 6,
    "start_time": "2021-12-16T20:26:16.958Z"
   },
   {
    "duration": 927,
    "start_time": "2021-12-16T20:26:16.967Z"
   },
   {
    "duration": 322,
    "start_time": "2021-12-16T20:26:17.897Z"
   },
   {
    "duration": 359,
    "start_time": "2021-12-16T20:26:18.221Z"
   },
   {
    "duration": 9,
    "start_time": "2021-12-16T20:26:18.582Z"
   },
   {
    "duration": 236,
    "start_time": "2021-12-16T20:27:32.105Z"
   },
   {
    "duration": 266,
    "start_time": "2021-12-16T20:27:46.722Z"
   },
   {
    "duration": 305,
    "start_time": "2021-12-16T20:28:27.668Z"
   },
   {
    "duration": 324,
    "start_time": "2021-12-16T20:28:46.517Z"
   },
   {
    "duration": 691,
    "start_time": "2021-12-16T20:37:11.539Z"
   },
   {
    "duration": 4561,
    "start_time": "2021-12-16T20:37:21.828Z"
   },
   {
    "duration": 312,
    "start_time": "2021-12-16T20:37:35.660Z"
   },
   {
    "duration": 4,
    "start_time": "2021-12-16T20:38:44.419Z"
   },
   {
    "duration": 4,
    "start_time": "2021-12-16T20:38:54.731Z"
   },
   {
    "duration": 4,
    "start_time": "2021-12-16T20:46:49.025Z"
   },
   {
    "duration": 7,
    "start_time": "2021-12-16T20:46:54.175Z"
   },
   {
    "duration": 4,
    "start_time": "2021-12-16T20:47:38.015Z"
   },
   {
    "duration": 111,
    "start_time": "2021-12-16T20:50:01.717Z"
   },
   {
    "duration": 12,
    "start_time": "2021-12-16T20:50:44.737Z"
   },
   {
    "duration": 13,
    "start_time": "2021-12-16T20:52:16.966Z"
   },
   {
    "duration": 11,
    "start_time": "2021-12-16T20:52:37.167Z"
   },
   {
    "duration": 12,
    "start_time": "2021-12-16T20:52:43.451Z"
   },
   {
    "duration": 32,
    "start_time": "2021-12-16T20:53:16.477Z"
   },
   {
    "duration": 14,
    "start_time": "2021-12-16T20:54:28.081Z"
   },
   {
    "duration": 5,
    "start_time": "2021-12-16T20:57:33.198Z"
   },
   {
    "duration": 8864,
    "start_time": "2021-12-16T20:58:27.261Z"
   },
   {
    "duration": 20,
    "start_time": "2021-12-16T20:59:58.166Z"
   },
   {
    "duration": 1229,
    "start_time": "2021-12-17T10:23:47.688Z"
   },
   {
    "duration": 21,
    "start_time": "2021-12-17T10:23:48.919Z"
   },
   {
    "duration": 19,
    "start_time": "2021-12-17T10:23:48.942Z"
   },
   {
    "duration": 130,
    "start_time": "2021-12-17T10:23:48.963Z"
   },
   {
    "duration": 17,
    "start_time": "2021-12-17T10:23:49.095Z"
   },
   {
    "duration": 17,
    "start_time": "2021-12-17T10:23:49.114Z"
   },
   {
    "duration": 90,
    "start_time": "2021-12-17T10:23:49.133Z"
   },
   {
    "duration": 12,
    "start_time": "2021-12-17T10:23:49.226Z"
   },
   {
    "duration": 14,
    "start_time": "2021-12-17T10:23:49.240Z"
   },
   {
    "duration": 20,
    "start_time": "2021-12-17T10:23:49.256Z"
   },
   {
    "duration": 32,
    "start_time": "2021-12-17T10:23:49.288Z"
   },
   {
    "duration": 7,
    "start_time": "2021-12-17T10:23:49.322Z"
   },
   {
    "duration": 10,
    "start_time": "2021-12-17T10:23:49.330Z"
   },
   {
    "duration": 110,
    "start_time": "2021-12-17T10:23:49.342Z"
   },
   {
    "duration": 4,
    "start_time": "2021-12-17T10:23:49.454Z"
   },
   {
    "duration": 36,
    "start_time": "2021-12-17T10:23:49.460Z"
   },
   {
    "duration": 24,
    "start_time": "2021-12-17T10:23:49.498Z"
   },
   {
    "duration": 21,
    "start_time": "2021-12-17T10:23:49.524Z"
   },
   {
    "duration": 56,
    "start_time": "2021-12-17T10:23:49.547Z"
   },
   {
    "duration": 9,
    "start_time": "2021-12-17T10:23:49.605Z"
   },
   {
    "duration": 29,
    "start_time": "2021-12-17T10:23:49.615Z"
   },
   {
    "duration": 8,
    "start_time": "2021-12-17T10:23:49.646Z"
   },
   {
    "duration": 761,
    "start_time": "2021-12-17T10:23:49.687Z"
   },
   {
    "duration": 283,
    "start_time": "2021-12-17T10:23:50.449Z"
   },
   {
    "duration": 324,
    "start_time": "2021-12-17T10:23:50.733Z"
   },
   {
    "duration": 10,
    "start_time": "2021-12-17T10:23:51.059Z"
   },
   {
    "duration": 320,
    "start_time": "2021-12-17T10:23:51.071Z"
   },
   {
    "duration": 4,
    "start_time": "2021-12-17T10:23:51.393Z"
   },
   {
    "duration": 18,
    "start_time": "2021-12-17T10:23:51.398Z"
   },
   {
    "duration": 12,
    "start_time": "2021-12-17T10:23:51.418Z"
   },
   {
    "duration": 15,
    "start_time": "2021-12-17T10:23:51.432Z"
   },
   {
    "duration": 44,
    "start_time": "2021-12-17T10:23:51.448Z"
   },
   {
    "duration": 342,
    "start_time": "2021-12-17T10:28:52.566Z"
   },
   {
    "duration": 247,
    "start_time": "2021-12-17T10:43:06.998Z"
   },
   {
    "duration": 135,
    "start_time": "2021-12-17T10:43:43.389Z"
   },
   {
    "duration": 26,
    "start_time": "2021-12-17T10:43:51.572Z"
   },
   {
    "duration": 28,
    "start_time": "2021-12-17T10:44:34.756Z"
   },
   {
    "duration": 26,
    "start_time": "2021-12-17T10:44:54.945Z"
   },
   {
    "duration": 27,
    "start_time": "2021-12-17T10:46:44.203Z"
   },
   {
    "duration": 26,
    "start_time": "2021-12-17T10:47:23.658Z"
   },
   {
    "duration": 28,
    "start_time": "2021-12-17T10:48:20.939Z"
   },
   {
    "duration": 30,
    "start_time": "2021-12-17T10:48:44.517Z"
   },
   {
    "duration": 7,
    "start_time": "2021-12-17T10:49:52.590Z"
   },
   {
    "duration": 28,
    "start_time": "2021-12-17T13:18:13.440Z"
   },
   {
    "duration": 8,
    "start_time": "2021-12-17T14:03:19.503Z"
   },
   {
    "duration": 8,
    "start_time": "2021-12-17T14:03:30.440Z"
   },
   {
    "duration": 4,
    "start_time": "2021-12-17T14:05:23.662Z"
   },
   {
    "duration": 4,
    "start_time": "2021-12-17T14:05:30.352Z"
   },
   {
    "duration": 279,
    "start_time": "2021-12-17T14:09:55.475Z"
   },
   {
    "duration": 203,
    "start_time": "2021-12-17T15:14:39.301Z"
   },
   {
    "duration": 254,
    "start_time": "2021-12-17T15:15:06.417Z"
   },
   {
    "duration": 345,
    "start_time": "2021-12-17T15:16:38.999Z"
   },
   {
    "duration": 287,
    "start_time": "2021-12-17T15:16:57.614Z"
   },
   {
    "duration": 4,
    "start_time": "2021-12-17T16:08:19.496Z"
   },
   {
    "duration": 5,
    "start_time": "2021-12-17T16:08:42.444Z"
   },
   {
    "duration": 264,
    "start_time": "2021-12-17T18:24:36.251Z"
   },
   {
    "duration": 1272,
    "start_time": "2021-12-17T18:24:46.365Z"
   },
   {
    "duration": 18,
    "start_time": "2021-12-17T18:24:47.639Z"
   },
   {
    "duration": 114,
    "start_time": "2021-12-17T18:24:47.659Z"
   },
   {
    "duration": 20,
    "start_time": "2021-12-17T18:24:47.775Z"
   },
   {
    "duration": 80,
    "start_time": "2021-12-17T18:24:47.796Z"
   },
   {
    "duration": 13,
    "start_time": "2021-12-17T18:24:47.878Z"
   },
   {
    "duration": 19,
    "start_time": "2021-12-17T18:24:47.892Z"
   },
   {
    "duration": 35,
    "start_time": "2021-12-17T18:24:47.913Z"
   },
   {
    "duration": 5,
    "start_time": "2021-12-17T18:24:47.952Z"
   },
   {
    "duration": 102,
    "start_time": "2021-12-17T18:24:47.959Z"
   },
   {
    "duration": 3,
    "start_time": "2021-12-17T18:24:48.063Z"
   },
   {
    "duration": 33,
    "start_time": "2021-12-17T18:24:48.068Z"
   },
   {
    "duration": 20,
    "start_time": "2021-12-17T18:24:48.103Z"
   },
   {
    "duration": 19,
    "start_time": "2021-12-17T18:24:48.125Z"
   },
   {
    "duration": 50,
    "start_time": "2021-12-17T18:24:48.145Z"
   },
   {
    "duration": 318,
    "start_time": "2021-12-17T18:24:48.197Z"
   },
   {
    "duration": 18,
    "start_time": "2021-12-17T18:24:48.499Z"
   },
   {
    "duration": 17,
    "start_time": "2021-12-17T18:24:48.501Z"
   },
   {
    "duration": 15,
    "start_time": "2021-12-17T18:24:48.505Z"
   },
   {
    "duration": 14,
    "start_time": "2021-12-17T18:24:48.507Z"
   },
   {
    "duration": 14,
    "start_time": "2021-12-17T18:24:48.508Z"
   },
   {
    "duration": 6,
    "start_time": "2021-12-17T18:24:48.517Z"
   },
   {
    "duration": 5,
    "start_time": "2021-12-17T18:24:48.519Z"
   },
   {
    "duration": 4,
    "start_time": "2021-12-17T18:24:48.521Z"
   },
   {
    "duration": 4,
    "start_time": "2021-12-17T18:24:48.523Z"
   },
   {
    "duration": 3,
    "start_time": "2021-12-17T18:24:48.525Z"
   },
   {
    "duration": 2,
    "start_time": "2021-12-17T18:24:48.527Z"
   },
   {
    "duration": 2,
    "start_time": "2021-12-17T18:24:48.529Z"
   },
   {
    "duration": 8,
    "start_time": "2021-12-17T18:24:59.318Z"
   },
   {
    "duration": 41,
    "start_time": "2021-12-17T18:26:54.307Z"
   },
   {
    "duration": 1181,
    "start_time": "2021-12-17T18:27:02.140Z"
   },
   {
    "duration": 18,
    "start_time": "2021-12-17T18:27:03.322Z"
   },
   {
    "duration": 119,
    "start_time": "2021-12-17T18:27:03.344Z"
   },
   {
    "duration": 24,
    "start_time": "2021-12-17T18:27:03.465Z"
   },
   {
    "duration": 80,
    "start_time": "2021-12-17T18:27:03.491Z"
   },
   {
    "duration": 17,
    "start_time": "2021-12-17T18:27:03.572Z"
   },
   {
    "duration": 20,
    "start_time": "2021-12-17T18:27:03.591Z"
   },
   {
    "duration": 33,
    "start_time": "2021-12-17T18:27:03.613Z"
   },
   {
    "duration": 6,
    "start_time": "2021-12-17T18:27:03.648Z"
   },
   {
    "duration": 109,
    "start_time": "2021-12-17T18:27:03.656Z"
   },
   {
    "duration": 4,
    "start_time": "2021-12-17T18:27:03.766Z"
   },
   {
    "duration": 37,
    "start_time": "2021-12-17T18:27:03.772Z"
   },
   {
    "duration": 20,
    "start_time": "2021-12-17T18:27:03.811Z"
   },
   {
    "duration": 19,
    "start_time": "2021-12-17T18:27:03.833Z"
   },
   {
    "duration": 49,
    "start_time": "2021-12-17T18:27:03.854Z"
   },
   {
    "duration": 5,
    "start_time": "2021-12-17T18:27:03.905Z"
   },
   {
    "duration": 7,
    "start_time": "2021-12-17T18:27:03.912Z"
   },
   {
    "duration": 33,
    "start_time": "2021-12-17T18:27:03.921Z"
   },
   {
    "duration": 883,
    "start_time": "2021-12-17T18:27:03.955Z"
   },
   {
    "duration": 340,
    "start_time": "2021-12-17T18:27:04.841Z"
   },
   {
    "duration": 316,
    "start_time": "2021-12-17T18:27:05.187Z"
   },
   {
    "duration": 9,
    "start_time": "2021-12-17T18:27:05.505Z"
   },
   {
    "duration": 8,
    "start_time": "2021-12-17T18:27:05.515Z"
   },
   {
    "duration": 9,
    "start_time": "2021-12-17T18:27:05.525Z"
   },
   {
    "duration": 8,
    "start_time": "2021-12-17T18:27:05.535Z"
   },
   {
    "duration": 9,
    "start_time": "2021-12-17T18:27:05.546Z"
   },
   {
    "duration": 32,
    "start_time": "2021-12-17T18:27:05.557Z"
   },
   {
    "duration": 7,
    "start_time": "2021-12-17T18:27:05.591Z"
   },
   {
    "duration": 5,
    "start_time": "2021-12-17T18:37:59.699Z"
   },
   {
    "duration": 4,
    "start_time": "2021-12-17T18:38:01.338Z"
   },
   {
    "duration": 1350,
    "start_time": "2021-12-17T20:26:59.205Z"
   },
   {
    "duration": 19,
    "start_time": "2021-12-17T20:27:00.557Z"
   },
   {
    "duration": 150,
    "start_time": "2021-12-17T20:27:00.578Z"
   },
   {
    "duration": 16,
    "start_time": "2021-12-17T20:27:00.731Z"
   },
   {
    "duration": 96,
    "start_time": "2021-12-17T20:27:00.748Z"
   },
   {
    "duration": 14,
    "start_time": "2021-12-17T20:27:00.845Z"
   },
   {
    "duration": 23,
    "start_time": "2021-12-17T20:27:00.861Z"
   },
   {
    "duration": 41,
    "start_time": "2021-12-17T20:27:00.886Z"
   },
   {
    "duration": 7,
    "start_time": "2021-12-17T20:27:00.931Z"
   },
   {
    "duration": 123,
    "start_time": "2021-12-17T20:27:00.941Z"
   },
   {
    "duration": 3,
    "start_time": "2021-12-17T20:27:01.066Z"
   },
   {
    "duration": 48,
    "start_time": "2021-12-17T20:27:01.071Z"
   },
   {
    "duration": 24,
    "start_time": "2021-12-17T20:27:01.121Z"
   },
   {
    "duration": 22,
    "start_time": "2021-12-17T20:27:01.146Z"
   },
   {
    "duration": 75,
    "start_time": "2021-12-17T20:27:01.170Z"
   },
   {
    "duration": 6,
    "start_time": "2021-12-17T20:27:01.247Z"
   },
   {
    "duration": 8,
    "start_time": "2021-12-17T20:27:01.254Z"
   },
   {
    "duration": 48,
    "start_time": "2021-12-17T20:27:01.264Z"
   },
   {
    "duration": 876,
    "start_time": "2021-12-17T20:27:01.314Z"
   },
   {
    "duration": 339,
    "start_time": "2021-12-17T20:27:02.192Z"
   },
   {
    "duration": 422,
    "start_time": "2021-12-17T20:27:02.533Z"
   },
   {
    "duration": 10,
    "start_time": "2021-12-17T20:27:02.956Z"
   },
   {
    "duration": 21,
    "start_time": "2021-12-17T20:27:02.967Z"
   },
   {
    "duration": 15,
    "start_time": "2021-12-17T20:27:02.990Z"
   },
   {
    "duration": 20,
    "start_time": "2021-12-17T20:27:03.008Z"
   },
   {
    "duration": 12,
    "start_time": "2021-12-17T20:27:03.030Z"
   },
   {
    "duration": 14,
    "start_time": "2021-12-17T20:27:03.044Z"
   },
   {
    "duration": 1997,
    "start_time": "2021-12-18T18:32:14.503Z"
   },
   {
    "duration": 31,
    "start_time": "2021-12-18T18:32:16.502Z"
   },
   {
    "duration": 181,
    "start_time": "2021-12-18T18:32:16.537Z"
   },
   {
    "duration": 21,
    "start_time": "2021-12-18T18:32:16.721Z"
   },
   {
    "duration": 130,
    "start_time": "2021-12-18T18:32:16.744Z"
   },
   {
    "duration": 18,
    "start_time": "2021-12-18T18:32:16.877Z"
   },
   {
    "duration": 43,
    "start_time": "2021-12-18T18:32:16.898Z"
   },
   {
    "duration": 38,
    "start_time": "2021-12-18T18:32:16.947Z"
   },
   {
    "duration": 8,
    "start_time": "2021-12-18T18:32:16.987Z"
   },
   {
    "duration": 179,
    "start_time": "2021-12-18T18:32:16.998Z"
   },
   {
    "duration": 5,
    "start_time": "2021-12-18T18:32:17.180Z"
   },
   {
    "duration": 56,
    "start_time": "2021-12-18T18:32:17.188Z"
   },
   {
    "duration": 32,
    "start_time": "2021-12-18T18:32:17.246Z"
   },
   {
    "duration": 55,
    "start_time": "2021-12-18T18:32:17.280Z"
   },
   {
    "duration": 53,
    "start_time": "2021-12-18T18:32:17.337Z"
   },
   {
    "duration": 32,
    "start_time": "2021-12-18T18:32:17.392Z"
   },
   {
    "duration": 11,
    "start_time": "2021-12-18T18:32:17.426Z"
   },
   {
    "duration": 79,
    "start_time": "2021-12-18T18:32:17.439Z"
   },
   {
    "duration": 1125,
    "start_time": "2021-12-18T18:32:17.521Z"
   },
   {
    "duration": 516,
    "start_time": "2021-12-18T18:32:18.649Z"
   },
   {
    "duration": 573,
    "start_time": "2021-12-18T18:32:19.168Z"
   },
   {
    "duration": 21,
    "start_time": "2021-12-18T18:32:19.744Z"
   },
   {
    "duration": 6,
    "start_time": "2021-12-18T18:32:19.771Z"
   },
   {
    "duration": 37,
    "start_time": "2021-12-18T18:32:19.780Z"
   },
   {
    "duration": 16,
    "start_time": "2021-12-18T18:32:19.819Z"
   },
   {
    "duration": 5,
    "start_time": "2021-12-18T18:32:19.838Z"
   },
   {
    "duration": 6,
    "start_time": "2021-12-18T18:32:19.846Z"
   },
   {
    "duration": 465,
    "start_time": "2021-12-18T18:34:03.971Z"
   },
   {
    "duration": 353,
    "start_time": "2021-12-18T18:34:13.846Z"
   },
   {
    "duration": 210,
    "start_time": "2021-12-18T18:34:17.010Z"
   },
   {
    "duration": 27,
    "start_time": "2021-12-18T18:34:17.223Z"
   },
   {
    "duration": 171,
    "start_time": "2021-12-18T18:34:17.351Z"
   },
   {
    "duration": 23,
    "start_time": "2021-12-18T18:34:17.550Z"
   },
   {
    "duration": 119,
    "start_time": "2021-12-18T18:34:17.766Z"
   },
   {
    "duration": 19,
    "start_time": "2021-12-18T18:34:17.958Z"
   },
   {
    "duration": 24,
    "start_time": "2021-12-18T18:34:18.270Z"
   },
   {
    "duration": 36,
    "start_time": "2021-12-18T18:34:18.598Z"
   },
   {
    "duration": 9,
    "start_time": "2021-12-18T18:34:18.973Z"
   },
   {
    "duration": 160,
    "start_time": "2021-12-18T18:34:20.729Z"
   },
   {
    "duration": 322,
    "start_time": "2021-12-18T18:34:21.300Z"
   },
   {
    "duration": 8975,
    "start_time": "2021-12-18T18:34:35.319Z"
   },
   {
    "duration": 218,
    "start_time": "2021-12-18T19:46:56.125Z"
   },
   {
    "duration": 28,
    "start_time": "2021-12-18T19:46:56.346Z"
   },
   {
    "duration": 194,
    "start_time": "2021-12-18T19:46:56.377Z"
   },
   {
    "duration": 43,
    "start_time": "2021-12-18T19:46:56.574Z"
   },
   {
    "duration": 129,
    "start_time": "2021-12-18T19:46:56.619Z"
   },
   {
    "duration": 30,
    "start_time": "2021-12-18T19:46:56.751Z"
   },
   {
    "duration": 43,
    "start_time": "2021-12-18T19:46:56.784Z"
   },
   {
    "duration": 43,
    "start_time": "2021-12-18T19:46:56.830Z"
   },
   {
    "duration": 12,
    "start_time": "2021-12-18T19:46:56.878Z"
   },
   {
    "duration": 341,
    "start_time": "2021-12-18T19:46:56.894Z"
   },
   {
    "duration": 6,
    "start_time": "2021-12-18T19:46:57.238Z"
   },
   {
    "duration": 38,
    "start_time": "2021-12-18T19:46:57.246Z"
   },
   {
    "duration": 51,
    "start_time": "2021-12-18T19:46:57.286Z"
   },
   {
    "duration": 28,
    "start_time": "2021-12-18T19:46:57.340Z"
   },
   {
    "duration": 86,
    "start_time": "2021-12-18T19:46:57.371Z"
   },
   {
    "duration": 11,
    "start_time": "2021-12-18T19:46:57.460Z"
   },
   {
    "duration": 12,
    "start_time": "2021-12-18T19:46:57.474Z"
   },
   {
    "duration": 51,
    "start_time": "2021-12-18T19:46:57.517Z"
   },
   {
    "duration": 559,
    "start_time": "2021-12-18T19:46:57.571Z"
   },
   {
    "duration": 518,
    "start_time": "2021-12-18T19:46:58.132Z"
   },
   {
    "duration": 477,
    "start_time": "2021-12-18T19:46:58.653Z"
   },
   {
    "duration": 14,
    "start_time": "2021-12-18T19:46:59.132Z"
   },
   {
    "duration": 26,
    "start_time": "2021-12-18T19:46:59.148Z"
   },
   {
    "duration": 24,
    "start_time": "2021-12-18T19:46:59.176Z"
   },
   {
    "duration": 31,
    "start_time": "2021-12-18T19:46:59.203Z"
   },
   {
    "duration": 22,
    "start_time": "2021-12-18T19:46:59.236Z"
   },
   {
    "duration": 12,
    "start_time": "2021-12-18T19:46:59.262Z"
   },
   {
    "duration": 9,
    "start_time": "2021-12-18T19:50:56.942Z"
   },
   {
    "duration": 43,
    "start_time": "2021-12-18T20:07:54.320Z"
   },
   {
    "duration": 6,
    "start_time": "2021-12-18T20:08:04.112Z"
   },
   {
    "duration": 18,
    "start_time": "2021-12-18T20:08:15.304Z"
   },
   {
    "duration": 8,
    "start_time": "2021-12-18T20:08:20.839Z"
   },
   {
    "duration": 60,
    "start_time": "2021-12-18T20:12:55.094Z"
   },
   {
    "duration": 8,
    "start_time": "2021-12-18T20:13:34.263Z"
   },
   {
    "duration": 6,
    "start_time": "2021-12-18T20:13:37.821Z"
   },
   {
    "duration": 334,
    "start_time": "2021-12-18T20:14:37.363Z"
   },
   {
    "duration": -33,
    "start_time": "2021-12-18T20:14:52.419Z"
   },
   {
    "duration": 7,
    "start_time": "2021-12-18T20:15:03.961Z"
   },
   {
    "duration": 17,
    "start_time": "2021-12-18T20:21:32.908Z"
   },
   {
    "duration": 7,
    "start_time": "2021-12-18T20:21:40.300Z"
   },
   {
    "duration": 859,
    "start_time": "2021-12-19T09:30:32.086Z"
   },
   {
    "duration": 1623,
    "start_time": "2021-12-19T09:30:40.283Z"
   },
   {
    "duration": 34,
    "start_time": "2021-12-19T09:30:41.908Z"
   },
   {
    "duration": 188,
    "start_time": "2021-12-19T09:30:41.945Z"
   },
   {
    "duration": 21,
    "start_time": "2021-12-19T09:30:42.136Z"
   },
   {
    "duration": 125,
    "start_time": "2021-12-19T09:30:42.160Z"
   },
   {
    "duration": 18,
    "start_time": "2021-12-19T09:30:42.288Z"
   },
   {
    "duration": 28,
    "start_time": "2021-12-19T09:30:42.324Z"
   },
   {
    "duration": 63,
    "start_time": "2021-12-19T09:30:42.356Z"
   },
   {
    "duration": 8,
    "start_time": "2021-12-19T09:30:42.422Z"
   },
   {
    "duration": 170,
    "start_time": "2021-12-19T09:30:42.432Z"
   },
   {
    "duration": 5,
    "start_time": "2021-12-19T09:30:42.604Z"
   },
   {
    "duration": 61,
    "start_time": "2021-12-19T09:30:42.611Z"
   },
   {
    "duration": 36,
    "start_time": "2021-12-19T09:30:42.674Z"
   },
   {
    "duration": 30,
    "start_time": "2021-12-19T09:30:42.724Z"
   },
   {
    "duration": 96,
    "start_time": "2021-12-19T09:30:42.757Z"
   },
   {
    "duration": 12,
    "start_time": "2021-12-19T09:30:42.856Z"
   },
   {
    "duration": 23,
    "start_time": "2021-12-19T09:30:42.871Z"
   },
   {
    "duration": 55,
    "start_time": "2021-12-19T09:30:42.897Z"
   },
   {
    "duration": 7,
    "start_time": "2021-12-19T09:30:42.955Z"
   },
   {
    "duration": 1095,
    "start_time": "2021-12-19T09:30:42.965Z"
   },
   {
    "duration": 486,
    "start_time": "2021-12-19T09:30:44.063Z"
   },
   {
    "duration": 511,
    "start_time": "2021-12-19T09:30:44.552Z"
   },
   {
    "duration": 15,
    "start_time": "2021-12-19T09:30:45.067Z"
   },
   {
    "duration": 55,
    "start_time": "2021-12-19T09:30:45.085Z"
   },
   {
    "duration": 58,
    "start_time": "2021-12-19T09:30:45.143Z"
   },
   {
    "duration": 56,
    "start_time": "2021-12-19T09:30:45.204Z"
   },
   {
    "duration": 24,
    "start_time": "2021-12-19T09:30:45.263Z"
   },
   {
    "duration": 24,
    "start_time": "2021-12-19T09:30:45.290Z"
   },
   {
    "duration": 8,
    "start_time": "2021-12-19T09:33:45.582Z"
   },
   {
    "duration": 8,
    "start_time": "2021-12-19T09:34:07.483Z"
   },
   {
    "duration": 8,
    "start_time": "2021-12-19T09:34:25.547Z"
   },
   {
    "duration": 29,
    "start_time": "2021-12-19T09:36:39.133Z"
   },
   {
    "duration": 19,
    "start_time": "2021-12-19T09:37:10.085Z"
   },
   {
    "duration": 24,
    "start_time": "2021-12-19T09:37:44.954Z"
   },
   {
    "duration": 18,
    "start_time": "2021-12-19T09:41:44.057Z"
   },
   {
    "duration": 7,
    "start_time": "2021-12-19T09:45:03.825Z"
   },
   {
    "duration": 20,
    "start_time": "2021-12-19T09:45:46.113Z"
   },
   {
    "duration": 722,
    "start_time": "2021-12-19T09:46:16.974Z"
   },
   {
    "duration": 20,
    "start_time": "2021-12-19T09:46:27.463Z"
   },
   {
    "duration": 21,
    "start_time": "2021-12-19T09:46:35.592Z"
   },
   {
    "duration": 16,
    "start_time": "2021-12-19T09:47:08.990Z"
   },
   {
    "duration": 28,
    "start_time": "2021-12-19T09:52:22.363Z"
   },
   {
    "duration": 22,
    "start_time": "2021-12-19T10:19:29.122Z"
   },
   {
    "duration": 17,
    "start_time": "2021-12-19T10:19:49.140Z"
   },
   {
    "duration": 16,
    "start_time": "2021-12-19T10:19:56.588Z"
   },
   {
    "duration": 22,
    "start_time": "2021-12-19T10:20:08.398Z"
   },
   {
    "duration": 23,
    "start_time": "2021-12-19T10:20:14.486Z"
   },
   {
    "duration": 39,
    "start_time": "2021-12-19T10:21:53.174Z"
   },
   {
    "duration": 101,
    "start_time": "2021-12-19T11:04:45.153Z"
   },
   {
    "duration": 24,
    "start_time": "2021-12-19T11:04:47.798Z"
   },
   {
    "duration": 19,
    "start_time": "2021-12-19T11:05:16.741Z"
   },
   {
    "duration": 15,
    "start_time": "2021-12-19T11:05:20.247Z"
   },
   {
    "duration": 397,
    "start_time": "2021-12-19T11:07:58.381Z"
   },
   {
    "duration": 345,
    "start_time": "2021-12-19T11:08:05.612Z"
   },
   {
    "duration": 8,
    "start_time": "2021-12-19T11:08:26.579Z"
   },
   {
    "duration": 8,
    "start_time": "2021-12-19T11:09:59.693Z"
   },
   {
    "duration": 7,
    "start_time": "2021-12-19T11:10:35.945Z"
   },
   {
    "duration": 312,
    "start_time": "2021-12-19T11:10:50.421Z"
   },
   {
    "duration": 6,
    "start_time": "2021-12-19T11:11:02.096Z"
   },
   {
    "duration": 5,
    "start_time": "2021-12-19T11:11:45.955Z"
   },
   {
    "duration": 45,
    "start_time": "2021-12-19T11:11:56.148Z"
   },
   {
    "duration": 5,
    "start_time": "2021-12-19T11:14:51.609Z"
   },
   {
    "duration": 10,
    "start_time": "2021-12-19T11:14:59.117Z"
   },
   {
    "duration": 5,
    "start_time": "2021-12-19T11:15:09.022Z"
   },
   {
    "duration": 12,
    "start_time": "2021-12-19T11:26:54.264Z"
   },
   {
    "duration": 13,
    "start_time": "2021-12-19T11:27:12.497Z"
   },
   {
    "duration": 21,
    "start_time": "2021-12-19T11:45:28.816Z"
   },
   {
    "duration": 277,
    "start_time": "2021-12-19T11:46:23.816Z"
   },
   {
    "duration": 360,
    "start_time": "2021-12-19T11:46:36.877Z"
   },
   {
    "duration": 545,
    "start_time": "2021-12-19T11:47:03.628Z"
   },
   {
    "duration": 14,
    "start_time": "2021-12-19T11:47:50.154Z"
   },
   {
    "duration": 12,
    "start_time": "2021-12-19T11:48:04.906Z"
   },
   {
    "duration": 23,
    "start_time": "2021-12-19T11:48:14.871Z"
   },
   {
    "duration": 36,
    "start_time": "2021-12-19T11:48:50.314Z"
   },
   {
    "duration": 31,
    "start_time": "2021-12-19T11:49:51.917Z"
   },
   {
    "duration": 1670,
    "start_time": "2021-12-19T11:51:37.831Z"
   },
   {
    "duration": 34,
    "start_time": "2021-12-19T11:51:39.504Z"
   },
   {
    "duration": 174,
    "start_time": "2021-12-19T11:51:39.542Z"
   },
   {
    "duration": 21,
    "start_time": "2021-12-19T11:51:39.723Z"
   },
   {
    "duration": 118,
    "start_time": "2021-12-19T11:51:39.746Z"
   },
   {
    "duration": 18,
    "start_time": "2021-12-19T11:51:39.866Z"
   },
   {
    "duration": 37,
    "start_time": "2021-12-19T11:51:39.886Z"
   },
   {
    "duration": 45,
    "start_time": "2021-12-19T11:51:39.926Z"
   },
   {
    "duration": 9,
    "start_time": "2021-12-19T11:51:39.973Z"
   },
   {
    "duration": 151,
    "start_time": "2021-12-19T11:51:39.984Z"
   },
   {
    "duration": 5,
    "start_time": "2021-12-19T11:51:40.138Z"
   },
   {
    "duration": 10,
    "start_time": "2021-12-19T11:51:40.145Z"
   },
   {
    "duration": 21,
    "start_time": "2021-12-19T11:51:40.158Z"
   },
   {
    "duration": 6,
    "start_time": "2021-12-19T11:51:40.182Z"
   },
   {
    "duration": 15,
    "start_time": "2021-12-19T11:51:40.224Z"
   },
   {
    "duration": 5,
    "start_time": "2021-12-19T11:51:40.242Z"
   },
   {
    "duration": 39,
    "start_time": "2021-12-19T11:51:40.250Z"
   },
   {
    "duration": 58,
    "start_time": "2021-12-19T11:51:40.292Z"
   },
   {
    "duration": 25,
    "start_time": "2021-12-19T11:51:40.353Z"
   },
   {
    "duration": 77,
    "start_time": "2021-12-19T11:51:40.380Z"
   },
   {
    "duration": 8,
    "start_time": "2021-12-19T11:51:40.459Z"
   },
   {
    "duration": 11,
    "start_time": "2021-12-19T11:51:40.470Z"
   },
   {
    "duration": 71,
    "start_time": "2021-12-19T11:51:40.485Z"
   },
   {
    "duration": 6,
    "start_time": "2021-12-19T11:51:40.558Z"
   },
   {
    "duration": 1500,
    "start_time": "2021-12-19T11:51:40.566Z"
   },
   {
    "duration": 477,
    "start_time": "2021-12-19T11:51:42.070Z"
   },
   {
    "duration": 503,
    "start_time": "2021-12-19T11:51:42.549Z"
   },
   {
    "duration": 13,
    "start_time": "2021-12-19T11:51:43.055Z"
   },
   {
    "duration": 25,
    "start_time": "2021-12-19T11:51:43.070Z"
   },
   {
    "duration": 22,
    "start_time": "2021-12-19T11:51:43.098Z"
   },
   {
    "duration": 25,
    "start_time": "2021-12-19T11:51:43.122Z"
   },
   {
    "duration": 11,
    "start_time": "2021-12-19T11:51:43.150Z"
   },
   {
    "duration": 27,
    "start_time": "2021-12-19T11:51:43.163Z"
   },
   {
    "duration": 96,
    "start_time": "2021-12-19T11:56:43.997Z"
   },
   {
    "duration": 90,
    "start_time": "2021-12-19T11:56:49.661Z"
   },
   {
    "duration": 1803,
    "start_time": "2021-12-20T08:27:26.587Z"
   },
   {
    "duration": 47,
    "start_time": "2021-12-20T08:27:28.394Z"
   },
   {
    "duration": 370,
    "start_time": "2021-12-20T08:27:28.466Z"
   },
   {
    "duration": 36,
    "start_time": "2021-12-20T08:27:28.841Z"
   },
   {
    "duration": 140,
    "start_time": "2021-12-20T08:27:28.880Z"
   },
   {
    "duration": 23,
    "start_time": "2021-12-20T08:27:29.024Z"
   },
   {
    "duration": 27,
    "start_time": "2021-12-20T08:27:29.068Z"
   },
   {
    "duration": 42,
    "start_time": "2021-12-20T08:27:29.098Z"
   },
   {
    "duration": 12,
    "start_time": "2021-12-20T08:27:29.148Z"
   },
   {
    "duration": 260,
    "start_time": "2021-12-20T08:27:29.165Z"
   },
   {
    "duration": 7,
    "start_time": "2021-12-20T08:27:29.429Z"
   },
   {
    "duration": 29,
    "start_time": "2021-12-20T08:27:29.439Z"
   },
   {
    "duration": 33,
    "start_time": "2021-12-20T08:27:29.472Z"
   },
   {
    "duration": 10,
    "start_time": "2021-12-20T08:27:29.508Z"
   },
   {
    "duration": 53,
    "start_time": "2021-12-20T08:27:29.522Z"
   },
   {
    "duration": 8,
    "start_time": "2021-12-20T08:27:29.579Z"
   },
   {
    "duration": 79,
    "start_time": "2021-12-20T08:27:29.590Z"
   },
   {
    "duration": 52,
    "start_time": "2021-12-20T08:27:29.673Z"
   },
   {
    "duration": 72,
    "start_time": "2021-12-20T08:27:29.728Z"
   },
   {
    "duration": 109,
    "start_time": "2021-12-20T08:27:29.803Z"
   },
   {
    "duration": 13,
    "start_time": "2021-12-20T08:27:29.915Z"
   },
   {
    "duration": 44,
    "start_time": "2021-12-20T08:27:29.931Z"
   },
   {
    "duration": 99,
    "start_time": "2021-12-20T08:27:29.978Z"
   },
   {
    "duration": 5,
    "start_time": "2021-12-20T08:27:30.080Z"
   },
   {
    "duration": 1338,
    "start_time": "2021-12-20T08:27:30.088Z"
   },
   {
    "duration": 558,
    "start_time": "2021-12-20T08:27:31.430Z"
   },
   {
    "duration": 570,
    "start_time": "2021-12-20T08:27:31.993Z"
   },
   {
    "duration": 21,
    "start_time": "2021-12-20T08:27:32.568Z"
   },
   {
    "duration": 14,
    "start_time": "2021-12-20T08:27:32.592Z"
   },
   {
    "duration": 11,
    "start_time": "2021-12-20T08:27:32.608Z"
   },
   {
    "duration": 48,
    "start_time": "2021-12-20T08:27:32.622Z"
   },
   {
    "duration": 7,
    "start_time": "2021-12-20T08:27:32.673Z"
   },
   {
    "duration": 12,
    "start_time": "2021-12-20T08:27:32.683Z"
   }
  ],
  "kernelspec": {
   "display_name": "Python 3",
   "language": "python",
   "name": "python3"
  },
  "language_info": {
   "codemirror_mode": {
    "name": "ipython",
    "version": 3
   },
   "file_extension": ".py",
   "mimetype": "text/x-python",
   "name": "python",
   "nbconvert_exporter": "python",
   "pygments_lexer": "ipython3",
   "version": "3.8.8"
  },
  "toc": {
   "base_numbering": 1,
   "nav_menu": {},
   "number_sections": true,
   "sideBar": true,
   "skip_h1_title": true,
   "title_cell": "Table of Contents",
   "title_sidebar": "Contents",
   "toc_cell": false,
   "toc_position": {},
   "toc_section_display": true,
   "toc_window_display": false
  }
 },
 "nbformat": 4,
 "nbformat_minor": 2
}
